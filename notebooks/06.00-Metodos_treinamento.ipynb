{
 "cells": [
  {
   "cell_type": "markdown",
   "metadata": {
    "slideshow": {
     "slide_type": "skip"
    }
   },
   "source": [
    "<!--HEADER-->\n",
    "*Tutorial sobre Flux.jl - 2020/2 [- Ricardo M. S. Rosa (IM/UFRJ)](http://www.im.ufrj.br/rrosa)*"
   ]
  },
  {
   "cell_type": "markdown",
   "metadata": {
    "slideshow": {
     "slide_type": "skip"
    }
   },
   "source": [
    "<!--BADGES-->\n",
    "<a href=\"https://nbviewer.jupyter.org/github/rmsrosa/TutorialFlux/blob/main/notebooks/06.00-Metodos_treinamento.ipynb\" target=\"_blank\"><img align=\"left\" src=\"https://img.shields.io/badge/view%20in-nbviewer-orange\" alt=\"View in NBViewer\" title=\"View in NBViewer\"></a><a href=\"https://mybinder.org/v2/gh/rmsrosa/TutorialFlux/julia-env-for-binder?urlpath=git-pull%3Frepo%3Dhttps%253A%252F%252Fgithub.com%252Frmsrosa%252FTutorialFlux%26branch%3Dmain%26urlpath%3Dtree%252FTutorialFlux%252Fnotebooks/06.00-Metodos_treinamento.ipynb\" target=\"_blank\"><img align=\"left\" src=\"https://mybinder.org/badge.svg\" alt=\"Open in binder\" title=\"Open in binder\"></a><a href=\"https://nbviewer.jupyter.org/github/rmsrosa/TutorialFlux/blob/main/notebooks/slides/06.00-Metodos_treinamento.slides.html\" target=\"_blank\"><img align=\"left\" src=\"https://img.shields.io/badge/view-slides-darkgreen\" alt=\"View Slides\" title=\"View Slides\"></a>&nbsp;"
   ]
  },
  {
   "cell_type": "markdown",
   "metadata": {
    "slideshow": {
     "slide_type": "skip"
    }
   },
   "source": [
    "<!--NAVIGATOR-->\n",
    "[<- 5. Treinando redes neurais](05.00-Treinando_redes_neurais.ipynb) | [Página inicial](00.00-Pagina_inicial.ipynb) | [7. Identificação de dígitos com os dados MNIST ->](07.00-Reconhecimento_digitos.ipynb)\n",
    "\n",
    "---\n"
   ]
  },
  {
   "cell_type": "markdown",
   "metadata": {
    "slideshow": {
     "slide_type": "slide"
    }
   },
   "source": [
    "# Métodos de treinamento\n",
    "\n",
    "* O que o `Flux.train!` faz é apenas executar um passo de um dado algoritmo de otimização.\n",
    "\n",
    "* Vamos ver detalhes do `Flux.train!`.\n",
    "\n",
    "* Assim como as opções de algoritmos."
   ]
  },
  {
   "cell_type": "code",
   "execution_count": 1,
   "metadata": {
    "slideshow": {
     "slide_type": "slide"
    }
   },
   "outputs": [],
   "source": [
    "using Flux\n",
    "using Random\n",
    "using Plots"
   ]
  },
  {
   "cell_type": "markdown",
   "metadata": {
    "slideshow": {
     "slide_type": "slide"
    }
   },
   "source": [
    "## `Flux.train!`\n",
    "\n",
    "* O `Flux.train!` é parte do módulo [Flux.Optimise](https://github.com/FluxML/Flux.jl/blob/master/src/optimise/Optimise.jl).\n",
    "\n",
    "* Vejamos o [código do `Flux.train!`](https://github.com/FluxML/Flux.jl/blob/master/src/optimise/train.jl#L96):\n",
    "\n",
    "```julia\n",
    "function train!(loss, ps, data, opt; cb = () -> ())\n",
    "  ps = Params(ps)\n",
    "  cb = runall(cb)\n",
    "  @progress for d in data\n",
    "    try\n",
    "      gs = gradient(ps) do\n",
    "        loss(batchmemaybe(d)...)\n",
    "      end\n",
    "      update!(opt, ps, gs)\n",
    "      cb()\n",
    "    catch ex\n",
    "      if ex isa StopException\n",
    "        break\n",
    "      elseif ex isa SkipException\n",
    "        continue\n",
    "      else\n",
    "        rethrow(ex)\n",
    "      end\n",
    "    end\n",
    "  end\n",
    "end\n",
    "```"
   ]
  },
  {
   "cell_type": "markdown",
   "metadata": {
    "slideshow": {
     "slide_type": "slide"
    }
   },
   "source": [
    "### Detalhes\n",
    "\n",
    "* [Params](https://github.com/FluxML/Zygote.jl/blob/master/src/compiler/interface.jl#L67) e [gradient](https://github.com/FluxML/Zygote.jl/blob/master/src/compiler/interface.jl#L57) são importados do [FluxML/Zygote.jl](https://github.com/FluxML/Zygote.jl), que é um pacote de **diferenciação automática**.\n",
    "\n",
    "* `Params` é um tipo composto que guarda quais parâmetros e em que ordem devemos diferenciar uma função\n",
    "\n",
    "* `params`, utilizado no treinamento visto anteriormente, define quais parâmetros serão considerados para a diferenciação.\n",
    "\n",
    "* `gradient` calcula o gradiente de uma função, em relação aos parâmetros dados, via diferenciação automática.\n",
    "\n",
    "* `gradient` usa `backwards propagation` (veja o uso de `pullback(f, args...)` na sua definição).\n",
    "\n",
    "* **Observação:** Podemos \"pular\" o `Flux.train!` e escrever métodos de otimização com outros métodos de diferenciação, como `ForwardDiff` (forwards propagation) e `ReverseDiff` (backward mas mais genérico e não tão eficiente quando o `gradient` no caso de redes neurais em questão). Leia mais sobre isso e sobre outros pacotes em [JuliaDiff](https://juliadiff.org)."
   ]
  },
  {
   "cell_type": "markdown",
   "metadata": {
    "slideshow": {
     "slide_type": "slide"
    }
   },
   "source": [
    "### Atalho para uma sequência de treinos\n",
    "\n",
    "* É comum vermos o uso de \n",
    "\n",
    "```julia\n",
    "@epochs N train!(...)\n",
    "```\n",
    "\n",
    "* Isso é apenas um atalho para um loop com a exibição de época a cada iteração:\n",
    "\n",
    "```julia\n",
    "for i=1:N\n",
    "    train!(...)\n",
    "end\n",
    "```"
   ]
  },
  {
   "cell_type": "markdown",
   "metadata": {
    "slideshow": {
     "slide_type": "slide"
    }
   },
   "source": [
    "### Callbacks\n",
    "\n",
    "* O parâmetro de `callback` pode ser muito útil para\n",
    "    * exibir informações sobre um *loop* de treinamento\n",
    "    * afetar o treinamento de alguma forma\n",
    "        * interromper quando um determinada acurácia é alcançada;\n",
    "        * interromper quando um limite de iterações o de tempo é alcançado;\n",
    "        * trocar os parâmetros correntes de busca caso o treinamente não esteja indo com muito sucesso;\n",
    "        * substituir, acrescentar ou retirar determinados parâmetros do processo de treinamento;\n",
    "        * validar o treinamento de acordo com outra amostra de dados;\n",
    "        * etc.\n",
    "\n",
    "* Vale lembrar que `callbacks` estão presentes em outros pacotes também, como `DifferentialEquations`, etc., para executar alguma instrução no meio de algum outro processo (e.g. resolução de uma EDO).\n",
    "\n",
    "* O *Callback* é uma *keyword*, ou seja, é preciso passar como `cb = funcao_de_callback`, exceto que, no Julia 1.6, se a própria função tiver o nome da *keyword*, i.e. `cb`, no caso, então podemos passá-la direto como `Flux.train!(loss, ps, data, opt; cb)`.\n",
    "\n",
    "* Veja mais em [Callback Helpers](https://fluxml.ai/Flux.jl/stable/utilities/#Callback-Helpers-1)."
   ]
  },
  {
   "cell_type": "markdown",
   "metadata": {
    "slideshow": {
     "slide_type": "slide"
    }
   },
   "source": [
    "## Inicialização das camadas\n",
    "\n",
    "* A inicialização das camadas é um ponto importante do processo.\n",
    "\n",
    "* Isso é particularmente importante em camadas convolucioais ou recorrentes.\n",
    "\n",
    "* Por *default*, `Flux.jl` inicializa essas camadas com o método `Flux.glorot_uniform`.\n",
    "\n",
    "* Outros métodos estão disponíveis: `glorot_normal`, `kalman_uniform`, `kalman_normal`.\n",
    "\n",
    "* Mais sobre isso em [Layer Initialization](https://fluxml.ai/Flux.jl/stable/utilities/#Layer-Initialization-1)."
   ]
  },
  {
   "cell_type": "markdown",
   "metadata": {
    "slideshow": {
     "slide_type": "slide"
    }
   },
   "source": [
    "## Métodos de otimização\n",
    "\n",
    "* Uma das opções, em `Flux.train!(loss, ps, data, opt, cb)` é o método de otimização `opt`.\n",
    "\n",
    "* Não há opção *default* para o método de otimização. É preciso escolher um.\n",
    "\n",
    "* Há várias opções.\n",
    "\n",
    "* Todos os métodos estão implementados como diferentes \"despachos\" da função `Flux.Optimise.apply!`, em [src/optimise/optimisers.jl](https://github.com/FluxML/Flux.jl/blob/master/src/optimise/optimisers.jl).\n",
    "\n",
    "* Essa função `apply!` é chamada no processo de atualização do passo, dentro da função [update!](https://github.com/FluxML/Flux.jl/blob/master/src/optimise/train.jl#L26), após o gradiente ter sido calculado. "
   ]
  },
  {
   "cell_type": "code",
   "execution_count": 2,
   "metadata": {
    "slideshow": {
     "slide_type": "slide"
    }
   },
   "outputs": [
    {
     "data": {
      "text/html": [
       "# 19 methods for generic function <b>apply!</b>:<ul><li> apply!(o::<b>ClipNorm</b>, x, Δ) in Flux.Optimise at <a href=\"file:///Users/rrosa/.julia/packages/Flux/qp1gc/src/optimise/optimisers.jl\" target=\"_blank\">/Users/rrosa/.julia/packages/Flux/qp1gc/src/optimise/optimisers.jl:666</a></li> <li> apply!(o::<b>ClipValue</b>, x, Δ) in Flux.Optimise at <a href=\"file:///Users/rrosa/.julia/packages/Flux/qp1gc/src/optimise/optimisers.jl\" target=\"_blank\">/Users/rrosa/.julia/packages/Flux/qp1gc/src/optimise/optimisers.jl:655</a></li> <li> apply!(o::<b>AMSGrad</b>, x, Δ) in Flux.Optimise at <a href=\"file:///Users/rrosa/.julia/packages/Flux/qp1gc/src/optimise/optimisers.jl\" target=\"_blank\">/Users/rrosa/.julia/packages/Flux/qp1gc/src/optimise/optimisers.jl:415</a></li> <li> apply!(o::<b>RMSProp</b>, x, Δ) in Flux.Optimise at <a href=\"file:///Users/rrosa/.julia/packages/Flux/qp1gc/src/optimise/optimisers.jl\" target=\"_blank\">/Users/rrosa/.julia/packages/Flux/qp1gc/src/optimise/optimisers.jl:139</a></li> <li> apply!(o::<b>ADAGrad</b>, x, Δ) in Flux.Optimise at <a href=\"file:///Users/rrosa/.julia/packages/Flux/qp1gc/src/optimise/optimisers.jl\" target=\"_blank\">/Users/rrosa/.julia/packages/Flux/qp1gc/src/optimise/optimisers.jl:346</a></li> <li> apply!(o::<b>RADAM</b>, x, Δ) in Flux.Optimise at <a href=\"file:///Users/rrosa/.julia/packages/Flux/qp1gc/src/optimise/optimisers.jl\" target=\"_blank\">/Users/rrosa/.julia/packages/Flux/qp1gc/src/optimise/optimisers.jl:213</a></li> <li> apply!(o::<b>ADADelta</b>, x, Δ) in Flux.Optimise at <a href=\"file:///Users/rrosa/.julia/packages/Flux/qp1gc/src/optimise/optimisers.jl\" target=\"_blank\">/Users/rrosa/.julia/packages/Flux/qp1gc/src/optimise/optimisers.jl:377</a></li> <li> apply!(o::<b>WeightDecay</b>, x, Δ) in Flux.Optimise at <a href=\"file:///Users/rrosa/.julia/packages/Flux/qp1gc/src/optimise/optimisers.jl\" target=\"_blank\">/Users/rrosa/.julia/packages/Flux/qp1gc/src/optimise/optimisers.jl:641</a></li> <li> apply!(o::<b>ExpDecay</b>, x, Δ) in Flux.Optimise at <a href=\"file:///Users/rrosa/.julia/packages/Flux/qp1gc/src/optimise/optimisers.jl\" target=\"_blank\">/Users/rrosa/.julia/packages/Flux/qp1gc/src/optimise/optimisers.jl:617</a></li> <li> apply!(o::<b>ADAM</b>, x, Δ) in Flux.Optimise at <a href=\"file:///Users/rrosa/.julia/packages/Flux/qp1gc/src/optimise/optimisers.jl\" target=\"_blank\">/Users/rrosa/.julia/packages/Flux/qp1gc/src/optimise/optimisers.jl:172</a></li> <li> apply!(o::<b>AdaBelief</b>, x, Δ) in Flux.Optimise at <a href=\"file:///Users/rrosa/.julia/packages/Flux/qp1gc/src/optimise/optimisers.jl\" target=\"_blank\">/Users/rrosa/.julia/packages/Flux/qp1gc/src/optimise/optimisers.jl:521</a></li> <li> apply!(o::<b>Flux.Optimise.Optimiser</b>, x, Δ) in Flux.Optimise at <a href=\"file:///Users/rrosa/.julia/packages/Flux/qp1gc/src/optimise/optimisers.jl\" target=\"_blank\">/Users/rrosa/.julia/packages/Flux/qp1gc/src/optimise/optimisers.jl:551</a></li> <li> apply!(o::<b>Nesterov</b>, x, Δ) in Flux.Optimise at <a href=\"file:///Users/rrosa/.julia/packages/Flux/qp1gc/src/optimise/optimisers.jl\" target=\"_blank\">/Users/rrosa/.julia/packages/Flux/qp1gc/src/optimise/optimisers.jl:102</a></li> <li> apply!(o::<b>AdaMax</b>, x, Δ) in Flux.Optimise at <a href=\"file:///Users/rrosa/.julia/packages/Flux/qp1gc/src/optimise/optimisers.jl\" target=\"_blank\">/Users/rrosa/.julia/packages/Flux/qp1gc/src/optimise/optimisers.jl:262</a></li> <li> apply!(o::<b>InvDecay</b>, x, Δ) in Flux.Optimise at <a href=\"file:///Users/rrosa/.julia/packages/Flux/qp1gc/src/optimise/optimisers.jl\" target=\"_blank\">/Users/rrosa/.julia/packages/Flux/qp1gc/src/optimise/optimisers.jl:577</a></li> <li> apply!(o::<b>Descent</b>, x, Δ) in Flux.Optimise at <a href=\"file:///Users/rrosa/.julia/packages/Flux/qp1gc/src/optimise/optimisers.jl\" target=\"_blank\">/Users/rrosa/.julia/packages/Flux/qp1gc/src/optimise/optimisers.jl:39</a></li> <li> apply!(o::<b>NADAM</b>, x, Δ) in Flux.Optimise at <a href=\"file:///Users/rrosa/.julia/packages/Flux/qp1gc/src/optimise/optimisers.jl\" target=\"_blank\">/Users/rrosa/.julia/packages/Flux/qp1gc/src/optimise/optimisers.jl:455</a></li> <li> apply!(o::<b>Momentum</b>, x, Δ) in Flux.Optimise at <a href=\"file:///Users/rrosa/.julia/packages/Flux/qp1gc/src/optimise/optimisers.jl\" target=\"_blank\">/Users/rrosa/.julia/packages/Flux/qp1gc/src/optimise/optimisers.jl:69</a></li> <li> apply!(o::<b>OADAM</b>, x, Δ) in Flux.Optimise at <a href=\"file:///Users/rrosa/.julia/packages/Flux/qp1gc/src/optimise/optimisers.jl\" target=\"_blank\">/Users/rrosa/.julia/packages/Flux/qp1gc/src/optimise/optimisers.jl:304</a></li> </ul>"
      ],
      "text/plain": [
       "# 19 methods for generic function \"apply!\":\n",
       "[1] apply!(o::ClipNorm, x, Δ) in Flux.Optimise at /Users/rrosa/.julia/packages/Flux/qp1gc/src/optimise/optimisers.jl:666\n",
       "[2] apply!(o::ClipValue, x, Δ) in Flux.Optimise at /Users/rrosa/.julia/packages/Flux/qp1gc/src/optimise/optimisers.jl:655\n",
       "[3] apply!(o::AMSGrad, x, Δ) in Flux.Optimise at /Users/rrosa/.julia/packages/Flux/qp1gc/src/optimise/optimisers.jl:415\n",
       "[4] apply!(o::RMSProp, x, Δ) in Flux.Optimise at /Users/rrosa/.julia/packages/Flux/qp1gc/src/optimise/optimisers.jl:139\n",
       "[5] apply!(o::ADAGrad, x, Δ) in Flux.Optimise at /Users/rrosa/.julia/packages/Flux/qp1gc/src/optimise/optimisers.jl:346\n",
       "[6] apply!(o::RADAM, x, Δ) in Flux.Optimise at /Users/rrosa/.julia/packages/Flux/qp1gc/src/optimise/optimisers.jl:213\n",
       "[7] apply!(o::ADADelta, x, Δ) in Flux.Optimise at /Users/rrosa/.julia/packages/Flux/qp1gc/src/optimise/optimisers.jl:377\n",
       "[8] apply!(o::WeightDecay, x, Δ) in Flux.Optimise at /Users/rrosa/.julia/packages/Flux/qp1gc/src/optimise/optimisers.jl:641\n",
       "[9] apply!(o::ExpDecay, x, Δ) in Flux.Optimise at /Users/rrosa/.julia/packages/Flux/qp1gc/src/optimise/optimisers.jl:617\n",
       "[10] apply!(o::ADAM, x, Δ) in Flux.Optimise at /Users/rrosa/.julia/packages/Flux/qp1gc/src/optimise/optimisers.jl:172\n",
       "[11] apply!(o::AdaBelief, x, Δ) in Flux.Optimise at /Users/rrosa/.julia/packages/Flux/qp1gc/src/optimise/optimisers.jl:521\n",
       "[12] apply!(o::Flux.Optimise.Optimiser, x, Δ) in Flux.Optimise at /Users/rrosa/.julia/packages/Flux/qp1gc/src/optimise/optimisers.jl:551\n",
       "[13] apply!(o::Nesterov, x, Δ) in Flux.Optimise at /Users/rrosa/.julia/packages/Flux/qp1gc/src/optimise/optimisers.jl:102\n",
       "[14] apply!(o::AdaMax, x, Δ) in Flux.Optimise at /Users/rrosa/.julia/packages/Flux/qp1gc/src/optimise/optimisers.jl:262\n",
       "[15] apply!(o::InvDecay, x, Δ) in Flux.Optimise at /Users/rrosa/.julia/packages/Flux/qp1gc/src/optimise/optimisers.jl:577\n",
       "[16] apply!(o::Descent, x, Δ) in Flux.Optimise at /Users/rrosa/.julia/packages/Flux/qp1gc/src/optimise/optimisers.jl:39\n",
       "[17] apply!(o::NADAM, x, Δ) in Flux.Optimise at /Users/rrosa/.julia/packages/Flux/qp1gc/src/optimise/optimisers.jl:455\n",
       "[18] apply!(o::Momentum, x, Δ) in Flux.Optimise at /Users/rrosa/.julia/packages/Flux/qp1gc/src/optimise/optimisers.jl:69\n",
       "[19] apply!(o::OADAM, x, Δ) in Flux.Optimise at /Users/rrosa/.julia/packages/Flux/qp1gc/src/optimise/optimisers.jl:304"
      ]
     },
     "execution_count": 2,
     "metadata": {},
     "output_type": "execute_result"
    }
   ],
   "source": [
    "methods(Flux.Optimise.apply!)"
   ]
  },
  {
   "cell_type": "markdown",
   "metadata": {
    "slideshow": {
     "slide_type": "slide"
    }
   },
   "source": [
    "## Treinando em lotes e o gradiente estocástico\n",
    "\n",
    "* No caderno anterior, fizemos exemplos com passos \"tradicionais\", ou seja, levando-se em consideração todos os dados da amostra em cada \"época\".\n",
    "\n",
    "* O método de gradiente estocástico utiliza apenas um dado da amostra em cada passo, escolhido aleatoriamente, completando uma \"época\" quando todos os dados são utilizados (no caso sem reposição) ou com algumas reutilizações e outros esquecios (no caso com reposição).\n",
    "\n",
    "* E um caso intermediário é o **em lotes** *(batch)*, em que a amostra é dividida em grupos iguais escolhidos aleatoriamente e todos de um mesmo grupo são considerados a cada passo.\n",
    "\n",
    "* Essa metodologia pode ser aplicada, na verdade, em conjunto com qualquer método de otimização, não apenas o de gradiente descendente.\n",
    "\n",
    "* Para implementar isso, podemos fazer essa seleção manualmente ou usar a função "
   ]
  },
  {
   "cell_type": "markdown",
   "metadata": {
    "slideshow": {
     "slide_type": "slide"
    }
   },
   "source": [
    "### Exemplo"
   ]
  },
  {
   "cell_type": "code",
   "execution_count": 3,
   "metadata": {
    "slideshow": {
     "slide_type": "fragment"
    }
   },
   "outputs": [],
   "source": [
    "f(x) = 0.2*sin(4*π*x) + 0.3*exp(-x) + 4.0*x^6 - 3.5*x^5\n",
    "data_x = reshape(collect(0:0.05:1), 1, :)\n",
    "data_y = f.(data_x)\n",
    "nothing"
   ]
  },
  {
   "cell_type": "code",
   "execution_count": 4,
   "metadata": {
    "slideshow": {
     "slide_type": "fragment"
    }
   },
   "outputs": [
    {
     "data": {
      "image/svg+xml": [
       "<?xml version=\"1.0\" encoding=\"utf-8\"?>\n",
       "<svg xmlns=\"http://www.w3.org/2000/svg\" xmlns:xlink=\"http://www.w3.org/1999/xlink\" width=\"540\" height=\"400\" viewBox=\"0 0 2160 1600\">\n",
       "<defs>\n",
       "  <clipPath id=\"clip490\">\n",
       "    <rect x=\"0\" y=\"0\" width=\"2160\" height=\"1600\"/>\n",
       "  </clipPath>\n",
       "</defs>\n",
       "<path clip-path=\"url(#clip490)\" d=\"\n",
       "M0 1600 L2160 1600 L2160 0 L0 0  Z\n",
       "  \" fill=\"#ffffff\" fill-rule=\"evenodd\" fill-opacity=\"1\"/>\n",
       "<defs>\n",
       "  <clipPath id=\"clip491\">\n",
       "    <rect x=\"432\" y=\"0\" width=\"1513\" height=\"1513\"/>\n",
       "  </clipPath>\n",
       "</defs>\n",
       "<path clip-path=\"url(#clip490)\" d=\"\n",
       "M222.746 1414.06 L2112.76 1414.06 L2112.76 110.992 L222.746 110.992  Z\n",
       "  \" fill=\"#ffffff\" fill-rule=\"evenodd\" fill-opacity=\"1\"/>\n",
       "<defs>\n",
       "  <clipPath id=\"clip492\">\n",
       "    <rect x=\"222\" y=\"110\" width=\"1891\" height=\"1304\"/>\n",
       "  </clipPath>\n",
       "</defs>\n",
       "<polyline clip-path=\"url(#clip492)\" style=\"stroke:#000000; stroke-width:2; stroke-opacity:0.1; fill:none\" points=\"\n",
       "  276.237,1414.06 276.237,110.992 \n",
       "  \"/>\n",
       "<polyline clip-path=\"url(#clip492)\" style=\"stroke:#000000; stroke-width:2; stroke-opacity:0.1; fill:none\" points=\"\n",
       "  721.994,1414.06 721.994,110.992 \n",
       "  \"/>\n",
       "<polyline clip-path=\"url(#clip492)\" style=\"stroke:#000000; stroke-width:2; stroke-opacity:0.1; fill:none\" points=\"\n",
       "  1167.75,1414.06 1167.75,110.992 \n",
       "  \"/>\n",
       "<polyline clip-path=\"url(#clip492)\" style=\"stroke:#000000; stroke-width:2; stroke-opacity:0.1; fill:none\" points=\"\n",
       "  1613.51,1414.06 1613.51,110.992 \n",
       "  \"/>\n",
       "<polyline clip-path=\"url(#clip492)\" style=\"stroke:#000000; stroke-width:2; stroke-opacity:0.1; fill:none\" points=\"\n",
       "  2059.27,1414.06 2059.27,110.992 \n",
       "  \"/>\n",
       "<polyline clip-path=\"url(#clip490)\" style=\"stroke:#000000; stroke-width:4; stroke-opacity:1; fill:none\" points=\"\n",
       "  222.746,1414.06 2112.76,1414.06 \n",
       "  \"/>\n",
       "<polyline clip-path=\"url(#clip490)\" style=\"stroke:#000000; stroke-width:4; stroke-opacity:1; fill:none\" points=\"\n",
       "  276.237,1414.06 276.237,1398.42 \n",
       "  \"/>\n",
       "<polyline clip-path=\"url(#clip490)\" style=\"stroke:#000000; stroke-width:4; stroke-opacity:1; fill:none\" points=\"\n",
       "  721.994,1414.06 721.994,1398.42 \n",
       "  \"/>\n",
       "<polyline clip-path=\"url(#clip490)\" style=\"stroke:#000000; stroke-width:4; stroke-opacity:1; fill:none\" points=\"\n",
       "  1167.75,1414.06 1167.75,1398.42 \n",
       "  \"/>\n",
       "<polyline clip-path=\"url(#clip490)\" style=\"stroke:#000000; stroke-width:4; stroke-opacity:1; fill:none\" points=\"\n",
       "  1613.51,1414.06 1613.51,1398.42 \n",
       "  \"/>\n",
       "<polyline clip-path=\"url(#clip490)\" style=\"stroke:#000000; stroke-width:4; stroke-opacity:1; fill:none\" points=\"\n",
       "  2059.27,1414.06 2059.27,1398.42 \n",
       "  \"/>\n",
       "<path clip-path=\"url(#clip490)\" d=\"M 0 0 M238.541 1441.33 Q234.929 1441.33 233.101 1444.9 Q231.295 1448.44 231.295 1455.57 Q231.295 1462.67 233.101 1466.24 Q234.929 1469.78 238.541 1469.78 Q242.175 1469.78 243.98 1466.24 Q245.809 1462.67 245.809 1455.57 Q245.809 1448.44 243.98 1444.9 Q242.175 1441.33 238.541 1441.33 M238.541 1437.63 Q244.351 1437.63 247.406 1442.23 Q250.485 1446.82 250.485 1455.57 Q250.485 1464.29 247.406 1468.9 Q244.351 1473.48 238.541 1473.48 Q232.73 1473.48 229.652 1468.9 Q226.596 1464.29 226.596 1455.57 Q226.596 1446.82 229.652 1442.23 Q232.73 1437.63 238.541 1437.63 Z\" fill=\"#000000\" fill-rule=\"evenodd\" fill-opacity=\"1\" /><path clip-path=\"url(#clip490)\" d=\"M 0 0 M258.702 1466.93 L263.587 1466.93 L263.587 1472.81 L258.702 1472.81 L258.702 1466.93 Z\" fill=\"#000000\" fill-rule=\"evenodd\" fill-opacity=\"1\" /><path clip-path=\"url(#clip490)\" d=\"M 0 0 M283.772 1441.33 Q280.161 1441.33 278.332 1444.9 Q276.526 1448.44 276.526 1455.57 Q276.526 1462.67 278.332 1466.24 Q280.161 1469.78 283.772 1469.78 Q287.406 1469.78 289.212 1466.24 Q291.04 1462.67 291.04 1455.57 Q291.04 1448.44 289.212 1444.9 Q287.406 1441.33 283.772 1441.33 M283.772 1437.63 Q289.582 1437.63 292.637 1442.23 Q295.716 1446.82 295.716 1455.57 Q295.716 1464.29 292.637 1468.9 Q289.582 1473.48 283.772 1473.48 Q277.962 1473.48 274.883 1468.9 Q271.827 1464.29 271.827 1455.57 Q271.827 1446.82 274.883 1442.23 Q277.962 1437.63 283.772 1437.63 Z\" fill=\"#000000\" fill-rule=\"evenodd\" fill-opacity=\"1\" /><path clip-path=\"url(#clip490)\" d=\"M 0 0 M313.934 1441.33 Q310.323 1441.33 308.494 1444.9 Q306.688 1448.44 306.688 1455.57 Q306.688 1462.67 308.494 1466.24 Q310.323 1469.78 313.934 1469.78 Q317.568 1469.78 319.373 1466.24 Q321.202 1462.67 321.202 1455.57 Q321.202 1448.44 319.373 1444.9 Q317.568 1441.33 313.934 1441.33 M313.934 1437.63 Q319.744 1437.63 322.799 1442.23 Q325.878 1446.82 325.878 1455.57 Q325.878 1464.29 322.799 1468.9 Q319.744 1473.48 313.934 1473.48 Q308.124 1473.48 305.045 1468.9 Q301.989 1464.29 301.989 1455.57 Q301.989 1446.82 305.045 1442.23 Q308.124 1437.63 313.934 1437.63 Z\" fill=\"#000000\" fill-rule=\"evenodd\" fill-opacity=\"1\" /><path clip-path=\"url(#clip490)\" d=\"M 0 0 M684.795 1441.33 Q681.184 1441.33 679.355 1444.9 Q677.55 1448.44 677.55 1455.57 Q677.55 1462.67 679.355 1466.24 Q681.184 1469.78 684.795 1469.78 Q688.429 1469.78 690.235 1466.24 Q692.064 1462.67 692.064 1455.57 Q692.064 1448.44 690.235 1444.9 Q688.429 1441.33 684.795 1441.33 M684.795 1437.63 Q690.605 1437.63 693.661 1442.23 Q696.74 1446.82 696.74 1455.57 Q696.74 1464.29 693.661 1468.9 Q690.605 1473.48 684.795 1473.48 Q678.985 1473.48 675.906 1468.9 Q672.851 1464.29 672.851 1455.57 Q672.851 1446.82 675.906 1442.23 Q678.985 1437.63 684.795 1437.63 Z\" fill=\"#000000\" fill-rule=\"evenodd\" fill-opacity=\"1\" /><path clip-path=\"url(#clip490)\" d=\"M 0 0 M704.957 1466.93 L709.841 1466.93 L709.841 1472.81 L704.957 1472.81 L704.957 1466.93 Z\" fill=\"#000000\" fill-rule=\"evenodd\" fill-opacity=\"1\" /><path clip-path=\"url(#clip490)\" d=\"M 0 0 M724.054 1468.88 L740.374 1468.88 L740.374 1472.81 L718.429 1472.81 L718.429 1468.88 Q721.091 1466.12 725.675 1461.49 Q730.281 1456.84 731.462 1455.5 Q733.707 1452.97 734.587 1451.24 Q735.489 1449.48 735.489 1447.79 Q735.489 1445.03 733.545 1443.3 Q731.624 1441.56 728.522 1441.56 Q726.323 1441.56 723.869 1442.33 Q721.439 1443.09 718.661 1444.64 L718.661 1439.92 Q721.485 1438.78 723.939 1438.21 Q726.392 1437.63 728.429 1437.63 Q733.8 1437.63 736.994 1440.31 Q740.188 1443 740.188 1447.49 Q740.188 1449.62 739.378 1451.54 Q738.591 1453.44 736.485 1456.03 Q735.906 1456.7 732.804 1459.92 Q729.702 1463.11 724.054 1468.88 Z\" fill=\"#000000\" fill-rule=\"evenodd\" fill-opacity=\"1\" /><path clip-path=\"url(#clip490)\" d=\"M 0 0 M750.235 1438.25 L768.591 1438.25 L768.591 1442.19 L754.517 1442.19 L754.517 1450.66 Q755.536 1450.31 756.554 1450.15 Q757.573 1449.96 758.591 1449.96 Q764.378 1449.96 767.758 1453.14 Q771.137 1456.31 771.137 1461.72 Q771.137 1467.3 767.665 1470.4 Q764.193 1473.48 757.874 1473.48 Q755.698 1473.48 753.429 1473.11 Q751.184 1472.74 748.776 1472 L748.776 1467.3 Q750.86 1468.44 753.082 1468.99 Q755.304 1469.55 757.781 1469.55 Q761.786 1469.55 764.123 1467.44 Q766.461 1465.34 766.461 1461.72 Q766.461 1458.11 764.123 1456.01 Q761.786 1453.9 757.781 1453.9 Q755.906 1453.9 754.031 1454.32 Q752.179 1454.73 750.235 1455.61 L750.235 1438.25 Z\" fill=\"#000000\" fill-rule=\"evenodd\" fill-opacity=\"1\" /><path clip-path=\"url(#clip490)\" d=\"M 0 0 M1130.05 1441.33 Q1126.44 1441.33 1124.61 1444.9 Q1122.81 1448.44 1122.81 1455.57 Q1122.81 1462.67 1124.61 1466.24 Q1126.44 1469.78 1130.05 1469.78 Q1133.69 1469.78 1135.49 1466.24 Q1137.32 1462.67 1137.32 1455.57 Q1137.32 1448.44 1135.49 1444.9 Q1133.69 1441.33 1130.05 1441.33 M1130.05 1437.63 Q1135.86 1437.63 1138.92 1442.23 Q1142 1446.82 1142 1455.57 Q1142 1464.29 1138.92 1468.9 Q1135.86 1473.48 1130.05 1473.48 Q1124.24 1473.48 1121.17 1468.9 Q1118.11 1464.29 1118.11 1455.57 Q1118.11 1446.82 1121.17 1442.23 Q1124.24 1437.63 1130.05 1437.63 Z\" fill=\"#000000\" fill-rule=\"evenodd\" fill-opacity=\"1\" /><path clip-path=\"url(#clip490)\" d=\"M 0 0 M1150.22 1466.93 L1155.1 1466.93 L1155.1 1472.81 L1150.22 1472.81 L1150.22 1466.93 Z\" fill=\"#000000\" fill-rule=\"evenodd\" fill-opacity=\"1\" /><path clip-path=\"url(#clip490)\" d=\"M 0 0 M1165.33 1438.25 L1183.69 1438.25 L1183.69 1442.19 L1169.61 1442.19 L1169.61 1450.66 Q1170.63 1450.31 1171.65 1450.15 Q1172.67 1449.96 1173.69 1449.96 Q1179.48 1449.96 1182.86 1453.14 Q1186.23 1456.31 1186.23 1461.72 Q1186.23 1467.3 1182.76 1470.4 Q1179.29 1473.48 1172.97 1473.48 Q1170.8 1473.48 1168.53 1473.11 Q1166.28 1472.74 1163.87 1472 L1163.87 1467.3 Q1165.96 1468.44 1168.18 1468.99 Q1170.4 1469.55 1172.88 1469.55 Q1176.88 1469.55 1179.22 1467.44 Q1181.56 1465.34 1181.56 1461.72 Q1181.56 1458.11 1179.22 1456.01 Q1176.88 1453.9 1172.88 1453.9 Q1171 1453.9 1169.13 1454.32 Q1167.28 1454.73 1165.33 1455.61 L1165.33 1438.25 Z\" fill=\"#000000\" fill-rule=\"evenodd\" fill-opacity=\"1\" /><path clip-path=\"url(#clip490)\" d=\"M 0 0 M1205.45 1441.33 Q1201.84 1441.33 1200.01 1444.9 Q1198.2 1448.44 1198.2 1455.57 Q1198.2 1462.67 1200.01 1466.24 Q1201.84 1469.78 1205.45 1469.78 Q1209.08 1469.78 1210.89 1466.24 Q1212.72 1462.67 1212.72 1455.57 Q1212.72 1448.44 1210.89 1444.9 Q1209.08 1441.33 1205.45 1441.33 M1205.45 1437.63 Q1211.26 1437.63 1214.31 1442.23 Q1217.39 1446.82 1217.39 1455.57 Q1217.39 1464.29 1214.31 1468.9 Q1211.26 1473.48 1205.45 1473.48 Q1199.64 1473.48 1196.56 1468.9 Q1193.5 1464.29 1193.5 1455.57 Q1193.5 1446.82 1196.56 1442.23 Q1199.64 1437.63 1205.45 1437.63 Z\" fill=\"#000000\" fill-rule=\"evenodd\" fill-opacity=\"1\" /><path clip-path=\"url(#clip490)\" d=\"M 0 0 M1576.31 1441.33 Q1572.7 1441.33 1570.87 1444.9 Q1569.06 1448.44 1569.06 1455.57 Q1569.06 1462.67 1570.87 1466.24 Q1572.7 1469.78 1576.31 1469.78 Q1579.94 1469.78 1581.75 1466.24 Q1583.58 1462.67 1583.58 1455.57 Q1583.58 1448.44 1581.75 1444.9 Q1579.94 1441.33 1576.31 1441.33 M1576.31 1437.63 Q1582.12 1437.63 1585.17 1442.23 Q1588.25 1446.82 1588.25 1455.57 Q1588.25 1464.29 1585.17 1468.9 Q1582.12 1473.48 1576.31 1473.48 Q1570.5 1473.48 1567.42 1468.9 Q1564.36 1464.29 1564.36 1455.57 Q1564.36 1446.82 1567.42 1442.23 Q1570.5 1437.63 1576.31 1437.63 Z\" fill=\"#000000\" fill-rule=\"evenodd\" fill-opacity=\"1\" /><path clip-path=\"url(#clip490)\" d=\"M 0 0 M1596.47 1466.93 L1601.36 1466.93 L1601.36 1472.81 L1596.47 1472.81 L1596.47 1466.93 Z\" fill=\"#000000\" fill-rule=\"evenodd\" fill-opacity=\"1\" /><path clip-path=\"url(#clip490)\" d=\"M 0 0 M1610.36 1438.25 L1632.58 1438.25 L1632.58 1440.24 L1620.04 1472.81 L1615.15 1472.81 L1626.96 1442.19 L1610.36 1442.19 L1610.36 1438.25 Z\" fill=\"#000000\" fill-rule=\"evenodd\" fill-opacity=\"1\" /><path clip-path=\"url(#clip490)\" d=\"M 0 0 M1641.75 1438.25 L1660.11 1438.25 L1660.11 1442.19 L1646.03 1442.19 L1646.03 1450.66 Q1647.05 1450.31 1648.07 1450.15 Q1649.09 1449.96 1650.11 1449.96 Q1655.89 1449.96 1659.27 1453.14 Q1662.65 1456.31 1662.65 1461.72 Q1662.65 1467.3 1659.18 1470.4 Q1655.71 1473.48 1649.39 1473.48 Q1647.21 1473.48 1644.94 1473.11 Q1642.7 1472.74 1640.29 1472 L1640.29 1467.3 Q1642.37 1468.44 1644.6 1468.99 Q1646.82 1469.55 1649.29 1469.55 Q1653.3 1469.55 1655.64 1467.44 Q1657.98 1465.34 1657.98 1461.72 Q1657.98 1458.11 1655.64 1456.01 Q1653.3 1453.9 1649.29 1453.9 Q1647.42 1453.9 1645.54 1454.32 Q1643.69 1454.73 1641.75 1455.61 L1641.75 1438.25 Z\" fill=\"#000000\" fill-rule=\"evenodd\" fill-opacity=\"1\" /><path clip-path=\"url(#clip490)\" d=\"M 0 0 M2011.34 1468.88 L2018.98 1468.88 L2018.98 1442.51 L2010.67 1444.18 L2010.67 1439.92 L2018.93 1438.25 L2023.61 1438.25 L2023.61 1468.88 L2031.24 1468.88 L2031.24 1472.81 L2011.34 1472.81 L2011.34 1468.88 Z\" fill=\"#000000\" fill-rule=\"evenodd\" fill-opacity=\"1\" /><path clip-path=\"url(#clip490)\" d=\"M 0 0 M2040.69 1466.93 L2045.57 1466.93 L2045.57 1472.81 L2040.69 1472.81 L2040.69 1466.93 Z\" fill=\"#000000\" fill-rule=\"evenodd\" fill-opacity=\"1\" /><path clip-path=\"url(#clip490)\" d=\"M 0 0 M2065.76 1441.33 Q2062.15 1441.33 2060.32 1444.9 Q2058.51 1448.44 2058.51 1455.57 Q2058.51 1462.67 2060.32 1466.24 Q2062.15 1469.78 2065.76 1469.78 Q2069.39 1469.78 2071.2 1466.24 Q2073.03 1462.67 2073.03 1455.57 Q2073.03 1448.44 2071.2 1444.9 Q2069.39 1441.33 2065.76 1441.33 M2065.76 1437.63 Q2071.57 1437.63 2074.62 1442.23 Q2077.7 1446.82 2077.7 1455.57 Q2077.7 1464.29 2074.62 1468.9 Q2071.57 1473.48 2065.76 1473.48 Q2059.95 1473.48 2056.87 1468.9 Q2053.81 1464.29 2053.81 1455.57 Q2053.81 1446.82 2056.87 1442.23 Q2059.95 1437.63 2065.76 1437.63 Z\" fill=\"#000000\" fill-rule=\"evenodd\" fill-opacity=\"1\" /><path clip-path=\"url(#clip490)\" d=\"M 0 0 M2095.92 1441.33 Q2092.31 1441.33 2090.48 1444.9 Q2088.67 1448.44 2088.67 1455.57 Q2088.67 1462.67 2090.48 1466.24 Q2092.31 1469.78 2095.92 1469.78 Q2099.55 1469.78 2101.36 1466.24 Q2103.19 1462.67 2103.19 1455.57 Q2103.19 1448.44 2101.36 1444.9 Q2099.55 1441.33 2095.92 1441.33 M2095.92 1437.63 Q2101.73 1437.63 2104.79 1442.23 Q2107.86 1446.82 2107.86 1455.57 Q2107.86 1464.29 2104.79 1468.9 Q2101.73 1473.48 2095.92 1473.48 Q2090.11 1473.48 2087.03 1468.9 Q2083.98 1464.29 2083.98 1455.57 Q2083.98 1446.82 2087.03 1442.23 Q2090.11 1437.63 2095.92 1437.63 Z\" fill=\"#000000\" fill-rule=\"evenodd\" fill-opacity=\"1\" /><path clip-path=\"url(#clip490)\" d=\"M 0 0 M1184.37 1519.68 L1171.48 1537.02 L1185.03 1555.32 L1178.13 1555.32 L1167.75 1541.32 L1157.37 1555.32 L1150.47 1555.32 L1164.31 1536.67 L1151.65 1519.68 L1158.55 1519.68 L1168.01 1532.38 L1177.46 1519.68 L1184.37 1519.68 Z\" fill=\"#000000\" fill-rule=\"evenodd\" fill-opacity=\"1\" /><polyline clip-path=\"url(#clip492)\" style=\"stroke:#000000; stroke-width:2; stroke-opacity:0.1; fill:none\" points=\"\n",
       "  222.746,1189.46 2112.76,1189.46 \n",
       "  \"/>\n",
       "<polyline clip-path=\"url(#clip492)\" style=\"stroke:#000000; stroke-width:2; stroke-opacity:0.1; fill:none\" points=\"\n",
       "  222.746,848.16 2112.76,848.16 \n",
       "  \"/>\n",
       "<polyline clip-path=\"url(#clip492)\" style=\"stroke:#000000; stroke-width:2; stroke-opacity:0.1; fill:none\" points=\"\n",
       "  222.746,506.859 2112.76,506.859 \n",
       "  \"/>\n",
       "<polyline clip-path=\"url(#clip492)\" style=\"stroke:#000000; stroke-width:2; stroke-opacity:0.1; fill:none\" points=\"\n",
       "  222.746,165.557 2112.76,165.557 \n",
       "  \"/>\n",
       "<polyline clip-path=\"url(#clip490)\" style=\"stroke:#000000; stroke-width:4; stroke-opacity:1; fill:none\" points=\"\n",
       "  222.746,1414.06 222.746,110.992 \n",
       "  \"/>\n",
       "<polyline clip-path=\"url(#clip490)\" style=\"stroke:#000000; stroke-width:4; stroke-opacity:1; fill:none\" points=\"\n",
       "  222.746,1189.46 245.426,1189.46 \n",
       "  \"/>\n",
       "<polyline clip-path=\"url(#clip490)\" style=\"stroke:#000000; stroke-width:4; stroke-opacity:1; fill:none\" points=\"\n",
       "  222.746,848.16 245.426,848.16 \n",
       "  \"/>\n",
       "<polyline clip-path=\"url(#clip490)\" style=\"stroke:#000000; stroke-width:4; stroke-opacity:1; fill:none\" points=\"\n",
       "  222.746,506.859 245.426,506.859 \n",
       "  \"/>\n",
       "<polyline clip-path=\"url(#clip490)\" style=\"stroke:#000000; stroke-width:4; stroke-opacity:1; fill:none\" points=\"\n",
       "  222.746,165.557 245.426,165.557 \n",
       "  \"/>\n",
       "<path clip-path=\"url(#clip490)\" d=\"M 0 0 M133.171 1175.26 Q129.56 1175.26 127.731 1178.83 Q125.925 1182.37 125.925 1189.5 Q125.925 1196.6 127.731 1200.17 Q129.56 1203.71 133.171 1203.71 Q136.805 1203.71 138.61 1200.17 Q140.439 1196.6 140.439 1189.5 Q140.439 1182.37 138.61 1178.83 Q136.805 1175.26 133.171 1175.26 M133.171 1171.56 Q138.981 1171.56 142.036 1176.16 Q145.115 1180.75 145.115 1189.5 Q145.115 1198.22 142.036 1202.83 Q138.981 1207.41 133.171 1207.41 Q127.36 1207.41 124.282 1202.83 Q121.226 1198.22 121.226 1189.5 Q121.226 1180.75 124.282 1176.16 Q127.36 1171.56 133.171 1171.56 Z\" fill=\"#000000\" fill-rule=\"evenodd\" fill-opacity=\"1\" /><path clip-path=\"url(#clip490)\" d=\"M 0 0 M153.333 1200.86 L158.217 1200.86 L158.217 1206.74 L153.333 1206.74 L153.333 1200.86 Z\" fill=\"#000000\" fill-rule=\"evenodd\" fill-opacity=\"1\" /><path clip-path=\"url(#clip490)\" d=\"M 0 0 M178.402 1175.26 Q174.791 1175.26 172.962 1178.83 Q171.157 1182.37 171.157 1189.5 Q171.157 1196.6 172.962 1200.17 Q174.791 1203.71 178.402 1203.71 Q182.036 1203.71 183.842 1200.17 Q185.67 1196.6 185.67 1189.5 Q185.67 1182.37 183.842 1178.83 Q182.036 1175.26 178.402 1175.26 M178.402 1171.56 Q184.212 1171.56 187.268 1176.16 Q190.346 1180.75 190.346 1189.5 Q190.346 1198.22 187.268 1202.83 Q184.212 1207.41 178.402 1207.41 Q172.592 1207.41 169.513 1202.83 Q166.458 1198.22 166.458 1189.5 Q166.458 1180.75 169.513 1176.16 Q172.592 1171.56 178.402 1171.56 Z\" fill=\"#000000\" fill-rule=\"evenodd\" fill-opacity=\"1\" /><path clip-path=\"url(#clip490)\" d=\"M 0 0 M134.768 833.959 Q131.157 833.959 129.328 837.524 Q127.523 841.065 127.523 848.195 Q127.523 855.301 129.328 858.866 Q131.157 862.408 134.768 862.408 Q138.402 862.408 140.208 858.866 Q142.036 855.301 142.036 848.195 Q142.036 841.065 140.208 837.524 Q138.402 833.959 134.768 833.959 M134.768 830.255 Q140.578 830.255 143.634 834.862 Q146.712 839.445 146.712 848.195 Q146.712 856.922 143.634 861.528 Q140.578 866.111 134.768 866.111 Q128.958 866.111 125.879 861.528 Q122.823 856.922 122.823 848.195 Q122.823 839.445 125.879 834.862 Q128.958 830.255 134.768 830.255 Z\" fill=\"#000000\" fill-rule=\"evenodd\" fill-opacity=\"1\" /><path clip-path=\"url(#clip490)\" d=\"M 0 0 M154.93 859.561 L159.814 859.561 L159.814 865.44 L154.93 865.44 L154.93 859.561 Z\" fill=\"#000000\" fill-rule=\"evenodd\" fill-opacity=\"1\" /><path clip-path=\"url(#clip490)\" d=\"M 0 0 M174.027 861.505 L190.346 861.505 L190.346 865.44 L168.402 865.44 L168.402 861.505 Q171.064 858.75 175.647 854.121 Q180.254 849.468 181.434 848.125 Q183.68 845.602 184.559 843.866 Q185.462 842.107 185.462 840.417 Q185.462 837.663 183.518 835.926 Q181.596 834.19 178.494 834.19 Q176.295 834.19 173.842 834.954 Q171.411 835.718 168.633 837.269 L168.633 832.547 Q171.457 831.413 173.911 830.834 Q176.365 830.255 178.402 830.255 Q183.772 830.255 186.967 832.94 Q190.161 835.625 190.161 840.116 Q190.161 842.246 189.351 844.167 Q188.564 846.065 186.457 848.658 Q185.879 849.329 182.777 852.547 Q179.675 855.741 174.027 861.505 Z\" fill=\"#000000\" fill-rule=\"evenodd\" fill-opacity=\"1\" /><path clip-path=\"url(#clip490)\" d=\"M 0 0 M132.685 492.657 Q129.073 492.657 127.245 496.222 Q125.439 499.764 125.439 506.893 Q125.439 514 127.245 517.565 Q129.073 521.106 132.685 521.106 Q136.319 521.106 138.124 517.565 Q139.953 514 139.953 506.893 Q139.953 499.764 138.124 496.222 Q136.319 492.657 132.685 492.657 M132.685 488.954 Q138.495 488.954 141.55 493.56 Q144.629 498.144 144.629 506.893 Q144.629 515.62 141.55 520.227 Q138.495 524.81 132.685 524.81 Q126.874 524.81 123.796 520.227 Q120.74 515.62 120.74 506.893 Q120.74 498.144 123.796 493.56 Q126.874 488.954 132.685 488.954 Z\" fill=\"#000000\" fill-rule=\"evenodd\" fill-opacity=\"1\" /><path clip-path=\"url(#clip490)\" d=\"M 0 0 M152.846 518.259 L157.731 518.259 L157.731 524.139 L152.846 524.139 L152.846 518.259 Z\" fill=\"#000000\" fill-rule=\"evenodd\" fill-opacity=\"1\" /><path clip-path=\"url(#clip490)\" d=\"M 0 0 M180.763 493.653 L168.957 512.102 L180.763 512.102 L180.763 493.653 M179.536 489.579 L185.416 489.579 L185.416 512.102 L190.346 512.102 L190.346 515.991 L185.416 515.991 L185.416 524.139 L180.763 524.139 L180.763 515.991 L165.161 515.991 L165.161 511.477 L179.536 489.579 Z\" fill=\"#000000\" fill-rule=\"evenodd\" fill-opacity=\"1\" /><path clip-path=\"url(#clip490)\" d=\"M 0 0 M133.009 151.356 Q129.398 151.356 127.569 154.921 Q125.763 158.462 125.763 165.592 Q125.763 172.699 127.569 176.263 Q129.398 179.805 133.009 179.805 Q136.643 179.805 138.448 176.263 Q140.277 172.699 140.277 165.592 Q140.277 158.462 138.448 154.921 Q136.643 151.356 133.009 151.356 M133.009 147.652 Q138.819 147.652 141.874 152.259 Q144.953 156.842 144.953 165.592 Q144.953 174.319 141.874 178.925 Q138.819 183.509 133.009 183.509 Q127.198 183.509 124.12 178.925 Q121.064 174.319 121.064 165.592 Q121.064 156.842 124.12 152.259 Q127.198 147.652 133.009 147.652 Z\" fill=\"#000000\" fill-rule=\"evenodd\" fill-opacity=\"1\" /><path clip-path=\"url(#clip490)\" d=\"M 0 0 M153.171 176.958 L158.055 176.958 L158.055 182.837 L153.171 182.837 L153.171 176.958 Z\" fill=\"#000000\" fill-rule=\"evenodd\" fill-opacity=\"1\" /><path clip-path=\"url(#clip490)\" d=\"M 0 0 M178.819 163.694 Q175.67 163.694 173.819 165.847 Q171.99 167.999 171.99 171.749 Q171.99 175.476 173.819 177.652 Q175.67 179.805 178.819 179.805 Q181.967 179.805 183.795 177.652 Q185.647 175.476 185.647 171.749 Q185.647 167.999 183.795 165.847 Q181.967 163.694 178.819 163.694 M188.101 149.041 L188.101 153.3 Q186.342 152.467 184.536 152.027 Q182.754 151.588 180.994 151.588 Q176.365 151.588 173.911 154.713 Q171.481 157.837 171.133 164.157 Q172.499 162.143 174.559 161.078 Q176.619 159.99 179.096 159.99 Q184.305 159.99 187.314 163.162 Q190.346 166.31 190.346 171.749 Q190.346 177.073 187.198 180.291 Q184.05 183.509 178.819 183.509 Q172.823 183.509 169.652 178.925 Q166.481 174.319 166.481 165.592 Q166.481 157.398 170.37 152.537 Q174.258 147.652 180.809 147.652 Q182.569 147.652 184.351 148 Q186.156 148.347 188.101 149.041 Z\" fill=\"#000000\" fill-rule=\"evenodd\" fill-opacity=\"1\" /><path clip-path=\"url(#clip490)\" d=\"M 0 0 M77.3943 760.839 Q83.76 763.322 85.7016 765.677 Q87.6431 768.032 87.6431 771.979 L87.6431 776.658 L82.7415 776.658 L82.7415 773.22 Q82.7415 770.801 81.5957 769.465 Q80.4499 768.128 76.1848 766.505 L73.5112 765.454 L38.4362 779.873 L38.4362 773.666 L66.318 762.526 L38.4362 751.386 L38.4362 745.179 L77.3943 760.839 Z\" fill=\"#000000\" fill-rule=\"evenodd\" fill-opacity=\"1\" /><path clip-path=\"url(#clip490)\" d=\"M 0 0 M544.881 8.64 L569.707 8.64 L569.707 13.559 L550.726 13.559 L550.726 26.2904 L567.856 26.2904 L567.856 31.2093 L550.726 31.2093 L550.726 51.84 L544.881 51.84 L544.881 8.64 Z\" fill=\"#000000\" fill-rule=\"evenodd\" fill-opacity=\"1\" /><path clip-path=\"url(#clip490)\" d=\"M 0 0 M574.945 39.0507 L574.945 19.4328 L580.269 19.4328 L580.269 38.8482 Q580.269 43.4488 582.063 45.7636 Q583.857 48.0495 587.445 48.0495 Q591.756 48.0495 594.244 45.3007 Q596.762 42.5519 596.762 37.8065 L596.762 19.4328 L602.086 19.4328 L602.086 51.84 L596.762 51.84 L596.762 46.8632 Q594.823 49.8145 592.248 51.2613 Q589.702 52.6791 586.316 52.6791 Q580.732 52.6791 577.838 49.2069 Q574.945 45.7347 574.945 39.0507 M588.342 18.6515 L588.342 18.6515 Z\" fill=\"#000000\" fill-rule=\"evenodd\" fill-opacity=\"1\" /><path clip-path=\"url(#clip490)\" d=\"M 0 0 M639.991 32.2799 L639.991 51.84 L634.667 51.84 L634.667 32.4535 Q634.667 27.8529 632.873 25.567 Q631.079 23.2811 627.491 23.2811 Q623.179 23.2811 620.691 26.03 Q618.203 28.7788 618.203 33.5241 L618.203 51.84 L612.85 51.84 L612.85 19.4328 L618.203 19.4328 L618.203 24.4675 Q620.112 21.545 622.687 20.0983 Q625.292 18.6515 628.677 18.6515 Q634.261 18.6515 637.126 22.1237 Q639.991 25.567 639.991 32.2799 Z\" fill=\"#000000\" fill-rule=\"evenodd\" fill-opacity=\"1\" /><path clip-path=\"url(#clip490)\" d=\"M 0 0 M673.931 20.677 L673.931 25.6538 Q671.674 24.4096 669.389 23.802 Q667.132 23.1654 664.817 23.1654 Q659.637 23.1654 656.773 26.464 Q653.908 29.7336 653.908 35.6653 Q653.908 41.597 656.773 44.8956 Q659.637 48.1653 664.817 48.1653 Q667.132 48.1653 669.389 47.5576 Q671.674 46.921 673.931 45.6768 L673.931 50.5958 Q671.703 51.6375 669.302 52.1583 Q666.929 52.6791 664.238 52.6791 Q656.918 52.6791 652.606 48.0784 Q648.295 43.4778 648.295 35.6653 Q648.295 27.7371 652.635 23.1943 Q657.004 18.6515 664.585 18.6515 Q667.045 18.6515 669.389 19.1724 Q671.732 19.6642 673.931 20.677 M666.408 51.84 Q668 53.634 668.781 55.1386 Q669.562 56.6722 669.562 58.061 Q669.562 60.6362 667.826 61.9383 Q666.09 63.2693 662.676 63.2693 Q661.345 63.2693 660.072 63.0957 Q658.827 62.9221 657.583 62.5749 L657.583 58.7844 Q658.567 59.2763 659.637 59.4788 Q660.708 59.7103 662.068 59.7103 Q663.775 59.7103 664.643 59.0159 Q665.511 58.3214 665.511 56.9904 Q665.511 56.1224 664.875 54.8492 Q664.267 53.605 662.965 51.84 L666.408 51.84 Z\" fill=\"#000000\" fill-rule=\"evenodd\" fill-opacity=\"1\" /><path clip-path=\"url(#clip490)\" d=\"M 0 0 M697.919 35.5496 Q691.466 35.5496 688.978 37.0253 Q686.489 38.501 686.489 42.06 Q686.489 44.8956 688.341 46.5738 Q690.222 48.2231 693.434 48.2231 Q697.861 48.2231 700.523 45.0981 Q703.214 41.9442 703.214 36.7359 L703.214 35.5496 L697.919 35.5496 M708.538 33.3505 L708.538 51.84 L703.214 51.84 L703.214 46.921 Q701.391 49.8724 698.671 51.2902 Q695.951 52.6791 692.016 52.6791 Q687.039 52.6791 684.088 49.9014 Q681.165 47.0947 681.165 42.4072 Q681.165 36.9385 684.811 34.1607 Q688.486 31.3829 695.748 31.3829 L703.214 31.3829 L703.214 30.8621 Q703.214 27.1874 700.783 25.1908 Q698.381 23.1654 694.012 23.1654 Q691.235 23.1654 688.601 23.8309 Q685.968 24.4964 683.538 25.8274 L683.538 20.9085 Q686.46 19.78 689.209 19.2302 Q691.958 18.6515 694.562 18.6515 Q701.593 18.6515 705.065 22.2973 Q708.538 25.9431 708.538 33.3505 M694.678 12.199 L693.029 10.6076 Q692.392 10.0289 691.9 9.76847 Q691.437 9.47912 691.061 9.47912 Q689.961 9.47912 689.441 10.5497 Q688.92 11.5914 688.862 13.964 L685.245 13.964 Q685.303 10.0578 686.779 7.94556 Q688.254 5.80437 690.887 5.80437 Q691.987 5.80437 692.913 6.20946 Q693.839 6.61455 694.909 7.5694 L696.559 9.16083 Q697.195 9.73953 697.658 10.0289 Q698.15 10.2893 698.526 10.2893 Q699.626 10.2893 700.147 9.24764 Q700.667 8.17704 700.725 5.80437 L704.342 5.80437 Q704.284 9.7106 702.809 11.8518 Q701.333 13.964 698.7 13.964 Q697.6 13.964 696.674 13.559 Q695.748 13.1539 694.678 12.199 Z\" fill=\"#000000\" fill-rule=\"evenodd\" fill-opacity=\"1\" /><path clip-path=\"url(#clip490)\" d=\"M 0 0 M732.062 23.1654 Q727.779 23.1654 725.291 26.5218 Q722.803 29.8494 722.803 35.6653 Q722.803 41.4813 725.262 44.8377 Q727.751 48.1653 732.062 48.1653 Q736.315 48.1653 738.804 44.8088 Q741.292 41.4523 741.292 35.6653 Q741.292 29.9072 738.804 26.5508 Q736.315 23.1654 732.062 23.1654 M732.062 18.6515 Q739.006 18.6515 742.97 23.1654 Q746.934 27.6792 746.934 35.6653 Q746.934 43.6225 742.97 48.1653 Q739.006 52.6791 732.062 52.6791 Q725.089 52.6791 721.124 48.1653 Q717.189 43.6225 717.189 35.6653 Q717.189 27.6792 721.124 23.1654 Q725.089 18.6515 732.062 18.6515 Z\" fill=\"#000000\" fill-rule=\"evenodd\" fill-opacity=\"1\" /><path clip-path=\"url(#clip490)\" d=\"M 0 0 M789.324 35.5496 Q782.872 35.5496 780.383 37.0253 Q777.895 38.501 777.895 42.06 Q777.895 44.8956 779.747 46.5738 Q781.628 48.2231 784.839 48.2231 Q789.266 48.2231 791.928 45.0981 Q794.619 41.9442 794.619 36.7359 L794.619 35.5496 L789.324 35.5496 M799.943 33.3505 L799.943 51.84 L794.619 51.84 L794.619 46.921 Q792.796 49.8724 790.077 51.2902 Q787.357 52.6791 783.422 52.6791 Q778.445 52.6791 775.493 49.9014 Q772.571 47.0947 772.571 42.4072 Q772.571 36.9385 776.217 34.1607 Q779.891 31.3829 787.154 31.3829 L794.619 31.3829 L794.619 30.8621 Q794.619 27.1874 792.189 25.1908 Q789.787 23.1654 785.418 23.1654 Q782.64 23.1654 780.007 23.8309 Q777.374 24.4964 774.944 25.8274 L774.944 20.9085 Q777.866 19.78 780.615 19.2302 Q783.364 18.6515 785.968 18.6515 Q792.999 18.6515 796.471 22.2973 Q799.943 25.9431 799.943 33.3505 Z\" fill=\"#000000\" fill-rule=\"evenodd\" fill-opacity=\"1\" /><path clip-path=\"url(#clip490)\" d=\"M 0 0 M850.406 20.3876 L850.406 25.4223 Q848.149 24.2649 845.719 23.6862 Q843.288 23.1075 840.684 23.1075 Q836.72 23.1075 834.723 24.3228 Q832.756 25.5381 832.756 27.9686 Q832.756 29.8204 834.174 30.891 Q835.591 31.9327 839.874 32.8876 L841.697 33.2926 Q847.368 34.5079 849.741 36.7359 Q852.142 38.935 852.142 42.8991 Q852.142 47.4129 848.554 50.046 Q844.995 52.6791 838.745 52.6791 Q836.141 52.6791 833.306 52.1583 Q830.499 51.6664 827.374 50.6537 L827.374 45.156 Q830.325 46.6896 833.19 47.4708 Q836.054 48.2231 838.861 48.2231 Q842.623 48.2231 844.648 46.95 Q846.674 45.6479 846.674 43.3042 Q846.674 41.134 845.198 39.9766 Q843.751 38.8192 838.803 37.7486 L836.951 37.3146 Q832.003 36.273 829.804 34.1318 Q827.605 31.9616 827.605 28.2001 Q827.605 23.6283 830.846 21.1399 Q834.087 18.6515 840.047 18.6515 Q842.999 18.6515 845.603 19.0855 Q848.207 19.5196 850.406 20.3876 Z\" fill=\"#000000\" fill-rule=\"evenodd\" fill-opacity=\"1\" /><path clip-path=\"url(#clip490)\" d=\"M 0 0 M888.34 34.3054 L888.34 36.9095 L863.861 36.9095 Q864.208 42.4072 867.16 45.3007 Q870.14 48.1653 875.435 48.1653 Q878.502 48.1653 881.367 47.4129 Q884.26 46.6606 887.096 45.156 L887.096 50.1907 Q884.231 51.406 881.222 52.0425 Q878.213 52.6791 875.117 52.6791 Q867.362 52.6791 862.819 48.1653 Q858.305 43.6514 858.305 35.9547 Q858.305 27.9975 862.588 23.339 Q866.899 18.6515 874.191 18.6515 Q880.73 18.6515 884.521 22.876 Q888.34 27.0716 888.34 34.3054 M883.016 32.7429 Q882.958 28.3737 880.556 25.7695 Q878.184 23.1654 874.249 23.1654 Q869.793 23.1654 867.102 25.6827 Q864.44 28.2001 864.035 32.7718 L883.016 32.7429 Z\" fill=\"#000000\" fill-rule=\"evenodd\" fill-opacity=\"1\" /><path clip-path=\"url(#clip490)\" d=\"M 0 0 M915.857 24.4096 Q914.96 23.8888 913.89 23.6573 Q912.848 23.3969 911.575 23.3969 Q907.061 23.3969 904.63 26.3482 Q902.229 29.2707 902.229 34.7683 L902.229 51.84 L896.876 51.84 L896.876 19.4328 L902.229 19.4328 L902.229 24.4675 Q903.907 21.5161 906.598 20.0983 Q909.289 18.6515 913.137 18.6515 Q913.687 18.6515 914.353 18.7383 Q915.018 18.7962 915.828 18.9409 L915.857 24.4096 Z\" fill=\"#000000\" fill-rule=\"evenodd\" fill-opacity=\"1\" /><path clip-path=\"url(#clip490)\" d=\"M 0 0 M965.51 25.6538 Q967.506 22.0659 970.284 20.3587 Q973.062 18.6515 976.823 18.6515 Q981.887 18.6515 984.636 22.2105 Q987.385 25.7406 987.385 32.2799 L987.385 51.84 L982.032 51.84 L982.032 32.4535 Q982.032 27.795 980.382 25.5381 Q978.733 23.2811 975.348 23.2811 Q971.21 23.2811 968.808 26.03 Q966.407 28.7788 966.407 33.5241 L966.407 51.84 L961.054 51.84 L961.054 32.4535 Q961.054 27.7661 959.404 25.5381 Q957.755 23.2811 954.312 23.2811 Q950.232 23.2811 947.83 26.0589 Q945.429 28.8077 945.429 33.5241 L945.429 51.84 L940.076 51.84 L940.076 19.4328 L945.429 19.4328 L945.429 24.4675 Q947.252 21.4872 949.798 20.0693 Q952.344 18.6515 955.845 18.6515 Q959.375 18.6515 961.835 20.4455 Q964.323 22.2395 965.51 25.6538 Z\" fill=\"#000000\" fill-rule=\"evenodd\" fill-opacity=\"1\" /><path clip-path=\"url(#clip490)\" d=\"M 0 0 M1010.56 23.1654 Q1006.28 23.1654 1003.79 26.5218 Q1001.3 29.8494 1001.3 35.6653 Q1001.3 41.4813 1003.76 44.8377 Q1006.25 48.1653 1010.56 48.1653 Q1014.81 48.1653 1017.3 44.8088 Q1019.79 41.4523 1019.79 35.6653 Q1019.79 29.9072 1017.3 26.5508 Q1014.81 23.1654 1010.56 23.1654 M1010.56 18.6515 Q1017.51 18.6515 1021.47 23.1654 Q1025.43 27.6792 1025.43 35.6653 Q1025.43 43.6225 1021.47 48.1653 Q1017.51 52.6791 1010.56 52.6791 Q1003.59 52.6791 999.624 48.1653 Q995.689 43.6225 995.689 35.6653 Q995.689 27.6792 999.624 23.1654 Q1003.59 18.6515 1010.56 18.6515 Z\" fill=\"#000000\" fill-rule=\"evenodd\" fill-opacity=\"1\" /><path clip-path=\"url(#clip490)\" d=\"M 0 0 M1055.58 24.3517 L1055.58 6.81709 L1060.91 6.81709 L1060.91 51.84 L1055.58 51.84 L1055.58 46.9789 Q1053.91 49.8724 1051.33 51.2902 Q1048.78 52.6791 1045.2 52.6791 Q1039.32 52.6791 1035.62 47.9916 Q1031.94 43.3042 1031.94 35.6653 Q1031.94 28.0265 1035.62 23.339 Q1039.32 18.6515 1045.2 18.6515 Q1048.78 18.6515 1051.33 20.0693 Q1053.91 21.4582 1055.58 24.3517 M1037.44 35.6653 Q1037.44 41.5391 1039.84 44.8956 Q1042.27 48.2231 1046.5 48.2231 Q1050.72 48.2231 1053.15 44.8956 Q1055.58 41.5391 1055.58 35.6653 Q1055.58 29.7915 1053.15 26.464 Q1050.72 23.1075 1046.5 23.1075 Q1042.27 23.1075 1039.84 26.464 Q1037.44 29.7915 1037.44 35.6653 Z\" fill=\"#000000\" fill-rule=\"evenodd\" fill-opacity=\"1\" /><path clip-path=\"url(#clip490)\" d=\"M 0 0 M1099.59 34.3054 L1099.59 36.9095 L1075.12 36.9095 Q1075.46 42.4072 1078.41 45.3007 Q1081.39 48.1653 1086.69 48.1653 Q1089.76 48.1653 1092.62 47.4129 Q1095.51 46.6606 1098.35 45.156 L1098.35 50.1907 Q1095.49 51.406 1092.48 52.0425 Q1089.47 52.6791 1086.37 52.6791 Q1078.62 52.6791 1074.07 48.1653 Q1069.56 43.6514 1069.56 35.9547 Q1069.56 27.9975 1073.84 23.339 Q1078.15 18.6515 1085.45 18.6515 Q1091.98 18.6515 1095.78 22.876 Q1099.59 27.0716 1099.59 34.3054 M1094.27 32.7429 Q1094.21 28.3737 1091.81 25.7695 Q1089.44 23.1654 1085.5 23.1654 Q1081.05 23.1654 1078.36 25.6827 Q1075.69 28.2001 1075.29 32.7718 L1094.27 32.7429 Z\" fill=\"#000000\" fill-rule=\"evenodd\" fill-opacity=\"1\" /><path clip-path=\"url(#clip490)\" d=\"M 0 0 M1108.33 6.81709 L1113.66 6.81709 L1113.66 51.84 L1108.33 51.84 L1108.33 6.81709 Z\" fill=\"#000000\" fill-rule=\"evenodd\" fill-opacity=\"1\" /><path clip-path=\"url(#clip490)\" d=\"M 0 0 M1139.52 35.5496 Q1133.07 35.5496 1130.58 37.0253 Q1128.1 38.501 1128.1 42.06 Q1128.1 44.8956 1129.95 46.5738 Q1131.83 48.2231 1135.04 48.2231 Q1139.47 48.2231 1142.13 45.0981 Q1144.82 41.9442 1144.82 36.7359 L1144.82 35.5496 L1139.52 35.5496 M1150.14 33.3505 L1150.14 51.84 L1144.82 51.84 L1144.82 46.921 Q1143 49.8724 1140.28 51.2902 Q1137.56 52.6791 1133.62 52.6791 Q1128.65 52.6791 1125.69 49.9014 Q1122.77 47.0947 1122.77 42.4072 Q1122.77 36.9385 1126.42 34.1607 Q1130.09 31.3829 1137.35 31.3829 L1144.82 31.3829 L1144.82 30.8621 Q1144.82 27.1874 1142.39 25.1908 Q1139.99 23.1654 1135.62 23.1654 Q1132.84 23.1654 1130.21 23.8309 Q1127.57 24.4964 1125.14 25.8274 L1125.14 20.9085 Q1128.07 19.78 1130.82 19.2302 Q1133.56 18.6515 1136.17 18.6515 Q1143.2 18.6515 1146.67 22.2973 Q1150.14 25.9431 1150.14 33.3505 Z\" fill=\"#000000\" fill-rule=\"evenodd\" fill-opacity=\"1\" /><path clip-path=\"url(#clip490)\" d=\"M 0 0 M1182.44 24.3517 L1182.44 6.81709 L1187.76 6.81709 L1187.76 51.84 L1182.44 51.84 L1182.44 46.9789 Q1180.76 49.8724 1178.18 51.2902 Q1175.64 52.6791 1172.05 52.6791 Q1166.17 52.6791 1162.47 47.9916 Q1158.8 43.3042 1158.8 35.6653 Q1158.8 28.0265 1162.47 23.339 Q1166.17 18.6515 1172.05 18.6515 Q1175.64 18.6515 1178.18 20.0693 Q1180.76 21.4582 1182.44 24.3517 M1164.29 35.6653 Q1164.29 41.5391 1166.69 44.8956 Q1169.13 48.2231 1173.35 48.2231 Q1177.57 48.2231 1180.01 44.8956 Q1182.44 41.5391 1182.44 35.6653 Q1182.44 29.7915 1180.01 26.464 Q1177.57 23.1075 1173.35 23.1075 Q1169.13 23.1075 1166.69 26.464 Q1164.29 29.7915 1164.29 35.6653 Z\" fill=\"#000000\" fill-rule=\"evenodd\" fill-opacity=\"1\" /><path clip-path=\"url(#clip490)\" d=\"M 0 0 M1213.45 35.5496 Q1207 35.5496 1204.51 37.0253 Q1202.02 38.501 1202.02 42.06 Q1202.02 44.8956 1203.88 46.5738 Q1205.76 48.2231 1208.97 48.2231 Q1213.4 48.2231 1216.06 45.0981 Q1218.75 41.9442 1218.75 36.7359 L1218.75 35.5496 L1213.45 35.5496 M1224.07 33.3505 L1224.07 51.84 L1218.75 51.84 L1218.75 46.921 Q1216.93 49.8724 1214.21 51.2902 Q1211.49 52.6791 1207.55 52.6791 Q1202.57 52.6791 1199.62 49.9014 Q1196.7 47.0947 1196.7 42.4072 Q1196.7 36.9385 1200.35 34.1607 Q1204.02 31.3829 1211.28 31.3829 L1218.75 31.3829 L1218.75 30.8621 Q1218.75 27.1874 1216.32 25.1908 Q1213.92 23.1654 1209.55 23.1654 Q1206.77 23.1654 1204.14 23.8309 Q1201.5 24.4964 1199.07 25.8274 L1199.07 20.9085 Q1202 19.78 1204.74 19.2302 Q1207.49 18.6515 1210.1 18.6515 Q1217.13 18.6515 1220.6 22.2973 Q1224.07 25.9431 1224.07 33.3505 Z\" fill=\"#000000\" fill-rule=\"evenodd\" fill-opacity=\"1\" /><path clip-path=\"url(#clip490)\" d=\"M 0 0 M1281.6 34.3054 L1281.6 36.9095 L1257.12 36.9095 Q1257.46 42.4072 1260.42 45.3007 Q1263.4 48.1653 1268.69 48.1653 Q1271.76 48.1653 1274.62 47.4129 Q1277.52 46.6606 1280.35 45.156 L1280.35 50.1907 Q1277.49 51.406 1274.48 52.0425 Q1271.47 52.6791 1268.37 52.6791 Q1260.62 52.6791 1256.08 48.1653 Q1251.56 43.6514 1251.56 35.9547 Q1251.56 27.9975 1255.84 23.339 Q1260.16 18.6515 1267.45 18.6515 Q1273.99 18.6515 1277.78 22.876 Q1281.6 27.0716 1281.6 34.3054 M1276.27 32.7429 Q1276.21 28.3737 1273.81 25.7695 Q1271.44 23.1654 1267.5 23.1654 Q1263.05 23.1654 1260.36 25.6827 Q1257.7 28.2001 1257.29 32.7718 L1276.27 32.7429 Z\" fill=\"#000000\" fill-rule=\"evenodd\" fill-opacity=\"1\" /><path clip-path=\"url(#clip490)\" d=\"M 0 0 M1330.5 24.3517 L1330.5 6.81709 L1335.82 6.81709 L1335.82 51.84 L1330.5 51.84 L1330.5 46.9789 Q1328.82 49.8724 1326.24 51.2902 Q1323.7 52.6791 1320.11 52.6791 Q1314.23 52.6791 1310.53 47.9916 Q1306.86 43.3042 1306.86 35.6653 Q1306.86 28.0265 1310.53 23.339 Q1314.23 18.6515 1320.11 18.6515 Q1323.7 18.6515 1326.24 20.0693 Q1328.82 21.4582 1330.5 24.3517 M1312.35 35.6653 Q1312.35 41.5391 1314.76 44.8956 Q1317.19 48.2231 1321.41 48.2231 Q1325.64 48.2231 1328.07 44.8956 Q1330.5 41.5391 1330.5 35.6653 Q1330.5 29.7915 1328.07 26.464 Q1325.64 23.1075 1321.41 23.1075 Q1317.19 23.1075 1314.76 26.464 Q1312.35 29.7915 1312.35 35.6653 Z\" fill=\"#000000\" fill-rule=\"evenodd\" fill-opacity=\"1\" /><path clip-path=\"url(#clip490)\" d=\"M 0 0 M1361.51 35.5496 Q1355.06 35.5496 1352.57 37.0253 Q1350.09 38.501 1350.09 42.06 Q1350.09 44.8956 1351.94 46.5738 Q1353.82 48.2231 1357.03 48.2231 Q1361.46 48.2231 1364.12 45.0981 Q1366.81 41.9442 1366.81 36.7359 L1366.81 35.5496 L1361.51 35.5496 M1372.13 33.3505 L1372.13 51.84 L1366.81 51.84 L1366.81 46.921 Q1364.99 49.8724 1362.27 51.2902 Q1359.55 52.6791 1355.61 52.6791 Q1350.63 52.6791 1347.68 49.9014 Q1344.76 47.0947 1344.76 42.4072 Q1344.76 36.9385 1348.41 34.1607 Q1352.08 31.3829 1359.34 31.3829 L1366.81 31.3829 L1366.81 30.8621 Q1366.81 27.1874 1364.38 25.1908 Q1361.98 23.1654 1357.61 23.1654 Q1354.83 23.1654 1352.2 23.8309 Q1349.56 24.4964 1347.13 25.8274 L1347.13 20.9085 Q1350.06 19.78 1352.81 19.2302 Q1355.55 18.6515 1358.16 18.6515 Q1365.19 18.6515 1368.66 22.2973 Q1372.13 25.9431 1372.13 33.3505 Z\" fill=\"#000000\" fill-rule=\"evenodd\" fill-opacity=\"1\" /><path clip-path=\"url(#clip490)\" d=\"M 0 0 M1404.43 24.3517 L1404.43 6.81709 L1409.75 6.81709 L1409.75 51.84 L1404.43 51.84 L1404.43 46.9789 Q1402.75 49.8724 1400.17 51.2902 Q1397.63 52.6791 1394.04 52.6791 Q1388.16 52.6791 1384.46 47.9916 Q1380.79 43.3042 1380.79 35.6653 Q1380.79 28.0265 1384.46 23.339 Q1388.16 18.6515 1394.04 18.6515 Q1397.63 18.6515 1400.17 20.0693 Q1402.75 21.4582 1404.43 24.3517 M1386.28 35.6653 Q1386.28 41.5391 1388.68 44.8956 Q1391.12 48.2231 1395.34 48.2231 Q1399.56 48.2231 1401.99 44.8956 Q1404.43 41.5391 1404.43 35.6653 Q1404.43 29.7915 1401.99 26.464 Q1399.56 23.1075 1395.34 23.1075 Q1391.12 23.1075 1388.68 26.464 Q1386.28 29.7915 1386.28 35.6653 Z\" fill=\"#000000\" fill-rule=\"evenodd\" fill-opacity=\"1\" /><path clip-path=\"url(#clip490)\" d=\"M 0 0 M1433.27 23.1654 Q1428.99 23.1654 1426.5 26.5218 Q1424.01 29.8494 1424.01 35.6653 Q1424.01 41.4813 1426.47 44.8377 Q1428.96 48.1653 1433.27 48.1653 Q1437.53 48.1653 1440.02 44.8088 Q1442.5 41.4523 1442.5 35.6653 Q1442.5 29.9072 1440.02 26.5508 Q1437.53 23.1654 1433.27 23.1654 M1433.27 18.6515 Q1440.22 18.6515 1444.18 23.1654 Q1448.15 27.6792 1448.15 35.6653 Q1448.15 43.6225 1444.18 48.1653 Q1440.22 52.6791 1433.27 52.6791 Q1426.3 52.6791 1422.34 48.1653 Q1418.4 43.6225 1418.4 35.6653 Q1418.4 27.6792 1422.34 23.1654 Q1426.3 18.6515 1433.27 18.6515 Z\" fill=\"#000000\" fill-rule=\"evenodd\" fill-opacity=\"1\" /><path clip-path=\"url(#clip490)\" d=\"M 0 0 M1477.63 20.3876 L1477.63 25.4223 Q1475.37 24.2649 1472.94 23.6862 Q1470.51 23.1075 1467.91 23.1075 Q1463.94 23.1075 1461.95 24.3228 Q1459.98 25.5381 1459.98 27.9686 Q1459.98 29.8204 1461.4 30.891 Q1462.82 31.9327 1467.1 32.8876 L1468.92 33.2926 Q1474.59 34.5079 1476.97 36.7359 Q1479.37 38.935 1479.37 42.8991 Q1479.37 47.4129 1475.78 50.046 Q1472.22 52.6791 1465.97 52.6791 Q1463.37 52.6791 1460.53 52.1583 Q1457.72 51.6664 1454.6 50.6537 L1454.6 45.156 Q1457.55 46.6896 1460.41 47.4708 Q1463.28 48.2231 1466.09 48.2231 Q1469.85 48.2231 1471.87 46.95 Q1473.9 45.6479 1473.9 43.3042 Q1473.9 41.134 1472.42 39.9766 Q1470.98 38.8192 1466.03 37.7486 L1464.18 37.3146 Q1459.23 36.273 1457.03 34.1318 Q1454.83 31.9616 1454.83 28.2001 Q1454.83 23.6283 1458.07 21.1399 Q1461.31 18.6515 1467.27 18.6515 Q1470.22 18.6515 1472.83 19.0855 Q1475.43 19.5196 1477.63 20.3876 Z\" fill=\"#000000\" fill-rule=\"evenodd\" fill-opacity=\"1\" /><path clip-path=\"url(#clip490)\" d=\"M 0 0 M1521.41 35.5496 Q1514.96 35.5496 1512.47 37.0253 Q1509.98 38.501 1509.98 42.06 Q1509.98 44.8956 1511.83 46.5738 Q1513.71 48.2231 1516.92 48.2231 Q1521.35 48.2231 1524.01 45.0981 Q1526.7 41.9442 1526.7 36.7359 L1526.7 35.5496 L1521.41 35.5496 M1532.03 33.3505 L1532.03 51.84 L1526.7 51.84 L1526.7 46.921 Q1524.88 49.8724 1522.16 51.2902 Q1519.44 52.6791 1515.51 52.6791 Q1510.53 52.6791 1507.58 49.9014 Q1504.66 47.0947 1504.66 42.4072 Q1504.66 36.9385 1508.3 34.1607 Q1511.98 31.3829 1519.24 31.3829 L1526.7 31.3829 L1526.7 30.8621 Q1526.7 27.1874 1524.27 25.1908 Q1521.87 23.1654 1517.5 23.1654 Q1514.73 23.1654 1512.09 23.8309 Q1509.46 24.4964 1507.03 25.8274 L1507.03 20.9085 Q1509.95 19.78 1512.7 19.2302 Q1515.45 18.6515 1518.05 18.6515 Q1525.08 18.6515 1528.56 22.2973 Q1532.03 25.9431 1532.03 33.3505 Z\" fill=\"#000000\" fill-rule=\"evenodd\" fill-opacity=\"1\" /><path clip-path=\"url(#clip490)\" d=\"M 0 0 M1568.23 25.6538 Q1570.22 22.0659 1573 20.3587 Q1575.78 18.6515 1579.54 18.6515 Q1584.6 18.6515 1587.35 22.2105 Q1590.1 25.7406 1590.1 32.2799 L1590.1 51.84 L1584.75 51.84 L1584.75 32.4535 Q1584.75 27.795 1583.1 25.5381 Q1581.45 23.2811 1578.06 23.2811 Q1573.93 23.2811 1571.52 26.03 Q1569.12 28.7788 1569.12 33.5241 L1569.12 51.84 L1563.77 51.84 L1563.77 32.4535 Q1563.77 27.7661 1562.12 25.5381 Q1560.47 23.2811 1557.03 23.2811 Q1552.95 23.2811 1550.55 26.0589 Q1548.15 28.8077 1548.15 33.5241 L1548.15 51.84 L1542.79 51.84 L1542.79 19.4328 L1548.15 19.4328 L1548.15 24.4675 Q1549.97 21.4872 1552.51 20.0693 Q1555.06 18.6515 1558.56 18.6515 Q1562.09 18.6515 1564.55 20.4455 Q1567.04 22.2395 1568.23 25.6538 Z\" fill=\"#000000\" fill-rule=\"evenodd\" fill-opacity=\"1\" /><path clip-path=\"url(#clip490)\" d=\"M 0 0 M1613.28 23.1654 Q1609 23.1654 1606.51 26.5218 Q1604.02 29.8494 1604.02 35.6653 Q1604.02 41.4813 1606.48 44.8377 Q1608.97 48.1653 1613.28 48.1653 Q1617.53 48.1653 1620.02 44.8088 Q1622.51 41.4523 1622.51 35.6653 Q1622.51 29.9072 1620.02 26.5508 Q1617.53 23.1654 1613.28 23.1654 M1613.28 18.6515 Q1620.22 18.6515 1624.19 23.1654 Q1628.15 27.6792 1628.15 35.6653 Q1628.15 43.6225 1624.19 48.1653 Q1620.22 52.6791 1613.28 52.6791 Q1606.3 52.6791 1602.34 48.1653 Q1598.41 43.6225 1598.41 35.6653 Q1598.41 27.6792 1602.34 23.1654 Q1606.3 18.6515 1613.28 18.6515 Z\" fill=\"#000000\" fill-rule=\"evenodd\" fill-opacity=\"1\" /><path clip-path=\"url(#clip490)\" d=\"M 0 0 M1657.64 20.3876 L1657.64 25.4223 Q1655.38 24.2649 1652.95 23.6862 Q1650.52 23.1075 1647.91 23.1075 Q1643.95 23.1075 1641.95 24.3228 Q1639.99 25.5381 1639.99 27.9686 Q1639.99 29.8204 1641.4 30.891 Q1642.82 31.9327 1647.1 32.8876 L1648.93 33.2926 Q1654.6 34.5079 1656.97 36.7359 Q1659.37 38.935 1659.37 42.8991 Q1659.37 47.4129 1655.78 50.046 Q1652.22 52.6791 1645.97 52.6791 Q1643.37 52.6791 1640.54 52.1583 Q1637.73 51.6664 1634.6 50.6537 L1634.6 45.156 Q1637.55 46.6896 1640.42 47.4708 Q1643.28 48.2231 1646.09 48.2231 Q1649.85 48.2231 1651.88 46.95 Q1653.9 45.6479 1653.9 43.3042 Q1653.9 41.134 1652.43 39.9766 Q1650.98 38.8192 1646.03 37.7486 L1644.18 37.3146 Q1639.23 36.273 1637.03 34.1318 Q1634.83 31.9616 1634.83 28.2001 Q1634.83 23.6283 1638.08 21.1399 Q1641.32 18.6515 1647.28 18.6515 Q1650.23 18.6515 1652.83 19.0855 Q1655.44 19.5196 1657.64 20.3876 Z\" fill=\"#000000\" fill-rule=\"evenodd\" fill-opacity=\"1\" /><path clip-path=\"url(#clip490)\" d=\"M 0 0 M1673.12 10.2314 L1673.12 19.4328 L1684.08 19.4328 L1684.08 23.5705 L1673.12 23.5705 L1673.12 41.163 Q1673.12 45.1271 1674.19 46.2555 Q1675.29 47.384 1678.61 47.384 L1684.08 47.384 L1684.08 51.84 L1678.61 51.84 Q1672.45 51.84 1670.11 49.5541 Q1667.76 47.2393 1667.76 41.163 L1667.76 23.5705 L1663.86 23.5705 L1663.86 19.4328 L1667.76 19.4328 L1667.76 10.2314 L1673.12 10.2314 Z\" fill=\"#000000\" fill-rule=\"evenodd\" fill-opacity=\"1\" /><path clip-path=\"url(#clip490)\" d=\"M 0 0 M1709.86 24.4096 Q1708.97 23.8888 1707.9 23.6573 Q1706.85 23.3969 1705.58 23.3969 Q1701.07 23.3969 1698.64 26.3482 Q1696.23 29.2707 1696.23 34.7683 L1696.23 51.84 L1690.88 51.84 L1690.88 19.4328 L1696.23 19.4328 L1696.23 24.4675 Q1697.91 21.5161 1700.6 20.0983 Q1703.3 18.6515 1707.14 18.6515 Q1707.69 18.6515 1708.36 18.7383 Q1709.02 18.7962 1709.83 18.9409 L1709.86 24.4096 Z\" fill=\"#000000\" fill-rule=\"evenodd\" fill-opacity=\"1\" /><path clip-path=\"url(#clip490)\" d=\"M 0 0 M1730.18 35.5496 Q1723.72 35.5496 1721.23 37.0253 Q1718.75 38.501 1718.75 42.06 Q1718.75 44.8956 1720.6 46.5738 Q1722.48 48.2231 1725.69 48.2231 Q1730.12 48.2231 1732.78 45.0981 Q1735.47 41.9442 1735.47 36.7359 L1735.47 35.5496 L1730.18 35.5496 M1740.79 33.3505 L1740.79 51.84 L1735.47 51.84 L1735.47 46.921 Q1733.65 49.8724 1730.93 51.2902 Q1728.21 52.6791 1724.27 52.6791 Q1719.3 52.6791 1716.34 49.9014 Q1713.42 47.0947 1713.42 42.4072 Q1713.42 36.9385 1717.07 34.1607 Q1720.74 31.3829 1728.01 31.3829 L1735.47 31.3829 L1735.47 30.8621 Q1735.47 27.1874 1733.04 25.1908 Q1730.64 23.1654 1726.27 23.1654 Q1723.49 23.1654 1720.86 23.8309 Q1718.23 24.4964 1715.8 25.8274 L1715.8 20.9085 Q1718.72 19.78 1721.47 19.2302 Q1724.22 18.6515 1726.82 18.6515 Q1733.85 18.6515 1737.32 22.2973 Q1740.79 25.9431 1740.79 33.3505 Z\" fill=\"#000000\" fill-rule=\"evenodd\" fill-opacity=\"1\" /><path clip-path=\"url(#clip490)\" d=\"M 0 0 M1751.76 19.4328 L1757.09 19.4328 L1757.09 51.84 L1751.76 51.84 L1751.76 19.4328 M1751.76 6.81709 L1757.09 6.81709 L1757.09 13.559 L1751.76 13.559 L1751.76 6.81709 Z\" fill=\"#000000\" fill-rule=\"evenodd\" fill-opacity=\"1\" /><path clip-path=\"url(#clip490)\" d=\"M 0 0 M1788.88 20.3876 L1788.88 25.4223 Q1786.63 24.2649 1784.2 23.6862 Q1781.77 23.1075 1779.16 23.1075 Q1775.2 23.1075 1773.2 24.3228 Q1771.23 25.5381 1771.23 27.9686 Q1771.23 29.8204 1772.65 30.891 Q1774.07 31.9327 1778.35 32.8876 L1780.18 33.2926 Q1785.85 34.5079 1788.22 36.7359 Q1790.62 38.935 1790.62 42.8991 Q1790.62 47.4129 1787.03 50.046 Q1783.47 52.6791 1777.22 52.6791 Q1774.62 52.6791 1771.78 52.1583 Q1768.98 51.6664 1765.85 50.6537 L1765.85 45.156 Q1768.8 46.6896 1771.67 47.4708 Q1774.53 48.2231 1777.34 48.2231 Q1781.1 48.2231 1783.13 46.95 Q1785.15 45.6479 1785.15 43.3042 Q1785.15 41.134 1783.68 39.9766 Q1782.23 38.8192 1777.28 37.7486 L1775.43 37.3146 Q1770.48 36.273 1768.28 34.1318 Q1766.08 31.9616 1766.08 28.2001 Q1766.08 23.6283 1769.32 21.1399 Q1772.57 18.6515 1778.53 18.6515 Q1781.48 18.6515 1784.08 19.0855 Q1786.69 19.5196 1788.88 20.3876 Z\" fill=\"#000000\" fill-rule=\"evenodd\" fill-opacity=\"1\" /><circle clip-path=\"url(#clip492)\" cx=\"276.237\" cy=\"677.509\" r=\"14\" fill=\"#009af9\" fill-rule=\"evenodd\" fill-opacity=\"1\" stroke=\"#000000\" stroke-opacity=\"1\" stroke-width=\"3.2\"/>\n",
       "<circle clip-path=\"url(#clip492)\" cx=\"365.389\" cy=\"501.867\" r=\"14\" fill=\"#009af9\" fill-rule=\"evenodd\" fill-opacity=\"1\" stroke=\"#000000\" stroke-opacity=\"1\" stroke-width=\"3.2\"/>\n",
       "<circle clip-path=\"url(#clip492)\" cx=\"454.54\" cy=\"401.684\" r=\"14\" fill=\"#009af9\" fill-rule=\"evenodd\" fill-opacity=\"1\" stroke=\"#000000\" stroke-opacity=\"1\" stroke-width=\"3.2\"/>\n",
       "<circle clip-path=\"url(#clip492)\" cx=\"543.691\" cy=\"424.599\" r=\"14\" fill=\"#009af9\" fill-rule=\"evenodd\" fill-opacity=\"1\" stroke=\"#000000\" stroke-opacity=\"1\" stroke-width=\"3.2\"/>\n",
       "<circle clip-path=\"url(#clip492)\" cx=\"632.843\" cy=\"571.173\" r=\"14\" fill=\"#009af9\" fill-rule=\"evenodd\" fill-opacity=\"1\" stroke=\"#000000\" stroke-opacity=\"1\" stroke-width=\"3.2\"/>\n",
       "<circle clip-path=\"url(#clip492)\" cx=\"721.994\" cy=\"794.919\" r=\"14\" fill=\"#009af9\" fill-rule=\"evenodd\" fill-opacity=\"1\" stroke=\"#000000\" stroke-opacity=\"1\" stroke-width=\"3.2\"/>\n",
       "<circle clip-path=\"url(#clip492)\" cx=\"811.145\" cy=\"1020.35\" r=\"14\" fill=\"#009af9\" fill-rule=\"evenodd\" fill-opacity=\"1\" stroke=\"#000000\" stroke-opacity=\"1\" stroke-width=\"3.2\"/>\n",
       "<circle clip-path=\"url(#clip492)\" cx=\"900.297\" cy=\"1172.11\" r=\"14\" fill=\"#009af9\" fill-rule=\"evenodd\" fill-opacity=\"1\" stroke=\"#000000\" stroke-opacity=\"1\" stroke-width=\"3.2\"/>\n",
       "<circle clip-path=\"url(#clip492)\" cx=\"989.448\" cy=\"1204.09\" r=\"14\" fill=\"#009af9\" fill-rule=\"evenodd\" fill-opacity=\"1\" stroke=\"#000000\" stroke-opacity=\"1\" stroke-width=\"3.2\"/>\n",
       "<circle clip-path=\"url(#clip492)\" cx=\"1078.6\" cy=\"1117.17\" r=\"14\" fill=\"#009af9\" fill-rule=\"evenodd\" fill-opacity=\"1\" stroke=\"#000000\" stroke-opacity=\"1\" stroke-width=\"3.2\"/>\n",
       "<circle clip-path=\"url(#clip492)\" cx=\"1167.75\" cy=\"958.939\" r=\"14\" fill=\"#009af9\" fill-rule=\"evenodd\" fill-opacity=\"1\" stroke=\"#000000\" stroke-opacity=\"1\" stroke-width=\"3.2\"/>\n",
       "<circle clip-path=\"url(#clip492)\" cx=\"1256.9\" cy=\"805.131\" r=\"14\" fill=\"#009af9\" fill-rule=\"evenodd\" fill-opacity=\"1\" stroke=\"#000000\" stroke-opacity=\"1\" stroke-width=\"3.2\"/>\n",
       "<circle clip-path=\"url(#clip492)\" cx=\"1346.05\" cy=\"729.867\" r=\"14\" fill=\"#009af9\" fill-rule=\"evenodd\" fill-opacity=\"1\" stroke=\"#000000\" stroke-opacity=\"1\" stroke-width=\"3.2\"/>\n",
       "<circle clip-path=\"url(#clip492)\" cx=\"1435.21\" cy=\"775.806\" r=\"14\" fill=\"#009af9\" fill-rule=\"evenodd\" fill-opacity=\"1\" stroke=\"#000000\" stroke-opacity=\"1\" stroke-width=\"3.2\"/>\n",
       "<circle clip-path=\"url(#clip492)\" cx=\"1524.36\" cy=\"935.391\" r=\"14\" fill=\"#009af9\" fill-rule=\"evenodd\" fill-opacity=\"1\" stroke=\"#000000\" stroke-opacity=\"1\" stroke-width=\"3.2\"/>\n",
       "<circle clip-path=\"url(#clip492)\" cx=\"1613.51\" cy=\"1150.11\" r=\"14\" fill=\"#009af9\" fill-rule=\"evenodd\" fill-opacity=\"1\" stroke=\"#000000\" stroke-opacity=\"1\" stroke-width=\"3.2\"/>\n",
       "<circle clip-path=\"url(#clip492)\" cx=\"1702.66\" cy=\"1327.8\" r=\"14\" fill=\"#009af9\" fill-rule=\"evenodd\" fill-opacity=\"1\" stroke=\"#000000\" stroke-opacity=\"1\" stroke-width=\"3.2\"/>\n",
       "<circle clip-path=\"url(#clip492)\" cx=\"1791.81\" cy=\"1370.96\" r=\"14\" fill=\"#009af9\" fill-rule=\"evenodd\" fill-opacity=\"1\" stroke=\"#000000\" stroke-opacity=\"1\" stroke-width=\"3.2\"/>\n",
       "<circle clip-path=\"url(#clip492)\" cx=\"1880.96\" cy=\"1205.15\" r=\"14\" fill=\"#009af9\" fill-rule=\"evenodd\" fill-opacity=\"1\" stroke=\"#000000\" stroke-opacity=\"1\" stroke-width=\"3.2\"/>\n",
       "<circle clip-path=\"url(#clip492)\" cx=\"1970.11\" cy=\"795.942\" r=\"14\" fill=\"#009af9\" fill-rule=\"evenodd\" fill-opacity=\"1\" stroke=\"#000000\" stroke-opacity=\"1\" stroke-width=\"3.2\"/>\n",
       "<circle clip-path=\"url(#clip492)\" cx=\"2059.27\" cy=\"147.871\" r=\"14\" fill=\"#009af9\" fill-rule=\"evenodd\" fill-opacity=\"1\" stroke=\"#000000\" stroke-opacity=\"1\" stroke-width=\"3.2\"/>\n",
       "<polyline clip-path=\"url(#clip492)\" style=\"stroke:#e26f46; stroke-width:4; stroke-opacity:1; fill:none\" points=\"\n",
       "  276.237,677.509 294.067,639.827 311.898,602.769 329.728,566.999 347.558,533.161 365.389,501.867 383.219,473.691 401.049,449.153 418.879,428.718 436.71,412.785 \n",
       "  454.54,401.684 472.37,395.665 490.2,394.901 508.031,399.48 525.861,409.406 543.691,424.599 561.522,444.898 579.352,470.059 597.182,499.762 615.012,533.619 \n",
       "  632.843,571.173 650.673,611.912 668.503,655.273 686.334,700.654 704.164,747.421 721.994,794.919 739.824,842.484 757.655,889.452 775.485,935.168 793.315,979 \n",
       "  811.145,1020.35 828.976,1058.65 846.806,1093.4 864.636,1124.14 882.467,1150.48 900.297,1172.11 918.127,1188.8 935.957,1200.37 953.788,1206.76 971.618,1207.97 \n",
       "  989.448,1204.09 1007.28,1195.3 1025.11,1181.85 1042.94,1164.06 1060.77,1142.35 1078.6,1117.17 1096.43,1089.04 1114.26,1058.54 1132.09,1026.25 1149.92,992.838 \n",
       "  1167.75,958.939 1185.58,925.223 1203.41,892.35 1221.24,860.967 1239.07,831.697 1256.9,805.131 1274.73,781.811 1292.56,762.231 1310.39,746.819 1328.22,735.936 \n",
       "  1346.05,729.867 1363.88,728.815 1381.71,732.897 1399.54,742.145 1417.38,756.498 1435.21,775.806 1453.04,799.831 1470.87,828.249 1488.7,860.65 1506.53,896.55 \n",
       "  1524.36,935.391 1542.19,976.549 1560.02,1019.35 1577.85,1063.06 1595.68,1106.91 1613.51,1150.11 1631.34,1191.85 1649.17,1231.3 1667,1267.65 1684.83,1300.07 \n",
       "  1702.66,1327.8 1720.49,1350.06 1738.32,1366.15 1756.15,1375.39 1773.98,1377.18 1791.81,1370.96 1809.64,1356.25 1827.47,1332.62 1845.3,1299.73 1863.13,1257.31 \n",
       "  1880.96,1205.15 1898.79,1143.12 1916.62,1071.16 1934.45,989.263 1952.28,897.488 1970.11,795.942 1987.94,684.773 2005.77,564.165 2023.6,434.329 2041.43,295.488 \n",
       "  2059.27,147.871 \n",
       "  \"/>\n",
       "<path clip-path=\"url(#clip490)\" d=\"\n",
       "M285.747 1370.62 L652.969 1370.62 L652.969 1189.18 L285.747 1189.18  Z\n",
       "  \" fill=\"#ffffff\" fill-rule=\"evenodd\" fill-opacity=\"1\"/>\n",
       "<polyline clip-path=\"url(#clip490)\" style=\"stroke:#000000; stroke-width:4; stroke-opacity:1; fill:none\" points=\"\n",
       "  285.747,1370.62 652.969,1370.62 652.969,1189.18 285.747,1189.18 285.747,1370.62 \n",
       "  \"/>\n",
       "<circle clip-path=\"url(#clip490)\" cx=\"369.747\" cy=\"1249.66\" r=\"23\" fill=\"#009af9\" fill-rule=\"evenodd\" fill-opacity=\"1\" stroke=\"#000000\" stroke-opacity=\"1\" stroke-width=\"5.12\"/>\n",
       "<path clip-path=\"url(#clip490)\" d=\"M 0 0 M472.659 1244.95 L472.659 1230.93 L476.919 1230.93 L476.919 1266.94 L472.659 1266.94 L472.659 1263.06 Q471.317 1265.37 469.257 1266.5 Q467.22 1267.62 464.349 1267.62 Q459.65 1267.62 456.687 1263.87 Q453.747 1260.12 453.747 1254 Q453.747 1247.89 456.687 1244.14 Q459.65 1240.39 464.349 1240.39 Q467.22 1240.39 469.257 1241.53 Q471.317 1242.64 472.659 1244.95 M458.146 1254 Q458.146 1258.7 460.067 1261.39 Q462.011 1264.05 465.391 1264.05 Q468.771 1264.05 470.715 1261.39 Q472.659 1258.7 472.659 1254 Q472.659 1249.31 470.715 1246.64 Q468.771 1243.96 465.391 1243.96 Q462.011 1243.96 460.067 1246.64 Q458.146 1249.31 458.146 1254 Z\" fill=\"#000000\" fill-rule=\"evenodd\" fill-opacity=\"1\" /><path clip-path=\"url(#clip490)\" d=\"M 0 0 M497.474 1253.91 Q492.312 1253.91 490.321 1255.09 Q488.331 1256.27 488.331 1259.12 Q488.331 1261.39 489.812 1262.73 Q491.317 1264.05 493.886 1264.05 Q497.428 1264.05 499.557 1261.55 Q501.71 1259.03 501.71 1254.86 L501.71 1253.91 L497.474 1253.91 M505.969 1252.15 L505.969 1266.94 L501.71 1266.94 L501.71 1263.01 Q500.252 1265.37 498.076 1266.5 Q495.9 1267.62 492.752 1267.62 Q488.77 1267.62 486.409 1265.39 Q484.071 1263.15 484.071 1259.4 Q484.071 1255.02 486.988 1252.8 Q489.928 1250.58 495.738 1250.58 L501.71 1250.58 L501.71 1250.16 Q501.71 1247.22 499.766 1245.62 Q497.844 1244 494.349 1244 Q492.127 1244 490.02 1244.54 Q487.914 1245.07 485.969 1246.13 L485.969 1242.2 Q488.307 1241.3 490.507 1240.86 Q492.706 1240.39 494.789 1240.39 Q500.414 1240.39 503.192 1243.31 Q505.969 1246.23 505.969 1252.15 Z\" fill=\"#000000\" fill-rule=\"evenodd\" fill-opacity=\"1\" /><path clip-path=\"url(#clip490)\" d=\"M 0 0 M531.803 1244.95 L531.803 1230.93 L536.062 1230.93 L536.062 1266.94 L531.803 1266.94 L531.803 1263.06 Q530.46 1265.37 528.4 1266.5 Q526.363 1267.62 523.492 1267.62 Q518.793 1267.62 515.83 1263.87 Q512.891 1260.12 512.891 1254 Q512.891 1247.89 515.83 1244.14 Q518.793 1240.39 523.492 1240.39 Q526.363 1240.39 528.4 1241.53 Q530.46 1242.64 531.803 1244.95 M517.289 1254 Q517.289 1258.7 519.21 1261.39 Q521.154 1264.05 524.534 1264.05 Q527.914 1264.05 529.858 1261.39 Q531.803 1258.7 531.803 1254 Q531.803 1249.31 529.858 1246.64 Q527.914 1243.96 524.534 1243.96 Q521.154 1243.96 519.21 1246.64 Q517.289 1249.31 517.289 1254 Z\" fill=\"#000000\" fill-rule=\"evenodd\" fill-opacity=\"1\" /><path clip-path=\"url(#clip490)\" d=\"M 0 0 M554.881 1244 Q551.455 1244 549.465 1246.69 Q547.474 1249.35 547.474 1254 Q547.474 1258.66 549.441 1261.34 Q551.432 1264 554.881 1264 Q558.284 1264 560.275 1261.32 Q562.265 1258.63 562.265 1254 Q562.265 1249.4 560.275 1246.71 Q558.284 1244 554.881 1244 M554.881 1240.39 Q560.437 1240.39 563.608 1244 Q566.779 1247.62 566.779 1254 Q566.779 1260.37 563.608 1264 Q560.437 1267.62 554.881 1267.62 Q549.302 1267.62 546.131 1264 Q542.983 1260.37 542.983 1254 Q542.983 1247.62 546.131 1244 Q549.302 1240.39 554.881 1240.39 Z\" fill=\"#000000\" fill-rule=\"evenodd\" fill-opacity=\"1\" /><path clip-path=\"url(#clip490)\" d=\"M 0 0 M590.367 1241.78 L590.367 1245.81 Q588.562 1244.88 586.617 1244.42 Q584.673 1243.96 582.589 1243.96 Q579.418 1243.96 577.821 1244.93 Q576.247 1245.9 576.247 1247.85 Q576.247 1249.33 577.381 1250.19 Q578.515 1251.02 581.941 1251.78 L583.4 1252.11 Q587.937 1253.08 589.835 1254.86 Q591.756 1256.62 591.756 1259.79 Q591.756 1263.4 588.886 1265.51 Q586.038 1267.62 581.038 1267.62 Q578.955 1267.62 576.687 1267.2 Q574.441 1266.81 571.941 1266 L571.941 1261.6 Q574.302 1262.82 576.594 1263.45 Q578.886 1264.05 581.131 1264.05 Q584.14 1264.05 585.761 1263.03 Q587.381 1261.99 587.381 1260.12 Q587.381 1258.38 586.2 1257.45 Q585.043 1256.53 581.085 1255.67 L579.603 1255.32 Q575.645 1254.49 573.886 1252.78 Q572.126 1251.04 572.126 1248.03 Q572.126 1244.37 574.719 1242.38 Q577.312 1240.39 582.08 1240.39 Q584.441 1240.39 586.525 1240.74 Q588.608 1241.09 590.367 1241.78 Z\" fill=\"#000000\" fill-rule=\"evenodd\" fill-opacity=\"1\" /><polyline clip-path=\"url(#clip490)\" style=\"stroke:#e26f46; stroke-width:4; stroke-opacity:1; fill:none\" points=\"\n",
       "  306.747,1310.14 432.747,1310.14 \n",
       "  \"/>\n",
       "<path clip-path=\"url(#clip490)\" d=\"M 0 0 M470.252 1291.41 L470.252 1294.95 L466.178 1294.95 Q463.886 1294.95 462.984 1295.87 Q462.104 1296.8 462.104 1299.21 L462.104 1301.5 L469.118 1301.5 L469.118 1304.81 L462.104 1304.81 L462.104 1327.42 L457.821 1327.42 L457.821 1304.81 L453.747 1304.81 L453.747 1301.5 L457.821 1301.5 L457.821 1299.69 Q457.821 1295.36 459.835 1293.4 Q461.849 1291.41 466.224 1291.41 L470.252 1291.41 Z\" fill=\"#000000\" fill-rule=\"evenodd\" fill-opacity=\"1\" /><path clip-path=\"url(#clip490)\" d=\"M 0 0 M473.377 1317.19 L473.377 1301.5 L477.636 1301.5 L477.636 1317.03 Q477.636 1320.71 479.071 1322.56 Q480.507 1324.39 483.377 1324.39 Q486.826 1324.39 488.817 1322.19 Q490.831 1319.99 490.831 1316.2 L490.831 1301.5 L495.09 1301.5 L495.09 1327.42 L490.831 1327.42 L490.831 1323.44 Q489.28 1325.8 487.219 1326.96 Q485.182 1328.1 482.474 1328.1 Q478.007 1328.1 475.692 1325.32 Q473.377 1322.54 473.377 1317.19 M484.095 1300.87 L484.095 1300.87 Z\" fill=\"#000000\" fill-rule=\"evenodd\" fill-opacity=\"1\" /><path clip-path=\"url(#clip490)\" d=\"M 0 0 M525.414 1311.78 L525.414 1327.42 L521.154 1327.42 L521.154 1311.92 Q521.154 1308.23 519.719 1306.41 Q518.284 1304.58 515.414 1304.58 Q511.965 1304.58 509.974 1306.78 Q507.983 1308.98 507.983 1312.77 L507.983 1327.42 L503.701 1327.42 L503.701 1301.5 L507.983 1301.5 L507.983 1305.53 Q509.511 1303.19 511.571 1302.03 Q513.655 1300.87 516.363 1300.87 Q520.83 1300.87 523.122 1303.65 Q525.414 1306.41 525.414 1311.78 Z\" fill=\"#000000\" fill-rule=\"evenodd\" fill-opacity=\"1\" /><path clip-path=\"url(#clip490)\" d=\"M 0 0 M552.566 1302.49 L552.566 1306.48 Q550.761 1305.48 548.932 1304.99 Q547.127 1304.48 545.275 1304.48 Q541.131 1304.48 538.84 1307.12 Q536.548 1309.74 536.548 1314.48 Q536.548 1319.23 538.84 1321.87 Q541.131 1324.48 545.275 1324.48 Q547.127 1324.48 548.932 1324 Q550.761 1323.49 552.566 1322.49 L552.566 1326.43 Q550.784 1327.26 548.863 1327.68 Q546.965 1328.1 544.812 1328.1 Q538.955 1328.1 535.506 1324.42 Q532.057 1320.73 532.057 1314.48 Q532.057 1308.14 535.529 1304.51 Q539.025 1300.87 545.09 1300.87 Q547.057 1300.87 548.932 1301.29 Q550.807 1301.68 552.566 1302.49 M546.548 1327.42 Q547.821 1328.86 548.446 1330.06 Q549.071 1331.29 549.071 1332.4 Q549.071 1334.46 547.682 1335.5 Q546.293 1336.57 543.562 1336.57 Q542.497 1336.57 541.478 1336.43 Q540.483 1336.29 539.488 1336.01 L539.488 1332.98 Q540.275 1333.37 541.131 1333.54 Q541.988 1333.72 543.076 1333.72 Q544.441 1333.72 545.136 1333.16 Q545.83 1332.61 545.83 1331.54 Q545.83 1330.85 545.321 1329.83 Q544.835 1328.84 543.793 1327.42 L546.548 1327.42 Z\" fill=\"#000000\" fill-rule=\"evenodd\" fill-opacity=\"1\" /><path clip-path=\"url(#clip490)\" d=\"M 0 0 M571.756 1314.39 Q566.594 1314.39 564.603 1315.57 Q562.613 1316.75 562.613 1319.6 Q562.613 1321.87 564.094 1323.21 Q565.599 1324.53 568.168 1324.53 Q571.71 1324.53 573.839 1322.03 Q575.992 1319.51 575.992 1315.34 L575.992 1314.39 L571.756 1314.39 M580.251 1312.63 L580.251 1327.42 L575.992 1327.42 L575.992 1323.49 Q574.534 1325.85 572.358 1326.98 Q570.182 1328.1 567.034 1328.1 Q563.052 1328.1 560.691 1325.87 Q558.353 1323.63 558.353 1319.88 Q558.353 1315.5 561.27 1313.28 Q564.21 1311.06 570.02 1311.06 L575.992 1311.06 L575.992 1310.64 Q575.992 1307.7 574.048 1306.1 Q572.126 1304.48 568.631 1304.48 Q566.409 1304.48 564.302 1305.02 Q562.196 1305.55 560.252 1306.61 L560.252 1302.68 Q562.589 1301.78 564.789 1301.34 Q566.988 1300.87 569.071 1300.87 Q574.696 1300.87 577.474 1303.79 Q580.251 1306.71 580.251 1312.63 M569.163 1295.71 L567.844 1294.44 Q567.335 1293.98 566.941 1293.77 Q566.571 1293.54 566.27 1293.54 Q565.39 1293.54 564.974 1294.39 Q564.557 1295.23 564.511 1297.12 L561.617 1297.12 Q561.664 1294 562.844 1292.31 Q564.025 1290.6 566.131 1290.6 Q567.011 1290.6 567.751 1290.92 Q568.492 1291.24 569.349 1292.01 L570.668 1293.28 Q571.177 1293.74 571.548 1293.98 Q571.941 1294.18 572.242 1294.18 Q573.122 1294.18 573.538 1293.35 Q573.955 1292.49 574.001 1290.6 L576.895 1290.6 Q576.849 1293.72 575.668 1295.43 Q574.488 1297.12 572.381 1297.12 Q571.501 1297.12 570.761 1296.8 Q570.02 1296.48 569.163 1295.71 Z\" fill=\"#000000\" fill-rule=\"evenodd\" fill-opacity=\"1\" /><path clip-path=\"url(#clip490)\" d=\"M 0 0 M599.071 1304.48 Q595.645 1304.48 593.654 1307.17 Q591.663 1309.83 591.663 1314.48 Q591.663 1319.14 593.631 1321.82 Q595.622 1324.48 599.071 1324.48 Q602.473 1324.48 604.464 1321.8 Q606.455 1319.11 606.455 1314.48 Q606.455 1309.88 604.464 1307.19 Q602.473 1304.48 599.071 1304.48 M599.071 1300.87 Q604.626 1300.87 607.798 1304.48 Q610.969 1308.1 610.969 1314.48 Q610.969 1320.85 607.798 1324.48 Q604.626 1328.1 599.071 1328.1 Q593.492 1328.1 590.321 1324.48 Q587.173 1320.85 587.173 1314.48 Q587.173 1308.1 590.321 1304.48 Q593.492 1300.87 599.071 1300.87 Z\" fill=\"#000000\" fill-rule=\"evenodd\" fill-opacity=\"1\" /></svg>\n"
      ]
     },
     "execution_count": 4,
     "metadata": {},
     "output_type": "execute_result"
    }
   ],
   "source": [
    "plot(data_x', data_y',\n",
    "    seriestype=:scatter, size=(540,400), label=\"dados\", legend=:bottomleft,\n",
    "    xaxis = \"x\", yaxis = \"y\",\n",
    "    title=\"Função a ser modelada e dados amostrais\", titlefont=10)\n",
    "plot!(0:0.01:1, f,\n",
    "     size=(540,400), label=\"função\")"
   ]
  },
  {
   "cell_type": "markdown",
   "metadata": {
    "slideshow": {
     "slide_type": "slide"
    }
   },
   "source": [
    "### Preparando a rede e os dados"
   ]
  },
  {
   "cell_type": "code",
   "execution_count": 5,
   "metadata": {
    "slideshow": {
     "slide_type": "slide"
    }
   },
   "outputs": [
    {
     "data": {
      "text/plain": [
       "Chain(Dense(1, 4, σ), Dense(4, 1))"
      ]
     },
     "execution_count": 5,
     "metadata": {},
     "output_type": "execute_result"
    }
   ],
   "source": [
    "m = Chain(Dense(1, 4, σ), Dense(4,1))"
   ]
  },
  {
   "cell_type": "code",
   "execution_count": 6,
   "metadata": {},
   "outputs": [],
   "source": [
    "m[1].weight[1:end] = [5.0, -5.0, -5.0, -5.0]\n",
    "m[1].bias[1:end] = [-0.0, -0.0, 0.0, 0.0]\n",
    "m[2].weight[1:end] = [5.0, -2.0, 5.0, -5.0]\n",
    "m[2].bias[1:end] = [0.0]\n",
    "nothing"
   ]
  },
  {
   "cell_type": "markdown",
   "metadata": {
    "slideshow": {
     "slide_type": "slide"
    }
   },
   "source": [
    "### Preparando os dados"
   ]
  },
  {
   "cell_type": "markdown",
   "metadata": {
    "slideshow": {
     "slide_type": "fragment"
    }
   },
   "source": [
    "#### Para usar todos os dados de uma vez só, em cada época"
   ]
  },
  {
   "cell_type": "code",
   "execution_count": 7,
   "metadata": {
    "slideshow": {
     "slide_type": "fragment"
    }
   },
   "outputs": [
    {
     "data": {
      "text/plain": [
       "1-element Vector{Tuple{Matrix{Float64}, Matrix{Float64}}}:\n",
       " ([0.0 0.05 … 0.95 1.0], [0.3 0.4029248465587088 … 0.2305995378278558 0.6103638323514327])"
      ]
     },
     "execution_count": 7,
     "metadata": {},
     "output_type": "execute_result"
    }
   ],
   "source": [
    "data=[(data_x, data_y)]"
   ]
  },
  {
   "cell_type": "markdown",
   "metadata": {
    "slideshow": {
     "slide_type": "fragment"
    }
   },
   "source": [
    "#### Para usar um dado de cada vez, em cada época"
   ]
  },
  {
   "cell_type": "code",
   "execution_count": 8,
   "metadata": {
    "slideshow": {
     "slide_type": "fragment"
    }
   },
   "outputs": [
    {
     "data": {
      "text/plain": [
       "21×1 Matrix{Tuple{Vector{Float64}, Vector{Float64}}}:\n",
       " ([0.0], [0.3])\n",
       " ([0.05], [0.4029248465587088])\n",
       " ([0.1], [0.4616315286698186])\n",
       " ([0.15], [0.4482034774365481])\n",
       " ([0.2], [0.3623122763818892])\n",
       " ([0.25], [0.23119882867142147])\n",
       " ([0.3], [0.09909941574602074])\n",
       " ([0.35], [0.010165529906583329])\n",
       " ([0.4], [-0.008571289448338962])\n",
       " ([0.45], [0.042361613778037294])\n",
       " ([0.5], [0.13508419791378998])\n",
       " ([0.55], [0.22521502482264072])\n",
       " ([0.6], [0.2693187940872386])\n",
       " ([0.65], [0.2423988800373355])\n",
       " ([0.7], [0.1488836415959175])\n",
       " ([0.75], [0.02305762207230444])\n",
       " ([0.8], [-0.0810623612233281])\n",
       " ([0.85], [-0.10635735492441278])\n",
       " ([0.9], [-0.009191405336851144])\n",
       " ([0.95], [0.2305995378278558])\n",
       " ([1.0], [0.6103638323514327])"
      ]
     },
     "execution_count": 8,
     "metadata": {},
     "output_type": "execute_result"
    }
   ],
   "source": [
    "data_single = reshape([([x],[y]) for (x,y) in zip(data_x,data_y)], :, 1)"
   ]
  },
  {
   "cell_type": "markdown",
   "metadata": {
    "slideshow": {
     "slide_type": "fragment"
    }
   },
   "source": [
    "#### Em lotes, um conjunto de dados, em vários passos, em cada época"
   ]
  },
  {
   "cell_type": "code",
   "execution_count": 9,
   "metadata": {
    "slideshow": {
     "slide_type": "fragment"
    }
   },
   "outputs": [
    {
     "data": {
      "text/plain": [
       "3-element Vector{Tuple{Matrix{Float64}, Matrix{Float64}}}:\n",
       " ([0.0 0.05 … 0.25 0.3], [0.3 0.4029248465587088 … 0.23119882867142147 0.09909941574602074])\n",
       " ([0.35 0.4 … 0.6 0.65], [0.010165529906583329 -0.008571289448338962 … 0.2693187940872386 0.2423988800373355])\n",
       " ([0.7 0.75 … 0.95 1.0], [0.1488836415959175 0.02305762207230444 … 0.2305995378278558 0.6103638323514327])"
      ]
     },
     "execution_count": 9,
     "metadata": {},
     "output_type": "execute_result"
    }
   ],
   "source": [
    "batch_size = 7\n",
    "data_batch = [\n",
    "    (hcat(data_x[j:j+batch_size-1]...), hcat(data_y[j:j+batch_size-1]...))\n",
    "    for j=1:batch_size:length(data_x)\n",
    "]"
   ]
  },
  {
   "cell_type": "markdown",
   "metadata": {
    "slideshow": {
     "slide_type": "slide"
    }
   },
   "source": [
    "### Preparando o treinamento"
   ]
  },
  {
   "cell_type": "code",
   "execution_count": 10,
   "metadata": {
    "slideshow": {
     "slide_type": "fragment"
    }
   },
   "outputs": [
    {
     "data": {
      "text/plain": [
       "Params([Float32[5.0; -5.0; -5.0; -5.0], Float32[-0.0, -0.0, 0.0, 0.0], Float32[5.0 -2.0 5.0 -5.0], Float32[0.0]])"
      ]
     },
     "execution_count": 10,
     "metadata": {},
     "output_type": "execute_result"
    }
   ],
   "source": [
    "loss(x, y) = Flux.Losses.mse(m(x), y) # erro quadrático médio\n",
    "\n",
    "opt = ADAM() # escolha do algoritmo \n",
    "\n",
    "function cb(i; istep = 1000) # função de call-back, executada a cada iteração\n",
    "    if rem(i, istep) == 0\n",
    "        @show i, loss(data_x,data_y)\n",
    "    end\n",
    "    return nothing\n",
    "end\n",
    "\n",
    "ps = Flux.params(m) # parâmetros a serem treinados: todos, nesse caso"
   ]
  },
  {
   "cell_type": "markdown",
   "metadata": {
    "slideshow": {
     "slide_type": "slide"
    }
   },
   "source": [
    "### Método com todos os dados em cada época"
   ]
  },
  {
   "cell_type": "code",
   "execution_count": 11,
   "metadata": {},
   "outputs": [
    {
     "name": "stdout",
     "output_type": "stream",
     "text": [
      "(i, loss(data_x, data_y)) = (200, 10.950452796156743)\n",
      "(i, loss(data_x, data_y)) = (400, 7.904948970572502)\n",
      "(i, loss(data_x, data_y)) = (600, 6.07257869356935)\n",
      "(i, loss(data_x, data_y)) = (800, 4.884073546565871)\n"
     ]
    }
   ],
   "source": [
    "n_epochs = 800\n",
    "for i in 1:n_epochs\n",
    "    Flux.train!(loss, ps, data, opt; cb = () -> cb(i, istep=200))\n",
    "end"
   ]
  },
  {
   "cell_type": "markdown",
   "metadata": {
    "slideshow": {
     "slide_type": "slide"
    }
   },
   "source": [
    "### Método estocástico (um dado a cada passo)"
   ]
  },
  {
   "cell_type": "code",
   "execution_count": 12,
   "metadata": {},
   "outputs": [
    {
     "name": "stdout",
     "output_type": "stream",
     "text": [
      "(i, loss(data_x, data_y)) = (100, 0.6835342392938893)\n",
      "(i, loss(data_x, data_y)) = (100, 0.682799628544771)\n",
      "(i, loss(data_x, data_y)) = (100, 0.6819535876781183)\n",
      "(i, loss(data_x, data_y)) = (100, 0.6810324642387856)\n",
      "(i, loss(data_x, data_y)) = (100, 0.6801618845174628)\n",
      "(i, loss(data_x, data_y)) = (100, 0.6793592651895735)\n",
      "(i, loss(data_x, data_y)) = (100, 0.6785531792472638)\n",
      "(i, loss(data_x, data_y)) = (100, 0.6778251992967135)\n",
      "(i, loss(data_x, data_y)) = (100, 0.6771607288073909)\n",
      "(i, loss(data_x, data_y)) = (100, 0.6764346112816763)\n",
      "(i, loss(data_x, data_y)) = (100, 0.6755997869189728)\n",
      "(i, loss(data_x, data_y)) = (100, 0.6747626703337876)\n",
      "(i, loss(data_x, data_y)) = (100, 0.6740121318733466)\n",
      "(i, loss(data_x, data_y)) = (100, 0.6732070803797687)\n",
      "(i, loss(data_x, data_y)) = (100, 0.6723913476291412)\n",
      "(i, loss(data_x, data_y)) = (100, 0.6715776547948306)\n",
      "(i, loss(data_x, data_y)) = (100, 0.6708463602297181)\n",
      "(i, loss(data_x, data_y)) = (100, 0.670130133028909)\n",
      "(i, loss(data_x, data_y)) = (100, 0.6693205745899246)\n",
      "(i, loss(data_x, data_y)) = (100, 0.6685740660078294)\n",
      "(i, loss(data_x, data_y)) = (100, 0.6678697519147578)\n",
      "(i, loss(data_x, data_y)) = (200, 0.08059634806315372)\n",
      "(i, loss(data_x, data_y)) = (200, 0.08056692788543855)\n",
      "(i, loss(data_x, data_y)) = (200, 0.08051153080165359)\n",
      "(i, loss(data_x, data_y)) = (200, 0.08044046874799313)\n",
      "(i, loss(data_x, data_y)) = (200, 0.08038456795741748)\n",
      "(i, loss(data_x, data_y)) = (200, 0.08033585016710457)\n",
      "(i, loss(data_x, data_y)) = (200, 0.08029763539898471)\n",
      "(i, loss(data_x, data_y)) = (200, 0.08026063669018643)\n",
      "(i, loss(data_x, data_y)) = (200, 0.080204009223165)\n",
      "(i, loss(data_x, data_y)) = (200, 0.0801524059949884)\n",
      "(i, loss(data_x, data_y)) = (200, 0.08010933900053376)\n",
      "(i, loss(data_x, data_y)) = (200, 0.08007137675907587)\n",
      "(i, loss(data_x, data_y)) = (200, 0.08003664941569716)\n",
      "(i, loss(data_x, data_y)) = (200, 0.0799956695209462)\n",
      "(i, loss(data_x, data_y)) = (200, 0.07995627453676857)\n",
      "(i, loss(data_x, data_y)) = (200, 0.07991826480318649)\n",
      "(i, loss(data_x, data_y)) = (200, 0.07988358529650576)\n",
      "(i, loss(data_x, data_y)) = (200, 0.07984348417612384)\n",
      "(i, loss(data_x, data_y)) = (200, 0.0798064887762276)\n",
      "(i, loss(data_x, data_y)) = (200, 0.07977187016050864)\n",
      "(i, loss(data_x, data_y)) = (200, 0.0797121204636193)\n"
     ]
    }
   ],
   "source": [
    "n_epochs = 200\n",
    "for i in 1:n_epochs\n",
    "    Flux.train!(loss, ps, shuffle(data_single), opt; cb = () -> cb(i, istep=100))\n",
    "end"
   ]
  },
  {
   "cell_type": "markdown",
   "metadata": {
    "slideshow": {
     "slide_type": "slide"
    }
   },
   "source": [
    "### Método estocástico em lotes"
   ]
  },
  {
   "cell_type": "code",
   "execution_count": 13,
   "metadata": {
    "slideshow": {
     "slide_type": "fragment"
    }
   },
   "outputs": [
    {
     "name": "stdout",
     "output_type": "stream",
     "text": [
      "(i, loss(data_x, data_y)) = (100, 0.06746307285843196)\n",
      "(i, loss(data_x, data_y)) = (100, 0.06742493227764734)\n",
      "(i, loss(data_x, data_y)) = (100, 0.06739134178866349)\n",
      "(i, loss(data_x, data_y)) = (200, 0.0585859381461121)\n",
      "(i, loss(data_x, data_y)) = (200, 0.058556293939271725)\n",
      "(i, loss(data_x, data_y)) = (200, 0.05853017821344115)\n",
      "(i, loss(data_x, data_y)) = (300, 0.0516425329643034)\n",
      "(i, loss(data_x, data_y)) = (300, 0.05162061069052124)\n",
      "(i, loss(data_x, data_y)) = (300, 0.051600393737112636)\n",
      "(i, loss(data_x, data_y)) = (400, 0.04598937366181034)\n",
      "(i, loss(data_x, data_y)) = (400, 0.045971280149865845)\n",
      "(i, loss(data_x, data_y)) = (400, 0.045954113676442455)\n",
      "(i, loss(data_x, data_y)) = (500, 0.04130468672454082)\n",
      "(i, loss(data_x, data_y)) = (500, 0.041292155599676264)\n",
      "(i, loss(data_x, data_y)) = (500, 0.041277920014946554)\n",
      "(i, loss(data_x, data_y)) = (600, 0.037466981823989096)\n",
      "(i, loss(data_x, data_y)) = (600, 0.03745488945463954)\n",
      "(i, loss(data_x, data_y)) = (600, 0.03744357742460316)\n",
      "(i, loss(data_x, data_y)) = (700, 0.03438742184626726)\n",
      "(i, loss(data_x, data_y)) = (700, 0.034378836425192454)\n",
      "(i, loss(data_x, data_y)) = (700, 0.03436960665263073)\n",
      "(i, loss(data_x, data_y)) = (800, 0.03197989881123199)\n",
      "(i, loss(data_x, data_y)) = (800, 0.03197166753992314)\n",
      "(i, loss(data_x, data_y)) = (800, 0.03196457926976824)\n",
      "(i, loss(data_x, data_y)) = (900, 0.0301532414223106)\n",
      "(i, loss(data_x, data_y)) = (900, 0.030148388764436918)\n",
      "(i, loss(data_x, data_y)) = (900, 0.03014295882249953)\n",
      "(i, loss(data_x, data_y)) = (1000, 0.028805345682111422)\n",
      "(i, loss(data_x, data_y)) = (1000, 0.028802490035226534)\n",
      "(i, loss(data_x, data_y)) = (1000, 0.028798429601698587)\n",
      "(i, loss(data_x, data_y)) = (1100, 0.02784015912206847)\n",
      "(i, loss(data_x, data_y)) = (1100, 0.02783854349033603)\n",
      "(i, loss(data_x, data_y)) = (1100, 0.02783544982172569)\n",
      "(i, loss(data_x, data_y)) = (1200, 0.027167787447821393)\n",
      "(i, loss(data_x, data_y)) = (1200, 0.027166444508563304)\n",
      "(i, loss(data_x, data_y)) = (1200, 0.02716439036780219)\n",
      "(i, loss(data_x, data_y)) = (1300, 0.02670484487707509)\n",
      "(i, loss(data_x, data_y)) = (1300, 0.026703328337883386)\n",
      "(i, loss(data_x, data_y)) = (1300, 0.0267020850612062)\n",
      "(i, loss(data_x, data_y)) = (1400, 0.026387659237349963)\n",
      "(i, loss(data_x, data_y)) = (1400, 0.02638663131130419)\n",
      "(i, loss(data_x, data_y)) = (1400, 0.02638577471178843)\n",
      "(i, loss(data_x, data_y)) = (1500, 0.02616261606646398)\n",
      "(i, loss(data_x, data_y)) = (1500, 0.026162409102128276)\n",
      "(i, loss(data_x, data_y)) = (1500, 0.02616148679847166)\n",
      "(i, loss(data_x, data_y)) = (1600, 0.025991560741555345)\n",
      "(i, loss(data_x, data_y)) = (1600, 0.02599120744117068)\n",
      "(i, loss(data_x, data_y)) = (1600, 0.025990730529773947)\n",
      "(i, loss(data_x, data_y)) = (1700, 0.025852519624338183)\n",
      "(i, loss(data_x, data_y)) = (1700, 0.025853309348527215)\n",
      "(i, loss(data_x, data_y)) = (1700, 0.02585266262411052)\n",
      "(i, loss(data_x, data_y)) = (1800, 0.025726052727111037)\n",
      "(i, loss(data_x, data_y)) = (1800, 0.02572501443671286)\n",
      "(i, loss(data_x, data_y)) = (1800, 0.025724617398178867)\n",
      "(i, loss(data_x, data_y)) = (1900, 0.02560601596811028)\n",
      "(i, loss(data_x, data_y)) = (1900, 0.02560539902903568)\n",
      "(i, loss(data_x, data_y)) = (1900, 0.02560500339750991)\n",
      "(i, loss(data_x, data_y)) = (2000, 0.025489213932156758)\n",
      "(i, loss(data_x, data_y)) = (2000, 0.025489253427712206)\n",
      "(i, loss(data_x, data_y)) = (2000, 0.025488638056644666)\n"
     ]
    }
   ],
   "source": [
    "n_epochs = 2_000\n",
    "for i in 1:n_epochs\n",
    "    Flux.train!(loss, ps, shuffle(data_batch), opt; cb = () -> cb(i,istep=100))\n",
    "end"
   ]
  },
  {
   "cell_type": "markdown",
   "metadata": {
    "slideshow": {
     "slide_type": "skip"
    }
   },
   "source": [
    "<!--NAVIGATOR-->\n",
    "\n",
    "---\n",
    "[<- 5. Treinando redes neurais](05.00-Treinando_redes_neurais.ipynb) | [Página inicial](00.00-Pagina_inicial.ipynb) | [7. Identificação de dígitos com os dados MNIST ->](07.00-Reconhecimento_digitos.ipynb)"
   ]
  }
 ],
 "metadata": {
  "kernelspec": {
   "display_name": "Julia 1.6.0",
   "language": "julia",
   "name": "julia-1.6"
  },
  "language_info": {
   "file_extension": ".jl",
   "mimetype": "application/julia",
   "name": "julia",
   "version": "1.6.0"
  }
 },
 "nbformat": 4,
 "nbformat_minor": 4
}
