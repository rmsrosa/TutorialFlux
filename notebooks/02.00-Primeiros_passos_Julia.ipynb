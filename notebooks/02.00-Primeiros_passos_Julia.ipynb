{
 "cells": [
  {
   "cell_type": "markdown",
   "metadata": {
    "slideshow": {
     "slide_type": "skip"
    }
   },
   "source": [
    "<!--HEADER-->\n",
    "*Tutorial sobre Flux.jl - 2020/2 [- Ricardo M. S. Rosa (IM/UFRJ)](http://www.im.ufrj.br/rrosa)*"
   ]
  },
  {
   "cell_type": "markdown",
   "metadata": {
    "slideshow": {
     "slide_type": "skip"
    }
   },
   "source": [
    "<!--BADGES-->\n",
    "<a href=\"https://nbviewer.jupyter.org/github/rmsrosa/TutorialFlux/blob/main/notebooks/02.00-Primeiros_passos_Julia.ipynb\" target=\"_blank\"><img align=\"left\" src=\"https://img.shields.io/badge/view%20in-nbviewer-orange\" alt=\"View in NBViewer\" title=\"View in NBViewer\"></a><a href=\"https://mybinder.org/v2/gh/rmsrosa/TutorialFlux/julia-env-for-binder?urlpath=git-pull%3Frepo%3Dhttps%253A%252F%252Fgithub.com%252Frmsrosa%252FTutorialFlux%26branch%3Dmain%26urlpath%3Dtree%252FTutorialFlux%252Fnotebooks/02.00-Primeiros_passos_Julia.ipynb\" target=\"_blank\"><img align=\"left\" src=\"https://mybinder.org/badge.svg\" alt=\"Open in binder\" title=\"Open in binder\"></a><a href=\"https://nbviewer.jupyter.org/github/rmsrosa/TutorialFlux/blob/main/notebooks/slides/02.00-Primeiros_passos_Julia.slides.html\" target=\"_blank\"><img align=\"left\" src=\"https://img.shields.io/badge/view-slides-darkgreen\" alt=\"View Slides\" title=\"View Slides\"></a>&nbsp;"
   ]
  },
  {
   "cell_type": "markdown",
   "metadata": {
    "slideshow": {
     "slide_type": "skip"
    }
   },
   "source": [
    "<!--NAVIGATOR-->\n",
    "[<- 1. Instalando e acessando o Julia](01.00-Instalando_acessando_Julia.ipynb) | [Página inicial](00.00-Pagina_inicial.ipynb) | [3. Neurônios no Flux.jl ->](03.00-Flux_neuronios.ipynb)\n",
    "\n",
    "---\n"
   ]
  },
  {
   "cell_type": "markdown",
   "metadata": {
    "slideshow": {
     "slide_type": "slide"
    }
   },
   "source": [
    "# Primeiros passos em Julia\n",
    "\n",
    "Há várias fontes de informação sobre a linguagem Julia. Vejam, por exemplo, os links informados no início do caderno anterior. Em particular,\n",
    "\n",
    "* Guias rápidos\n",
    "  * [Getting Started with Julia (QuantEcon)](https://julia.quantecon.org/getting_started_julia/index.html)\n",
    "  * [Julia Documentation](https://docs.julialang.org/en/v1/)\n",
    "  * [A via rápida para Julia 1.0](https://juliadocs.github.io/Julia-Cheat-Sheet/br/)\n",
    "  * [MATLAB–Python–Julia cheatsheet (QuantEcon)](https://cheatsheets.quantecon.org)\n",
    "  * [Noteworthy Differences from other Languages](https://docs.julialang.org/en/v1/manual/noteworthy-differences/)\n",
    "* Mais detalhados\n",
    "  * [Think Julia: How to Think Like a Computer Scientist](https://benlauwens.github.io/ThinkJulia.jl/latest/book.html)\n",
    "  * [Introducing Julia](https://en.wikibooks.org/wiki/Introducing_Julia)\n",
    "  * [A Deep Introduction to Julia for Data Science and Scientific Computing](http://ucidatascienceinitiative.github.io/IntroToJulia/)\n",
    "\n",
    "Não pretendo reinventar a roda, aqui. Sugiro que vejam pelo menos uns dois links dos mencionados. Em particular, [Mathematical Operations and Elementary Functions](https://docs.julialang.org/en/v1/manual/mathematical-operations/#Mathematical-Operations-and-Elementary-Functions). \n",
    "\n",
    "Se você está acostumado com python, por exemplo, veja [Noteworthy differences from Python](https://docs.julialang.org/en/v1/manual/noteworthy-differences/#Noteworthy-differences-from-Python).\n",
    "\n",
    "Vou apenas fazer alguns comentários que considero relevantes para os iniciantes."
   ]
  },
  {
   "cell_type": "markdown",
   "metadata": {
    "slideshow": {
     "slide_type": "slide"
    }
   },
   "source": [
    "## Blocos de código\n",
    "\n",
    "Identar o código é extramemente recomendado, mas, contrariamente ao python, não é obrigatório. Por isso, é necessário concluir os blocos com `end`.\n",
    "\n",
    "A vantagem disso é que é fácil copiar um código e rodar em outro ambiente, como no REPL, por exemplo, sem se preocupar com o processo de copiar e colar modificar a identação."
   ]
  },
  {
   "cell_type": "code",
   "execution_count": 1,
   "metadata": {
    "slideshow": {
     "slide_type": "fragment"
    }
   },
   "outputs": [
    {
     "name": "stdout",
     "output_type": "stream",
     "text": [
      "1\n",
      "2\n",
      "3\n",
      "4\n",
      "5\n"
     ]
    }
   ],
   "source": [
    "for i = 1:5\n",
    "    println(i)\n",
    "end"
   ]
  },
  {
   "cell_type": "markdown",
   "metadata": {
    "slideshow": {
     "slide_type": "slide"
    }
   },
   "source": [
    "## Caracteres unicode\n",
    "\n",
    "Caracteres unicode podem, e costumam ser, usados como variáveis. Você pode obtê-los, *em células de código*, digitando o símbolo deles seguido de `<tab>`. Vários nomes são derivados da denominação deles em latex. Por exemplo, para obter $\\pi$ acima, basta digitar `\\pi<tab>`.\n",
    "\n",
    "Subescritos e superescritos podem ser obtidos com `^\\` e `_\\`, seguidos de `<tab>`. Por exemplo $x_1$ é obtido com `x\\_1<tab>`.\n",
    "\n",
    "Outros \"adereços\" tambem podem ser obtidos com `<tab>`, por exemplo, $\\bar x$ é obtido com `x\\bar<tab>` e $\\tilde x$, com `x\\tilde<bar>`.\n",
    "\n",
    "Aproveitando a questão da notação, a multiplicação entre um número e um símbolo *não precisa* usar o símbolo de multiplicação `*`.\n",
    "\n",
    "Exemplos:"
   ]
  },
  {
   "cell_type": "code",
   "execution_count": 2,
   "metadata": {
    "slideshow": {
     "slide_type": "fragment"
    }
   },
   "outputs": [
    {
     "name": "stdout",
     "output_type": "stream",
     "text": [
      "Máximo de ξ ↦ sin(ξ) em ξ̄ = 1.57.\n",
      "Dentro da margem de erro ϵ = 0.01 em relação ao valor esperado π/2.\n"
     ]
    }
   ],
   "source": [
    "ϵ = 0.01\n",
    "ξ = 0:0.01:2π\n",
    "η = sin.(ξ)\n",
    "ξ̄ = ξ[argmax(η)]\n",
    "println(\"Máximo de ξ ↦ sin(ξ) em ξ̄ = $ξ̄.\")\n",
    "error = abs(ξ̄ - π/2) < ϵ ? \"Dentro da margem de erro ϵ = $ϵ em relação ao valor esperado π/2.\" :\n",
    "    \"Fora da margem de error ϵ = $ϵ em relação ao valor esperado π/2.\"\n",
    "println(error)"
   ]
  },
  {
   "cell_type": "markdown",
   "metadata": {
    "slideshow": {
     "slide_type": "slide"
    }
   },
   "source": [
    "## O operador ponto\n",
    "\n",
    "O operador ponto *([dot operators](https://docs.julialang.org/en/v1/manual/mathematical-operations/#man-dot-operators))* aplica uma operação a cada elemento de um vetor ou matriz. Por, exemplo"
   ]
  },
  {
   "cell_type": "code",
   "execution_count": 3,
   "metadata": {
    "slideshow": {
     "slide_type": "fragment"
    }
   },
   "outputs": [
    {
     "name": "stdout",
     "output_type": "stream",
     "text": [
      "2 ^ 2 = 4\n",
      "[1, 2, 3] .^ 2 = [1, 4, 9]\n",
      "[1 2; 3 4] .^ 2 = [1 4; 9 16]\n",
      "sin.([0, π / 4, π / 2, π]) = [0.0, 0.7071067811865475, 1.0, 1.2246467991473532e-16]\n"
     ]
    }
   ],
   "source": [
    "@show 2^2\n",
    "@show [1,2,3].^2\n",
    "@show [1 2; 3 4].^2\n",
    "@show sin.([0, π/4, π/2, π])\n",
    "nothing"
   ]
  },
  {
   "cell_type": "markdown",
   "metadata": {
    "slideshow": {
     "slide_type": "slide"
    }
   },
   "source": [
    "## Atribuição e variáveis mutáveis e imutáveis\n",
    "\n",
    "Alguns objetos são mutáveis, enquanto que outros, não. Um objeto mutável pode ter os seus valores alterados. Já um objeto imutável, não, mas ele pode ser redefinido.\n",
    "\n",
    "Isso pode ser visto explicitamente pelo seu ponteiro (pelo menos em alguns casos)."
   ]
  },
  {
   "cell_type": "markdown",
   "metadata": {
    "slideshow": {
     "slide_type": "slide"
    }
   },
   "source": [
    "### Atribuição de vetores\n",
    "\n",
    "Por exemplo. Um vetor é imutável, mas os seu valores, não. Se mudarmos apenas o valor de um ou mais de seus elementos, ele continua apontando para o mesmo local na memória. Já se o redefinirmos, ele pode passar a apontar para outro lugar. Isso é visivelmente natural se pensarmos que, nesse processo, podemos acabar alterando o tamanho do vetor e, com isso, pode ser necessário mudá-lo de posição para que ele caiba na memória.\n",
    "\n",
    "Essa mudança no apontamento quando redefinimos uma variavel imutável pode ou não acontecer. Ela não é obrigatória. Mas ela nunca é alterada quando o valor, mutável, de uma variável é alterado."
   ]
  },
  {
   "cell_type": "code",
   "execution_count": 4,
   "metadata": {
    "slideshow": {
     "slide_type": "fragment"
    }
   },
   "outputs": [
    {
     "name": "stdout",
     "output_type": "stream",
     "text": [
      "pointer(a) = Ptr{Int64} @0x000000011d17c710\n",
      "pointer(a) = Ptr{Int64} @0x00000001348af230\n",
      "pointer(a) = Ptr{Int64} @0x00000001353e7e70\n",
      "pointer(a) = Ptr{Int64} @0x00000001353e7e70\n",
      "pointer(a) = Ptr{Int64} @0x00000001353e7e70\n"
     ]
    }
   ],
   "source": [
    "a = [0, 1] # definição inicial de `a`\n",
    "@show pointer(a)\n",
    "a = [2, 3] # redefinindo `a` para um vetor de mesmo comprimento\n",
    "@show pointer(a)\n",
    "a = [4, 5, 6] # redefindo `a` para um vetor de comprimento diferente\n",
    "@show pointer(a)\n",
    "a[1] = 7 # modificando um elemento de `a`\n",
    "@show pointer(a)\n",
    "a[1:3] = [8,9,0] # modificando todos os elementos de `a`\n",
    "@show pointer(a)\n",
    "nothing"
   ]
  },
  {
   "cell_type": "markdown",
   "metadata": {
    "slideshow": {
     "slide_type": "slide"
    }
   },
   "source": [
    "### Atribuição de strings\n",
    "\n",
    "*Strings* também são imutáveis."
   ]
  },
  {
   "cell_type": "code",
   "execution_count": 5,
   "metadata": {
    "slideshow": {
     "slide_type": "fragment"
    }
   },
   "outputs": [
    {
     "name": "stdout",
     "output_type": "stream",
     "text": [
      "pointer(s) = Ptr{UInt8} @0x0000000133ca7eb8\n",
      "pointer(s) = Ptr{UInt8} @0x0000000133ca7ee8\n",
      "pointer(s) = Ptr{UInt8} @0x0000000135f56e38\n",
      "s = \"Modelos Matemáticos\"\n"
     ]
    }
   ],
   "source": [
    "s = \"Equações diferenciais\"\n",
    "@show pointer(s)\n",
    "s = \"Modelagem Matemática\"\n",
    "@show pointer(s)\n",
    "s = replace(s, \"Modelagem\" => \"Modelos\")[1:end-1]*\"os\"\n",
    "@show pointer(s)\n",
    "@show s\n",
    "nothing"
   ]
  },
  {
   "cell_type": "markdown",
   "metadata": {
    "slideshow": {
     "slide_type": "slide"
    }
   },
   "source": [
    "### Cuidados com a atribuição de variáveis imutáveis\n",
    "\n",
    "No caso de um objeto imutável mas com elementos mutáveis (e.g. *arrays*, *dicts*, *sets*), é preciso termos cuidado quando tentamos copiá-lo.\n",
    "\n",
    "A atribuição pura e simples não acarreta em uma cópia, ela faz com que o novo objeto faça referência ao mesmo objeto. Assim, se modificarmos os valores mutáveis do objeto original, o novo objeto sofrerá as mesmas mudanças.\n",
    "\n",
    "No exemplo abaixo, observe que a redefinição da variável imutável `p1` não afetou `p2`, mas a mudança nos valores mutáveis de `p3` afetou `p4`.\n",
    "\n",
    "Para evitar isso, é preciso usar `copy`. Nesse caso, vemos que `p5` não sofreu alteração."
   ]
  },
  {
   "cell_type": "code",
   "execution_count": 6,
   "metadata": {
    "slideshow": {
     "slide_type": "fragment"
    }
   },
   "outputs": [
    {
     "name": "stdout",
     "output_type": "stream",
     "text": [
      "p1 = [30, 40]\n",
      "p2 = [10, 20]\n",
      "p3 = [70, 80]\n",
      "p4 = [70, 80]\n",
      "p5 = [50, 60]\n"
     ]
    }
   ],
   "source": [
    "p1 = [10,20]\n",
    "p2 = p1\n",
    "p1 = [30,40]\n",
    "@show p1\n",
    "@show p2\n",
    "p3 = [50,60]\n",
    "p4 = p3\n",
    "p5 = copy(p3)\n",
    "p3[1:2] = [70,80]\n",
    "@show p3\n",
    "@show p4\n",
    "@show p5\n",
    "nothing"
   ]
  },
  {
   "cell_type": "markdown",
   "metadata": {
    "slideshow": {
     "slide_type": "slide"
    }
   },
   "source": [
    "## Condicional curta\n",
    "\n",
    "A expressão \n",
    "```julia\n",
    "condicional ? expr1 : expr2\n",
    "```\n",
    "é uma outra forma bastante comum de se escrever \n",
    "```julia\n",
    "if condicional; expr1 else expr2 end\n",
    "```\n",
    "que é equivalente a\n",
    "```julia\n",
    "if condicional\n",
    "    expr1\n",
    "else\n",
    "    expr2\n",
    "end\n",
    "```\n",
    "\n",
    "É comum se usar isso diretamente em uma expressão de atribuição:    "
   ]
  },
  {
   "cell_type": "code",
   "execution_count": 7,
   "metadata": {
    "slideshow": {
     "slide_type": "slide"
    }
   },
   "outputs": [
    {
     "name": "stdout",
     "output_type": "stream",
     "text": [
      "resultado = \"122 é par\"\n",
      "resultado = \"123 é impar\"\n"
     ]
    },
    {
     "data": {
      "text/plain": [
       "\"123 é impar\""
      ]
     },
     "execution_count": 7,
     "metadata": {},
     "output_type": "execute_result"
    }
   ],
   "source": [
    "test = rand(UInt8)\n",
    "resultado = isodd(test) ? \"$test é impar\" : \"$test é par\"\n",
    "test += 1\n",
    "@show resultado\n",
    "resultado = isodd(test) ? \"$test é impar\" : \"$test é par\"\n",
    "@show resultado"
   ]
  },
  {
   "cell_type": "markdown",
   "metadata": {
    "slideshow": {
     "slide_type": "slide"
    }
   },
   "source": [
    "## Interpolação\n",
    "\n",
    "Observe que acima usamos o símbolo `$` dentro de uma string. Ele é chamado de operador de **interpolação**. Ele substitui o valor da váriável na string.\n",
    "\n",
    "Se quisermos escrever `$` precisamos \"escapá-lo\" com uma barra invertida:"
   ]
  },
  {
   "cell_type": "code",
   "execution_count": 8,
   "metadata": {
    "slideshow": {
     "slide_type": "fragment"
    }
   },
   "outputs": [
    {
     "name": "stdout",
     "output_type": "stream",
     "text": [
      "Esse produto cuta R$10.0\n"
     ]
    }
   ],
   "source": [
    "valor = 10.0\n",
    "println(\"Esse produto cuta R\\$$valor\")"
   ]
  },
  {
   "cell_type": "markdown",
   "metadata": {
    "slideshow": {
     "slide_type": "slide"
    }
   },
   "source": [
    "## Escopo\n",
    "\n",
    "Várias construções envolvem tipos diferentes de escopo. Há três tipos de escopo: **global**, **local flexível** e **local rígido** (numa tradução livre de *global*, *local (soft)* e *local (hard)*.) Os escopos locais podem ser encadeados.\n",
    "\n",
    "Veja o tipo de escopo de cada construção em [Scope constructs](https://docs.julialang.org/en/v1/manual/variables-and-scoping/#man-scope-table).\n",
    "\n",
    "Para entender em detalhes como cada escopo local funciona, veja [Local Scope](https://docs.julialang.org/en/v1/manual/variables-and-scoping/#Local-Scope). Vamos ver alguns exemplos."
   ]
  },
  {
   "cell_type": "markdown",
   "metadata": {
    "slideshow": {
     "slide_type": "slide"
    }
   },
   "source": [
    "### Escopo em loops\n",
    "\n",
    "Um exemplo que requer particular atenção é em loops *for* e *while*. O escopo é do tipo local flexível. Depende de uma variável estar ou não definida fora do loop."
   ]
  },
  {
   "cell_type": "code",
   "execution_count": 9,
   "metadata": {
    "slideshow": {
     "slide_type": "fragment"
    }
   },
   "outputs": [
    {
     "name": "stdout",
     "output_type": "stream",
     "text": [
      "iteração de número 1\n",
      "iteração de número 2\n"
     ]
    }
   ],
   "source": [
    "for i = 1:2\n",
    "    x = \"iteração de número $i\" # variável local\n",
    "    println(x)\n",
    "end"
   ]
  },
  {
   "cell_type": "code",
   "execution_count": 10,
   "metadata": {
    "slideshow": {
     "slide_type": "fragment"
    }
   },
   "outputs": [
    {
     "data": {
      "text/plain": [
       "false"
      ]
     },
     "execution_count": 10,
     "metadata": {},
     "output_type": "execute_result"
    }
   ],
   "source": [
    "@isdefined(x)"
   ]
  },
  {
   "cell_type": "markdown",
   "metadata": {
    "slideshow": {
     "slide_type": "fragment"
    }
   },
   "source": [
    "Como `x` só foi definido dentro do loop `for`, ela não persistiu no escopo global. Observe que esse comportamento é diferente do do python, onde não apenas `x` está definido como a variável auxiliar `i`, também. 🤷‍"
   ]
  },
  {
   "cell_type": "code",
   "execution_count": 11,
   "metadata": {
    "slideshow": {
     "slide_type": "slide"
    }
   },
   "outputs": [
    {
     "name": "stdout",
     "output_type": "stream",
     "text": [
      "iteração de número 0\n",
      "iteração de número 1\n",
      "iteração de número 2\n",
      "iteração de número 2\n"
     ]
    }
   ],
   "source": [
    "i = 0\n",
    "y = \"iteração de número $i\"\n",
    "println(y)\n",
    "for i = 1:2\n",
    "    y = \"iteração de número $i\" # variável local\n",
    "    println(y)\n",
    "end\n",
    "println(y)"
   ]
  },
  {
   "cell_type": "markdown",
   "metadata": {
    "slideshow": {
     "slide_type": "fragment"
    }
   },
   "source": [
    "Agora vemos que `y` foi atualizado dentro do loop."
   ]
  },
  {
   "cell_type": "markdown",
   "metadata": {
    "slideshow": {
     "slide_type": "slide"
    }
   },
   "source": [
    "Mais delicado é quando atribuímos uma variável global a uma nova variável local e a atualizamos"
   ]
  },
  {
   "cell_type": "code",
   "execution_count": 12,
   "metadata": {
    "slideshow": {
     "slide_type": "fragment"
    }
   },
   "outputs": [
    {
     "name": "stdout",
     "output_type": "stream",
     "text": [
      "z = 55\n"
     ]
    },
    {
     "data": {
      "text/plain": [
       "false"
      ]
     },
     "execution_count": 12,
     "metadata": {},
     "output_type": "execute_result"
    }
   ],
   "source": [
    "z = 0 # global\n",
    "for i = 1:10\n",
    "    w = z + i # local\n",
    "    z = w # atualização global\n",
    "end\n",
    "@show z\n",
    "@isdefined(w)"
   ]
  },
  {
   "cell_type": "markdown",
   "metadata": {
    "slideshow": {
     "slide_type": "slide"
    }
   },
   "source": [
    "Se quisermos definir uma variável global dentro de um loop, podemos usar `global`:"
   ]
  },
  {
   "cell_type": "code",
   "execution_count": 13,
   "metadata": {
    "slideshow": {
     "slide_type": "fragment"
    }
   },
   "outputs": [
    {
     "name": "stdout",
     "output_type": "stream",
     "text": [
      "u = 120\n"
     ]
    },
    {
     "data": {
      "text/plain": [
       "120"
      ]
     },
     "execution_count": 13,
     "metadata": {},
     "output_type": "execute_result"
    }
   ],
   "source": [
    "num = 5\n",
    "for i = 1:num\n",
    "    global u = i == 1 ? 1 : i*u\n",
    "end\n",
    "@show u"
   ]
  },
  {
   "cell_type": "markdown",
   "metadata": {
    "slideshow": {
     "slide_type": "fragment"
    }
   },
   "source": [
    "O que representa `u` em relação a `num`?"
   ]
  },
  {
   "cell_type": "markdown",
   "metadata": {
    "slideshow": {
     "slide_type": "slide"
    }
   },
   "source": [
    "## Funções\n",
    "\n",
    "Assim como qualquer bloco, funções precisam ser terminadas com `end`. Além disso, o comando `return` é opcional para indicar o que será retornado pela função. Caso ele não seja usado, a última expressão executada é automaticamente retornada.\n",
    "\n",
    "A recomendação, no entanto, é de que o comando `return` seja sempre usado, para maior clareza. A exceção é quando a função é definida em uma única linha de comando."
   ]
  },
  {
   "cell_type": "code",
   "execution_count": 14,
   "metadata": {
    "slideshow": {
     "slide_type": "fragment"
    }
   },
   "outputs": [
    {
     "name": "stdout",
     "output_type": "stream",
     "text": [
      "f(2) = 85\n",
      "g(2) = 85\n"
     ]
    }
   ],
   "source": [
    "f(ζ) = 1 + ζ^2 + ζ^4 + ζ^6\n",
    "\n",
    "function g(ζ)\n",
    "    η = 1\n",
    "    for i = 2:2:6\n",
    "        η += ζ^i\n",
    "    end\n",
    "    return η\n",
    "end\n",
    "\n",
    "@show f(2)\n",
    "@show g(2)\n",
    "nothing"
   ]
  },
  {
   "cell_type": "markdown",
   "metadata": {
    "slideshow": {
     "slide_type": "slide"
    }
   },
   "source": [
    "### Funções com variáveis mutáveis e imutáveis\n",
    "\n",
    "É preciso tomar cuidado ao alterarmos variáveis dentro de uma função.\n",
    "\n",
    "Se alterarmos uma variável imutável, isso não afetará a variável original passada para a função. Mas se alteramos um elemeto mutável, isso a afetará.\n",
    "\n",
    "Funções que afetam um ou mais argumentos são usualmente denotadas com o sufixo `!`. Isso é apenas uma convenção. Esse símbolo não *faz* nada de especial."
   ]
  },
  {
   "cell_type": "code",
   "execution_count": 15,
   "metadata": {
    "slideshow": {
     "slide_type": "fragment"
    }
   },
   "outputs": [
    {
     "name": "stdout",
     "output_type": "stream",
     "text": [
      "xx = [1, 2]\n",
      "h(xx) = [3, 6]\n",
      "xx = [1, 2]\n",
      "yy = [1, 2]\n",
      "h!(yy) = [3, 6]\n",
      "yy = [2, 4]\n"
     ]
    }
   ],
   "source": [
    "function h(ρ)\n",
    "    ρ̄ = copy(ρ)\n",
    "    ρ = 2 .*ρ\n",
    "    return ρ + ρ̄\n",
    "end\n",
    "\n",
    "function h!(ρ)\n",
    "    ρ̄ = copy(ρ)\n",
    "    ρ[1:end] = 2 .*ρ[1:end]\n",
    "    return ρ + ρ̄\n",
    "end\n",
    "\n",
    "xx = [1,2]\n",
    "yy = [1,2]\n",
    "\n",
    "@show xx\n",
    "@show h(xx)\n",
    "@show xx\n",
    "@show yy\n",
    "@show h!(yy)\n",
    "@show yy\n",
    "nothing"
   ]
  },
  {
   "cell_type": "markdown",
   "metadata": {
    "slideshow": {
     "slide_type": "slide"
    }
   },
   "source": [
    "## Tipos e múltiplos despachos\n",
    "\n",
    "Julia não é uma linguagem orientada a objeto. Ela é fortemente baseada em **tipos** e em **múltiplos despachos** *(ou multiple dispatch)*. Isso é uma das coisas que a torna bastante poderosa. 🚀\n",
    "\n",
    "Isso facilita bastante, por exemplo, o processo de estender funções e pacotes. Com ela, é fácil adaptar funções de um pacote de otimização (e.g. [Flux.jl](https://fluxml.ai/Flux.jl/stable/) para trabalhar com funções objetivo dependentes de soluções de equações diferenciais implementadas em outro pacote (e.g. [DifferentialEquations.jl](https://diffeq.sciml.ai/stable/) e assim por diante.\n",
    "\n",
    "Em uma linguagem orientada a objeto, qualquer adaptação do gênero requer que todos os métodos sejam reescritos para novos objetos, sem contar com toda a verbose incluída.\n",
    "\n",
    "Este não é um curso sobre Julia, então não vamos entrar em muitos detalhes, mas é importante saber sobre essa característica fundamental da linguagem. E gostaria de fazer um pequeno exemplo para exibir o poder disso."
   ]
  },
  {
   "cell_type": "markdown",
   "metadata": {
    "slideshow": {
     "slide_type": "slide"
    }
   },
   "source": [
    "### Ordenando listas\n",
    "\n",
    "Podemos, naturalmente, ordenar uma lista de números. Isso pode ser feito com a função `sort`. Há vários métodos de ordenação implementados, mas não vamos nos preocupar com isso.\n",
    "\n",
    "Podemos, também, ordenar pares ordenados e strings, em ordem lexicográfica."
   ]
  },
  {
   "cell_type": "code",
   "execution_count": 16,
   "metadata": {
    "slideshow": {
     "slide_type": "fragment"
    }
   },
   "outputs": [
    {
     "name": "stdout",
     "output_type": "stream",
     "text": [
      "sort([4, 1, 3]) = [1, 3, 4]\n",
      "sort([\"d\", \"a\", \"c\"]) = [\"a\", \"c\", \"d\"]\n"
     ]
    }
   ],
   "source": [
    "@show sort([4,1,3])\n",
    "@show sort([\"d\", \"a\", \"c\"])\n",
    "nothing"
   ]
  },
  {
   "cell_type": "markdown",
   "metadata": {
    "slideshow": {
     "slide_type": "slide"
    }
   },
   "source": [
    "### Ordenando retângulos\n",
    "\n",
    "Digamos, agora, que queiramos definir um objeto \"retângulo\", cujas propriedades são os tamanhos dos seus lados. Para isso, definimos um *struct* com essas propriedades:"
   ]
  },
  {
   "cell_type": "code",
   "execution_count": 17,
   "metadata": {
    "slideshow": {
     "slide_type": "fragment"
    }
   },
   "outputs": [
    {
     "data": {
      "text/plain": [
       "(Retângulo(2.0, 3.0), Retângulo(1.5, 6.0), Retângulo(1.2, 7.0), Retângulo(3.0, 2.0))"
      ]
     },
     "execution_count": 17,
     "metadata": {},
     "output_type": "execute_result"
    }
   ],
   "source": [
    "struct Retângulo\n",
    "    lado1:: Float64\n",
    "    lado2:: Float64\n",
    "end\n",
    "\n",
    "R1 = Retângulo(2,3)\n",
    "R2 = Retângulo(1.5, 6)\n",
    "R3 = Retângulo(1.2,7)\n",
    "R4 = Retângulo(3,2)\n",
    "\n",
    "R1, R2, R3, R4"
   ]
  },
  {
   "cell_type": "markdown",
   "metadata": {
    "slideshow": {
     "slide_type": "slide"
    }
   },
   "source": [
    "Para qualquer retângulo, podemos definir a sua área. Podemos fazer isso definindo uma função atuando em dois argumentos **do tipo Retângulo**."
   ]
  },
  {
   "cell_type": "code",
   "execution_count": 18,
   "metadata": {
    "slideshow": {
     "slide_type": "fragment"
    }
   },
   "outputs": [
    {
     "name": "stdout",
     "output_type": "stream",
     "text": [
      "area(R1) = 6.0\n",
      "area(R2) = 9.0\n",
      "area(R3) = 8.4\n",
      "area(R4) = 6.0\n"
     ]
    },
    {
     "data": {
      "text/plain": [
       "6.0"
      ]
     },
     "execution_count": 18,
     "metadata": {},
     "output_type": "execute_result"
    }
   ],
   "source": [
    "area(R::Retângulo) = R.lado1 * R.lado2\n",
    "\n",
    "@show area(R1)\n",
    "@show area(R2)\n",
    "@show area(R3)\n",
    "@show area(R4)"
   ]
  },
  {
   "cell_type": "markdown",
   "metadata": {
    "slideshow": {
     "slide_type": "slide"
    }
   },
   "source": [
    "Agora, pode ser interessante comparar os retângulos de acordo com as suas áreas. As funções binárias `<, ==, >` não estão definidas para retângulos. Mas podemos defini-las.\n",
    "\n",
    "Um problema é que elas já existem para outros objetos. Assim, precisamos **estender** as definições para o nosso novo objeto. Isso precisa ser feito importando a função do módulo onde ela está definida.\n",
    "\n",
    "Essas funções estão definidas no módulo Base. E na verdade só precisamos importar `isless` e `==`, pois os outros operadores são definidos em função desses.\n",
    "\n",
    "Podemos importar toda o módulo `Base`, mas isso é desnecessário. Vamos importar apenas o que precisamo estender.\n",
    "\n",
    "Para estender, definimos não só o valor desejado da operação mas em que tipo ela se aplica."
   ]
  },
  {
   "cell_type": "code",
   "execution_count": 19,
   "metadata": {
    "slideshow": {
     "slide_type": "fragment"
    }
   },
   "outputs": [
    {
     "name": "stdout",
     "output_type": "stream",
     "text": [
      "isless(R1, R2) = true\n",
      "isless(R1, R4) = false\n",
      "R1 == R4 = true\n"
     ]
    },
    {
     "data": {
      "text/plain": [
       "true"
      ]
     },
     "execution_count": 19,
     "metadata": {},
     "output_type": "execute_result"
    }
   ],
   "source": [
    "import Base: isless, ==\n",
    "\n",
    "==(R::Retângulo, R̄::Retângulo) = area(R) == area(R̄)\n",
    "isless(R::Retângulo, R̄::Retângulo) = area(R) < area(R̄)\n",
    "\n",
    "@show isless(R1,R2)\n",
    "@show isless(R1,R4)\n",
    "@show R1 == R4"
   ]
  },
  {
   "cell_type": "markdown",
   "metadata": {
    "slideshow": {
     "slide_type": "slide"
    }
   },
   "source": [
    "Agora a primeira \"mágica\" aparece. Como dito acima, `<` e `>` são definidas a partir de `isless` e `==`. Assim, essas operações são automaticamente estendidas."
   ]
  },
  {
   "cell_type": "code",
   "execution_count": 20,
   "metadata": {
    "slideshow": {
     "slide_type": "fragment"
    }
   },
   "outputs": [
    {
     "name": "stdout",
     "output_type": "stream",
     "text": [
      "R1 < R3 = true\n",
      "R1 > R3 = false\n"
     ]
    }
   ],
   "source": [
    "@show R1 < R3\n",
    "@show R1 > R3\n",
    "nothing"
   ]
  },
  {
   "cell_type": "markdown",
   "metadata": {
    "slideshow": {
     "slide_type": "slide"
    }
   },
   "source": [
    "Agora a segunda \"mágica\". A função de ordenação `sort` também é definida a partir de `isless` e `==` e está automaticamente estendida para os nosss retângulos."
   ]
  },
  {
   "cell_type": "code",
   "execution_count": 21,
   "metadata": {
    "slideshow": {
     "slide_type": "fragment"
    }
   },
   "outputs": [
    {
     "name": "stdout",
     "output_type": "stream",
     "text": [
      "1ᵒ: Retângulo(2.0, 3.0) com área 6.0\n",
      "2ᵒ: Retângulo(3.0, 2.0) com área 6.0\n",
      "3ᵒ: Retângulo(1.2, 7.0) com área 8.4\n",
      "4ᵒ: Retângulo(1.5, 6.0) com área 9.0\n"
     ]
    }
   ],
   "source": [
    "ordenados = sort([R1, R2, R3, R4])\n",
    "for (i,R) in enumerate(ordenados)\n",
    "    println(\"$(i)ᵒ: $R com área $(area(R))\")\n",
    "end"
   ]
  },
  {
   "cell_type": "markdown",
   "metadata": {},
   "source": [
    "Da mesma forma, podemos imediatamente obter os valores máximo, mínimos e os respectivos retângulos:"
   ]
  },
  {
   "cell_type": "code",
   "execution_count": 22,
   "metadata": {},
   "outputs": [
    {
     "name": "stdout",
     "output_type": "stream",
     "text": [
      "Mínimo Retângulo(2.0, 3.0) em 1\n"
     ]
    }
   ],
   "source": [
    "println(\"Mínimo $(minimum([R1, R2, R3, R4])) em $(argmin([R1, R2, R3, R4]))\")"
   ]
  },
  {
   "cell_type": "markdown",
   "metadata": {
    "slideshow": {
     "slide_type": "slide"
    }
   },
   "source": [
    "## Álgebra linear\n",
    "\n",
    "Várias ferramentas de álgebra linear estão diretamente disponíveis na `Base`. Outras no módulo [LinearAlgebra](https://docs.julialang.org/en/v1/stdlib/LinearAlgebra/) da biblioteca padrão.\n",
    "\n",
    "Na `Base`, podemos multiplicar matrizes (composição) e resolver um sistema (`A\\v` nos dá o vetor `u` tal que`Av = u`, caso seja possível, ou resolve o problema de mínimos quadrados associado)."
   ]
  },
  {
   "cell_type": "code",
   "execution_count": 23,
   "metadata": {
    "slideshow": {
     "slide_type": "fragment"
    }
   },
   "outputs": [
    {
     "name": "stdout",
     "output_type": "stream",
     "text": [
      "mat = [1 3; 4 5]\n",
      "mat' = [1 4; 3 5]\n",
      "copy(mat') = [1 4; 3 5]\n",
      "vec = [1, 2]\n",
      "mat * vec = [7, 14]\n",
      "mat \\ vec = [0.1428571428571429, 0.2857142857142857]\n",
      "mat * (mat \\ vec) - vec = [0.0, 0.0]\n"
     ]
    }
   ],
   "source": [
    "vec = [1,2]\n",
    "mat = [1 3; 4 5]\n",
    "@show mat\n",
    "@show mat' # transposta\n",
    "@show copy(mat') # transposta com tipo matriz\n",
    "@show vec\n",
    "@show mat * vec\n",
    "@show mat \\ vec\n",
    "@show mat * (mat \\ vec) - vec\n",
    "nothing"
   ]
  },
  {
   "cell_type": "markdown",
   "metadata": {
    "slideshow": {
     "slide_type": "slide"
    }
   },
   "source": [
    "Algumas operações podem ser feitas tanto como matrizes, como $A^2$ e $e^A$, como elemento a elemento, com o operador ponto."
   ]
  },
  {
   "cell_type": "code",
   "execution_count": 24,
   "metadata": {
    "slideshow": {
     "slide_type": "fragment"
    }
   },
   "outputs": [
    {
     "name": "stdout",
     "output_type": "stream",
     "text": [
      "mat ^ 2 = [13 18; 24 37]\n",
      "mat .^ 2 = [1 9; 16 25]\n",
      "exp(mat) = [274.4341991879927 411.0994796202318; 548.1326394936425 822.5668386816352]\n",
      "exp.(mat) = [2.718281828459045 20.085536923187668; 54.598150033144236 148.4131591025766]\n"
     ]
    }
   ],
   "source": [
    "@show mat^2\n",
    "@show mat.^2\n",
    "@show exp(mat)\n",
    "@show exp.(mat)\n",
    "nothing"
   ]
  },
  {
   "cell_type": "markdown",
   "metadata": {
    "slideshow": {
     "slide_type": "slide"
    }
   },
   "source": [
    "Outras operações importantes estão em [LinearAlgebra](https://docs.julialang.org/en/v1/stdlib/LinearAlgebra/).\n",
    "\n",
    "O produto vetorial entre dois vetores, por exemplo, pode ser calculado de várias formas.\n",
    "\n",
    "Uma opção e utilizando o operador ponto para somar elemento a elemento e em seguida somando-se os elementos do vetor resultante.\n",
    "\n",
    "Outra é através das poderosas funções `map`, `reduce`, `mapreduce` e variantes.\n",
    "\n",
    "Ou através do produto escalar disponível em `LinearAlgebra`. Este último tem a vantagem de ser bem mais rápido, como veremos em seguida."
   ]
  },
  {
   "cell_type": "code",
   "execution_count": 25,
   "metadata": {
    "slideshow": {
     "slide_type": "fragment"
    }
   },
   "outputs": [
    {
     "name": "stdout",
     "output_type": "stream",
     "text": [
      "28.860000000000007\n",
      "28.860000000000007\n",
      "28.860000000000007\n"
     ]
    }
   ],
   "source": [
    "using LinearAlgebra\n",
    "\n",
    "vec1 = [1.2, 3.1, -4.5, 2.1, -2.3, 10.1]\n",
    "vec2 = [0.3, -1.2, -5.2, -1.2, 20.1, 5.7]\n",
    "println(sum(vec1 .* vec2))\n",
    "println(mapreduce(elem -> elem[1]*elem[2], +, zip(vec1, vec2)))\n",
    "println(vec1 ⋅ vec2)\n",
    "nothing"
   ]
  },
  {
   "cell_type": "markdown",
   "metadata": {
    "slideshow": {
     "slide_type": "slide"
    }
   },
   "source": [
    "O módulo `LinearAlgebra` nos dá diversas outras ferramentas, como cálculo de autovalores, autovetores normalizados, decomposição SVD, etc.."
   ]
  },
  {
   "cell_type": "code",
   "execution_count": 26,
   "metadata": {
    "slideshow": {
     "slide_type": "fragment"
    }
   },
   "outputs": [
    {
     "data": {
      "text/plain": [
       "Eigen{Float64, Float64, Matrix{Float64}, Vector{Float64}}\n",
       "values:\n",
       "2-element Vector{Float64}:\n",
       " -1.0\n",
       "  7.0\n",
       "vectors:\n",
       "2×2 Matrix{Float64}:\n",
       " -0.83205  -0.447214\n",
       "  0.5547   -0.894427"
      ]
     },
     "execution_count": 26,
     "metadata": {},
     "output_type": "execute_result"
    }
   ],
   "source": [
    "eigen([1 3; 4 5])"
   ]
  },
  {
   "cell_type": "code",
   "execution_count": 27,
   "metadata": {
    "slideshow": {
     "slide_type": "fragment"
    }
   },
   "outputs": [
    {
     "data": {
      "text/plain": [
       "SVD{Float64, Float64, Matrix{Float64}}\n",
       "U factor:\n",
       "2×2 Matrix{Float64}:\n",
       " -0.428878  -0.903362\n",
       " -0.903362   0.428878\n",
       "singular values:\n",
       "2-element Vector{Float64}:\n",
       " 7.072510139298386\n",
       " 0.9897476090001659\n",
       "Vt factor:\n",
       "2×2 Matrix{Float64}:\n",
       " -0.571555  -0.820564\n",
       "  0.820564  -0.571555"
      ]
     },
     "execution_count": 27,
     "metadata": {},
     "output_type": "execute_result"
    }
   ],
   "source": [
    "svd([1 3; 4 5])"
   ]
  },
  {
   "cell_type": "markdown",
   "metadata": {
    "slideshow": {
     "slide_type": "slide"
    }
   },
   "source": [
    "## Gráficos\n",
    "\n",
    "Há vários pacotes de gráficos.\n",
    "\n",
    "Há muito o que ser explorado em termos de gráficos, mas, aqui, vamos nos limitar a exibir alguns poucos exemplos utilizando o [Plots.jl](http://docs.juliaplots.org/latest/)."
   ]
  },
  {
   "cell_type": "code",
   "execution_count": 28,
   "metadata": {
    "slideshow": {
     "slide_type": "fragment"
    }
   },
   "outputs": [],
   "source": [
    "using Plots\n",
    "gr()\n",
    "theme(:ggplot2)"
   ]
  },
  {
   "cell_type": "code",
   "execution_count": 29,
   "metadata": {
    "slideshow": {
     "slide_type": "fragment"
    }
   },
   "outputs": [
    {
     "data": {
      "image/svg+xml": [
       "<?xml version=\"1.0\" encoding=\"utf-8\"?>\n",
       "<svg xmlns=\"http://www.w3.org/2000/svg\" xmlns:xlink=\"http://www.w3.org/1999/xlink\" width=\"600\" height=\"400\" viewBox=\"0 0 2400 1600\">\n",
       "<defs>\n",
       "  <clipPath id=\"clip210\">\n",
       "    <rect x=\"0\" y=\"0\" width=\"2400\" height=\"1600\"/>\n",
       "  </clipPath>\n",
       "</defs>\n",
       "<path clip-path=\"url(#clip210)\" d=\"\n",
       "M0 1600 L2400 1600 L2400 0 L0 0  Z\n",
       "  \" fill=\"#ffffff\" fill-rule=\"evenodd\" fill-opacity=\"1\"/>\n",
       "<defs>\n",
       "  <clipPath id=\"clip211\">\n",
       "    <rect x=\"480\" y=\"0\" width=\"1681\" height=\"1600\"/>\n",
       "  </clipPath>\n",
       "</defs>\n",
       "<path clip-path=\"url(#clip210)\" d=\"\n",
       "M257.204 1423.18 L2352.76 1423.18 L2352.76 123.472 L257.204 123.472  Z\n",
       "  \" fill=\"#eaeaea\" fill-rule=\"evenodd\" fill-opacity=\"1\"/>\n",
       "<defs>\n",
       "  <clipPath id=\"clip212\">\n",
       "    <rect x=\"257\" y=\"123\" width=\"2097\" height=\"1301\"/>\n",
       "  </clipPath>\n",
       "</defs>\n",
       "<polyline clip-path=\"url(#clip212)\" style=\"stroke:#ffffff; stroke-width:4; stroke-opacity:1; fill:none\" points=\"\n",
       "  316.512,1423.18 316.512,123.472 \n",
       "  \"/>\n",
       "<polyline clip-path=\"url(#clip212)\" style=\"stroke:#ffffff; stroke-width:4; stroke-opacity:1; fill:none\" points=\"\n",
       "  635.373,1423.18 635.373,123.472 \n",
       "  \"/>\n",
       "<polyline clip-path=\"url(#clip212)\" style=\"stroke:#ffffff; stroke-width:4; stroke-opacity:1; fill:none\" points=\"\n",
       "  954.233,1423.18 954.233,123.472 \n",
       "  \"/>\n",
       "<polyline clip-path=\"url(#clip212)\" style=\"stroke:#ffffff; stroke-width:4; stroke-opacity:1; fill:none\" points=\"\n",
       "  1273.09,1423.18 1273.09,123.472 \n",
       "  \"/>\n",
       "<polyline clip-path=\"url(#clip212)\" style=\"stroke:#ffffff; stroke-width:4; stroke-opacity:1; fill:none\" points=\"\n",
       "  1591.95,1423.18 1591.95,123.472 \n",
       "  \"/>\n",
       "<polyline clip-path=\"url(#clip212)\" style=\"stroke:#ffffff; stroke-width:4; stroke-opacity:1; fill:none\" points=\"\n",
       "  1910.82,1423.18 1910.82,123.472 \n",
       "  \"/>\n",
       "<polyline clip-path=\"url(#clip212)\" style=\"stroke:#ffffff; stroke-width:4; stroke-opacity:1; fill:none\" points=\"\n",
       "  2229.68,1423.18 2229.68,123.472 \n",
       "  \"/>\n",
       "<polyline clip-path=\"url(#clip212)\" style=\"stroke:#ffffff; stroke-width:2; stroke-opacity:1; fill:none\" points=\"\n",
       "  475.942,1423.18 475.942,123.472 \n",
       "  \"/>\n",
       "<polyline clip-path=\"url(#clip212)\" style=\"stroke:#ffffff; stroke-width:2; stroke-opacity:1; fill:none\" points=\"\n",
       "  794.803,1423.18 794.803,123.472 \n",
       "  \"/>\n",
       "<polyline clip-path=\"url(#clip212)\" style=\"stroke:#ffffff; stroke-width:2; stroke-opacity:1; fill:none\" points=\"\n",
       "  1113.66,1423.18 1113.66,123.472 \n",
       "  \"/>\n",
       "<polyline clip-path=\"url(#clip212)\" style=\"stroke:#ffffff; stroke-width:2; stroke-opacity:1; fill:none\" points=\"\n",
       "  1432.52,1423.18 1432.52,123.472 \n",
       "  \"/>\n",
       "<polyline clip-path=\"url(#clip212)\" style=\"stroke:#ffffff; stroke-width:2; stroke-opacity:1; fill:none\" points=\"\n",
       "  1751.38,1423.18 1751.38,123.472 \n",
       "  \"/>\n",
       "<polyline clip-path=\"url(#clip212)\" style=\"stroke:#ffffff; stroke-width:2; stroke-opacity:1; fill:none\" points=\"\n",
       "  2070.25,1423.18 2070.25,123.472 \n",
       "  \"/>\n",
       "<polyline clip-path=\"url(#clip210)\" style=\"stroke:#ffffff; stroke-width:4; stroke-opacity:1; fill:none\" points=\"\n",
       "  257.204,1423.18 2352.76,1423.18 \n",
       "  \"/>\n",
       "<polyline clip-path=\"url(#clip210)\" style=\"stroke:#333333; stroke-width:4; stroke-opacity:1; fill:none\" points=\"\n",
       "  316.512,1423.18 316.512,1438.78 \n",
       "  \"/>\n",
       "<polyline clip-path=\"url(#clip210)\" style=\"stroke:#333333; stroke-width:4; stroke-opacity:1; fill:none\" points=\"\n",
       "  635.373,1423.18 635.373,1438.78 \n",
       "  \"/>\n",
       "<polyline clip-path=\"url(#clip210)\" style=\"stroke:#333333; stroke-width:4; stroke-opacity:1; fill:none\" points=\"\n",
       "  954.233,1423.18 954.233,1438.78 \n",
       "  \"/>\n",
       "<polyline clip-path=\"url(#clip210)\" style=\"stroke:#333333; stroke-width:4; stroke-opacity:1; fill:none\" points=\"\n",
       "  1273.09,1423.18 1273.09,1438.78 \n",
       "  \"/>\n",
       "<polyline clip-path=\"url(#clip210)\" style=\"stroke:#333333; stroke-width:4; stroke-opacity:1; fill:none\" points=\"\n",
       "  1591.95,1423.18 1591.95,1438.78 \n",
       "  \"/>\n",
       "<polyline clip-path=\"url(#clip210)\" style=\"stroke:#333333; stroke-width:4; stroke-opacity:1; fill:none\" points=\"\n",
       "  1910.82,1423.18 1910.82,1438.78 \n",
       "  \"/>\n",
       "<polyline clip-path=\"url(#clip210)\" style=\"stroke:#333333; stroke-width:4; stroke-opacity:1; fill:none\" points=\"\n",
       "  2229.68,1423.18 2229.68,1438.78 \n",
       "  \"/>\n",
       "<polyline clip-path=\"url(#clip210)\" style=\"stroke:#333333; stroke-width:4; stroke-opacity:1; fill:none\" points=\"\n",
       "  475.942,1423.18 475.942,1430.98 \n",
       "  \"/>\n",
       "<polyline clip-path=\"url(#clip210)\" style=\"stroke:#333333; stroke-width:4; stroke-opacity:1; fill:none\" points=\"\n",
       "  794.803,1423.18 794.803,1430.98 \n",
       "  \"/>\n",
       "<polyline clip-path=\"url(#clip210)\" style=\"stroke:#333333; stroke-width:4; stroke-opacity:1; fill:none\" points=\"\n",
       "  1113.66,1423.18 1113.66,1430.98 \n",
       "  \"/>\n",
       "<polyline clip-path=\"url(#clip210)\" style=\"stroke:#333333; stroke-width:4; stroke-opacity:1; fill:none\" points=\"\n",
       "  1432.52,1423.18 1432.52,1430.98 \n",
       "  \"/>\n",
       "<polyline clip-path=\"url(#clip210)\" style=\"stroke:#333333; stroke-width:4; stroke-opacity:1; fill:none\" points=\"\n",
       "  1751.38,1423.18 1751.38,1430.98 \n",
       "  \"/>\n",
       "<polyline clip-path=\"url(#clip210)\" style=\"stroke:#333333; stroke-width:4; stroke-opacity:1; fill:none\" points=\"\n",
       "  2070.25,1423.18 2070.25,1430.98 \n",
       "  \"/>\n",
       "<path clip-path=\"url(#clip210)\" d=\"M 0 0 M316.512 1461.97 Q312.901 1461.97 311.072 1465.54 Q309.267 1469.08 309.267 1476.21 Q309.267 1483.31 311.072 1486.88 Q312.901 1490.42 316.512 1490.42 Q320.146 1490.42 321.952 1486.88 Q323.781 1483.31 323.781 1476.21 Q323.781 1469.08 321.952 1465.54 Q320.146 1461.97 316.512 1461.97 M316.512 1458.27 Q322.322 1458.27 325.378 1462.87 Q328.456 1467.46 328.456 1476.21 Q328.456 1484.93 325.378 1489.54 Q322.322 1494.12 316.512 1494.12 Q310.702 1494.12 307.623 1489.54 Q304.568 1484.93 304.568 1476.21 Q304.568 1467.46 307.623 1462.87 Q310.702 1458.27 316.512 1458.27 Z\" fill=\"#4c4c4c\" fill-rule=\"evenodd\" fill-opacity=\"1\" /><path clip-path=\"url(#clip210)\" d=\"M 0 0 M625.755 1489.52 L633.394 1489.52 L633.394 1463.15 L625.083 1464.82 L625.083 1460.56 L633.347 1458.89 L638.023 1458.89 L638.023 1489.52 L645.662 1489.52 L645.662 1493.45 L625.755 1493.45 L625.755 1489.52 Z\" fill=\"#4c4c4c\" fill-rule=\"evenodd\" fill-opacity=\"1\" /><path clip-path=\"url(#clip210)\" d=\"M 0 0 M948.886 1489.52 L965.205 1489.52 L965.205 1493.45 L943.261 1493.45 L943.261 1489.52 Q945.923 1486.76 950.506 1482.13 Q955.113 1477.48 956.293 1476.14 Q958.539 1473.61 959.418 1471.88 Q960.321 1470.12 960.321 1468.43 Q960.321 1465.67 958.377 1463.94 Q956.456 1462.2 953.354 1462.2 Q951.155 1462.2 948.701 1462.97 Q946.27 1463.73 943.493 1465.28 L943.493 1460.56 Q946.317 1459.42 948.77 1458.85 Q951.224 1458.27 953.261 1458.27 Q958.631 1458.27 961.826 1460.95 Q965.02 1463.64 965.02 1468.13 Q965.02 1470.26 964.21 1472.18 Q963.423 1474.08 961.317 1476.67 Q960.738 1477.34 957.636 1480.56 Q954.534 1483.75 948.886 1489.52 Z\" fill=\"#4c4c4c\" fill-rule=\"evenodd\" fill-opacity=\"1\" /><path clip-path=\"url(#clip210)\" d=\"M 0 0 M1277.34 1474.82 Q1280.7 1475.54 1282.57 1477.8 Q1284.47 1480.07 1284.47 1483.41 Q1284.47 1488.52 1280.95 1491.32 Q1277.43 1494.12 1270.95 1494.12 Q1268.78 1494.12 1266.46 1493.68 Q1264.17 1493.27 1261.72 1492.41 L1261.72 1487.9 Q1263.66 1489.03 1265.98 1489.61 Q1268.29 1490.19 1270.81 1490.19 Q1275.21 1490.19 1277.5 1488.45 Q1279.82 1486.72 1279.82 1483.41 Q1279.82 1480.35 1277.67 1478.64 Q1275.54 1476.9 1271.72 1476.9 L1267.69 1476.9 L1267.69 1473.06 L1271.9 1473.06 Q1275.35 1473.06 1277.18 1471.69 Q1279.01 1470.3 1279.01 1467.71 Q1279.01 1465.05 1277.11 1463.64 Q1275.24 1462.2 1271.72 1462.2 Q1269.8 1462.2 1267.6 1462.62 Q1265.4 1463.04 1262.76 1463.91 L1262.76 1459.75 Q1265.42 1459.01 1267.74 1458.64 Q1270.07 1458.27 1272.13 1458.27 Q1277.46 1458.27 1280.56 1460.7 Q1283.66 1463.1 1283.66 1467.23 Q1283.66 1470.1 1282.02 1472.09 Q1280.37 1474.05 1277.34 1474.82 Z\" fill=\"#4c4c4c\" fill-rule=\"evenodd\" fill-opacity=\"1\" /><path clip-path=\"url(#clip210)\" d=\"M 0 0 M1594.96 1462.97 L1583.16 1481.41 L1594.96 1481.41 L1594.96 1462.97 M1593.74 1458.89 L1599.62 1458.89 L1599.62 1481.41 L1604.55 1481.41 L1604.55 1485.3 L1599.62 1485.3 L1599.62 1493.45 L1594.96 1493.45 L1594.96 1485.3 L1579.36 1485.3 L1579.36 1480.79 L1593.74 1458.89 Z\" fill=\"#4c4c4c\" fill-rule=\"evenodd\" fill-opacity=\"1\" /><path clip-path=\"url(#clip210)\" d=\"M 0 0 M1901.09 1458.89 L1919.45 1458.89 L1919.45 1462.83 L1905.38 1462.83 L1905.38 1471.3 Q1906.39 1470.95 1907.41 1470.79 Q1908.43 1470.6 1909.45 1470.6 Q1915.24 1470.6 1918.62 1473.78 Q1922 1476.95 1922 1482.36 Q1922 1487.94 1918.52 1491.04 Q1915.05 1494.12 1908.73 1494.12 Q1906.56 1494.12 1904.29 1493.75 Q1902.04 1493.38 1899.63 1492.64 L1899.63 1487.94 Q1901.72 1489.08 1903.94 1489.63 Q1906.16 1490.19 1908.64 1490.19 Q1912.64 1490.19 1914.98 1488.08 Q1917.32 1485.98 1917.32 1482.36 Q1917.32 1478.75 1914.98 1476.65 Q1912.64 1474.54 1908.64 1474.54 Q1906.76 1474.54 1904.89 1474.96 Q1903.04 1475.37 1901.09 1476.25 L1901.09 1458.89 Z\" fill=\"#4c4c4c\" fill-rule=\"evenodd\" fill-opacity=\"1\" /><path clip-path=\"url(#clip210)\" d=\"M 0 0 M2230.08 1474.31 Q2226.93 1474.31 2225.08 1476.46 Q2223.25 1478.61 2223.25 1482.36 Q2223.25 1486.09 2225.08 1488.27 Q2226.93 1490.42 2230.08 1490.42 Q2233.23 1490.42 2235.06 1488.27 Q2236.91 1486.09 2236.91 1482.36 Q2236.91 1478.61 2235.06 1476.46 Q2233.23 1474.31 2230.08 1474.31 M2239.36 1459.66 L2239.36 1463.91 Q2237.6 1463.08 2235.8 1462.64 Q2234.02 1462.2 2232.26 1462.2 Q2227.63 1462.2 2225.17 1465.33 Q2222.74 1468.45 2222.4 1474.77 Q2223.76 1472.76 2225.82 1471.69 Q2227.88 1470.6 2230.36 1470.6 Q2235.57 1470.6 2238.58 1473.78 Q2241.61 1476.92 2241.61 1482.36 Q2241.61 1487.69 2238.46 1490.91 Q2235.31 1494.12 2230.08 1494.12 Q2224.09 1494.12 2220.91 1489.54 Q2217.74 1484.93 2217.74 1476.21 Q2217.74 1468.01 2221.63 1463.15 Q2225.52 1458.27 2232.07 1458.27 Q2233.83 1458.27 2235.61 1458.61 Q2237.42 1458.96 2239.36 1459.66 Z\" fill=\"#4c4c4c\" fill-rule=\"evenodd\" fill-opacity=\"1\" /><path clip-path=\"url(#clip210)\" d=\"M 0 0 M1321.59 1532.4 L1308.7 1549.74 L1322.26 1568.04 L1315.36 1568.04 L1304.98 1554.04 L1294.6 1568.04 L1287.7 1568.04 L1301.54 1549.39 L1288.87 1532.4 L1295.78 1532.4 L1305.23 1545.1 L1314.69 1532.4 L1321.59 1532.4 Z\" fill=\"#000000\" fill-rule=\"evenodd\" fill-opacity=\"1\" /><polyline clip-path=\"url(#clip212)\" style=\"stroke:#ffffff; stroke-width:4; stroke-opacity:1; fill:none\" points=\"\n",
       "  257.204,1386.44 2352.76,1386.44 \n",
       "  \"/>\n",
       "<polyline clip-path=\"url(#clip212)\" style=\"stroke:#ffffff; stroke-width:4; stroke-opacity:1; fill:none\" points=\"\n",
       "  257.204,1079.83 2352.76,1079.83 \n",
       "  \"/>\n",
       "<polyline clip-path=\"url(#clip212)\" style=\"stroke:#ffffff; stroke-width:4; stroke-opacity:1; fill:none\" points=\"\n",
       "  257.204,773.219 2352.76,773.219 \n",
       "  \"/>\n",
       "<polyline clip-path=\"url(#clip212)\" style=\"stroke:#ffffff; stroke-width:4; stroke-opacity:1; fill:none\" points=\"\n",
       "  257.204,466.607 2352.76,466.607 \n",
       "  \"/>\n",
       "<polyline clip-path=\"url(#clip212)\" style=\"stroke:#ffffff; stroke-width:4; stroke-opacity:1; fill:none\" points=\"\n",
       "  257.204,159.995 2352.76,159.995 \n",
       "  \"/>\n",
       "<polyline clip-path=\"url(#clip212)\" style=\"stroke:#ffffff; stroke-width:2; stroke-opacity:1; fill:none\" points=\"\n",
       "  257.204,1233.14 2352.76,1233.14 \n",
       "  \"/>\n",
       "<polyline clip-path=\"url(#clip212)\" style=\"stroke:#ffffff; stroke-width:2; stroke-opacity:1; fill:none\" points=\"\n",
       "  257.204,926.525 2352.76,926.525 \n",
       "  \"/>\n",
       "<polyline clip-path=\"url(#clip212)\" style=\"stroke:#ffffff; stroke-width:2; stroke-opacity:1; fill:none\" points=\"\n",
       "  257.204,619.913 2352.76,619.913 \n",
       "  \"/>\n",
       "<polyline clip-path=\"url(#clip212)\" style=\"stroke:#ffffff; stroke-width:2; stroke-opacity:1; fill:none\" points=\"\n",
       "  257.204,313.301 2352.76,313.301 \n",
       "  \"/>\n",
       "<polyline clip-path=\"url(#clip210)\" style=\"stroke:#ffffff; stroke-width:4; stroke-opacity:1; fill:none\" points=\"\n",
       "  257.204,1423.18 257.204,123.472 \n",
       "  \"/>\n",
       "<polyline clip-path=\"url(#clip210)\" style=\"stroke:#333333; stroke-width:4; stroke-opacity:1; fill:none\" points=\"\n",
       "  257.204,1386.44 232.057,1386.44 \n",
       "  \"/>\n",
       "<polyline clip-path=\"url(#clip210)\" style=\"stroke:#333333; stroke-width:4; stroke-opacity:1; fill:none\" points=\"\n",
       "  257.204,1079.83 232.057,1079.83 \n",
       "  \"/>\n",
       "<polyline clip-path=\"url(#clip210)\" style=\"stroke:#333333; stroke-width:4; stroke-opacity:1; fill:none\" points=\"\n",
       "  257.204,773.219 232.057,773.219 \n",
       "  \"/>\n",
       "<polyline clip-path=\"url(#clip210)\" style=\"stroke:#333333; stroke-width:4; stroke-opacity:1; fill:none\" points=\"\n",
       "  257.204,466.607 232.057,466.607 \n",
       "  \"/>\n",
       "<polyline clip-path=\"url(#clip210)\" style=\"stroke:#333333; stroke-width:4; stroke-opacity:1; fill:none\" points=\"\n",
       "  257.204,159.995 232.057,159.995 \n",
       "  \"/>\n",
       "<polyline clip-path=\"url(#clip210)\" style=\"stroke:#333333; stroke-width:4; stroke-opacity:1; fill:none\" points=\"\n",
       "  257.204,1233.14 244.631,1233.14 \n",
       "  \"/>\n",
       "<polyline clip-path=\"url(#clip210)\" style=\"stroke:#333333; stroke-width:4; stroke-opacity:1; fill:none\" points=\"\n",
       "  257.204,926.525 244.631,926.525 \n",
       "  \"/>\n",
       "<polyline clip-path=\"url(#clip210)\" style=\"stroke:#333333; stroke-width:4; stroke-opacity:1; fill:none\" points=\"\n",
       "  257.204,619.913 244.631,619.913 \n",
       "  \"/>\n",
       "<polyline clip-path=\"url(#clip210)\" style=\"stroke:#333333; stroke-width:4; stroke-opacity:1; fill:none\" points=\"\n",
       "  257.204,313.301 244.631,313.301 \n",
       "  \"/>\n",
       "<path clip-path=\"url(#clip210)\" d=\"M 0 0 M96.2602 1386.89 L125.936 1386.89 L125.936 1390.83 L96.2602 1390.83 L96.2602 1386.89 Z\" fill=\"#4c4c4c\" fill-rule=\"evenodd\" fill-opacity=\"1\" /><path clip-path=\"url(#clip210)\" d=\"M 0 0 M136.839 1399.79 L144.477 1399.79 L144.477 1373.42 L136.167 1375.09 L136.167 1370.83 L144.431 1369.16 L149.107 1369.16 L149.107 1399.79 L156.746 1399.79 L156.746 1403.72 L136.839 1403.72 L136.839 1399.79 Z\" fill=\"#4c4c4c\" fill-rule=\"evenodd\" fill-opacity=\"1\" /><path clip-path=\"url(#clip210)\" d=\"M 0 0 M166.19 1397.84 L171.075 1397.84 L171.075 1403.72 L166.19 1403.72 L166.19 1397.84 Z\" fill=\"#4c4c4c\" fill-rule=\"evenodd\" fill-opacity=\"1\" /><path clip-path=\"url(#clip210)\" d=\"M 0 0 M191.26 1372.24 Q187.649 1372.24 185.82 1375.81 Q184.014 1379.35 184.014 1386.48 Q184.014 1393.58 185.82 1397.15 Q187.649 1400.69 191.26 1400.69 Q194.894 1400.69 196.699 1397.15 Q198.528 1393.58 198.528 1386.48 Q198.528 1379.35 196.699 1375.81 Q194.894 1372.24 191.26 1372.24 M191.26 1368.54 Q197.07 1368.54 200.125 1373.14 Q203.204 1377.73 203.204 1386.48 Q203.204 1395.2 200.125 1399.81 Q197.07 1404.39 191.26 1404.39 Q185.449 1404.39 182.371 1399.81 Q179.315 1395.2 179.315 1386.48 Q179.315 1377.73 182.371 1373.14 Q185.449 1368.54 191.26 1368.54 Z\" fill=\"#4c4c4c\" fill-rule=\"evenodd\" fill-opacity=\"1\" /><path clip-path=\"url(#clip210)\" d=\"M 0 0 M97.2555 1080.28 L126.931 1080.28 L126.931 1084.22 L97.2555 1084.22 L97.2555 1080.28 Z\" fill=\"#4c4c4c\" fill-rule=\"evenodd\" fill-opacity=\"1\" /><path clip-path=\"url(#clip210)\" d=\"M 0 0 M147.024 1065.63 Q143.413 1065.63 141.584 1069.19 Q139.778 1072.74 139.778 1079.87 Q139.778 1086.97 141.584 1090.54 Q143.413 1094.08 147.024 1094.08 Q150.658 1094.08 152.464 1090.54 Q154.292 1086.97 154.292 1079.87 Q154.292 1072.74 152.464 1069.19 Q150.658 1065.63 147.024 1065.63 M147.024 1061.93 Q152.834 1061.93 155.889 1066.53 Q158.968 1071.12 158.968 1079.87 Q158.968 1088.59 155.889 1093.2 Q152.834 1097.78 147.024 1097.78 Q141.214 1097.78 138.135 1093.2 Q135.079 1088.59 135.079 1079.87 Q135.079 1071.12 138.135 1066.53 Q141.214 1061.93 147.024 1061.93 Z\" fill=\"#4c4c4c\" fill-rule=\"evenodd\" fill-opacity=\"1\" /><path clip-path=\"url(#clip210)\" d=\"M 0 0 M167.186 1091.23 L172.07 1091.23 L172.07 1097.11 L167.186 1097.11 L167.186 1091.23 Z\" fill=\"#4c4c4c\" fill-rule=\"evenodd\" fill-opacity=\"1\" /><path clip-path=\"url(#clip210)\" d=\"M 0 0 M182.301 1062.55 L200.658 1062.55 L200.658 1066.49 L186.584 1066.49 L186.584 1074.96 Q187.602 1074.61 188.621 1074.45 Q189.639 1074.26 190.658 1074.26 Q196.445 1074.26 199.824 1077.43 Q203.204 1080.61 203.204 1086.02 Q203.204 1091.6 199.732 1094.7 Q196.26 1097.78 189.94 1097.78 Q187.764 1097.78 185.496 1097.41 Q183.25 1097.04 180.843 1096.3 L180.843 1091.6 Q182.926 1092.74 185.149 1093.29 Q187.371 1093.85 189.848 1093.85 Q193.852 1093.85 196.19 1091.74 Q198.528 1089.63 198.528 1086.02 Q198.528 1082.41 196.19 1080.31 Q193.852 1078.2 189.848 1078.2 Q187.973 1078.2 186.098 1078.62 Q184.246 1079.03 182.301 1079.91 L182.301 1062.55 Z\" fill=\"#4c4c4c\" fill-rule=\"evenodd\" fill-opacity=\"1\" /><path clip-path=\"url(#clip210)\" d=\"M 0 0 M146.028 759.017 Q142.417 759.017 140.589 762.582 Q138.783 766.124 138.783 773.253 Q138.783 780.36 140.589 783.925 Q142.417 787.466 146.028 787.466 Q149.663 787.466 151.468 783.925 Q153.297 780.36 153.297 773.253 Q153.297 766.124 151.468 762.582 Q149.663 759.017 146.028 759.017 M146.028 755.314 Q151.839 755.314 154.894 759.92 Q157.973 764.504 157.973 773.253 Q157.973 781.98 154.894 786.587 Q151.839 791.17 146.028 791.17 Q140.218 791.17 137.14 786.587 Q134.084 781.98 134.084 773.253 Q134.084 764.504 137.14 759.92 Q140.218 755.314 146.028 755.314 Z\" fill=\"#4c4c4c\" fill-rule=\"evenodd\" fill-opacity=\"1\" /><path clip-path=\"url(#clip210)\" d=\"M 0 0 M166.19 784.619 L171.075 784.619 L171.075 790.499 L166.19 790.499 L166.19 784.619 Z\" fill=\"#4c4c4c\" fill-rule=\"evenodd\" fill-opacity=\"1\" /><path clip-path=\"url(#clip210)\" d=\"M 0 0 M191.26 759.017 Q187.649 759.017 185.82 762.582 Q184.014 766.124 184.014 773.253 Q184.014 780.36 185.82 783.925 Q187.649 787.466 191.26 787.466 Q194.894 787.466 196.699 783.925 Q198.528 780.36 198.528 773.253 Q198.528 766.124 196.699 762.582 Q194.894 759.017 191.26 759.017 M191.26 755.314 Q197.07 755.314 200.125 759.92 Q203.204 764.504 203.204 773.253 Q203.204 781.98 200.125 786.587 Q197.07 791.17 191.26 791.17 Q185.449 791.17 182.371 786.587 Q179.315 781.98 179.315 773.253 Q179.315 764.504 182.371 759.92 Q185.449 755.314 191.26 755.314 Z\" fill=\"#4c4c4c\" fill-rule=\"evenodd\" fill-opacity=\"1\" /><path clip-path=\"url(#clip210)\" d=\"M 0 0 M147.024 452.405 Q143.413 452.405 141.584 455.97 Q139.778 459.512 139.778 466.642 Q139.778 473.748 141.584 477.313 Q143.413 480.854 147.024 480.854 Q150.658 480.854 152.464 477.313 Q154.292 473.748 154.292 466.642 Q154.292 459.512 152.464 455.97 Q150.658 452.405 147.024 452.405 M147.024 448.702 Q152.834 448.702 155.889 453.308 Q158.968 457.892 158.968 466.642 Q158.968 475.368 155.889 479.975 Q152.834 484.558 147.024 484.558 Q141.214 484.558 138.135 479.975 Q135.079 475.368 135.079 466.642 Q135.079 457.892 138.135 453.308 Q141.214 448.702 147.024 448.702 Z\" fill=\"#4c4c4c\" fill-rule=\"evenodd\" fill-opacity=\"1\" /><path clip-path=\"url(#clip210)\" d=\"M 0 0 M167.186 478.007 L172.07 478.007 L172.07 483.887 L167.186 483.887 L167.186 478.007 Z\" fill=\"#4c4c4c\" fill-rule=\"evenodd\" fill-opacity=\"1\" /><path clip-path=\"url(#clip210)\" d=\"M 0 0 M182.301 449.327 L200.658 449.327 L200.658 453.262 L186.584 453.262 L186.584 461.734 Q187.602 461.387 188.621 461.225 Q189.639 461.04 190.658 461.04 Q196.445 461.04 199.824 464.211 Q203.204 467.382 203.204 472.799 Q203.204 478.378 199.732 481.479 Q196.26 484.558 189.94 484.558 Q187.764 484.558 185.496 484.188 Q183.25 483.817 180.843 483.077 L180.843 478.378 Q182.926 479.512 185.149 480.067 Q187.371 480.623 189.848 480.623 Q193.852 480.623 196.19 478.516 Q198.528 476.41 198.528 472.799 Q198.528 469.188 196.19 467.081 Q193.852 464.975 189.848 464.975 Q187.973 464.975 186.098 465.392 Q184.246 465.808 182.301 466.688 L182.301 449.327 Z\" fill=\"#4c4c4c\" fill-rule=\"evenodd\" fill-opacity=\"1\" /><path clip-path=\"url(#clip210)\" d=\"M 0 0 M136.839 173.34 L144.477 173.34 L144.477 146.974 L136.167 148.641 L136.167 144.381 L144.431 142.715 L149.107 142.715 L149.107 173.34 L156.746 173.34 L156.746 177.275 L136.839 177.275 L136.839 173.34 Z\" fill=\"#4c4c4c\" fill-rule=\"evenodd\" fill-opacity=\"1\" /><path clip-path=\"url(#clip210)\" d=\"M 0 0 M166.19 171.395 L171.075 171.395 L171.075 177.275 L166.19 177.275 L166.19 171.395 Z\" fill=\"#4c4c4c\" fill-rule=\"evenodd\" fill-opacity=\"1\" /><path clip-path=\"url(#clip210)\" d=\"M 0 0 M191.26 145.794 Q187.649 145.794 185.82 149.358 Q184.014 152.9 184.014 160.03 Q184.014 167.136 185.82 170.701 Q187.649 174.242 191.26 174.242 Q194.894 174.242 196.699 170.701 Q198.528 167.136 198.528 160.03 Q198.528 152.9 196.699 149.358 Q194.894 145.794 191.26 145.794 M191.26 142.09 Q197.07 142.09 200.125 146.696 Q203.204 151.28 203.204 160.03 Q203.204 168.756 200.125 173.363 Q197.07 177.946 191.26 177.946 Q185.449 177.946 182.371 173.363 Q179.315 168.756 179.315 160.03 Q179.315 151.28 182.371 146.696 Q185.449 142.09 191.26 142.09 Z\" fill=\"#4c4c4c\" fill-rule=\"evenodd\" fill-opacity=\"1\" /><path clip-path=\"url(#clip210)\" d=\"M 0 0 M67.3143 771.639 Q73.68 774.122 75.6216 776.477 Q77.5631 778.832 77.5631 782.779 L77.5631 787.458 L72.6615 787.458 L72.6615 784.02 Q72.6615 781.601 71.5157 780.265 Q70.3699 778.928 66.1048 777.305 L63.4312 776.254 L28.3562 790.673 L28.3562 784.466 L56.238 773.326 L28.3562 762.186 L28.3562 755.979 L67.3143 771.639 Z\" fill=\"#000000\" fill-rule=\"evenodd\" fill-opacity=\"1\" /><path clip-path=\"url(#clip210)\" d=\"M 0 0 M541.547 63.9476 L541.547 47.7034 L528.179 47.7034 L528.179 40.9789 L549.648 40.9789 L549.648 66.9452 Q544.909 70.3075 539.197 72.0494 Q533.485 73.7508 527.004 73.7508 Q512.826 73.7508 504.805 65.4869 Q496.825 57.1826 496.825 42.3968 Q496.825 27.5705 504.805 19.3066 Q512.826 11.0023 527.004 11.0023 Q532.918 11.0023 538.225 12.4606 Q543.572 13.9189 548.069 16.7545 L548.069 25.464 Q543.532 21.6156 538.427 19.6712 Q533.323 17.7268 527.692 17.7268 Q516.593 17.7268 511.003 23.9246 Q505.453 30.1225 505.453 42.3968 Q505.453 54.6305 511.003 60.8284 Q516.593 67.0263 527.692 67.0263 Q532.027 67.0263 535.43 66.2971 Q538.832 65.5274 541.547 63.9476 Z\" fill=\"#000000\" fill-rule=\"evenodd\" fill-opacity=\"1\" /><path clip-path=\"url(#clip210)\" d=\"M 0 0 M590.562 34.1734 Q589.307 33.4443 587.808 33.1202 Q586.35 32.7556 584.567 32.7556 Q578.248 32.7556 574.845 36.8875 Q571.483 40.9789 571.483 48.6757 L571.483 72.576 L563.989 72.576 L563.989 27.2059 L571.483 27.2059 L571.483 34.2544 Q573.832 30.1225 577.6 28.1376 Q581.367 26.1121 586.755 26.1121 Q587.524 26.1121 588.456 26.2337 Q589.388 26.3147 590.522 26.5172 L590.562 34.1734 Z\" fill=\"#000000\" fill-rule=\"evenodd\" fill-opacity=\"1\" /><path clip-path=\"url(#clip210)\" d=\"M 0 0 M619 49.7694 Q609.966 49.7694 606.483 51.8354 Q602.999 53.9013 602.999 58.8839 Q602.999 62.8538 605.591 65.2034 Q608.224 67.5124 612.721 67.5124 Q618.919 67.5124 622.646 63.1374 Q626.413 58.7219 626.413 51.4303 L626.413 49.7694 L619 49.7694 M633.867 46.6907 L633.867 72.576 L626.413 72.576 L626.413 65.6895 Q623.861 69.8214 620.053 71.8063 Q616.245 73.7508 610.736 73.7508 Q603.768 73.7508 599.637 69.8619 Q595.545 65.9325 595.545 59.3701 Q595.545 51.7138 600.649 47.825 Q605.794 43.9361 615.962 43.9361 L626.413 43.9361 L626.413 43.2069 Q626.413 38.0623 623.01 35.2672 Q619.648 32.4315 613.531 32.4315 Q609.642 32.4315 605.956 33.3632 Q602.27 34.295 598.867 36.1584 L598.867 29.2718 Q602.958 27.692 606.807 26.9223 Q610.655 26.1121 614.301 26.1121 Q624.144 26.1121 629.006 31.2163 Q633.867 36.3204 633.867 46.6907 M620.256 6.22219 L628.317 6.22219 L615.111 21.4536 L608.913 21.4536 L620.256 6.22219 Z\" fill=\"#000000\" fill-rule=\"evenodd\" fill-opacity=\"1\" /><path clip-path=\"url(#clip210)\" d=\"M 0 0 M672.188 9.54393 L672.188 15.7418 L665.059 15.7418 Q661.048 15.7418 659.468 17.3622 Q657.929 18.9825 657.929 23.1955 L657.929 27.2059 L670.203 27.2059 L670.203 32.9987 L657.929 32.9987 L657.929 72.576 L650.435 72.576 L650.435 32.9987 L643.305 32.9987 L643.305 27.2059 L650.435 27.2059 L650.435 24.0462 Q650.435 16.471 653.959 13.0277 Q657.483 9.54393 665.14 9.54393 L672.188 9.54393 Z\" fill=\"#000000\" fill-rule=\"evenodd\" fill-opacity=\"1\" /><path clip-path=\"url(#clip210)\" d=\"M 0 0 M678.427 27.2059 L685.88 27.2059 L685.88 72.576 L678.427 72.576 L678.427 27.2059 M678.427 9.54393 L685.88 9.54393 L685.88 18.9825 L678.427 18.9825 L678.427 9.54393 Z\" fill=\"#000000\" fill-rule=\"evenodd\" fill-opacity=\"1\" /><path clip-path=\"url(#clip210)\" d=\"M 0 0 M734.127 28.9478 L734.127 35.9153 Q730.967 34.1734 727.767 33.3227 Q724.607 32.4315 721.366 32.4315 Q714.115 32.4315 710.105 37.0496 Q706.094 41.6271 706.094 49.9314 Q706.094 58.2358 710.105 62.8538 Q714.115 67.4314 721.366 67.4314 Q724.607 67.4314 727.767 66.5807 Q730.967 65.6895 734.127 63.9476 L734.127 70.8341 Q731.007 72.2924 727.645 73.0216 Q724.323 73.7508 720.556 73.7508 Q710.307 73.7508 704.271 67.3098 Q698.236 60.8689 698.236 49.9314 Q698.236 38.832 704.312 32.472 Q710.429 26.1121 721.042 26.1121 Q724.485 26.1121 727.767 26.8413 Q731.048 27.5299 734.127 28.9478 Z\" fill=\"#000000\" fill-rule=\"evenodd\" fill-opacity=\"1\" /><path clip-path=\"url(#clip210)\" d=\"M 0 0 M764.67 32.4315 Q758.675 32.4315 755.191 37.1306 Q751.707 41.7891 751.707 49.9314 Q751.707 58.0738 755.151 62.7728 Q758.635 67.4314 764.67 67.4314 Q770.625 67.4314 774.109 62.7323 Q777.593 58.0333 777.593 49.9314 Q777.593 41.8701 774.109 37.1711 Q770.625 32.4315 764.67 32.4315 M764.67 26.1121 Q774.393 26.1121 779.942 32.4315 Q785.492 38.7509 785.492 49.9314 Q785.492 61.0714 779.942 67.4314 Q774.393 73.7508 764.67 73.7508 Q754.908 73.7508 749.358 67.4314 Q743.849 61.0714 743.849 49.9314 Q743.849 38.7509 749.358 32.4315 Q754.908 26.1121 764.67 26.1121 Z\" fill=\"#000000\" fill-rule=\"evenodd\" fill-opacity=\"1\" /><path clip-path=\"url(#clip210)\" d=\"M 0 0 M854.074 34.0924 L854.074 9.54393 L861.527 9.54393 L861.527 72.576 L854.074 72.576 L854.074 65.7705 Q851.724 69.8214 848.119 71.8063 Q844.554 73.7508 839.531 73.7508 Q831.308 73.7508 826.123 67.1883 Q820.978 60.6258 820.978 49.9314 Q820.978 39.2371 826.123 32.6746 Q831.308 26.1121 839.531 26.1121 Q844.554 26.1121 848.119 28.0971 Q851.724 30.0415 854.074 34.0924 M828.675 49.9314 Q828.675 58.1548 832.037 62.8538 Q835.44 67.5124 841.354 67.5124 Q847.268 67.5124 850.671 62.8538 Q854.074 58.1548 854.074 49.9314 Q854.074 41.7081 850.671 37.0496 Q847.268 32.3505 841.354 32.3505 Q835.44 32.3505 832.037 37.0496 Q828.675 41.7081 828.675 49.9314 Z\" fill=\"#000000\" fill-rule=\"evenodd\" fill-opacity=\"1\" /><path clip-path=\"url(#clip210)\" d=\"M 0 0 M915.688 48.0275 L915.688 51.6733 L881.417 51.6733 Q881.904 59.3701 886.035 63.421 Q890.208 67.4314 897.621 67.4314 Q901.915 67.4314 905.925 66.3781 Q909.976 65.3249 913.946 63.2184 L913.946 70.267 Q909.936 71.9684 905.723 72.8596 Q901.51 73.7508 897.175 73.7508 Q886.319 73.7508 879.959 67.4314 Q873.64 61.1119 873.64 50.3365 Q873.64 39.1965 879.635 32.6746 Q885.671 26.1121 895.879 26.1121 Q905.034 26.1121 910.341 32.0264 Q915.688 37.9003 915.688 48.0275 M908.234 45.84 Q908.153 39.7232 904.791 36.0774 Q901.469 32.4315 895.96 32.4315 Q889.722 32.4315 885.954 35.9558 Q882.228 39.4801 881.66 45.8805 L908.234 45.84 Z\" fill=\"#000000\" fill-rule=\"evenodd\" fill-opacity=\"1\" /><path clip-path=\"url(#clip210)\" d=\"M 0 0 M973.17 76.7889 Q970.011 84.8907 967.013 87.3618 Q964.015 89.8329 958.992 89.8329 L953.037 89.8329 L953.037 83.5945 L957.412 83.5945 Q960.491 83.5945 962.192 82.1361 Q963.894 80.6778 965.96 75.2496 L967.297 71.8468 L948.946 27.2059 L956.845 27.2059 L971.023 62.6918 L985.202 27.2059 L993.101 27.2059 L973.17 76.7889 Z\" fill=\"#000000\" fill-rule=\"evenodd\" fill-opacity=\"1\" /><path clip-path=\"url(#clip210)\" d=\"M 0 0 M1004.36 34.9026 L1056.29 34.9026 L1056.29 41.7081 L1004.36 41.7081 L1004.36 34.9026 M1004.36 51.4303 L1056.29 51.4303 L1056.29 58.3168 L1004.36 58.3168 L1004.36 51.4303 Z\" fill=\"#000000\" fill-rule=\"evenodd\" fill-opacity=\"1\" /><path clip-path=\"url(#clip210)\" d=\"M 0 0 M1101.83 28.5427 L1101.83 35.5912 Q1098.67 33.9709 1095.26 33.1607 Q1091.86 32.3505 1088.22 32.3505 Q1082.67 32.3505 1079.87 34.0519 Q1077.12 35.7533 1077.12 39.156 Q1077.12 41.7486 1079.1 43.2475 Q1081.09 44.7058 1087.08 46.0426 L1089.63 46.6097 Q1097.57 48.3111 1100.9 51.4303 Q1104.26 54.509 1104.26 60.0587 Q1104.26 66.3781 1099.23 70.0644 Q1094.25 73.7508 1085.5 73.7508 Q1081.86 73.7508 1077.89 73.0216 Q1073.96 72.3329 1069.58 70.9151 L1069.58 63.2184 Q1073.71 65.3654 1077.72 66.4591 Q1081.73 67.5124 1085.66 67.5124 Q1090.93 67.5124 1093.77 65.73 Q1096.6 63.9071 1096.6 60.6258 Q1096.6 57.5877 1094.54 55.9673 Q1092.51 54.3469 1085.58 52.8481 L1082.99 52.2405 Q1076.06 50.7821 1072.98 47.7845 Q1069.91 44.7463 1069.91 39.4801 Q1069.91 33.0797 1074.44 29.5959 Q1078.98 26.1121 1087.32 26.1121 Q1091.46 26.1121 1095.1 26.7198 Q1098.75 27.3274 1101.83 28.5427 Z\" fill=\"#000000\" fill-rule=\"evenodd\" fill-opacity=\"1\" /><path clip-path=\"url(#clip210)\" d=\"M 0 0 M1116.13 27.2059 L1123.58 27.2059 L1123.58 72.576 L1116.13 72.576 L1116.13 27.2059 M1116.13 9.54393 L1123.58 9.54393 L1123.58 18.9825 L1116.13 18.9825 L1116.13 9.54393 Z\" fill=\"#000000\" fill-rule=\"evenodd\" fill-opacity=\"1\" /><path clip-path=\"url(#clip210)\" d=\"M 0 0 M1176.89 45.1919 L1176.89 72.576 L1169.44 72.576 L1169.44 45.4349 Q1169.44 38.994 1166.93 35.7938 Q1164.41 32.5936 1159.39 32.5936 Q1153.35 32.5936 1149.87 36.4419 Q1146.39 40.2903 1146.39 46.9338 L1146.39 72.576 L1138.89 72.576 L1138.89 27.2059 L1146.39 27.2059 L1146.39 34.2544 Q1149.06 30.163 1152.67 28.1376 Q1156.31 26.1121 1161.05 26.1121 Q1168.87 26.1121 1172.88 30.9732 Q1176.89 35.7938 1176.89 45.1919 Z\" fill=\"#000000\" fill-rule=\"evenodd\" fill-opacity=\"1\" /><path clip-path=\"url(#clip210)\" d=\"M 0 0 M1209.66 9.62495 Q1204.23 18.942 1201.6 28.0566 Q1198.97 37.1711 1198.97 46.5287 Q1198.97 55.8863 1201.6 65.0818 Q1204.27 74.2369 1209.66 83.5134 L1203.18 83.5134 Q1197.1 73.9938 1194.07 64.7983 Q1191.07 55.6027 1191.07 46.5287 Q1191.07 37.4952 1194.07 28.3401 Q1197.06 19.1851 1203.18 9.62495 L1209.66 9.62495 Z\" fill=\"#000000\" fill-rule=\"evenodd\" fill-opacity=\"1\" /><path clip-path=\"url(#clip210)\" d=\"M 0 0 M1261.84 27.2059 L1245.43 49.2833 L1262.69 72.576 L1253.9 72.576 L1240.69 54.752 L1227.49 72.576 L1218.7 72.576 L1236.32 48.8377 L1220.19 27.2059 L1228.99 27.2059 L1241.02 43.369 L1253.05 27.2059 L1261.84 27.2059 Z\" fill=\"#000000\" fill-rule=\"evenodd\" fill-opacity=\"1\" /><path clip-path=\"url(#clip210)\" d=\"M 0 0 M1272.05 9.62495 L1278.53 9.62495 Q1284.6 19.1851 1287.6 28.3401 Q1290.64 37.4952 1290.64 46.5287 Q1290.64 55.6027 1287.6 64.7983 Q1284.6 73.9938 1278.53 83.5134 L1272.05 83.5134 Q1277.43 74.2369 1280.07 65.0818 Q1282.74 55.8863 1282.74 46.5287 Q1282.74 37.1711 1280.07 28.0566 Q1277.43 18.942 1272.05 9.62495 Z\" fill=\"#000000\" fill-rule=\"evenodd\" fill-opacity=\"1\" /><path clip-path=\"url(#clip210)\" d=\"M 0 0 M1369.67 45.1919 L1369.67 72.576 L1362.22 72.576 L1362.22 45.4349 Q1362.22 38.994 1359.71 35.7938 Q1357.2 32.5936 1352.17 32.5936 Q1346.14 32.5936 1342.65 36.4419 Q1339.17 40.2903 1339.17 46.9338 L1339.17 72.576 L1331.68 72.576 L1331.68 27.2059 L1339.17 27.2059 L1339.17 34.2544 Q1341.84 30.163 1345.45 28.1376 Q1349.09 26.1121 1353.83 26.1121 Q1361.65 26.1121 1365.66 30.9732 Q1369.67 35.7938 1369.67 45.1919 Z\" fill=\"#000000\" fill-rule=\"evenodd\" fill-opacity=\"1\" /><path clip-path=\"url(#clip210)\" d=\"M 0 0 M1402.12 32.4315 Q1396.13 32.4315 1392.64 37.1306 Q1389.16 41.7891 1389.16 49.9314 Q1389.16 58.0738 1392.6 62.7728 Q1396.08 67.4314 1402.12 67.4314 Q1408.08 67.4314 1411.56 62.7323 Q1415.04 58.0333 1415.04 49.9314 Q1415.04 41.8701 1411.56 37.1711 Q1408.08 32.4315 1402.12 32.4315 M1402.12 26.1121 Q1411.84 26.1121 1417.39 32.4315 Q1422.94 38.7509 1422.94 49.9314 Q1422.94 61.0714 1417.39 67.4314 Q1411.84 73.7508 1402.12 73.7508 Q1392.36 73.7508 1386.81 67.4314 Q1381.3 61.0714 1381.3 49.9314 Q1381.3 38.7509 1386.81 32.4315 Q1392.36 26.1121 1402.12 26.1121 Z\" fill=\"#000000\" fill-rule=\"evenodd\" fill-opacity=\"1\" /><path clip-path=\"url(#clip210)\" d=\"M 0 0 M1461.67 27.2059 L1469.12 27.2059 L1469.12 72.576 L1461.67 72.576 L1461.67 27.2059 M1461.67 9.54393 L1469.12 9.54393 L1469.12 18.9825 L1461.67 18.9825 L1461.67 9.54393 Z\" fill=\"#000000\" fill-rule=\"evenodd\" fill-opacity=\"1\" /><path clip-path=\"url(#clip210)\" d=\"M 0 0 M1522.43 45.1919 L1522.43 72.576 L1514.98 72.576 L1514.98 45.4349 Q1514.98 38.994 1512.47 35.7938 Q1509.96 32.5936 1504.93 32.5936 Q1498.9 32.5936 1495.41 36.4419 Q1491.93 40.2903 1491.93 46.9338 L1491.93 72.576 L1484.44 72.576 L1484.44 27.2059 L1491.93 27.2059 L1491.93 34.2544 Q1494.6 30.163 1498.21 28.1376 Q1501.85 26.1121 1506.59 26.1121 Q1514.41 26.1121 1518.42 30.9732 Q1522.43 35.7938 1522.43 45.1919 Z\" fill=\"#000000\" fill-rule=\"evenodd\" fill-opacity=\"1\" /><path clip-path=\"url(#clip210)\" d=\"M 0 0 M1544.67 14.324 L1544.67 27.2059 L1560.02 27.2059 L1560.02 32.9987 L1544.67 32.9987 L1544.67 57.6282 Q1544.67 63.1779 1546.17 64.7578 Q1547.71 66.3376 1552.37 66.3376 L1560.02 66.3376 L1560.02 72.576 L1552.37 72.576 Q1543.74 72.576 1540.46 69.3758 Q1537.18 66.1351 1537.18 57.6282 L1537.18 32.9987 L1531.71 32.9987 L1531.71 27.2059 L1537.18 27.2059 L1537.18 14.324 L1544.67 14.324 Z\" fill=\"#000000\" fill-rule=\"evenodd\" fill-opacity=\"1\" /><path clip-path=\"url(#clip210)\" d=\"M 0 0 M1608.64 48.0275 L1608.64 51.6733 L1574.37 51.6733 Q1574.85 59.3701 1578.98 63.421 Q1583.16 67.4314 1590.57 67.4314 Q1594.86 67.4314 1598.87 66.3781 Q1602.92 65.3249 1606.89 63.2184 L1606.89 70.267 Q1602.88 71.9684 1598.67 72.8596 Q1594.46 73.7508 1590.12 73.7508 Q1579.27 73.7508 1572.91 67.4314 Q1566.59 61.1119 1566.59 50.3365 Q1566.59 39.1965 1572.58 32.6746 Q1578.62 26.1121 1588.83 26.1121 Q1597.98 26.1121 1603.29 32.0264 Q1608.64 37.9003 1608.64 48.0275 M1601.18 45.84 Q1601.1 39.7232 1597.74 36.0774 Q1594.42 32.4315 1588.91 32.4315 Q1582.67 32.4315 1578.9 35.9558 Q1575.18 39.4801 1574.61 45.8805 L1601.18 45.84 Z\" fill=\"#000000\" fill-rule=\"evenodd\" fill-opacity=\"1\" /><path clip-path=\"url(#clip210)\" d=\"M 0 0 M1647.16 34.1734 Q1645.9 33.4443 1644.41 33.1202 Q1642.95 32.7556 1641.16 32.7556 Q1634.85 32.7556 1631.44 36.8875 Q1628.08 40.9789 1628.08 48.6757 L1628.08 72.576 L1620.59 72.576 L1620.59 27.2059 L1628.08 27.2059 L1628.08 34.2544 Q1630.43 30.1225 1634.2 28.1376 Q1637.96 26.1121 1643.35 26.1121 Q1644.12 26.1121 1645.05 26.2337 Q1645.99 26.3147 1647.12 26.5172 L1647.16 34.1734 Z\" fill=\"#000000\" fill-rule=\"evenodd\" fill-opacity=\"1\" /><path clip-path=\"url(#clip210)\" d=\"M 0 0 M1649.63 27.2059 L1657.53 27.2059 L1671.71 65.2844 L1685.89 27.2059 L1693.79 27.2059 L1676.77 72.576 L1666.64 72.576 L1649.63 27.2059 Z\" fill=\"#000000\" fill-rule=\"evenodd\" fill-opacity=\"1\" /><path clip-path=\"url(#clip210)\" d=\"M 0 0 M1724.69 49.7694 Q1715.66 49.7694 1712.18 51.8354 Q1708.69 53.9013 1708.69 58.8839 Q1708.69 62.8538 1711.29 65.2034 Q1713.92 67.5124 1718.42 67.5124 Q1724.61 67.5124 1728.34 63.1374 Q1732.11 58.7219 1732.11 51.4303 L1732.11 49.7694 L1724.69 49.7694 M1739.56 46.6907 L1739.56 72.576 L1732.11 72.576 L1732.11 65.6895 Q1729.56 69.8214 1725.75 71.8063 Q1721.94 73.7508 1716.43 73.7508 Q1709.46 73.7508 1705.33 69.8619 Q1701.24 65.9325 1701.24 59.3701 Q1701.24 51.7138 1706.34 47.825 Q1711.49 43.9361 1721.66 43.9361 L1732.11 43.9361 L1732.11 43.2069 Q1732.11 38.0623 1728.7 35.2672 Q1725.34 32.4315 1719.23 32.4315 Q1715.34 32.4315 1711.65 33.3632 Q1707.96 34.295 1704.56 36.1584 L1704.56 29.2718 Q1708.65 27.692 1712.5 26.9223 Q1716.35 26.1121 1720 26.1121 Q1729.84 26.1121 1734.7 31.2163 Q1739.56 36.3204 1739.56 46.6907 Z\" fill=\"#000000\" fill-rule=\"evenodd\" fill-opacity=\"1\" /><path clip-path=\"url(#clip210)\" d=\"M 0 0 M1754.91 9.54393 L1762.37 9.54393 L1762.37 72.576 L1754.91 72.576 L1754.91 9.54393 Z\" fill=\"#000000\" fill-rule=\"evenodd\" fill-opacity=\"1\" /><path clip-path=\"url(#clip210)\" d=\"M 0 0 M1795.54 32.4315 Q1789.55 32.4315 1786.07 37.1306 Q1782.58 41.7891 1782.58 49.9314 Q1782.58 58.0738 1786.02 62.7728 Q1789.51 67.4314 1795.54 67.4314 Q1801.5 67.4314 1804.98 62.7323 Q1808.47 58.0333 1808.47 49.9314 Q1808.47 41.8701 1804.98 37.1711 Q1801.5 32.4315 1795.54 32.4315 M1795.54 26.1121 Q1805.27 26.1121 1810.82 32.4315 Q1816.37 38.7509 1816.37 49.9314 Q1816.37 61.0714 1810.82 67.4314 Q1805.27 73.7508 1795.54 73.7508 Q1785.78 73.7508 1780.23 67.4314 Q1774.72 61.0714 1774.72 49.9314 Q1774.72 38.7509 1780.23 32.4315 Q1785.78 26.1121 1795.54 26.1121 Z\" fill=\"#000000\" fill-rule=\"evenodd\" fill-opacity=\"1\" /><path clip-path=\"url(#clip210)\" d=\"M 0 0 M1873 9.62495 Q1867.57 18.942 1864.94 28.0566 Q1862.3 37.1711 1862.3 46.5287 Q1862.3 55.8863 1864.94 65.0818 Q1867.61 74.2369 1873 83.5134 L1866.52 83.5134 Q1860.44 73.9938 1857.4 64.7983 Q1854.4 55.6027 1854.4 46.5287 Q1854.4 37.4952 1857.4 28.3401 Q1860.4 19.1851 1866.52 9.62495 L1873 9.62495 Z\" fill=\"#000000\" fill-rule=\"evenodd\" fill-opacity=\"1\" /><path clip-path=\"url(#clip210)\" d=\"M 0 0 M1906.01 17.4837 Q1899.69 17.4837 1896.49 23.7221 Q1893.33 29.92 1893.33 42.3968 Q1893.33 54.833 1896.49 61.0714 Q1899.69 67.2693 1906.01 67.2693 Q1912.37 67.2693 1915.53 61.0714 Q1918.73 54.833 1918.73 42.3968 Q1918.73 29.92 1915.53 23.7221 Q1912.37 17.4837 1906.01 17.4837 M1906.01 11.0023 Q1916.18 11.0023 1921.53 19.0636 Q1926.92 27.0843 1926.92 42.3968 Q1926.92 57.6687 1921.53 65.73 Q1916.18 73.7508 1906.01 73.7508 Q1895.84 73.7508 1890.46 65.73 Q1885.11 57.6687 1885.11 42.3968 Q1885.11 27.0843 1890.46 19.0636 Q1895.84 11.0023 1906.01 11.0023 Z\" fill=\"#000000\" fill-rule=\"evenodd\" fill-opacity=\"1\" /><path clip-path=\"url(#clip210)\" d=\"M 0 0 M1942.15 62.2867 L1950.69 62.2867 L1950.69 69.2543 L1944.05 82.2172 L1938.82 82.2172 L1942.15 69.2543 L1942.15 62.2867 Z\" fill=\"#000000\" fill-rule=\"evenodd\" fill-opacity=\"1\" /><path clip-path=\"url(#clip210)\" d=\"M 0 0 M2001.09 65.6895 L2029.65 65.6895 L2029.65 72.576 L1991.24 72.576 L1991.24 65.6895 Q1995.9 60.8689 2003.92 52.7671 Q2011.98 44.6248 2014.05 42.2752 Q2017.98 37.8598 2019.52 34.8216 Q2021.1 31.7429 2021.1 28.7857 Q2021.1 23.9651 2017.7 20.927 Q2014.33 17.8888 2008.91 17.8888 Q2005.06 17.8888 2000.76 19.2256 Q1996.51 20.5624 1991.65 23.2765 L1991.65 15.0127 Q1996.59 13.0277 2000.88 12.015 Q2005.18 11.0023 2008.74 11.0023 Q2018.14 11.0023 2023.73 15.7013 Q2029.32 20.4004 2029.32 28.2591 Q2029.32 31.9859 2027.9 35.3482 Q2026.53 38.6699 2022.84 43.2069 Q2021.83 44.3817 2016.4 50.0125 Q2010.97 55.6027 2001.09 65.6895 Z\" fill=\"#000000\" fill-rule=\"evenodd\" fill-opacity=\"1\" /><path clip-path=\"url(#clip210)\" d=\"M 0 0 M2040.95 27.2059 L2084.41 27.2059 L2084.41 34.6595 L2078.7 34.6595 L2078.7 62.5298 Q2078.7 65.4464 2079.67 66.7427 Q2080.69 67.9985 2082.92 67.9985 Q2083.52 67.9985 2084.41 67.9175 Q2085.31 67.7959 2085.59 67.7554 L2085.59 73.1431 Q2084.17 73.6697 2082.67 73.9128 Q2081.17 74.1559 2079.67 74.1559 Q2074.81 74.1559 2072.95 71.5228 Q2071.09 68.8492 2071.09 61.7196 L2071.09 34.6595 L2054.36 34.6595 L2054.36 72.576 L2046.74 72.576 L2046.74 34.6595 L2040.95 34.6595 L2040.95 27.2059 Z\" fill=\"#000000\" fill-rule=\"evenodd\" fill-opacity=\"1\" /><path clip-path=\"url(#clip210)\" d=\"M 0 0 M2094.54 9.62495 L2101.02 9.62495 Q2107.1 19.1851 2110.1 28.3401 Q2113.14 37.4952 2113.14 46.5287 Q2113.14 55.6027 2110.1 64.7983 Q2107.1 73.9938 2101.02 83.5134 L2094.54 83.5134 Q2099.93 74.2369 2102.56 65.0818 Q2105.24 55.8863 2105.24 46.5287 Q2105.24 37.1711 2102.56 28.0566 Q2099.93 18.942 2094.54 9.62495 Z\" fill=\"#000000\" fill-rule=\"evenodd\" fill-opacity=\"1\" /><polyline clip-path=\"url(#clip212)\" style=\"stroke:#009af9; stroke-width:4; stroke-opacity:1; fill:none\" points=\"\n",
       "  316.512,773.219 348.398,711.999 380.284,651.39 412.17,591.999 444.056,534.418 475.942,479.224 507.828,426.966 539.715,378.169 571.601,333.319 603.487,292.864 \n",
       "  635.373,257.209 667.259,226.709 699.145,201.67 731.031,182.342 762.917,168.917 794.803,161.531 826.689,160.256 858.575,165.106 890.461,176.032 922.347,192.925 \n",
       "  954.233,215.616 986.119,243.878 1018.01,277.429 1049.89,315.934 1081.78,359.009 1113.66,406.221 1145.55,457.101 1177.44,511.139 1209.32,567.796 1241.21,626.505 \n",
       "  1273.09,686.681 1304.98,747.721 1336.87,809.015 1368.75,869.952 1400.64,929.923 1432.52,988.327 1464.41,1044.58 1496.3,1098.13 1528.18,1148.42 1560.07,1194.97 \n",
       "  1591.95,1237.31 1623.84,1275.01 1655.73,1307.69 1687.61,1335.03 1719.5,1356.76 1751.38,1372.66 1783.27,1382.57 1815.16,1386.4 1847.04,1384.09 1878.93,1375.68 \n",
       "  1910.82,1361.25 1942.7,1340.95 1974.59,1314.97 2006.47,1283.59 2038.36,1247.1 2070.25,1205.87 2102.13,1160.33 2134.02,1110.91 2165.9,1058.12 2197.79,1002.49 \n",
       "  2229.68,944.563 2261.56,884.925 2293.45,824.171 \n",
       "  \"/>\n",
       "<path clip-path=\"url(#clip210)\" d=\"\n",
       "M1854.81 287.756 L2282.9 287.756 L2282.9 166.796 L1854.81 166.796  Z\n",
       "  \" fill=\"#eaeaea\" fill-rule=\"evenodd\" fill-opacity=\"1\"/>\n",
       "<polyline clip-path=\"url(#clip210)\" style=\"stroke:#ffffff; stroke-width:4; stroke-opacity:1; fill:none\" points=\"\n",
       "  1854.81,287.756 2282.9,287.756 2282.9,166.796 1854.81,166.796 1854.81,287.756 \n",
       "  \"/>\n",
       "<polyline clip-path=\"url(#clip210)\" style=\"stroke:#009af9; stroke-width:4; stroke-opacity:1; fill:none\" points=\"\n",
       "  1878.1,227.276 2017.8,227.276 \n",
       "  \"/>\n",
       "<path clip-path=\"url(#clip210)\" d=\"M 0 0 M2054.93 246.963 Q2053.12 251.593 2051.41 253.005 Q2049.69 254.417 2046.82 254.417 L2043.42 254.417 L2043.42 250.852 L2045.92 250.852 Q2047.68 250.852 2048.65 250.019 Q2049.62 249.185 2050.8 246.083 L2051.57 244.139 L2041.08 218.63 L2045.6 218.63 L2053.7 238.908 L2061.8 218.63 L2066.31 218.63 L2054.93 246.963 Z\" fill=\"#000000\" fill-rule=\"evenodd\" fill-opacity=\"1\" /><path clip-path=\"url(#clip210)\" d=\"M 0 0 M2072.75 223.028 L2102.43 223.028 L2102.43 226.917 L2072.75 226.917 L2072.75 223.028 M2072.75 232.472 L2102.43 232.472 L2102.43 236.408 L2072.75 236.408 L2072.75 232.472 Z\" fill=\"#000000\" fill-rule=\"evenodd\" fill-opacity=\"1\" /><path clip-path=\"url(#clip210)\" d=\"M 0 0 M2128.44 219.394 L2128.44 223.422 Q2126.64 222.496 2124.69 222.033 Q2122.75 221.57 2120.67 221.57 Q2117.49 221.57 2115.9 222.542 Q2114.32 223.514 2114.32 225.459 Q2114.32 226.94 2115.46 227.797 Q2116.59 228.63 2120.02 229.394 L2121.48 229.718 Q2126.01 230.69 2127.91 232.472 Q2129.83 234.232 2129.83 237.403 Q2129.83 241.014 2126.96 243.121 Q2124.11 245.227 2119.11 245.227 Q2117.03 245.227 2114.76 244.81 Q2112.52 244.417 2110.02 243.607 L2110.02 239.209 Q2112.38 240.435 2114.67 241.06 Q2116.96 241.662 2119.21 241.662 Q2122.22 241.662 2123.84 240.644 Q2125.46 239.602 2125.46 237.727 Q2125.46 235.991 2124.28 235.065 Q2123.12 234.139 2119.16 233.283 L2117.68 232.935 Q2113.72 232.102 2111.96 230.389 Q2110.2 228.653 2110.2 225.644 Q2110.2 221.986 2112.8 219.996 Q2115.39 218.005 2120.16 218.005 Q2122.52 218.005 2124.6 218.352 Q2126.68 218.699 2128.44 219.394 Z\" fill=\"#000000\" fill-rule=\"evenodd\" fill-opacity=\"1\" /><path clip-path=\"url(#clip210)\" d=\"M 0 0 M2136.61 218.63 L2140.87 218.63 L2140.87 244.556 L2136.61 244.556 L2136.61 218.63 M2136.61 208.537 L2140.87 208.537 L2140.87 213.931 L2136.61 213.931 L2136.61 208.537 Z\" fill=\"#000000\" fill-rule=\"evenodd\" fill-opacity=\"1\" /><path clip-path=\"url(#clip210)\" d=\"M 0 0 M2171.34 228.908 L2171.34 244.556 L2167.08 244.556 L2167.08 229.047 Q2167.08 225.366 2165.64 223.537 Q2164.21 221.709 2161.34 221.709 Q2157.89 221.709 2155.9 223.908 Q2153.91 226.107 2153.91 229.903 L2153.91 244.556 L2149.62 244.556 L2149.62 218.63 L2153.91 218.63 L2153.91 222.658 Q2155.43 220.32 2157.49 219.162 Q2159.58 218.005 2162.29 218.005 Q2166.75 218.005 2169.05 220.783 Q2171.34 223.537 2171.34 228.908 Z\" fill=\"#000000\" fill-rule=\"evenodd\" fill-opacity=\"1\" /><path clip-path=\"url(#clip210)\" d=\"M 0 0 M2190.06 208.584 Q2186.96 213.908 2185.46 219.116 Q2183.95 224.324 2183.95 229.672 Q2183.95 235.019 2185.46 240.273 Q2186.98 245.505 2190.06 250.806 L2186.36 250.806 Q2182.89 245.366 2181.15 240.111 Q2179.44 234.857 2179.44 229.672 Q2179.44 224.51 2181.15 219.278 Q2182.86 214.047 2186.36 208.584 L2190.06 208.584 Z\" fill=\"#000000\" fill-rule=\"evenodd\" fill-opacity=\"1\" /><path clip-path=\"url(#clip210)\" d=\"M 0 0 M2219.88 218.63 L2210.5 231.246 L2220.36 244.556 L2215.34 244.556 L2207.79 234.371 L2200.25 244.556 L2195.23 244.556 L2205.29 230.991 L2196.08 218.63 L2201.11 218.63 L2207.98 227.866 L2214.85 218.63 L2219.88 218.63 Z\" fill=\"#000000\" fill-rule=\"evenodd\" fill-opacity=\"1\" /><path clip-path=\"url(#clip210)\" d=\"M 0 0 M2225.71 208.584 L2229.42 208.584 Q2232.89 214.047 2234.6 219.278 Q2236.34 224.51 2236.34 229.672 Q2236.34 234.857 2234.6 240.111 Q2232.89 245.366 2229.42 250.806 L2225.71 250.806 Q2228.79 245.505 2230.29 240.273 Q2231.82 235.019 2231.82 229.672 Q2231.82 224.324 2230.29 219.116 Q2228.79 213.908 2225.71 208.584 Z\" fill=\"#000000\" fill-rule=\"evenodd\" fill-opacity=\"1\" /></svg>\n"
      ]
     },
     "execution_count": 29,
     "metadata": {},
     "output_type": "execute_result"
    }
   ],
   "source": [
    "I = 0.0:0.1:2π\n",
    "plot(I, sin.(I), xaxis=\"x\", yaxis=\"y\", label=\"y=sin(x)\",\n",
    "    title=\"Gráfico de y=sin(x) no intervalo (0, 2π)\")"
   ]
  },
  {
   "cell_type": "code",
   "execution_count": 30,
   "metadata": {
    "slideshow": {
     "slide_type": "slide"
    }
   },
   "outputs": [
    {
     "data": {
      "image/svg+xml": [
       "<?xml version=\"1.0\" encoding=\"utf-8\"?>\n",
       "<svg xmlns=\"http://www.w3.org/2000/svg\" xmlns:xlink=\"http://www.w3.org/1999/xlink\" width=\"600\" height=\"400\" viewBox=\"0 0 2400 1600\">\n",
       "<defs>\n",
       "  <clipPath id=\"clip250\">\n",
       "    <rect x=\"0\" y=\"0\" width=\"2400\" height=\"1600\"/>\n",
       "  </clipPath>\n",
       "</defs>\n",
       "<path clip-path=\"url(#clip250)\" d=\"\n",
       "M0 1600 L2400 1600 L2400 0 L0 0  Z\n",
       "  \" fill=\"#ffffff\" fill-rule=\"evenodd\" fill-opacity=\"1\"/>\n",
       "<defs>\n",
       "  <clipPath id=\"clip251\">\n",
       "    <rect x=\"480\" y=\"0\" width=\"1681\" height=\"1600\"/>\n",
       "  </clipPath>\n",
       "</defs>\n",
       "<path clip-path=\"url(#clip250)\" d=\"\n",
       "M257.204 1423.18 L2352.76 1423.18 L2352.76 123.472 L257.204 123.472  Z\n",
       "  \" fill=\"#eaeaea\" fill-rule=\"evenodd\" fill-opacity=\"1\"/>\n",
       "<defs>\n",
       "  <clipPath id=\"clip252\">\n",
       "    <rect x=\"257\" y=\"123\" width=\"2097\" height=\"1301\"/>\n",
       "  </clipPath>\n",
       "</defs>\n",
       "<polyline clip-path=\"url(#clip252)\" style=\"stroke:#ffffff; stroke-width:4; stroke-opacity:1; fill:none\" points=\"\n",
       "  316.512,1423.18 316.512,123.472 \n",
       "  \"/>\n",
       "<polyline clip-path=\"url(#clip252)\" style=\"stroke:#ffffff; stroke-width:4; stroke-opacity:1; fill:none\" points=\"\n",
       "  635.373,1423.18 635.373,123.472 \n",
       "  \"/>\n",
       "<polyline clip-path=\"url(#clip252)\" style=\"stroke:#ffffff; stroke-width:4; stroke-opacity:1; fill:none\" points=\"\n",
       "  954.233,1423.18 954.233,123.472 \n",
       "  \"/>\n",
       "<polyline clip-path=\"url(#clip252)\" style=\"stroke:#ffffff; stroke-width:4; stroke-opacity:1; fill:none\" points=\"\n",
       "  1273.09,1423.18 1273.09,123.472 \n",
       "  \"/>\n",
       "<polyline clip-path=\"url(#clip252)\" style=\"stroke:#ffffff; stroke-width:4; stroke-opacity:1; fill:none\" points=\"\n",
       "  1591.95,1423.18 1591.95,123.472 \n",
       "  \"/>\n",
       "<polyline clip-path=\"url(#clip252)\" style=\"stroke:#ffffff; stroke-width:4; stroke-opacity:1; fill:none\" points=\"\n",
       "  1910.82,1423.18 1910.82,123.472 \n",
       "  \"/>\n",
       "<polyline clip-path=\"url(#clip252)\" style=\"stroke:#ffffff; stroke-width:4; stroke-opacity:1; fill:none\" points=\"\n",
       "  2229.68,1423.18 2229.68,123.472 \n",
       "  \"/>\n",
       "<polyline clip-path=\"url(#clip252)\" style=\"stroke:#ffffff; stroke-width:2; stroke-opacity:1; fill:none\" points=\"\n",
       "  475.942,1423.18 475.942,123.472 \n",
       "  \"/>\n",
       "<polyline clip-path=\"url(#clip252)\" style=\"stroke:#ffffff; stroke-width:2; stroke-opacity:1; fill:none\" points=\"\n",
       "  794.803,1423.18 794.803,123.472 \n",
       "  \"/>\n",
       "<polyline clip-path=\"url(#clip252)\" style=\"stroke:#ffffff; stroke-width:2; stroke-opacity:1; fill:none\" points=\"\n",
       "  1113.66,1423.18 1113.66,123.472 \n",
       "  \"/>\n",
       "<polyline clip-path=\"url(#clip252)\" style=\"stroke:#ffffff; stroke-width:2; stroke-opacity:1; fill:none\" points=\"\n",
       "  1432.52,1423.18 1432.52,123.472 \n",
       "  \"/>\n",
       "<polyline clip-path=\"url(#clip252)\" style=\"stroke:#ffffff; stroke-width:2; stroke-opacity:1; fill:none\" points=\"\n",
       "  1751.38,1423.18 1751.38,123.472 \n",
       "  \"/>\n",
       "<polyline clip-path=\"url(#clip252)\" style=\"stroke:#ffffff; stroke-width:2; stroke-opacity:1; fill:none\" points=\"\n",
       "  2070.25,1423.18 2070.25,123.472 \n",
       "  \"/>\n",
       "<polyline clip-path=\"url(#clip250)\" style=\"stroke:#ffffff; stroke-width:4; stroke-opacity:1; fill:none\" points=\"\n",
       "  257.204,1423.18 2352.76,1423.18 \n",
       "  \"/>\n",
       "<polyline clip-path=\"url(#clip250)\" style=\"stroke:#333333; stroke-width:4; stroke-opacity:1; fill:none\" points=\"\n",
       "  316.512,1423.18 316.512,1438.78 \n",
       "  \"/>\n",
       "<polyline clip-path=\"url(#clip250)\" style=\"stroke:#333333; stroke-width:4; stroke-opacity:1; fill:none\" points=\"\n",
       "  635.373,1423.18 635.373,1438.78 \n",
       "  \"/>\n",
       "<polyline clip-path=\"url(#clip250)\" style=\"stroke:#333333; stroke-width:4; stroke-opacity:1; fill:none\" points=\"\n",
       "  954.233,1423.18 954.233,1438.78 \n",
       "  \"/>\n",
       "<polyline clip-path=\"url(#clip250)\" style=\"stroke:#333333; stroke-width:4; stroke-opacity:1; fill:none\" points=\"\n",
       "  1273.09,1423.18 1273.09,1438.78 \n",
       "  \"/>\n",
       "<polyline clip-path=\"url(#clip250)\" style=\"stroke:#333333; stroke-width:4; stroke-opacity:1; fill:none\" points=\"\n",
       "  1591.95,1423.18 1591.95,1438.78 \n",
       "  \"/>\n",
       "<polyline clip-path=\"url(#clip250)\" style=\"stroke:#333333; stroke-width:4; stroke-opacity:1; fill:none\" points=\"\n",
       "  1910.82,1423.18 1910.82,1438.78 \n",
       "  \"/>\n",
       "<polyline clip-path=\"url(#clip250)\" style=\"stroke:#333333; stroke-width:4; stroke-opacity:1; fill:none\" points=\"\n",
       "  2229.68,1423.18 2229.68,1438.78 \n",
       "  \"/>\n",
       "<polyline clip-path=\"url(#clip250)\" style=\"stroke:#333333; stroke-width:4; stroke-opacity:1; fill:none\" points=\"\n",
       "  475.942,1423.18 475.942,1430.98 \n",
       "  \"/>\n",
       "<polyline clip-path=\"url(#clip250)\" style=\"stroke:#333333; stroke-width:4; stroke-opacity:1; fill:none\" points=\"\n",
       "  794.803,1423.18 794.803,1430.98 \n",
       "  \"/>\n",
       "<polyline clip-path=\"url(#clip250)\" style=\"stroke:#333333; stroke-width:4; stroke-opacity:1; fill:none\" points=\"\n",
       "  1113.66,1423.18 1113.66,1430.98 \n",
       "  \"/>\n",
       "<polyline clip-path=\"url(#clip250)\" style=\"stroke:#333333; stroke-width:4; stroke-opacity:1; fill:none\" points=\"\n",
       "  1432.52,1423.18 1432.52,1430.98 \n",
       "  \"/>\n",
       "<polyline clip-path=\"url(#clip250)\" style=\"stroke:#333333; stroke-width:4; stroke-opacity:1; fill:none\" points=\"\n",
       "  1751.38,1423.18 1751.38,1430.98 \n",
       "  \"/>\n",
       "<polyline clip-path=\"url(#clip250)\" style=\"stroke:#333333; stroke-width:4; stroke-opacity:1; fill:none\" points=\"\n",
       "  2070.25,1423.18 2070.25,1430.98 \n",
       "  \"/>\n",
       "<path clip-path=\"url(#clip250)\" d=\"M 0 0 M316.512 1461.97 Q312.901 1461.97 311.072 1465.54 Q309.267 1469.08 309.267 1476.21 Q309.267 1483.31 311.072 1486.88 Q312.901 1490.42 316.512 1490.42 Q320.146 1490.42 321.952 1486.88 Q323.781 1483.31 323.781 1476.21 Q323.781 1469.08 321.952 1465.54 Q320.146 1461.97 316.512 1461.97 M316.512 1458.27 Q322.322 1458.27 325.378 1462.87 Q328.456 1467.46 328.456 1476.21 Q328.456 1484.93 325.378 1489.54 Q322.322 1494.12 316.512 1494.12 Q310.702 1494.12 307.623 1489.54 Q304.568 1484.93 304.568 1476.21 Q304.568 1467.46 307.623 1462.87 Q310.702 1458.27 316.512 1458.27 Z\" fill=\"#4c4c4c\" fill-rule=\"evenodd\" fill-opacity=\"1\" /><path clip-path=\"url(#clip250)\" d=\"M 0 0 M625.755 1489.52 L633.394 1489.52 L633.394 1463.15 L625.083 1464.82 L625.083 1460.56 L633.347 1458.89 L638.023 1458.89 L638.023 1489.52 L645.662 1489.52 L645.662 1493.45 L625.755 1493.45 L625.755 1489.52 Z\" fill=\"#4c4c4c\" fill-rule=\"evenodd\" fill-opacity=\"1\" /><path clip-path=\"url(#clip250)\" d=\"M 0 0 M948.886 1489.52 L965.205 1489.52 L965.205 1493.45 L943.261 1493.45 L943.261 1489.52 Q945.923 1486.76 950.506 1482.13 Q955.113 1477.48 956.293 1476.14 Q958.539 1473.61 959.418 1471.88 Q960.321 1470.12 960.321 1468.43 Q960.321 1465.67 958.377 1463.94 Q956.456 1462.2 953.354 1462.2 Q951.155 1462.2 948.701 1462.97 Q946.27 1463.73 943.493 1465.28 L943.493 1460.56 Q946.317 1459.42 948.77 1458.85 Q951.224 1458.27 953.261 1458.27 Q958.631 1458.27 961.826 1460.95 Q965.02 1463.64 965.02 1468.13 Q965.02 1470.26 964.21 1472.18 Q963.423 1474.08 961.317 1476.67 Q960.738 1477.34 957.636 1480.56 Q954.534 1483.75 948.886 1489.52 Z\" fill=\"#4c4c4c\" fill-rule=\"evenodd\" fill-opacity=\"1\" /><path clip-path=\"url(#clip250)\" d=\"M 0 0 M1277.34 1474.82 Q1280.7 1475.54 1282.57 1477.8 Q1284.47 1480.07 1284.47 1483.41 Q1284.47 1488.52 1280.95 1491.32 Q1277.43 1494.12 1270.95 1494.12 Q1268.78 1494.12 1266.46 1493.68 Q1264.17 1493.27 1261.72 1492.41 L1261.72 1487.9 Q1263.66 1489.03 1265.98 1489.61 Q1268.29 1490.19 1270.81 1490.19 Q1275.21 1490.19 1277.5 1488.45 Q1279.82 1486.72 1279.82 1483.41 Q1279.82 1480.35 1277.67 1478.64 Q1275.54 1476.9 1271.72 1476.9 L1267.69 1476.9 L1267.69 1473.06 L1271.9 1473.06 Q1275.35 1473.06 1277.18 1471.69 Q1279.01 1470.3 1279.01 1467.71 Q1279.01 1465.05 1277.11 1463.64 Q1275.24 1462.2 1271.72 1462.2 Q1269.8 1462.2 1267.6 1462.62 Q1265.4 1463.04 1262.76 1463.91 L1262.76 1459.75 Q1265.42 1459.01 1267.74 1458.64 Q1270.07 1458.27 1272.13 1458.27 Q1277.46 1458.27 1280.56 1460.7 Q1283.66 1463.1 1283.66 1467.23 Q1283.66 1470.1 1282.02 1472.09 Q1280.37 1474.05 1277.34 1474.82 Z\" fill=\"#4c4c4c\" fill-rule=\"evenodd\" fill-opacity=\"1\" /><path clip-path=\"url(#clip250)\" d=\"M 0 0 M1594.96 1462.97 L1583.16 1481.41 L1594.96 1481.41 L1594.96 1462.97 M1593.74 1458.89 L1599.62 1458.89 L1599.62 1481.41 L1604.55 1481.41 L1604.55 1485.3 L1599.62 1485.3 L1599.62 1493.45 L1594.96 1493.45 L1594.96 1485.3 L1579.36 1485.3 L1579.36 1480.79 L1593.74 1458.89 Z\" fill=\"#4c4c4c\" fill-rule=\"evenodd\" fill-opacity=\"1\" /><path clip-path=\"url(#clip250)\" d=\"M 0 0 M1901.09 1458.89 L1919.45 1458.89 L1919.45 1462.83 L1905.38 1462.83 L1905.38 1471.3 Q1906.39 1470.95 1907.41 1470.79 Q1908.43 1470.6 1909.45 1470.6 Q1915.24 1470.6 1918.62 1473.78 Q1922 1476.95 1922 1482.36 Q1922 1487.94 1918.52 1491.04 Q1915.05 1494.12 1908.73 1494.12 Q1906.56 1494.12 1904.29 1493.75 Q1902.04 1493.38 1899.63 1492.64 L1899.63 1487.94 Q1901.72 1489.08 1903.94 1489.63 Q1906.16 1490.19 1908.64 1490.19 Q1912.64 1490.19 1914.98 1488.08 Q1917.32 1485.98 1917.32 1482.36 Q1917.32 1478.75 1914.98 1476.65 Q1912.64 1474.54 1908.64 1474.54 Q1906.76 1474.54 1904.89 1474.96 Q1903.04 1475.37 1901.09 1476.25 L1901.09 1458.89 Z\" fill=\"#4c4c4c\" fill-rule=\"evenodd\" fill-opacity=\"1\" /><path clip-path=\"url(#clip250)\" d=\"M 0 0 M2230.08 1474.31 Q2226.93 1474.31 2225.08 1476.46 Q2223.25 1478.61 2223.25 1482.36 Q2223.25 1486.09 2225.08 1488.27 Q2226.93 1490.42 2230.08 1490.42 Q2233.23 1490.42 2235.06 1488.27 Q2236.91 1486.09 2236.91 1482.36 Q2236.91 1478.61 2235.06 1476.46 Q2233.23 1474.31 2230.08 1474.31 M2239.36 1459.66 L2239.36 1463.91 Q2237.6 1463.08 2235.8 1462.64 Q2234.02 1462.2 2232.26 1462.2 Q2227.63 1462.2 2225.17 1465.33 Q2222.74 1468.45 2222.4 1474.77 Q2223.76 1472.76 2225.82 1471.69 Q2227.88 1470.6 2230.36 1470.6 Q2235.57 1470.6 2238.58 1473.78 Q2241.61 1476.92 2241.61 1482.36 Q2241.61 1487.69 2238.46 1490.91 Q2235.31 1494.12 2230.08 1494.12 Q2224.09 1494.12 2220.91 1489.54 Q2217.74 1484.93 2217.74 1476.21 Q2217.74 1468.01 2221.63 1463.15 Q2225.52 1458.27 2232.07 1458.27 Q2233.83 1458.27 2235.61 1458.61 Q2237.42 1458.96 2239.36 1459.66 Z\" fill=\"#4c4c4c\" fill-rule=\"evenodd\" fill-opacity=\"1\" /><path clip-path=\"url(#clip250)\" d=\"M 0 0 M1321.59 1532.4 L1308.7 1549.74 L1322.26 1568.04 L1315.36 1568.04 L1304.98 1554.04 L1294.6 1568.04 L1287.7 1568.04 L1301.54 1549.39 L1288.87 1532.4 L1295.78 1532.4 L1305.23 1545.1 L1314.69 1532.4 L1321.59 1532.4 Z\" fill=\"#000000\" fill-rule=\"evenodd\" fill-opacity=\"1\" /><polyline clip-path=\"url(#clip252)\" style=\"stroke:#ffffff; stroke-width:4; stroke-opacity:1; fill:none\" points=\"\n",
       "  257.204,1386.44 2352.76,1386.44 \n",
       "  \"/>\n",
       "<polyline clip-path=\"url(#clip252)\" style=\"stroke:#ffffff; stroke-width:4; stroke-opacity:1; fill:none\" points=\"\n",
       "  257.204,1079.9 2352.76,1079.9 \n",
       "  \"/>\n",
       "<polyline clip-path=\"url(#clip252)\" style=\"stroke:#ffffff; stroke-width:4; stroke-opacity:1; fill:none\" points=\"\n",
       "  257.204,773.35 2352.76,773.35 \n",
       "  \"/>\n",
       "<polyline clip-path=\"url(#clip252)\" style=\"stroke:#ffffff; stroke-width:4; stroke-opacity:1; fill:none\" points=\"\n",
       "  257.204,466.803 2352.76,466.803 \n",
       "  \"/>\n",
       "<polyline clip-path=\"url(#clip252)\" style=\"stroke:#ffffff; stroke-width:4; stroke-opacity:1; fill:none\" points=\"\n",
       "  257.204,160.256 2352.76,160.256 \n",
       "  \"/>\n",
       "<polyline clip-path=\"url(#clip252)\" style=\"stroke:#ffffff; stroke-width:2; stroke-opacity:1; fill:none\" points=\"\n",
       "  257.204,1233.17 2352.76,1233.17 \n",
       "  \"/>\n",
       "<polyline clip-path=\"url(#clip252)\" style=\"stroke:#ffffff; stroke-width:2; stroke-opacity:1; fill:none\" points=\"\n",
       "  257.204,926.623 2352.76,926.623 \n",
       "  \"/>\n",
       "<polyline clip-path=\"url(#clip252)\" style=\"stroke:#ffffff; stroke-width:2; stroke-opacity:1; fill:none\" points=\"\n",
       "  257.204,620.076 2352.76,620.076 \n",
       "  \"/>\n",
       "<polyline clip-path=\"url(#clip252)\" style=\"stroke:#ffffff; stroke-width:2; stroke-opacity:1; fill:none\" points=\"\n",
       "  257.204,313.53 2352.76,313.53 \n",
       "  \"/>\n",
       "<polyline clip-path=\"url(#clip250)\" style=\"stroke:#ffffff; stroke-width:4; stroke-opacity:1; fill:none\" points=\"\n",
       "  257.204,1423.18 257.204,123.472 \n",
       "  \"/>\n",
       "<polyline clip-path=\"url(#clip250)\" style=\"stroke:#333333; stroke-width:4; stroke-opacity:1; fill:none\" points=\"\n",
       "  257.204,1386.44 232.057,1386.44 \n",
       "  \"/>\n",
       "<polyline clip-path=\"url(#clip250)\" style=\"stroke:#333333; stroke-width:4; stroke-opacity:1; fill:none\" points=\"\n",
       "  257.204,1079.9 232.057,1079.9 \n",
       "  \"/>\n",
       "<polyline clip-path=\"url(#clip250)\" style=\"stroke:#333333; stroke-width:4; stroke-opacity:1; fill:none\" points=\"\n",
       "  257.204,773.35 232.057,773.35 \n",
       "  \"/>\n",
       "<polyline clip-path=\"url(#clip250)\" style=\"stroke:#333333; stroke-width:4; stroke-opacity:1; fill:none\" points=\"\n",
       "  257.204,466.803 232.057,466.803 \n",
       "  \"/>\n",
       "<polyline clip-path=\"url(#clip250)\" style=\"stroke:#333333; stroke-width:4; stroke-opacity:1; fill:none\" points=\"\n",
       "  257.204,160.256 232.057,160.256 \n",
       "  \"/>\n",
       "<polyline clip-path=\"url(#clip250)\" style=\"stroke:#333333; stroke-width:4; stroke-opacity:1; fill:none\" points=\"\n",
       "  257.204,1233.17 244.631,1233.17 \n",
       "  \"/>\n",
       "<polyline clip-path=\"url(#clip250)\" style=\"stroke:#333333; stroke-width:4; stroke-opacity:1; fill:none\" points=\"\n",
       "  257.204,926.623 244.631,926.623 \n",
       "  \"/>\n",
       "<polyline clip-path=\"url(#clip250)\" style=\"stroke:#333333; stroke-width:4; stroke-opacity:1; fill:none\" points=\"\n",
       "  257.204,620.076 244.631,620.076 \n",
       "  \"/>\n",
       "<polyline clip-path=\"url(#clip250)\" style=\"stroke:#333333; stroke-width:4; stroke-opacity:1; fill:none\" points=\"\n",
       "  257.204,313.53 244.631,313.53 \n",
       "  \"/>\n",
       "<path clip-path=\"url(#clip250)\" d=\"M 0 0 M96.2602 1386.89 L125.936 1386.89 L125.936 1390.83 L96.2602 1390.83 L96.2602 1386.89 Z\" fill=\"#4c4c4c\" fill-rule=\"evenodd\" fill-opacity=\"1\" /><path clip-path=\"url(#clip250)\" d=\"M 0 0 M136.839 1399.79 L144.477 1399.79 L144.477 1373.42 L136.167 1375.09 L136.167 1370.83 L144.431 1369.16 L149.107 1369.16 L149.107 1399.79 L156.746 1399.79 L156.746 1403.72 L136.839 1403.72 L136.839 1399.79 Z\" fill=\"#4c4c4c\" fill-rule=\"evenodd\" fill-opacity=\"1\" /><path clip-path=\"url(#clip250)\" d=\"M 0 0 M166.19 1397.84 L171.075 1397.84 L171.075 1403.72 L166.19 1403.72 L166.19 1397.84 Z\" fill=\"#4c4c4c\" fill-rule=\"evenodd\" fill-opacity=\"1\" /><path clip-path=\"url(#clip250)\" d=\"M 0 0 M191.26 1372.24 Q187.649 1372.24 185.82 1375.81 Q184.014 1379.35 184.014 1386.48 Q184.014 1393.58 185.82 1397.15 Q187.649 1400.69 191.26 1400.69 Q194.894 1400.69 196.699 1397.15 Q198.528 1393.58 198.528 1386.48 Q198.528 1379.35 196.699 1375.81 Q194.894 1372.24 191.26 1372.24 M191.26 1368.54 Q197.07 1368.54 200.125 1373.14 Q203.204 1377.73 203.204 1386.48 Q203.204 1395.2 200.125 1399.81 Q197.07 1404.39 191.26 1404.39 Q185.449 1404.39 182.371 1399.81 Q179.315 1395.2 179.315 1386.48 Q179.315 1377.73 182.371 1373.14 Q185.449 1368.54 191.26 1368.54 Z\" fill=\"#4c4c4c\" fill-rule=\"evenodd\" fill-opacity=\"1\" /><path clip-path=\"url(#clip250)\" d=\"M 0 0 M97.2555 1080.35 L126.931 1080.35 L126.931 1084.28 L97.2555 1084.28 L97.2555 1080.35 Z\" fill=\"#4c4c4c\" fill-rule=\"evenodd\" fill-opacity=\"1\" /><path clip-path=\"url(#clip250)\" d=\"M 0 0 M147.024 1065.69 Q143.413 1065.69 141.584 1069.26 Q139.778 1072.8 139.778 1079.93 Q139.778 1087.04 141.584 1090.6 Q143.413 1094.14 147.024 1094.14 Q150.658 1094.14 152.464 1090.6 Q154.292 1087.04 154.292 1079.93 Q154.292 1072.8 152.464 1069.26 Q150.658 1065.69 147.024 1065.69 M147.024 1061.99 Q152.834 1061.99 155.889 1066.6 Q158.968 1071.18 158.968 1079.93 Q158.968 1088.66 155.889 1093.26 Q152.834 1097.85 147.024 1097.85 Q141.214 1097.85 138.135 1093.26 Q135.079 1088.66 135.079 1079.93 Q135.079 1071.18 138.135 1066.6 Q141.214 1061.99 147.024 1061.99 Z\" fill=\"#4c4c4c\" fill-rule=\"evenodd\" fill-opacity=\"1\" /><path clip-path=\"url(#clip250)\" d=\"M 0 0 M167.186 1091.3 L172.07 1091.3 L172.07 1097.18 L167.186 1097.18 L167.186 1091.3 Z\" fill=\"#4c4c4c\" fill-rule=\"evenodd\" fill-opacity=\"1\" /><path clip-path=\"url(#clip250)\" d=\"M 0 0 M182.301 1062.62 L200.658 1062.62 L200.658 1066.55 L186.584 1066.55 L186.584 1075.02 Q187.602 1074.68 188.621 1074.51 Q189.639 1074.33 190.658 1074.33 Q196.445 1074.33 199.824 1077.5 Q203.204 1080.67 203.204 1086.09 Q203.204 1091.67 199.732 1094.77 Q196.26 1097.85 189.94 1097.85 Q187.764 1097.85 185.496 1097.48 Q183.25 1097.11 180.843 1096.37 L180.843 1091.67 Q182.926 1092.8 185.149 1093.36 Q187.371 1093.91 189.848 1093.91 Q193.852 1093.91 196.19 1091.81 Q198.528 1089.7 198.528 1086.09 Q198.528 1082.48 196.19 1080.37 Q193.852 1078.26 189.848 1078.26 Q187.973 1078.26 186.098 1078.68 Q184.246 1079.1 182.301 1079.98 L182.301 1062.62 Z\" fill=\"#4c4c4c\" fill-rule=\"evenodd\" fill-opacity=\"1\" /><path clip-path=\"url(#clip250)\" d=\"M 0 0 M146.028 759.148 Q142.417 759.148 140.589 762.713 Q138.783 766.255 138.783 773.384 Q138.783 780.491 140.589 784.055 Q142.417 787.597 146.028 787.597 Q149.663 787.597 151.468 784.055 Q153.297 780.491 153.297 773.384 Q153.297 766.255 151.468 762.713 Q149.663 759.148 146.028 759.148 M146.028 755.445 Q151.839 755.445 154.894 760.051 Q157.973 764.634 157.973 773.384 Q157.973 782.111 154.894 786.717 Q151.839 791.301 146.028 791.301 Q140.218 791.301 137.14 786.717 Q134.084 782.111 134.084 773.384 Q134.084 764.634 137.14 760.051 Q140.218 755.445 146.028 755.445 Z\" fill=\"#4c4c4c\" fill-rule=\"evenodd\" fill-opacity=\"1\" /><path clip-path=\"url(#clip250)\" d=\"M 0 0 M166.19 784.75 L171.075 784.75 L171.075 790.63 L166.19 790.63 L166.19 784.75 Z\" fill=\"#4c4c4c\" fill-rule=\"evenodd\" fill-opacity=\"1\" /><path clip-path=\"url(#clip250)\" d=\"M 0 0 M191.26 759.148 Q187.649 759.148 185.82 762.713 Q184.014 766.255 184.014 773.384 Q184.014 780.491 185.82 784.055 Q187.649 787.597 191.26 787.597 Q194.894 787.597 196.699 784.055 Q198.528 780.491 198.528 773.384 Q198.528 766.255 196.699 762.713 Q194.894 759.148 191.26 759.148 M191.26 755.445 Q197.07 755.445 200.125 760.051 Q203.204 764.634 203.204 773.384 Q203.204 782.111 200.125 786.717 Q197.07 791.301 191.26 791.301 Q185.449 791.301 182.371 786.717 Q179.315 782.111 179.315 773.384 Q179.315 764.634 182.371 760.051 Q185.449 755.445 191.26 755.445 Z\" fill=\"#4c4c4c\" fill-rule=\"evenodd\" fill-opacity=\"1\" /><path clip-path=\"url(#clip250)\" d=\"M 0 0 M147.024 452.602 Q143.413 452.602 141.584 456.166 Q139.778 459.708 139.778 466.838 Q139.778 473.944 141.584 477.509 Q143.413 481.051 147.024 481.051 Q150.658 481.051 152.464 477.509 Q154.292 473.944 154.292 466.838 Q154.292 459.708 152.464 456.166 Q150.658 452.602 147.024 452.602 M147.024 448.898 Q152.834 448.898 155.889 453.504 Q158.968 458.088 158.968 466.838 Q158.968 475.564 155.889 480.171 Q152.834 484.754 147.024 484.754 Q141.214 484.754 138.135 480.171 Q135.079 475.564 135.079 466.838 Q135.079 458.088 138.135 453.504 Q141.214 448.898 147.024 448.898 Z\" fill=\"#4c4c4c\" fill-rule=\"evenodd\" fill-opacity=\"1\" /><path clip-path=\"url(#clip250)\" d=\"M 0 0 M167.186 478.203 L172.07 478.203 L172.07 484.083 L167.186 484.083 L167.186 478.203 Z\" fill=\"#4c4c4c\" fill-rule=\"evenodd\" fill-opacity=\"1\" /><path clip-path=\"url(#clip250)\" d=\"M 0 0 M182.301 449.523 L200.658 449.523 L200.658 453.458 L186.584 453.458 L186.584 461.93 Q187.602 461.583 188.621 461.421 Q189.639 461.236 190.658 461.236 Q196.445 461.236 199.824 464.407 Q203.204 467.578 203.204 472.995 Q203.204 478.574 199.732 481.676 Q196.26 484.754 189.94 484.754 Q187.764 484.754 185.496 484.384 Q183.25 484.013 180.843 483.273 L180.843 478.574 Q182.926 479.708 185.149 480.263 Q187.371 480.819 189.848 480.819 Q193.852 480.819 196.19 478.713 Q198.528 476.606 198.528 472.995 Q198.528 469.384 196.19 467.277 Q193.852 465.171 189.848 465.171 Q187.973 465.171 186.098 465.588 Q184.246 466.004 182.301 466.884 L182.301 449.523 Z\" fill=\"#4c4c4c\" fill-rule=\"evenodd\" fill-opacity=\"1\" /><path clip-path=\"url(#clip250)\" d=\"M 0 0 M136.839 173.601 L144.477 173.601 L144.477 147.236 L136.167 148.902 L136.167 144.643 L144.431 142.976 L149.107 142.976 L149.107 173.601 L156.746 173.601 L156.746 177.536 L136.839 177.536 L136.839 173.601 Z\" fill=\"#4c4c4c\" fill-rule=\"evenodd\" fill-opacity=\"1\" /><path clip-path=\"url(#clip250)\" d=\"M 0 0 M166.19 171.657 L171.075 171.657 L171.075 177.536 L166.19 177.536 L166.19 171.657 Z\" fill=\"#4c4c4c\" fill-rule=\"evenodd\" fill-opacity=\"1\" /><path clip-path=\"url(#clip250)\" d=\"M 0 0 M191.26 146.055 Q187.649 146.055 185.82 149.62 Q184.014 153.161 184.014 160.291 Q184.014 167.397 185.82 170.962 Q187.649 174.504 191.26 174.504 Q194.894 174.504 196.699 170.962 Q198.528 167.397 198.528 160.291 Q198.528 153.161 196.699 149.62 Q194.894 146.055 191.26 146.055 M191.26 142.351 Q197.07 142.351 200.125 146.958 Q203.204 151.541 203.204 160.291 Q203.204 169.018 200.125 173.624 Q197.07 178.208 191.26 178.208 Q185.449 178.208 182.371 173.624 Q179.315 169.018 179.315 160.291 Q179.315 151.541 182.371 146.958 Q185.449 142.351 191.26 142.351 Z\" fill=\"#4c4c4c\" fill-rule=\"evenodd\" fill-opacity=\"1\" /><path clip-path=\"url(#clip250)\" d=\"M 0 0 M67.3143 771.639 Q73.68 774.122 75.6216 776.477 Q77.5631 778.832 77.5631 782.779 L77.5631 787.458 L72.6615 787.458 L72.6615 784.02 Q72.6615 781.601 71.5157 780.265 Q70.3699 778.928 66.1048 777.305 L63.4312 776.254 L28.3562 790.673 L28.3562 784.466 L56.238 773.326 L28.3562 762.186 L28.3562 755.979 L67.3143 771.639 Z\" fill=\"#000000\" fill-rule=\"evenodd\" fill-opacity=\"1\" /><path clip-path=\"url(#clip250)\" d=\"M 0 0 M282.025 63.9476 L282.025 47.7034 L268.657 47.7034 L268.657 40.9789 L290.127 40.9789 L290.127 66.9452 Q285.388 70.3075 279.676 72.0494 Q273.964 73.7508 267.483 73.7508 Q253.304 73.7508 245.284 65.4869 Q237.303 57.1826 237.303 42.3968 Q237.303 27.5705 245.284 19.3066 Q253.304 11.0023 267.483 11.0023 Q273.397 11.0023 278.704 12.4606 Q284.051 13.9189 288.547 16.7545 L288.547 25.464 Q284.01 21.6156 278.906 19.6712 Q273.802 17.7268 268.171 17.7268 Q257.072 17.7268 251.482 23.9246 Q245.932 30.1225 245.932 42.3968 Q245.932 54.6305 251.482 60.8284 Q257.072 67.0263 268.171 67.0263 Q272.506 67.0263 275.909 66.2971 Q279.311 65.5274 282.025 63.9476 Z\" fill=\"#000000\" fill-rule=\"evenodd\" fill-opacity=\"1\" /><path clip-path=\"url(#clip250)\" d=\"M 0 0 M331.041 34.1734 Q329.786 33.4443 328.287 33.1202 Q326.828 32.7556 325.046 32.7556 Q318.727 32.7556 315.324 36.8875 Q311.962 40.9789 311.962 48.6757 L311.962 72.576 L304.467 72.576 L304.467 27.2059 L311.962 27.2059 L311.962 34.2544 Q314.311 30.1225 318.078 28.1376 Q321.846 26.1121 327.233 26.1121 Q328.003 26.1121 328.935 26.2337 Q329.867 26.3147 331.001 26.5172 L331.041 34.1734 Z\" fill=\"#000000\" fill-rule=\"evenodd\" fill-opacity=\"1\" /><path clip-path=\"url(#clip250)\" d=\"M 0 0 M359.479 49.7694 Q350.445 49.7694 346.961 51.8354 Q343.478 53.9013 343.478 58.8839 Q343.478 62.8538 346.07 65.2034 Q348.703 67.5124 353.2 67.5124 Q359.398 67.5124 363.124 63.1374 Q366.892 58.7219 366.892 51.4303 L366.892 49.7694 L359.479 49.7694 M374.345 46.6907 L374.345 72.576 L366.892 72.576 L366.892 65.6895 Q364.34 69.8214 360.532 71.8063 Q356.724 73.7508 351.215 73.7508 Q344.247 73.7508 340.115 69.8619 Q336.024 65.9325 336.024 59.3701 Q336.024 51.7138 341.128 47.825 Q346.273 43.9361 356.44 43.9361 L366.892 43.9361 L366.892 43.2069 Q366.892 38.0623 363.489 35.2672 Q360.127 32.4315 354.01 32.4315 Q350.121 32.4315 346.435 33.3632 Q342.748 34.295 339.346 36.1584 L339.346 29.2718 Q343.437 27.692 347.285 26.9223 Q351.134 26.1121 354.78 26.1121 Q364.623 26.1121 369.484 31.2163 Q374.345 36.3204 374.345 46.6907 M360.734 6.22219 L368.796 6.22219 L355.59 21.4536 L349.392 21.4536 L360.734 6.22219 Z\" fill=\"#000000\" fill-rule=\"evenodd\" fill-opacity=\"1\" /><path clip-path=\"url(#clip250)\" d=\"M 0 0 M412.667 9.54393 L412.667 15.7418 L405.537 15.7418 Q401.527 15.7418 399.947 17.3622 Q398.408 18.9825 398.408 23.1955 L398.408 27.2059 L410.682 27.2059 L410.682 32.9987 L398.408 32.9987 L398.408 72.576 L390.914 72.576 L390.914 32.9987 L383.784 32.9987 L383.784 27.2059 L390.914 27.2059 L390.914 24.0462 Q390.914 16.471 394.438 13.0277 Q397.962 9.54393 405.618 9.54393 L412.667 9.54393 Z\" fill=\"#000000\" fill-rule=\"evenodd\" fill-opacity=\"1\" /><path clip-path=\"url(#clip250)\" d=\"M 0 0 M418.905 27.2059 L426.359 27.2059 L426.359 72.576 L418.905 72.576 L418.905 27.2059 M418.905 9.54393 L426.359 9.54393 L426.359 18.9825 L418.905 18.9825 L418.905 9.54393 Z\" fill=\"#000000\" fill-rule=\"evenodd\" fill-opacity=\"1\" /><path clip-path=\"url(#clip250)\" d=\"M 0 0 M474.605 28.9478 L474.605 35.9153 Q471.446 34.1734 468.245 33.3227 Q465.086 32.4315 461.845 32.4315 Q454.594 32.4315 450.584 37.0496 Q446.573 41.6271 446.573 49.9314 Q446.573 58.2358 450.584 62.8538 Q454.594 67.4314 461.845 67.4314 Q465.086 67.4314 468.245 66.5807 Q471.446 65.6895 474.605 63.9476 L474.605 70.8341 Q471.486 72.2924 468.124 73.0216 Q464.802 73.7508 461.035 73.7508 Q450.786 73.7508 444.75 67.3098 Q438.714 60.8689 438.714 49.9314 Q438.714 38.832 444.791 32.472 Q450.908 26.1121 461.521 26.1121 Q464.964 26.1121 468.245 26.8413 Q471.527 27.5299 474.605 28.9478 Z\" fill=\"#000000\" fill-rule=\"evenodd\" fill-opacity=\"1\" /><path clip-path=\"url(#clip250)\" d=\"M 0 0 M505.149 32.4315 Q499.154 32.4315 495.67 37.1306 Q492.186 41.7891 492.186 49.9314 Q492.186 58.0738 495.63 62.7728 Q499.113 67.4314 505.149 67.4314 Q511.104 67.4314 514.588 62.7323 Q518.072 58.0333 518.072 49.9314 Q518.072 41.8701 514.588 37.1711 Q511.104 32.4315 505.149 32.4315 M505.149 26.1121 Q514.871 26.1121 520.421 32.4315 Q525.971 38.7509 525.971 49.9314 Q525.971 61.0714 520.421 67.4314 Q514.871 73.7508 505.149 73.7508 Q495.387 73.7508 489.837 67.4314 Q484.328 61.0714 484.328 49.9314 Q484.328 38.7509 489.837 32.4315 Q495.387 26.1121 505.149 26.1121 Z\" fill=\"#000000\" fill-rule=\"evenodd\" fill-opacity=\"1\" /><path clip-path=\"url(#clip250)\" d=\"M 0 0 M567.25 28.5427 L567.25 35.5912 Q564.09 33.9709 560.687 33.1607 Q557.284 32.3505 553.639 32.3505 Q548.089 32.3505 545.294 34.0519 Q542.539 35.7533 542.539 39.156 Q542.539 41.7486 544.524 43.2475 Q546.509 44.7058 552.504 46.0426 L555.056 46.6097 Q562.996 48.3111 566.318 51.4303 Q569.68 54.509 569.68 60.0587 Q569.68 66.3781 564.657 70.0644 Q559.674 73.7508 550.924 73.7508 Q547.279 73.7508 543.309 73.0216 Q539.379 72.3329 535.004 70.9151 L535.004 63.2184 Q539.136 65.3654 543.147 66.4591 Q547.157 67.5124 551.086 67.5124 Q556.353 67.5124 559.188 65.73 Q562.024 63.9071 562.024 60.6258 Q562.024 57.5877 559.958 55.9673 Q557.932 54.3469 551.005 52.8481 L548.413 52.2405 Q541.486 50.7821 538.407 47.7845 Q535.328 44.7463 535.328 39.4801 Q535.328 33.0797 539.865 29.5959 Q544.402 26.1121 552.747 26.1121 Q556.879 26.1121 560.525 26.7198 Q564.171 27.3274 567.25 28.5427 Z\" fill=\"#000000\" fill-rule=\"evenodd\" fill-opacity=\"1\" /><path clip-path=\"url(#clip250)\" d=\"M 0 0 M637.776 34.0924 L637.776 9.54393 L645.229 9.54393 L645.229 72.576 L637.776 72.576 L637.776 65.7705 Q635.426 69.8214 631.821 71.8063 Q628.256 73.7508 623.233 73.7508 Q615.01 73.7508 609.825 67.1883 Q604.68 60.6258 604.68 49.9314 Q604.68 39.2371 609.825 32.6746 Q615.01 26.1121 623.233 26.1121 Q628.256 26.1121 631.821 28.0971 Q635.426 30.0415 637.776 34.0924 M612.377 49.9314 Q612.377 58.1548 615.739 62.8538 Q619.142 67.5124 625.056 67.5124 Q630.97 67.5124 634.373 62.8538 Q637.776 58.1548 637.776 49.9314 Q637.776 41.7081 634.373 37.0496 Q630.97 32.3505 625.056 32.3505 Q619.142 32.3505 615.739 37.0496 Q612.377 41.7081 612.377 49.9314 Z\" fill=\"#000000\" fill-rule=\"evenodd\" fill-opacity=\"1\" /><path clip-path=\"url(#clip250)\" d=\"M 0 0 M699.39 48.0275 L699.39 51.6733 L665.119 51.6733 Q665.605 59.3701 669.737 63.421 Q673.91 67.4314 681.323 67.4314 Q685.617 67.4314 689.627 66.3781 Q693.678 65.3249 697.648 63.2184 L697.648 70.267 Q693.638 71.9684 689.425 72.8596 Q685.212 73.7508 680.877 73.7508 Q670.021 73.7508 663.661 67.4314 Q657.342 61.1119 657.342 50.3365 Q657.342 39.1965 663.337 32.6746 Q669.373 26.1121 679.581 26.1121 Q688.736 26.1121 694.043 32.0264 Q699.39 37.9003 699.39 48.0275 M691.936 45.84 Q691.855 39.7232 688.493 36.0774 Q685.171 32.4315 679.662 32.4315 Q673.424 32.4315 669.656 35.9558 Q665.93 39.4801 665.362 45.8805 L691.936 45.84 Z\" fill=\"#000000\" fill-rule=\"evenodd\" fill-opacity=\"1\" /><path clip-path=\"url(#clip250)\" d=\"M 0 0 M756.872 76.7889 Q753.713 84.8907 750.715 87.3618 Q747.717 89.8329 742.694 89.8329 L736.739 89.8329 L736.739 83.5945 L741.114 83.5945 Q744.193 83.5945 745.894 82.1361 Q747.596 80.6778 749.662 75.2496 L750.999 71.8468 L732.648 27.2059 L740.547 27.2059 L754.725 62.6918 L768.904 27.2059 L776.803 27.2059 L756.872 76.7889 Z\" fill=\"#000000\" fill-rule=\"evenodd\" fill-opacity=\"1\" /><path clip-path=\"url(#clip250)\" d=\"M 0 0 M788.064 34.9026 L839.997 34.9026 L839.997 41.7081 L788.064 41.7081 L788.064 34.9026 M788.064 51.4303 L839.997 51.4303 L839.997 58.3168 L788.064 58.3168 L788.064 51.4303 Z\" fill=\"#000000\" fill-rule=\"evenodd\" fill-opacity=\"1\" /><path clip-path=\"url(#clip250)\" d=\"M 0 0 M885.529 28.5427 L885.529 35.5912 Q882.369 33.9709 878.967 33.1607 Q875.564 32.3505 871.918 32.3505 Q866.368 32.3505 863.573 34.0519 Q860.819 35.7533 860.819 39.156 Q860.819 41.7486 862.804 43.2475 Q864.788 44.7058 870.784 46.0426 L873.336 46.6097 Q881.276 48.3111 884.597 51.4303 Q887.96 54.509 887.96 60.0587 Q887.96 66.3781 882.937 70.0644 Q877.954 73.7508 869.204 73.7508 Q865.558 73.7508 861.588 73.0216 Q857.659 72.3329 853.284 70.9151 L853.284 63.2184 Q857.416 65.3654 861.426 66.4591 Q865.437 67.5124 869.366 67.5124 Q874.632 67.5124 877.468 65.73 Q880.303 63.9071 880.303 60.6258 Q880.303 57.5877 878.237 55.9673 Q876.212 54.3469 869.285 52.8481 L866.692 52.2405 Q859.765 50.7821 856.687 47.7845 Q853.608 44.7463 853.608 39.4801 Q853.608 33.0797 858.145 29.5959 Q862.682 26.1121 871.027 26.1121 Q875.159 26.1121 878.805 26.7198 Q882.45 27.3274 885.529 28.5427 Z\" fill=\"#000000\" fill-rule=\"evenodd\" fill-opacity=\"1\" /><path clip-path=\"url(#clip250)\" d=\"M 0 0 M899.829 27.2059 L907.282 27.2059 L907.282 72.576 L899.829 72.576 L899.829 27.2059 M899.829 9.54393 L907.282 9.54393 L907.282 18.9825 L899.829 18.9825 L899.829 9.54393 Z\" fill=\"#000000\" fill-rule=\"evenodd\" fill-opacity=\"1\" /><path clip-path=\"url(#clip250)\" d=\"M 0 0 M960.592 45.1919 L960.592 72.576 L953.139 72.576 L953.139 45.4349 Q953.139 38.994 950.627 35.7938 Q948.116 32.5936 943.092 32.5936 Q937.057 32.5936 933.573 36.4419 Q930.089 40.2903 930.089 46.9338 L930.089 72.576 L922.595 72.576 L922.595 27.2059 L930.089 27.2059 L930.089 34.2544 Q932.763 30.163 936.368 28.1376 Q940.014 26.1121 944.753 26.1121 Q952.572 26.1121 956.582 30.9732 Q960.592 35.7938 960.592 45.1919 Z\" fill=\"#000000\" fill-rule=\"evenodd\" fill-opacity=\"1\" /><path clip-path=\"url(#clip250)\" d=\"M 0 0 M993.364 9.62495 Q987.936 18.942 985.303 28.0566 Q982.67 37.1711 982.67 46.5287 Q982.67 55.8863 985.303 65.0818 Q987.976 74.2369 993.364 83.5134 L986.883 83.5134 Q980.806 73.9938 977.768 64.7983 Q974.771 55.6027 974.771 46.5287 Q974.771 37.4952 977.768 28.3401 Q980.766 19.1851 986.883 9.62495 L993.364 9.62495 Z\" fill=\"#000000\" fill-rule=\"evenodd\" fill-opacity=\"1\" /><path clip-path=\"url(#clip250)\" d=\"M 0 0 M1045.54 27.2059 L1029.13 49.2833 L1046.39 72.576 L1037.6 72.576 L1024.39 54.752 L1011.19 72.576 L1002.4 72.576 L1020.02 48.8377 L1003.9 27.2059 L1012.69 27.2059 L1024.72 43.369 L1036.75 27.2059 L1045.54 27.2059 Z\" fill=\"#000000\" fill-rule=\"evenodd\" fill-opacity=\"1\" /><path clip-path=\"url(#clip250)\" d=\"M 0 0 M1055.75 9.62495 L1062.23 9.62495 Q1068.31 19.1851 1071.3 28.3401 Q1074.34 37.4952 1074.34 46.5287 Q1074.34 55.6027 1071.3 64.7983 Q1068.31 73.9938 1062.23 83.5134 L1055.75 83.5134 Q1061.14 74.2369 1063.77 65.0818 Q1066.44 55.8863 1066.44 46.5287 Q1066.44 37.1711 1063.77 28.0566 Q1061.14 18.942 1055.75 9.62495 Z\" fill=\"#000000\" fill-rule=\"evenodd\" fill-opacity=\"1\" /><path clip-path=\"url(#clip250)\" d=\"M 0 0 M1154.47 48.0275 L1154.47 51.6733 L1120.2 51.6733 Q1120.68 59.3701 1124.82 63.421 Q1128.99 67.4314 1136.4 67.4314 Q1140.7 67.4314 1144.71 66.3781 Q1148.76 65.3249 1152.73 63.2184 L1152.73 70.267 Q1148.72 71.9684 1144.5 72.8596 Q1140.29 73.7508 1135.96 73.7508 Q1125.1 73.7508 1118.74 67.4314 Q1112.42 61.1119 1112.42 50.3365 Q1112.42 39.1965 1118.42 32.6746 Q1124.45 26.1121 1134.66 26.1121 Q1143.81 26.1121 1149.12 32.0264 Q1154.47 37.9003 1154.47 48.0275 M1147.01 45.84 Q1146.93 39.7232 1143.57 36.0774 Q1140.25 32.4315 1134.74 32.4315 Q1128.5 32.4315 1124.73 35.9558 Q1121.01 39.4801 1120.44 45.8805 L1147.01 45.84 Z\" fill=\"#000000\" fill-rule=\"evenodd\" fill-opacity=\"1\" /><path clip-path=\"url(#clip250)\" d=\"M 0 0 M1211.95 76.7889 Q1208.79 84.8907 1205.79 87.3618 Q1202.8 89.8329 1197.77 89.8329 L1191.82 89.8329 L1191.82 83.5945 L1196.19 83.5945 Q1199.27 83.5945 1200.97 82.1361 Q1202.67 80.6778 1204.74 75.2496 L1206.08 71.8468 L1187.73 27.2059 L1195.63 27.2059 L1209.8 62.6918 L1223.98 27.2059 L1231.88 27.2059 L1211.95 76.7889 Z\" fill=\"#000000\" fill-rule=\"evenodd\" fill-opacity=\"1\" /><path clip-path=\"url(#clip250)\" d=\"M 0 0 M1243.14 34.9026 L1295.08 34.9026 L1295.08 41.7081 L1243.14 41.7081 L1243.14 34.9026 M1243.14 51.4303 L1295.08 51.4303 L1295.08 58.3168 L1243.14 58.3168 L1243.14 51.4303 Z\" fill=\"#000000\" fill-rule=\"evenodd\" fill-opacity=\"1\" /><path clip-path=\"url(#clip250)\" d=\"M 0 0 M1344.33 28.9478 L1344.33 35.9153 Q1341.17 34.1734 1337.97 33.3227 Q1334.81 32.4315 1331.57 32.4315 Q1324.32 32.4315 1320.31 37.0496 Q1316.3 41.6271 1316.3 49.9314 Q1316.3 58.2358 1320.31 62.8538 Q1324.32 67.4314 1331.57 67.4314 Q1334.81 67.4314 1337.97 66.5807 Q1341.17 65.6895 1344.33 63.9476 L1344.33 70.8341 Q1341.22 72.2924 1337.85 73.0216 Q1334.53 73.7508 1330.76 73.7508 Q1320.52 73.7508 1314.48 67.3098 Q1308.44 60.8689 1308.44 49.9314 Q1308.44 38.832 1314.52 32.472 Q1320.64 26.1121 1331.25 26.1121 Q1334.69 26.1121 1337.97 26.8413 Q1341.26 27.5299 1344.33 28.9478 Z\" fill=\"#000000\" fill-rule=\"evenodd\" fill-opacity=\"1\" /><path clip-path=\"url(#clip250)\" d=\"M 0 0 M1374.88 32.4315 Q1368.88 32.4315 1365.4 37.1306 Q1361.92 41.7891 1361.92 49.9314 Q1361.92 58.0738 1365.36 62.7728 Q1368.84 67.4314 1374.88 67.4314 Q1380.83 67.4314 1384.32 62.7323 Q1387.8 58.0333 1387.8 49.9314 Q1387.8 41.8701 1384.32 37.1711 Q1380.83 32.4315 1374.88 32.4315 M1374.88 26.1121 Q1384.6 26.1121 1390.15 32.4315 Q1395.7 38.7509 1395.7 49.9314 Q1395.7 61.0714 1390.15 67.4314 Q1384.6 73.7508 1374.88 73.7508 Q1365.12 73.7508 1359.57 67.4314 Q1354.06 61.0714 1354.06 49.9314 Q1354.06 38.7509 1359.57 32.4315 Q1365.12 26.1121 1374.88 26.1121 Z\" fill=\"#000000\" fill-rule=\"evenodd\" fill-opacity=\"1\" /><path clip-path=\"url(#clip250)\" d=\"M 0 0 M1436.98 28.5427 L1436.98 35.5912 Q1433.82 33.9709 1430.42 33.1607 Q1427.01 32.3505 1423.37 32.3505 Q1417.82 32.3505 1415.02 34.0519 Q1412.27 35.7533 1412.27 39.156 Q1412.27 41.7486 1414.25 43.2475 Q1416.24 44.7058 1422.23 46.0426 L1424.79 46.6097 Q1432.73 48.3111 1436.05 51.4303 Q1439.41 54.509 1439.41 60.0587 Q1439.41 66.3781 1434.39 70.0644 Q1429.4 73.7508 1420.65 73.7508 Q1417.01 73.7508 1413.04 73.0216 Q1409.11 72.3329 1404.73 70.9151 L1404.73 63.2184 Q1408.87 65.3654 1412.88 66.4591 Q1416.89 67.5124 1420.82 67.5124 Q1426.08 67.5124 1428.92 65.73 Q1431.75 63.9071 1431.75 60.6258 Q1431.75 57.5877 1429.69 55.9673 Q1427.66 54.3469 1420.73 52.8481 L1418.14 52.2405 Q1411.21 50.7821 1408.14 47.7845 Q1405.06 44.7463 1405.06 39.4801 Q1405.06 33.0797 1409.59 29.5959 Q1414.13 26.1121 1422.48 26.1121 Q1426.61 26.1121 1430.25 26.7198 Q1433.9 27.3274 1436.98 28.5427 Z\" fill=\"#000000\" fill-rule=\"evenodd\" fill-opacity=\"1\" /><path clip-path=\"url(#clip250)\" d=\"M 0 0 M1469.18 9.62495 Q1463.76 18.942 1461.12 28.0566 Q1458.49 37.1711 1458.49 46.5287 Q1458.49 55.8863 1461.12 65.0818 Q1463.8 74.2369 1469.18 83.5134 L1462.7 83.5134 Q1456.63 73.9938 1453.59 64.7983 Q1450.59 55.6027 1450.59 46.5287 Q1450.59 37.4952 1453.59 28.3401 Q1456.59 19.1851 1462.7 9.62495 L1469.18 9.62495 Z\" fill=\"#000000\" fill-rule=\"evenodd\" fill-opacity=\"1\" /><path clip-path=\"url(#clip250)\" d=\"M 0 0 M1521.36 27.2059 L1504.95 49.2833 L1522.21 72.576 L1513.42 72.576 L1500.21 54.752 L1487.01 72.576 L1478.22 72.576 L1495.84 48.8377 L1479.72 27.2059 L1488.51 27.2059 L1500.54 43.369 L1512.57 27.2059 L1521.36 27.2059 Z\" fill=\"#000000\" fill-rule=\"evenodd\" fill-opacity=\"1\" /><path clip-path=\"url(#clip250)\" d=\"M 0 0 M1531.57 9.62495 L1538.05 9.62495 Q1544.13 19.1851 1547.12 28.3401 Q1550.16 37.4952 1550.16 46.5287 Q1550.16 55.6027 1547.12 64.7983 Q1544.13 73.9938 1538.05 83.5134 L1531.57 83.5134 Q1536.95 74.2369 1539.59 65.0818 Q1542.26 55.8863 1542.26 46.5287 Q1542.26 37.1711 1539.59 28.0566 Q1536.95 18.942 1531.57 9.62495 Z\" fill=\"#000000\" fill-rule=\"evenodd\" fill-opacity=\"1\" /><path clip-path=\"url(#clip250)\" d=\"M 0 0 M1629.19 45.1919 L1629.19 72.576 L1621.74 72.576 L1621.74 45.4349 Q1621.74 38.994 1619.23 35.7938 Q1616.72 32.5936 1611.69 32.5936 Q1605.66 32.5936 1602.17 36.4419 Q1598.69 40.2903 1598.69 46.9338 L1598.69 72.576 L1591.2 72.576 L1591.2 27.2059 L1598.69 27.2059 L1598.69 34.2544 Q1601.36 30.163 1604.97 28.1376 Q1608.62 26.1121 1613.36 26.1121 Q1621.17 26.1121 1625.18 30.9732 Q1629.19 35.7938 1629.19 45.1919 Z\" fill=\"#000000\" fill-rule=\"evenodd\" fill-opacity=\"1\" /><path clip-path=\"url(#clip250)\" d=\"M 0 0 M1661.64 32.4315 Q1655.65 32.4315 1652.16 37.1306 Q1648.68 41.7891 1648.68 49.9314 Q1648.68 58.0738 1652.12 62.7728 Q1655.61 67.4314 1661.64 67.4314 Q1667.6 67.4314 1671.08 62.7323 Q1674.56 58.0333 1674.56 49.9314 Q1674.56 41.8701 1671.08 37.1711 Q1667.6 32.4315 1661.64 32.4315 M1661.64 26.1121 Q1671.36 26.1121 1676.91 32.4315 Q1682.46 38.7509 1682.46 49.9314 Q1682.46 61.0714 1676.91 67.4314 Q1671.36 73.7508 1661.64 73.7508 Q1651.88 73.7508 1646.33 67.4314 Q1640.82 61.0714 1640.82 49.9314 Q1640.82 38.7509 1646.33 32.4315 Q1651.88 26.1121 1661.64 26.1121 Z\" fill=\"#000000\" fill-rule=\"evenodd\" fill-opacity=\"1\" /><path clip-path=\"url(#clip250)\" d=\"M 0 0 M1721.19 27.2059 L1728.64 27.2059 L1728.64 72.576 L1721.19 72.576 L1721.19 27.2059 M1721.19 9.54393 L1728.64 9.54393 L1728.64 18.9825 L1721.19 18.9825 L1721.19 9.54393 Z\" fill=\"#000000\" fill-rule=\"evenodd\" fill-opacity=\"1\" /><path clip-path=\"url(#clip250)\" d=\"M 0 0 M1781.95 45.1919 L1781.95 72.576 L1774.5 72.576 L1774.5 45.4349 Q1774.5 38.994 1771.99 35.7938 Q1769.48 32.5936 1764.45 32.5936 Q1758.42 32.5936 1754.93 36.4419 Q1751.45 40.2903 1751.45 46.9338 L1751.45 72.576 L1743.96 72.576 L1743.96 27.2059 L1751.45 27.2059 L1751.45 34.2544 Q1754.12 30.163 1757.73 28.1376 Q1761.38 26.1121 1766.11 26.1121 Q1773.93 26.1121 1777.94 30.9732 Q1781.95 35.7938 1781.95 45.1919 Z\" fill=\"#000000\" fill-rule=\"evenodd\" fill-opacity=\"1\" /><path clip-path=\"url(#clip250)\" d=\"M 0 0 M1804.19 14.324 L1804.19 27.2059 L1819.55 27.2059 L1819.55 32.9987 L1804.19 32.9987 L1804.19 57.6282 Q1804.19 63.1779 1805.69 64.7578 Q1807.23 66.3376 1811.89 66.3376 L1819.55 66.3376 L1819.55 72.576 L1811.89 72.576 Q1803.26 72.576 1799.98 69.3758 Q1796.7 66.1351 1796.7 57.6282 L1796.7 32.9987 L1791.23 32.9987 L1791.23 27.2059 L1796.7 27.2059 L1796.7 14.324 L1804.19 14.324 Z\" fill=\"#000000\" fill-rule=\"evenodd\" fill-opacity=\"1\" /><path clip-path=\"url(#clip250)\" d=\"M 0 0 M1868.16 48.0275 L1868.16 51.6733 L1833.89 51.6733 Q1834.37 59.3701 1838.5 63.421 Q1842.68 67.4314 1850.09 67.4314 Q1854.38 67.4314 1858.39 66.3781 Q1862.45 65.3249 1866.42 63.2184 L1866.42 70.267 Q1862.4 71.9684 1858.19 72.8596 Q1853.98 73.7508 1849.64 73.7508 Q1838.79 73.7508 1832.43 67.4314 Q1826.11 61.1119 1826.11 50.3365 Q1826.11 39.1965 1832.1 32.6746 Q1838.14 26.1121 1848.35 26.1121 Q1857.5 26.1121 1862.81 32.0264 Q1868.16 37.9003 1868.16 48.0275 M1860.7 45.84 Q1860.62 39.7232 1857.26 36.0774 Q1853.94 32.4315 1848.43 32.4315 Q1842.19 32.4315 1838.42 35.9558 Q1834.7 39.4801 1834.13 45.8805 L1860.7 45.84 Z\" fill=\"#000000\" fill-rule=\"evenodd\" fill-opacity=\"1\" /><path clip-path=\"url(#clip250)\" d=\"M 0 0 M1906.68 34.1734 Q1905.43 33.4443 1903.93 33.1202 Q1902.47 32.7556 1900.69 32.7556 Q1894.37 32.7556 1890.96 36.8875 Q1887.6 40.9789 1887.6 48.6757 L1887.6 72.576 L1880.11 72.576 L1880.11 27.2059 L1887.6 27.2059 L1887.6 34.2544 Q1889.95 30.1225 1893.72 28.1376 Q1897.49 26.1121 1902.87 26.1121 Q1903.64 26.1121 1904.57 26.2337 Q1905.51 26.3147 1906.64 26.5172 L1906.68 34.1734 Z\" fill=\"#000000\" fill-rule=\"evenodd\" fill-opacity=\"1\" /><path clip-path=\"url(#clip250)\" d=\"M 0 0 M1909.15 27.2059 L1917.05 27.2059 L1931.23 65.2844 L1945.41 27.2059 L1953.31 27.2059 L1936.29 72.576 L1926.17 72.576 L1909.15 27.2059 Z\" fill=\"#000000\" fill-rule=\"evenodd\" fill-opacity=\"1\" /><path clip-path=\"url(#clip250)\" d=\"M 0 0 M1984.22 49.7694 Q1975.18 49.7694 1971.7 51.8354 Q1968.21 53.9013 1968.21 58.8839 Q1968.21 62.8538 1970.81 65.2034 Q1973.44 67.5124 1977.94 67.5124 Q1984.13 67.5124 1987.86 63.1374 Q1991.63 58.7219 1991.63 51.4303 L1991.63 49.7694 L1984.22 49.7694 M1999.08 46.6907 L1999.08 72.576 L1991.63 72.576 L1991.63 65.6895 Q1989.08 69.8214 1985.27 71.8063 Q1981.46 73.7508 1975.95 73.7508 Q1968.98 73.7508 1964.85 69.8619 Q1960.76 65.9325 1960.76 59.3701 Q1960.76 51.7138 1965.86 47.825 Q1971.01 43.9361 1981.18 43.9361 L1991.63 43.9361 L1991.63 43.2069 Q1991.63 38.0623 1988.23 35.2672 Q1984.86 32.4315 1978.75 32.4315 Q1974.86 32.4315 1971.17 33.3632 Q1967.49 34.295 1964.08 36.1584 L1964.08 29.2718 Q1968.17 27.692 1972.02 26.9223 Q1975.87 26.1121 1979.52 26.1121 Q1989.36 26.1121 1994.22 31.2163 Q1999.08 36.3204 1999.08 46.6907 Z\" fill=\"#000000\" fill-rule=\"evenodd\" fill-opacity=\"1\" /><path clip-path=\"url(#clip250)\" d=\"M 0 0 M2014.44 9.54393 L2021.89 9.54393 L2021.89 72.576 L2014.44 72.576 L2014.44 9.54393 Z\" fill=\"#000000\" fill-rule=\"evenodd\" fill-opacity=\"1\" /><path clip-path=\"url(#clip250)\" d=\"M 0 0 M2055.07 32.4315 Q2049.07 32.4315 2045.59 37.1306 Q2042.1 41.7891 2042.1 49.9314 Q2042.1 58.0738 2045.55 62.7728 Q2049.03 67.4314 2055.07 67.4314 Q2061.02 67.4314 2064.5 62.7323 Q2067.99 58.0333 2067.99 49.9314 Q2067.99 41.8701 2064.5 37.1711 Q2061.02 32.4315 2055.07 32.4315 M2055.07 26.1121 Q2064.79 26.1121 2070.34 32.4315 Q2075.89 38.7509 2075.89 49.9314 Q2075.89 61.0714 2070.34 67.4314 Q2064.79 73.7508 2055.07 73.7508 Q2045.3 73.7508 2039.75 67.4314 Q2034.24 61.0714 2034.24 49.9314 Q2034.24 38.7509 2039.75 32.4315 Q2045.3 26.1121 2055.07 26.1121 Z\" fill=\"#000000\" fill-rule=\"evenodd\" fill-opacity=\"1\" /><path clip-path=\"url(#clip250)\" d=\"M 0 0 M2132.52 9.62495 Q2127.09 18.942 2124.46 28.0566 Q2121.82 37.1711 2121.82 46.5287 Q2121.82 55.8863 2124.46 65.0818 Q2127.13 74.2369 2132.52 83.5134 L2126.04 83.5134 Q2119.96 73.9938 2116.92 64.7983 Q2113.93 55.6027 2113.93 46.5287 Q2113.93 37.4952 2116.92 28.3401 Q2119.92 19.1851 2126.04 9.62495 L2132.52 9.62495 Z\" fill=\"#000000\" fill-rule=\"evenodd\" fill-opacity=\"1\" /><path clip-path=\"url(#clip250)\" d=\"M 0 0 M2165.53 17.4837 Q2159.21 17.4837 2156.01 23.7221 Q2152.85 29.92 2152.85 42.3968 Q2152.85 54.833 2156.01 61.0714 Q2159.21 67.2693 2165.53 67.2693 Q2171.89 67.2693 2175.05 61.0714 Q2178.25 54.833 2178.25 42.3968 Q2178.25 29.92 2175.05 23.7221 Q2171.89 17.4837 2165.53 17.4837 M2165.53 11.0023 Q2175.7 11.0023 2181.05 19.0636 Q2186.44 27.0843 2186.44 42.3968 Q2186.44 57.6687 2181.05 65.73 Q2175.7 73.7508 2165.53 73.7508 Q2155.37 73.7508 2149.98 65.73 Q2144.63 57.6687 2144.63 42.3968 Q2144.63 27.0843 2149.98 19.0636 Q2155.37 11.0023 2165.53 11.0023 Z\" fill=\"#000000\" fill-rule=\"evenodd\" fill-opacity=\"1\" /><path clip-path=\"url(#clip250)\" d=\"M 0 0 M2201.67 62.2867 L2210.22 62.2867 L2210.22 69.2543 L2203.57 82.2172 L2198.35 82.2172 L2201.67 69.2543 L2201.67 62.2867 Z\" fill=\"#000000\" fill-rule=\"evenodd\" fill-opacity=\"1\" /><path clip-path=\"url(#clip250)\" d=\"M 0 0 M2260.61 65.6895 L2289.17 65.6895 L2289.17 72.576 L2250.76 72.576 L2250.76 65.6895 Q2255.42 60.8689 2263.44 52.7671 Q2271.51 44.6248 2273.57 42.2752 Q2277.5 37.8598 2279.04 34.8216 Q2280.62 31.7429 2280.62 28.7857 Q2280.62 23.9651 2277.22 20.927 Q2273.85 17.8888 2268.43 17.8888 Q2264.58 17.8888 2260.28 19.2256 Q2256.03 20.5624 2251.17 23.2765 L2251.17 15.0127 Q2256.11 13.0277 2260.41 12.015 Q2264.7 11.0023 2268.26 11.0023 Q2277.66 11.0023 2283.25 15.7013 Q2288.84 20.4004 2288.84 28.2591 Q2288.84 31.9859 2287.43 35.3482 Q2286.05 38.6699 2282.36 43.2069 Q2281.35 44.3817 2275.92 50.0125 Q2270.49 55.6027 2260.61 65.6895 Z\" fill=\"#000000\" fill-rule=\"evenodd\" fill-opacity=\"1\" /><path clip-path=\"url(#clip250)\" d=\"M 0 0 M2300.47 27.2059 L2343.94 27.2059 L2343.94 34.6595 L2338.22 34.6595 L2338.22 62.5298 Q2338.22 65.4464 2339.2 66.7427 Q2340.21 67.9985 2342.44 67.9985 Q2343.04 67.9985 2343.94 67.9175 Q2344.83 67.7959 2345.11 67.7554 L2345.11 73.1431 Q2343.69 73.6697 2342.19 73.9128 Q2340.69 74.1559 2339.2 74.1559 Q2334.33 74.1559 2332.47 71.5228 Q2330.61 68.8492 2330.61 61.7196 L2330.61 34.6595 L2313.88 34.6595 L2313.88 72.576 L2306.26 72.576 L2306.26 34.6595 L2300.47 34.6595 L2300.47 27.2059 Z\" fill=\"#000000\" fill-rule=\"evenodd\" fill-opacity=\"1\" /><path clip-path=\"url(#clip250)\" d=\"M 0 0 M2354.06 9.62495 L2360.54 9.62495 Q2366.62 19.1851 2369.62 28.3401 Q2372.66 37.4952 2372.66 46.5287 Q2372.66 55.6027 2369.62 64.7983 Q2366.62 73.9938 2360.54 83.5134 L2354.06 83.5134 Q2359.45 74.2369 2362.08 65.0818 Q2364.76 55.8863 2364.76 46.5287 Q2364.76 37.1711 2362.08 28.0566 Q2359.45 18.942 2354.06 9.62495 Z\" fill=\"#000000\" fill-rule=\"evenodd\" fill-opacity=\"1\" /><polyline clip-path=\"url(#clip252)\" style=\"stroke:#009af9; stroke-width:4; stroke-opacity:1; fill:none\" points=\"\n",
       "  316.512,773.35 348.398,712.142 380.284,651.547 412.17,592.168 444.056,534.6 475.942,479.417 507.828,427.171 539.715,378.384 571.601,333.543 603.487,293.097 \n",
       "  635.373,257.449 667.259,226.956 699.145,201.923 731.031,182.599 762.917,169.177 794.803,161.792 826.689,160.518 858.575,165.367 890.461,176.29 922.347,193.179 \n",
       "  954.233,215.865 986.119,244.122 1018.01,277.666 1049.89,316.163 1081.78,359.228 1113.66,406.43 1145.55,457.299 1177.44,511.326 1209.32,567.971 1241.21,626.667 \n",
       "  1273.09,686.83 1304.98,747.857 1336.87,809.138 1368.75,870.062 1400.64,930.02 1432.52,988.412 1464.41,1044.66 1496.3,1098.19 1528.18,1148.48 1560.07,1195.01 \n",
       "  1591.95,1237.34 1623.84,1275.03 1655.73,1307.71 1687.61,1335.04 1719.5,1356.77 1751.38,1372.67 1783.27,1382.57 1815.16,1386.4 1847.04,1384.09 1878.93,1375.68 \n",
       "  1910.82,1361.26 1942.7,1340.96 1974.59,1314.99 2006.47,1283.61 2038.36,1247.13 2070.25,1205.91 2102.13,1160.37 2134.02,1110.97 2165.9,1058.19 2197.79,1002.57 \n",
       "  2229.68,944.657 2261.56,885.032 2293.45,824.291 \n",
       "  \"/>\n",
       "<polyline clip-path=\"url(#clip252)\" style=\"stroke:#e26f46; stroke-width:4; stroke-opacity:1; fill:none\" points=\"\n",
       "  316.512,160.256 348.398,163.319 380.284,172.477 412.17,187.639 444.056,208.653 475.942,235.31 507.828,267.342 539.715,304.43 571.601,346.203 603.487,392.245 \n",
       "  635.373,442.094 667.259,495.253 699.145,551.19 731.031,609.348 762.917,669.144 794.803,729.981 826.689,791.252 858.575,852.343 890.461,912.646 922.347,971.556 \n",
       "  954.233,1028.49 986.119,1082.87 1018.01,1134.16 1049.89,1181.84 1081.78,1225.44 1113.66,1264.53 1145.55,1298.7 1177.44,1327.63 1209.32,1351.02 1241.21,1368.64 \n",
       "  1273.09,1380.31 1304.98,1385.91 1336.87,1385.4 1368.75,1378.77 1400.64,1366.09 1432.52,1347.48 1464.41,1323.15 1496.3,1293.31 1528.18,1258.29 1560.07,1218.41 \n",
       "  1591.95,1174.09 1623.84,1125.77 1655.73,1073.93 1687.61,1019.08 1719.5,961.773 1751.38,902.587 1783.27,842.109 1815.16,780.945 1847.04,719.704 1878.93,659 \n",
       "  1910.82,599.438 1942.7,541.614 1974.59,486.105 2006.47,433.466 2038.36,384.224 2070.25,338.869 2102.13,297.855 2134.02,261.593 2165.9,230.444 2197.79,204.719 \n",
       "  2229.68,184.676 2261.56,170.514 2293.45,162.376 \n",
       "  \"/>\n",
       "<path clip-path=\"url(#clip250)\" d=\"\n",
       "M1842.96 348.236 L2282.9 348.236 L2282.9 166.796 L1842.96 166.796  Z\n",
       "  \" fill=\"#eaeaea\" fill-rule=\"evenodd\" fill-opacity=\"1\"/>\n",
       "<polyline clip-path=\"url(#clip250)\" style=\"stroke:#ffffff; stroke-width:4; stroke-opacity:1; fill:none\" points=\"\n",
       "  1842.96,348.236 2282.9,348.236 2282.9,166.796 1842.96,166.796 1842.96,348.236 \n",
       "  \"/>\n",
       "<polyline clip-path=\"url(#clip250)\" style=\"stroke:#009af9; stroke-width:4; stroke-opacity:1; fill:none\" points=\"\n",
       "  1866.24,227.276 2005.95,227.276 \n",
       "  \"/>\n",
       "<path clip-path=\"url(#clip250)\" d=\"M 0 0 M2043.07 246.963 Q2041.27 251.593 2039.56 253.005 Q2037.84 254.417 2034.97 254.417 L2031.57 254.417 L2031.57 250.852 L2034.07 250.852 Q2035.83 250.852 2036.8 250.019 Q2037.77 249.185 2038.95 246.083 L2039.72 244.139 L2029.23 218.63 L2033.74 218.63 L2041.85 238.908 L2049.95 218.63 L2054.46 218.63 L2043.07 246.963 Z\" fill=\"#000000\" fill-rule=\"evenodd\" fill-opacity=\"1\" /><path clip-path=\"url(#clip250)\" d=\"M 0 0 M2060.9 223.028 L2090.57 223.028 L2090.57 226.917 L2060.9 226.917 L2060.9 223.028 M2060.9 232.472 L2090.57 232.472 L2090.57 236.408 L2060.9 236.408 L2060.9 232.472 Z\" fill=\"#000000\" fill-rule=\"evenodd\" fill-opacity=\"1\" /><path clip-path=\"url(#clip250)\" d=\"M 0 0 M2116.59 219.394 L2116.59 223.422 Q2114.79 222.496 2112.84 222.033 Q2110.9 221.57 2108.81 221.57 Q2105.64 221.57 2104.05 222.542 Q2102.47 223.514 2102.47 225.459 Q2102.47 226.94 2103.61 227.797 Q2104.74 228.63 2108.17 229.394 L2109.62 229.718 Q2114.16 230.69 2116.06 232.472 Q2117.98 234.232 2117.98 237.403 Q2117.98 241.014 2115.11 243.121 Q2112.26 245.227 2107.26 245.227 Q2105.18 245.227 2102.91 244.81 Q2100.67 244.417 2098.17 243.607 L2098.17 239.209 Q2100.53 240.435 2102.82 241.06 Q2105.11 241.662 2107.36 241.662 Q2110.36 241.662 2111.99 240.644 Q2113.61 239.602 2113.61 237.727 Q2113.61 235.991 2112.42 235.065 Q2111.27 234.139 2107.31 233.283 L2105.83 232.935 Q2101.87 232.102 2100.11 230.389 Q2098.35 228.653 2098.35 225.644 Q2098.35 221.986 2100.94 219.996 Q2103.54 218.005 2108.3 218.005 Q2110.67 218.005 2112.75 218.352 Q2114.83 218.699 2116.59 219.394 Z\" fill=\"#000000\" fill-rule=\"evenodd\" fill-opacity=\"1\" /><path clip-path=\"url(#clip250)\" d=\"M 0 0 M2124.76 218.63 L2129.02 218.63 L2129.02 244.556 L2124.76 244.556 L2124.76 218.63 M2124.76 208.537 L2129.02 208.537 L2129.02 213.931 L2124.76 213.931 L2124.76 208.537 Z\" fill=\"#000000\" fill-rule=\"evenodd\" fill-opacity=\"1\" /><path clip-path=\"url(#clip250)\" d=\"M 0 0 M2159.48 228.908 L2159.48 244.556 L2155.23 244.556 L2155.23 229.047 Q2155.23 225.366 2153.79 223.537 Q2152.36 221.709 2149.48 221.709 Q2146.04 221.709 2144.05 223.908 Q2142.05 226.107 2142.05 229.903 L2142.05 244.556 L2137.77 244.556 L2137.77 218.63 L2142.05 218.63 L2142.05 222.658 Q2143.58 220.32 2145.64 219.162 Q2147.73 218.005 2150.43 218.005 Q2154.9 218.005 2157.19 220.783 Q2159.48 223.537 2159.48 228.908 Z\" fill=\"#000000\" fill-rule=\"evenodd\" fill-opacity=\"1\" /><path clip-path=\"url(#clip250)\" d=\"M 0 0 M2178.21 208.584 Q2175.11 213.908 2173.61 219.116 Q2172.1 224.324 2172.1 229.672 Q2172.1 235.019 2173.61 240.273 Q2175.13 245.505 2178.21 250.806 L2174.51 250.806 Q2171.04 245.366 2169.3 240.111 Q2167.59 234.857 2167.59 229.672 Q2167.59 224.51 2169.3 219.278 Q2171.01 214.047 2174.51 208.584 L2178.21 208.584 Z\" fill=\"#000000\" fill-rule=\"evenodd\" fill-opacity=\"1\" /><path clip-path=\"url(#clip250)\" d=\"M 0 0 M2208.03 218.63 L2198.65 231.246 L2208.51 244.556 L2203.49 244.556 L2195.94 234.371 L2188.4 244.556 L2183.37 244.556 L2193.44 230.991 L2184.23 218.63 L2189.25 218.63 L2196.13 227.866 L2203 218.63 L2208.03 218.63 Z\" fill=\"#000000\" fill-rule=\"evenodd\" fill-opacity=\"1\" /><path clip-path=\"url(#clip250)\" d=\"M 0 0 M2213.86 208.584 L2217.56 208.584 Q2221.04 214.047 2222.75 219.278 Q2224.48 224.51 2224.48 229.672 Q2224.48 234.857 2222.75 240.111 Q2221.04 245.366 2217.56 250.806 L2213.86 250.806 Q2216.94 245.505 2218.44 240.273 Q2219.97 235.019 2219.97 229.672 Q2219.97 224.324 2218.44 219.116 Q2216.94 213.908 2213.86 208.584 Z\" fill=\"#000000\" fill-rule=\"evenodd\" fill-opacity=\"1\" /><polyline clip-path=\"url(#clip250)\" style=\"stroke:#e26f46; stroke-width:4; stroke-opacity:1; fill:none\" points=\"\n",
       "  1866.24,287.756 2005.95,287.756 \n",
       "  \"/>\n",
       "<path clip-path=\"url(#clip250)\" d=\"M 0 0 M2043.07 307.443 Q2041.27 312.073 2039.56 313.485 Q2037.84 314.897 2034.97 314.897 L2031.57 314.897 L2031.57 311.332 L2034.07 311.332 Q2035.83 311.332 2036.8 310.499 Q2037.77 309.665 2038.95 306.563 L2039.72 304.619 L2029.23 279.11 L2033.74 279.11 L2041.85 299.388 L2049.95 279.11 L2054.46 279.11 L2043.07 307.443 Z\" fill=\"#000000\" fill-rule=\"evenodd\" fill-opacity=\"1\" /><path clip-path=\"url(#clip250)\" d=\"M 0 0 M2060.9 283.508 L2090.57 283.508 L2090.57 287.397 L2060.9 287.397 L2060.9 283.508 M2060.9 292.952 L2090.57 292.952 L2090.57 296.888 L2060.9 296.888 L2060.9 292.952 Z\" fill=\"#000000\" fill-rule=\"evenodd\" fill-opacity=\"1\" /><path clip-path=\"url(#clip250)\" d=\"M 0 0 M2118.72 280.105 L2118.72 284.087 Q2116.92 283.091 2115.09 282.605 Q2113.28 282.096 2111.43 282.096 Q2107.29 282.096 2104.99 284.735 Q2102.7 287.351 2102.7 292.096 Q2102.7 296.841 2104.99 299.48 Q2107.29 302.096 2111.43 302.096 Q2113.28 302.096 2115.09 301.61 Q2116.92 301.101 2118.72 300.105 L2118.72 304.04 Q2116.94 304.874 2115.02 305.29 Q2113.12 305.707 2110.97 305.707 Q2105.11 305.707 2101.66 302.026 Q2098.21 298.346 2098.21 292.096 Q2098.21 285.753 2101.68 282.119 Q2105.18 278.485 2111.24 278.485 Q2113.21 278.485 2115.09 278.902 Q2116.96 279.295 2118.72 280.105 Z\" fill=\"#000000\" fill-rule=\"evenodd\" fill-opacity=\"1\" /><path clip-path=\"url(#clip250)\" d=\"M 0 0 M2136.17 282.096 Q2132.75 282.096 2130.76 284.781 Q2128.77 287.443 2128.77 292.096 Q2128.77 296.749 2130.74 299.434 Q2132.73 302.096 2136.17 302.096 Q2139.58 302.096 2141.57 299.411 Q2143.56 296.726 2143.56 292.096 Q2143.56 287.49 2141.57 284.804 Q2139.58 282.096 2136.17 282.096 M2136.17 278.485 Q2141.73 278.485 2144.9 282.096 Q2148.07 285.707 2148.07 292.096 Q2148.07 298.462 2144.9 302.096 Q2141.73 305.707 2136.17 305.707 Q2130.6 305.707 2127.42 302.096 Q2124.28 298.462 2124.28 292.096 Q2124.28 285.707 2127.42 282.096 Q2130.6 278.485 2136.17 278.485 Z\" fill=\"#000000\" fill-rule=\"evenodd\" fill-opacity=\"1\" /><path clip-path=\"url(#clip250)\" d=\"M 0 0 M2171.66 279.874 L2171.66 283.902 Q2169.86 282.976 2167.91 282.513 Q2165.97 282.05 2163.88 282.05 Q2160.71 282.05 2159.11 283.022 Q2157.54 283.994 2157.54 285.939 Q2157.54 287.42 2158.67 288.277 Q2159.81 289.11 2163.23 289.874 L2164.69 290.198 Q2169.23 291.17 2171.13 292.952 Q2173.05 294.712 2173.05 297.883 Q2173.05 301.494 2170.18 303.601 Q2167.33 305.707 2162.33 305.707 Q2160.25 305.707 2157.98 305.29 Q2155.73 304.897 2153.23 304.087 L2153.23 299.689 Q2155.6 300.915 2157.89 301.54 Q2160.18 302.142 2162.42 302.142 Q2165.43 302.142 2167.05 301.124 Q2168.67 300.082 2168.67 298.207 Q2168.67 296.471 2167.49 295.545 Q2166.34 294.619 2162.38 293.763 L2160.9 293.415 Q2156.94 292.582 2155.18 290.869 Q2153.42 289.133 2153.42 286.124 Q2153.42 282.466 2156.01 280.476 Q2158.61 278.485 2163.37 278.485 Q2165.73 278.485 2167.82 278.832 Q2169.9 279.179 2171.66 279.874 Z\" fill=\"#000000\" fill-rule=\"evenodd\" fill-opacity=\"1\" /><path clip-path=\"url(#clip250)\" d=\"M 0 0 M2190.06 269.064 Q2186.96 274.388 2185.46 279.596 Q2183.95 284.804 2183.95 290.152 Q2183.95 295.499 2185.46 300.753 Q2186.98 305.985 2190.06 311.286 L2186.36 311.286 Q2182.89 305.846 2181.15 300.591 Q2179.44 295.337 2179.44 290.152 Q2179.44 284.99 2181.15 279.758 Q2182.86 274.527 2186.36 269.064 L2190.06 269.064 Z\" fill=\"#000000\" fill-rule=\"evenodd\" fill-opacity=\"1\" /><path clip-path=\"url(#clip250)\" d=\"M 0 0 M2219.88 279.11 L2210.5 291.726 L2220.36 305.036 L2215.34 305.036 L2207.79 294.851 L2200.25 305.036 L2195.23 305.036 L2205.29 291.471 L2196.08 279.11 L2201.11 279.11 L2207.98 288.346 L2214.85 279.11 L2219.88 279.11 Z\" fill=\"#000000\" fill-rule=\"evenodd\" fill-opacity=\"1\" /><path clip-path=\"url(#clip250)\" d=\"M 0 0 M2225.71 269.064 L2229.42 269.064 Q2232.89 274.527 2234.6 279.758 Q2236.34 284.99 2236.34 290.152 Q2236.34 295.337 2234.6 300.591 Q2232.89 305.846 2229.42 311.286 L2225.71 311.286 Q2228.79 305.985 2230.29 300.753 Q2231.82 295.499 2231.82 290.152 Q2231.82 284.804 2230.29 279.596 Q2228.79 274.388 2225.71 269.064 Z\" fill=\"#000000\" fill-rule=\"evenodd\" fill-opacity=\"1\" /></svg>\n"
      ]
     },
     "execution_count": 30,
     "metadata": {},
     "output_type": "execute_result"
    }
   ],
   "source": [
    "I = 0.0:0.1:2π\n",
    "plot(I, [sin.(I), cos.(I)], xaxis=\"x\", yaxis=\"y\", label=[\"y=sin(x)\" \"y=cos(x)\"],\n",
    "    title=\"Gráficos de y=sin(x) e y=cos(x) no intervalo (0, 2π)\")"
   ]
  },
  {
   "cell_type": "code",
   "execution_count": 31,
   "metadata": {
    "slideshow": {
     "slide_type": "slide"
    }
   },
   "outputs": [
    {
     "data": {
      "image/svg+xml": [
       "<?xml version=\"1.0\" encoding=\"utf-8\"?>\n",
       "<svg xmlns=\"http://www.w3.org/2000/svg\" xmlns:xlink=\"http://www.w3.org/1999/xlink\" width=\"600\" height=\"400\" viewBox=\"0 0 2400 1600\">\n",
       "<defs>\n",
       "  <clipPath id=\"clip290\">\n",
       "    <rect x=\"0\" y=\"0\" width=\"2400\" height=\"1600\"/>\n",
       "  </clipPath>\n",
       "</defs>\n",
       "<path clip-path=\"url(#clip290)\" d=\"\n",
       "M0 1600 L2400 1600 L2400 0 L0 0  Z\n",
       "  \" fill=\"#ffffff\" fill-rule=\"evenodd\" fill-opacity=\"1\"/>\n",
       "<defs>\n",
       "  <clipPath id=\"clip291\">\n",
       "    <rect x=\"480\" y=\"0\" width=\"1681\" height=\"1600\"/>\n",
       "  </clipPath>\n",
       "</defs>\n",
       "<path clip-path=\"url(#clip290)\" d=\"\n",
       "M202.227 1423.18 L2352.76 1423.18 L2352.76 114.832 L202.227 114.832  Z\n",
       "  \" fill=\"#eaeaea\" fill-rule=\"evenodd\" fill-opacity=\"1\"/>\n",
       "<defs>\n",
       "  <clipPath id=\"clip292\">\n",
       "    <rect x=\"202\" y=\"114\" width=\"2152\" height=\"1309\"/>\n",
       "  </clipPath>\n",
       "</defs>\n",
       "<polyline clip-path=\"url(#clip292)\" style=\"stroke:#ffffff; stroke-width:4; stroke-opacity:1; fill:none\" points=\"\n",
       "  263.091,1423.18 263.091,114.832 \n",
       "  \"/>\n",
       "<polyline clip-path=\"url(#clip292)\" style=\"stroke:#ffffff; stroke-width:4; stroke-opacity:1; fill:none\" points=\"\n",
       "  939.358,1423.18 939.358,114.832 \n",
       "  \"/>\n",
       "<polyline clip-path=\"url(#clip292)\" style=\"stroke:#ffffff; stroke-width:4; stroke-opacity:1; fill:none\" points=\"\n",
       "  1615.63,1423.18 1615.63,114.832 \n",
       "  \"/>\n",
       "<polyline clip-path=\"url(#clip292)\" style=\"stroke:#ffffff; stroke-width:4; stroke-opacity:1; fill:none\" points=\"\n",
       "  2291.89,1423.18 2291.89,114.832 \n",
       "  \"/>\n",
       "<polyline clip-path=\"url(#clip292)\" style=\"stroke:#ffffff; stroke-width:2; stroke-opacity:1; fill:none\" points=\"\n",
       "  601.225,1423.18 601.225,114.832 \n",
       "  \"/>\n",
       "<polyline clip-path=\"url(#clip292)\" style=\"stroke:#ffffff; stroke-width:2; stroke-opacity:1; fill:none\" points=\"\n",
       "  1277.49,1423.18 1277.49,114.832 \n",
       "  \"/>\n",
       "<polyline clip-path=\"url(#clip292)\" style=\"stroke:#ffffff; stroke-width:2; stroke-opacity:1; fill:none\" points=\"\n",
       "  1953.76,1423.18 1953.76,114.832 \n",
       "  \"/>\n",
       "<polyline clip-path=\"url(#clip290)\" style=\"stroke:#ffffff; stroke-width:4; stroke-opacity:1; fill:none\" points=\"\n",
       "  202.227,1423.18 2352.76,1423.18 \n",
       "  \"/>\n",
       "<polyline clip-path=\"url(#clip290)\" style=\"stroke:#333333; stroke-width:4; stroke-opacity:1; fill:none\" points=\"\n",
       "  263.091,1423.18 263.091,1438.88 \n",
       "  \"/>\n",
       "<polyline clip-path=\"url(#clip290)\" style=\"stroke:#333333; stroke-width:4; stroke-opacity:1; fill:none\" points=\"\n",
       "  939.358,1423.18 939.358,1438.88 \n",
       "  \"/>\n",
       "<polyline clip-path=\"url(#clip290)\" style=\"stroke:#333333; stroke-width:4; stroke-opacity:1; fill:none\" points=\"\n",
       "  1615.63,1423.18 1615.63,1438.88 \n",
       "  \"/>\n",
       "<polyline clip-path=\"url(#clip290)\" style=\"stroke:#333333; stroke-width:4; stroke-opacity:1; fill:none\" points=\"\n",
       "  2291.89,1423.18 2291.89,1438.88 \n",
       "  \"/>\n",
       "<polyline clip-path=\"url(#clip290)\" style=\"stroke:#333333; stroke-width:4; stroke-opacity:1; fill:none\" points=\"\n",
       "  601.225,1423.18 601.225,1431.03 \n",
       "  \"/>\n",
       "<polyline clip-path=\"url(#clip290)\" style=\"stroke:#333333; stroke-width:4; stroke-opacity:1; fill:none\" points=\"\n",
       "  1277.49,1423.18 1277.49,1431.03 \n",
       "  \"/>\n",
       "<polyline clip-path=\"url(#clip290)\" style=\"stroke:#333333; stroke-width:4; stroke-opacity:1; fill:none\" points=\"\n",
       "  1953.76,1423.18 1953.76,1431.03 \n",
       "  \"/>\n",
       "<path clip-path=\"url(#clip290)\" d=\"M 0 0 M253.473 1489.52 L261.112 1489.52 L261.112 1463.15 L252.802 1464.82 L252.802 1460.56 L261.066 1458.89 L265.742 1458.89 L265.742 1489.52 L273.381 1489.52 L273.381 1493.45 L253.473 1493.45 L253.473 1489.52 Z\" fill=\"#4c4c4c\" fill-rule=\"evenodd\" fill-opacity=\"1\" /><path clip-path=\"url(#clip290)\" d=\"M 0 0 M934.011 1489.52 L950.33 1489.52 L950.33 1493.45 L928.386 1493.45 L928.386 1489.52 Q931.048 1486.76 935.631 1482.13 Q940.238 1477.48 941.418 1476.14 Q943.664 1473.61 944.543 1471.88 Q945.446 1470.12 945.446 1468.43 Q945.446 1465.67 943.502 1463.94 Q941.58 1462.2 938.479 1462.2 Q936.28 1462.2 933.826 1462.97 Q931.395 1463.73 928.618 1465.28 L928.618 1460.56 Q931.442 1459.42 933.895 1458.85 Q936.349 1458.27 938.386 1458.27 Q943.756 1458.27 946.951 1460.95 Q950.145 1463.64 950.145 1468.13 Q950.145 1470.26 949.335 1472.18 Q948.548 1474.08 946.442 1476.67 Q945.863 1477.34 942.761 1480.56 Q939.659 1483.75 934.011 1489.52 Z\" fill=\"#4c4c4c\" fill-rule=\"evenodd\" fill-opacity=\"1\" /><path clip-path=\"url(#clip290)\" d=\"M 0 0 M1619.87 1474.82 Q1623.23 1475.54 1625.1 1477.8 Q1627 1480.07 1627 1483.41 Q1627 1488.52 1623.48 1491.32 Q1619.97 1494.12 1613.48 1494.12 Q1611.31 1494.12 1608.99 1493.68 Q1606.7 1493.27 1604.25 1492.41 L1604.25 1487.9 Q1606.19 1489.03 1608.51 1489.61 Q1610.82 1490.19 1613.35 1490.19 Q1617.74 1490.19 1620.03 1488.45 Q1622.35 1486.72 1622.35 1483.41 Q1622.35 1480.35 1620.2 1478.64 Q1618.07 1476.9 1614.25 1476.9 L1610.22 1476.9 L1610.22 1473.06 L1614.43 1473.06 Q1617.88 1473.06 1619.71 1471.69 Q1621.54 1470.3 1621.54 1467.71 Q1621.54 1465.05 1619.64 1463.64 Q1617.77 1462.2 1614.25 1462.2 Q1612.33 1462.2 1610.13 1462.62 Q1607.93 1463.04 1605.29 1463.91 L1605.29 1459.75 Q1607.95 1459.01 1610.27 1458.64 Q1612.6 1458.27 1614.66 1458.27 Q1619.99 1458.27 1623.09 1460.7 Q1626.19 1463.1 1626.19 1467.23 Q1626.19 1470.1 1624.55 1472.09 Q1622.91 1474.05 1619.87 1474.82 Z\" fill=\"#4c4c4c\" fill-rule=\"evenodd\" fill-opacity=\"1\" /><path clip-path=\"url(#clip290)\" d=\"M 0 0 M2294.9 1462.97 L2283.1 1481.41 L2294.9 1481.41 L2294.9 1462.97 M2293.67 1458.89 L2299.55 1458.89 L2299.55 1481.41 L2304.48 1481.41 L2304.48 1485.3 L2299.55 1485.3 L2299.55 1493.45 L2294.9 1493.45 L2294.9 1485.3 L2279.3 1485.3 L2279.3 1480.79 L2293.67 1458.89 Z\" fill=\"#4c4c4c\" fill-rule=\"evenodd\" fill-opacity=\"1\" /><path clip-path=\"url(#clip290)\" d=\"M 0 0 M1193.16 1536.5 Q1188.45 1536.5 1185.71 1540.19 Q1182.98 1543.85 1182.98 1550.25 Q1182.98 1556.65 1185.68 1560.34 Q1188.42 1564 1193.16 1564 Q1197.84 1564 1200.58 1560.31 Q1203.32 1556.62 1203.32 1550.25 Q1203.32 1543.92 1200.58 1540.23 Q1197.84 1536.5 1193.16 1536.5 M1193.16 1531.54 Q1200.8 1531.54 1205.16 1536.5 Q1209.52 1541.47 1209.52 1550.25 Q1209.52 1559 1205.16 1564 Q1200.8 1568.97 1193.16 1568.97 Q1185.49 1568.97 1181.13 1564 Q1176.8 1559 1176.8 1550.25 Q1176.8 1541.47 1181.13 1536.5 Q1185.49 1531.54 1193.16 1531.54 Z\" fill=\"#000000\" fill-rule=\"evenodd\" fill-opacity=\"1\" /><path clip-path=\"url(#clip290)\" d=\"M 0 0 M1239.89 1537.87 Q1238.9 1537.3 1237.72 1537.04 Q1236.58 1536.76 1235.18 1536.76 Q1230.21 1536.76 1227.54 1540 Q1224.9 1543.22 1224.9 1549.27 L1224.9 1568.04 L1219.01 1568.04 L1219.01 1532.4 L1224.9 1532.4 L1224.9 1537.93 Q1226.74 1534.69 1229.7 1533.13 Q1232.66 1531.54 1236.89 1531.54 Q1237.5 1531.54 1238.23 1531.63 Q1238.96 1531.7 1239.85 1531.85 L1239.89 1537.87 Z\" fill=\"#000000\" fill-rule=\"evenodd\" fill-opacity=\"1\" /><path clip-path=\"url(#clip290)\" d=\"M 0 0 M1268.34 1537.81 L1268.34 1518.52 L1274.2 1518.52 L1274.2 1568.04 L1268.34 1568.04 L1268.34 1562.7 Q1266.49 1565.88 1263.66 1567.44 Q1260.86 1568.97 1256.91 1568.97 Q1250.45 1568.97 1246.38 1563.81 Q1242.34 1558.65 1242.34 1550.25 Q1242.34 1541.85 1246.38 1536.69 Q1250.45 1531.54 1256.91 1531.54 Q1260.86 1531.54 1263.66 1533.1 Q1266.49 1534.62 1268.34 1537.81 M1248.38 1550.25 Q1248.38 1556.71 1251.03 1560.4 Q1253.7 1564.07 1258.35 1564.07 Q1262.99 1564.07 1265.67 1560.4 Q1268.34 1556.71 1268.34 1550.25 Q1268.34 1543.79 1265.67 1540.13 Q1262.99 1536.44 1258.35 1536.44 Q1253.7 1536.44 1251.03 1540.13 Q1248.38 1543.79 1248.38 1550.25 Z\" fill=\"#000000\" fill-rule=\"evenodd\" fill-opacity=\"1\" /><path clip-path=\"url(#clip290)\" d=\"M 0 0 M1316.75 1548.76 L1316.75 1551.62 L1289.83 1551.62 Q1290.21 1557.67 1293.45 1560.85 Q1296.73 1564 1302.56 1564 Q1305.93 1564 1309.08 1563.17 Q1312.26 1562.35 1315.38 1560.69 L1315.38 1566.23 Q1312.23 1567.57 1308.92 1568.27 Q1305.61 1568.97 1302.21 1568.97 Q1293.68 1568.97 1288.68 1564 Q1283.71 1559.04 1283.71 1550.57 Q1283.71 1541.82 1288.42 1536.69 Q1293.17 1531.54 1301.19 1531.54 Q1308.38 1531.54 1312.55 1536.18 Q1316.75 1540.8 1316.75 1548.76 M1310.9 1547.04 Q1310.83 1542.23 1308.19 1539.37 Q1305.58 1536.5 1301.25 1536.5 Q1296.35 1536.5 1293.39 1539.27 Q1290.46 1542.04 1290.02 1547.07 L1310.9 1547.04 Z\" fill=\"#000000\" fill-rule=\"evenodd\" fill-opacity=\"1\" /><path clip-path=\"url(#clip290)\" d=\"M 0 0 M1354.12 1539.24 Q1356.32 1535.29 1359.37 1533.41 Q1362.43 1531.54 1366.56 1531.54 Q1372.13 1531.54 1375.16 1535.45 Q1378.18 1539.33 1378.18 1546.53 L1378.18 1568.04 L1372.29 1568.04 L1372.29 1546.72 Q1372.29 1541.59 1370.48 1539.11 Q1368.66 1536.63 1364.94 1536.63 Q1360.39 1536.63 1357.75 1539.65 Q1355.11 1542.68 1355.11 1547.9 L1355.11 1568.04 L1349.22 1568.04 L1349.22 1546.72 Q1349.22 1541.56 1347.4 1539.11 Q1345.59 1536.63 1341.8 1536.63 Q1337.31 1536.63 1334.67 1539.68 Q1332.03 1542.71 1332.03 1547.9 L1332.03 1568.04 L1326.14 1568.04 L1326.14 1532.4 L1332.03 1532.4 L1332.03 1537.93 Q1334.04 1534.66 1336.84 1533.1 Q1339.64 1531.54 1343.49 1531.54 Q1347.37 1531.54 1350.08 1533.51 Q1352.81 1535.48 1354.12 1539.24 Z\" fill=\"#000000\" fill-rule=\"evenodd\" fill-opacity=\"1\" /><polyline clip-path=\"url(#clip292)\" style=\"stroke:#ffffff; stroke-width:4; stroke-opacity:1; fill:none\" points=\"\n",
       "  202.227,1423.18 2352.76,1423.18 \n",
       "  \"/>\n",
       "<polyline clip-path=\"url(#clip292)\" style=\"stroke:#ffffff; stroke-width:4; stroke-opacity:1; fill:none\" points=\"\n",
       "  202.227,1161.51 2352.76,1161.51 \n",
       "  \"/>\n",
       "<polyline clip-path=\"url(#clip292)\" style=\"stroke:#ffffff; stroke-width:4; stroke-opacity:1; fill:none\" points=\"\n",
       "  202.227,899.841 2352.76,899.841 \n",
       "  \"/>\n",
       "<polyline clip-path=\"url(#clip292)\" style=\"stroke:#ffffff; stroke-width:4; stroke-opacity:1; fill:none\" points=\"\n",
       "  202.227,638.171 2352.76,638.171 \n",
       "  \"/>\n",
       "<polyline clip-path=\"url(#clip292)\" style=\"stroke:#ffffff; stroke-width:4; stroke-opacity:1; fill:none\" points=\"\n",
       "  202.227,376.502 2352.76,376.502 \n",
       "  \"/>\n",
       "<polyline clip-path=\"url(#clip292)\" style=\"stroke:#ffffff; stroke-width:4; stroke-opacity:1; fill:none\" points=\"\n",
       "  202.227,114.832 2352.76,114.832 \n",
       "  \"/>\n",
       "<polyline clip-path=\"url(#clip292)\" style=\"stroke:#ffffff; stroke-width:2; stroke-opacity:1; fill:none\" points=\"\n",
       "  202.227,1292.35 2352.76,1292.35 \n",
       "  \"/>\n",
       "<polyline clip-path=\"url(#clip292)\" style=\"stroke:#ffffff; stroke-width:2; stroke-opacity:1; fill:none\" points=\"\n",
       "  202.227,1030.68 2352.76,1030.68 \n",
       "  \"/>\n",
       "<polyline clip-path=\"url(#clip292)\" style=\"stroke:#ffffff; stroke-width:2; stroke-opacity:1; fill:none\" points=\"\n",
       "  202.227,769.006 2352.76,769.006 \n",
       "  \"/>\n",
       "<polyline clip-path=\"url(#clip292)\" style=\"stroke:#ffffff; stroke-width:2; stroke-opacity:1; fill:none\" points=\"\n",
       "  202.227,507.336 2352.76,507.336 \n",
       "  \"/>\n",
       "<polyline clip-path=\"url(#clip292)\" style=\"stroke:#ffffff; stroke-width:2; stroke-opacity:1; fill:none\" points=\"\n",
       "  202.227,245.667 2352.76,245.667 \n",
       "  \"/>\n",
       "<polyline clip-path=\"url(#clip290)\" style=\"stroke:#ffffff; stroke-width:4; stroke-opacity:1; fill:none\" points=\"\n",
       "  202.227,1423.18 202.227,114.832 \n",
       "  \"/>\n",
       "<polyline clip-path=\"url(#clip290)\" style=\"stroke:#333333; stroke-width:4; stroke-opacity:1; fill:none\" points=\"\n",
       "  202.227,1423.18 176.421,1423.18 \n",
       "  \"/>\n",
       "<polyline clip-path=\"url(#clip290)\" style=\"stroke:#333333; stroke-width:4; stroke-opacity:1; fill:none\" points=\"\n",
       "  202.227,1161.51 176.421,1161.51 \n",
       "  \"/>\n",
       "<polyline clip-path=\"url(#clip290)\" style=\"stroke:#333333; stroke-width:4; stroke-opacity:1; fill:none\" points=\"\n",
       "  202.227,899.841 176.421,899.841 \n",
       "  \"/>\n",
       "<polyline clip-path=\"url(#clip290)\" style=\"stroke:#333333; stroke-width:4; stroke-opacity:1; fill:none\" points=\"\n",
       "  202.227,638.171 176.421,638.171 \n",
       "  \"/>\n",
       "<polyline clip-path=\"url(#clip290)\" style=\"stroke:#333333; stroke-width:4; stroke-opacity:1; fill:none\" points=\"\n",
       "  202.227,376.502 176.421,376.502 \n",
       "  \"/>\n",
       "<polyline clip-path=\"url(#clip290)\" style=\"stroke:#333333; stroke-width:4; stroke-opacity:1; fill:none\" points=\"\n",
       "  202.227,114.832 176.421,114.832 \n",
       "  \"/>\n",
       "<polyline clip-path=\"url(#clip290)\" style=\"stroke:#333333; stroke-width:4; stroke-opacity:1; fill:none\" points=\"\n",
       "  202.227,1292.35 189.324,1292.35 \n",
       "  \"/>\n",
       "<polyline clip-path=\"url(#clip290)\" style=\"stroke:#333333; stroke-width:4; stroke-opacity:1; fill:none\" points=\"\n",
       "  202.227,1030.68 189.324,1030.68 \n",
       "  \"/>\n",
       "<polyline clip-path=\"url(#clip290)\" style=\"stroke:#333333; stroke-width:4; stroke-opacity:1; fill:none\" points=\"\n",
       "  202.227,769.006 189.324,769.006 \n",
       "  \"/>\n",
       "<polyline clip-path=\"url(#clip290)\" style=\"stroke:#333333; stroke-width:4; stroke-opacity:1; fill:none\" points=\"\n",
       "  202.227,507.336 189.324,507.336 \n",
       "  \"/>\n",
       "<polyline clip-path=\"url(#clip290)\" style=\"stroke:#333333; stroke-width:4; stroke-opacity:1; fill:none\" points=\"\n",
       "  202.227,245.667 189.324,245.667 \n",
       "  \"/>\n",
       "<path clip-path=\"url(#clip290)\" d=\"M 0 0 M136.283 1408.98 Q132.672 1408.98 130.843 1412.54 Q129.038 1416.08 129.038 1423.21 Q129.038 1430.32 130.843 1433.89 Q132.672 1437.43 136.283 1437.43 Q139.917 1437.43 141.723 1433.89 Q143.552 1430.32 143.552 1423.21 Q143.552 1416.08 141.723 1412.54 Q139.917 1408.98 136.283 1408.98 M136.283 1405.27 Q142.093 1405.27 145.149 1409.88 Q148.227 1414.46 148.227 1423.21 Q148.227 1431.94 145.149 1436.55 Q142.093 1441.13 136.283 1441.13 Q130.473 1441.13 127.394 1436.55 Q124.339 1431.94 124.339 1423.21 Q124.339 1414.46 127.394 1409.88 Q130.473 1405.27 136.283 1405.27 Z\" fill=\"#4c4c4c\" fill-rule=\"evenodd\" fill-opacity=\"1\" /><path clip-path=\"url(#clip290)\" d=\"M 0 0 M131.908 1174.86 L148.227 1174.86 L148.227 1178.79 L126.283 1178.79 L126.283 1174.86 Q128.945 1172.1 133.528 1167.47 Q138.135 1162.82 139.315 1161.48 Q141.561 1158.95 142.44 1157.22 Q143.343 1155.46 143.343 1153.77 Q143.343 1151.01 141.399 1149.28 Q139.478 1147.54 136.376 1147.54 Q134.177 1147.54 131.723 1148.3 Q129.292 1149.07 126.515 1150.62 L126.515 1145.9 Q129.339 1144.76 131.792 1144.18 Q134.246 1143.61 136.283 1143.61 Q141.653 1143.61 144.848 1146.29 Q148.042 1148.98 148.042 1153.47 Q148.042 1155.6 147.232 1157.52 Q146.445 1159.42 144.339 1162.01 Q143.76 1162.68 140.658 1165.9 Q137.556 1169.09 131.908 1174.86 Z\" fill=\"#4c4c4c\" fill-rule=\"evenodd\" fill-opacity=\"1\" /><path clip-path=\"url(#clip290)\" d=\"M 0 0 M138.644 886.635 L126.839 905.084 L138.644 905.084 L138.644 886.635 M137.417 882.561 L143.297 882.561 L143.297 905.084 L148.227 905.084 L148.227 908.973 L143.297 908.973 L143.297 917.121 L138.644 917.121 L138.644 908.973 L123.042 908.973 L123.042 904.459 L137.417 882.561 Z\" fill=\"#4c4c4c\" fill-rule=\"evenodd\" fill-opacity=\"1\" /><path clip-path=\"url(#clip290)\" d=\"M 0 0 M136.7 636.308 Q133.552 636.308 131.7 638.461 Q129.871 640.613 129.871 644.363 Q129.871 648.09 131.7 650.266 Q133.552 652.419 136.7 652.419 Q139.848 652.419 141.677 650.266 Q143.528 648.09 143.528 644.363 Q143.528 640.613 141.677 638.461 Q139.848 636.308 136.7 636.308 M145.982 621.655 L145.982 625.914 Q144.223 625.081 142.417 624.641 Q140.635 624.201 138.876 624.201 Q134.246 624.201 131.792 627.326 Q129.362 630.451 129.015 636.771 Q130.38 634.757 132.441 633.692 Q134.501 632.604 136.978 632.604 Q142.186 632.604 145.195 635.775 Q148.227 638.924 148.227 644.363 Q148.227 649.687 145.079 652.905 Q141.931 656.123 136.7 656.123 Q130.704 656.123 127.533 651.539 Q124.362 646.933 124.362 638.206 Q124.362 630.012 128.251 625.15 Q132.14 620.266 138.69 620.266 Q140.45 620.266 142.232 620.613 Q144.038 620.961 145.982 621.655 Z\" fill=\"#4c4c4c\" fill-rule=\"evenodd\" fill-opacity=\"1\" /><path clip-path=\"url(#clip290)\" d=\"M 0 0 M136.376 377.37 Q133.042 377.37 131.121 379.152 Q129.223 380.935 129.223 384.059 Q129.223 387.184 131.121 388.967 Q133.042 390.749 136.376 390.749 Q139.709 390.749 141.63 388.967 Q143.552 387.161 143.552 384.059 Q143.552 380.935 141.63 379.152 Q139.732 377.37 136.376 377.37 M131.7 375.379 Q128.691 374.638 127.001 372.578 Q125.334 370.518 125.334 367.555 Q125.334 363.411 128.274 361.004 Q131.237 358.597 136.376 358.597 Q141.538 358.597 144.477 361.004 Q147.417 363.411 147.417 367.555 Q147.417 370.518 145.727 372.578 Q144.061 374.638 141.075 375.379 Q144.454 376.166 146.329 378.458 Q148.227 380.749 148.227 384.059 Q148.227 389.083 145.149 391.768 Q142.093 394.453 136.376 394.453 Q130.658 394.453 127.579 391.768 Q124.524 389.083 124.524 384.059 Q124.524 380.749 126.422 378.458 Q128.32 376.166 131.7 375.379 M129.987 367.995 Q129.987 370.68 131.653 372.185 Q133.343 373.689 136.376 373.689 Q139.385 373.689 141.075 372.185 Q142.788 370.68 142.788 367.995 Q142.788 365.31 141.075 363.805 Q139.385 362.3 136.376 362.3 Q133.343 362.3 131.653 363.805 Q129.987 365.31 129.987 367.995 Z\" fill=\"#4c4c4c\" fill-rule=\"evenodd\" fill-opacity=\"1\" /><path clip-path=\"url(#clip290)\" d=\"M 0 0 M96.9315 128.177 L104.57 128.177 L104.57 101.811 L96.2602 103.478 L96.2602 99.2188 L104.524 97.5521 L109.2 97.5521 L109.2 128.177 L116.839 128.177 L116.839 132.112 L96.9315 132.112 L96.9315 128.177 Z\" fill=\"#4c4c4c\" fill-rule=\"evenodd\" fill-opacity=\"1\" /><path clip-path=\"url(#clip290)\" d=\"M 0 0 M136.283 100.631 Q132.672 100.631 130.843 104.196 Q129.038 107.737 129.038 114.867 Q129.038 121.973 130.843 125.538 Q132.672 129.08 136.283 129.08 Q139.917 129.08 141.723 125.538 Q143.552 121.973 143.552 114.867 Q143.552 107.737 141.723 104.196 Q139.917 100.631 136.283 100.631 M136.283 96.9271 Q142.093 96.9271 145.149 101.534 Q148.227 106.117 148.227 114.867 Q148.227 123.594 145.149 128.2 Q142.093 132.783 136.283 132.783 Q130.473 132.783 127.394 128.2 Q124.339 123.594 124.339 114.867 Q124.339 106.117 127.394 101.534 Q130.473 96.9271 136.283 96.9271 Z\" fill=\"#4c4c4c\" fill-rule=\"evenodd\" fill-opacity=\"1\" /><path clip-path=\"url(#clip290)\" d=\"M 0 0 M46.0847 818.34 Q46.0847 825.438 47.7079 828.175 Q49.3312 830.912 53.2461 830.912 Q56.3653 830.912 58.2114 828.875 Q60.0256 826.807 60.0256 823.274 Q60.0256 818.404 56.5881 815.476 Q53.1188 812.516 47.3897 812.516 L46.0847 812.516 L46.0847 818.34 M43.6657 806.659 L64.0042 806.659 L64.0042 812.516 L58.5933 812.516 Q61.8398 814.521 63.3994 817.513 Q64.9272 820.505 64.9272 824.833 Q64.9272 830.308 61.8716 833.554 Q58.7843 836.769 53.6281 836.769 Q47.6125 836.769 44.5569 832.759 Q41.5014 828.716 41.5014 820.727 L41.5014 812.516 L40.9285 812.516 Q36.8862 812.516 34.6901 815.189 Q32.4621 817.831 32.4621 822.637 Q32.4621 825.693 33.1941 828.589 Q33.9262 831.485 35.3903 834.159 L29.9795 834.159 Q28.7381 830.944 28.1334 827.921 Q27.4968 824.897 27.4968 822.032 Q27.4968 814.298 31.5072 810.479 Q35.5176 806.659 43.6657 806.659 M11.869 817.354 L11.869 811.02 L23.8365 821.396 L23.8365 826.266 L11.869 817.354 Z\" fill=\"#000000\" fill-rule=\"evenodd\" fill-opacity=\"1\" /><path clip-path=\"url(#clip290)\" d=\"M 0 0 M33.8307 773.939 Q33.2578 774.926 33.0032 776.104 Q32.7167 777.25 32.7167 778.65 Q32.7167 783.615 35.9632 786.289 Q39.1779 788.931 45.2253 788.931 L64.0042 788.931 L64.0042 794.819 L28.3562 794.819 L28.3562 788.931 L33.8944 788.931 Q30.6479 787.085 29.0883 784.125 Q27.4968 781.164 27.4968 776.931 Q27.4968 776.327 27.5923 775.594 Q27.656 774.862 27.8151 773.971 L33.8307 773.939 Z\" fill=\"#000000\" fill-rule=\"evenodd\" fill-opacity=\"1\" /><path clip-path=\"url(#clip290)\" d=\"M 0 0 M44.7161 738.737 L47.5806 738.737 L47.5806 765.664 Q53.6281 765.282 56.8109 762.036 Q59.9619 758.757 59.9619 752.933 Q59.9619 749.559 59.1344 746.408 Q58.3069 743.225 56.6518 740.106 L62.1899 740.106 Q63.5267 743.257 64.227 746.567 Q64.9272 749.877 64.9272 753.283 Q64.9272 761.813 59.9619 766.81 Q54.9967 771.775 46.5303 771.775 Q37.7774 771.775 32.6531 767.064 Q27.4968 762.322 27.4968 754.301 Q27.4968 747.108 32.1438 742.938 Q36.7589 738.737 44.7161 738.737 M42.9973 744.593 Q38.1912 744.657 35.3266 747.299 Q32.4621 749.909 32.4621 754.238 Q32.4621 759.139 35.2312 762.099 Q38.0002 765.027 43.0292 765.473 L42.9973 744.593 Z\" fill=\"#000000\" fill-rule=\"evenodd\" fill-opacity=\"1\" /><path clip-path=\"url(#clip290)\" d=\"M 0 0 M46.0847 712.924 Q46.0847 720.022 47.7079 722.759 Q49.3312 725.496 53.2461 725.496 Q56.3653 725.496 58.2114 723.459 Q60.0256 721.39 60.0256 717.858 Q60.0256 712.988 56.5881 710.06 Q53.1188 707.099 47.3897 707.099 L46.0847 707.099 L46.0847 712.924 M43.6657 701.243 L64.0042 701.243 L64.0042 707.099 L58.5933 707.099 Q61.8398 709.105 63.3994 712.097 Q64.9272 715.088 64.9272 719.417 Q64.9272 724.892 61.8716 728.138 Q58.7843 731.353 53.6281 731.353 Q47.6125 731.353 44.5569 727.342 Q41.5014 723.3 41.5014 715.311 L41.5014 707.099 L40.9285 707.099 Q36.8862 707.099 34.6901 709.773 Q32.4621 712.415 32.4621 717.221 Q32.4621 720.276 33.1941 723.173 Q33.9262 726.069 35.3903 728.743 L29.9795 728.743 Q28.7381 725.528 28.1334 722.504 Q27.4968 719.481 27.4968 716.616 Q27.4968 708.882 31.5072 705.062 Q35.5176 701.243 43.6657 701.243 Z\" fill=\"#000000\" fill-rule=\"evenodd\" fill-opacity=\"1\" /><path clip-path=\"url(#clip290)\" d=\"M 0 0 M568.103 17.2777 L558.589 43.0762 L577.652 43.0762 L568.103 17.2777 M564.145 10.368 L572.096 10.368 L591.853 62.208 L584.561 62.208 L579.839 48.9095 L556.471 48.9095 L551.749 62.208 L544.353 62.208 L564.145 10.368 M570.013 -3.72915 L576.436 -3.72915 L568.52 5.43747 L563.207 5.43747 L570.013 -3.72915 Z\" fill=\"#000000\" fill-rule=\"evenodd\" fill-opacity=\"1\" /><path clip-path=\"url(#clip290)\" d=\"M 0 0 M621.679 29.2915 Q620.603 28.6665 619.318 28.3887 Q618.068 28.0762 616.54 28.0762 Q611.124 28.0762 608.207 31.6179 Q605.325 35.1248 605.325 41.722 L605.325 62.208 L598.902 62.208 L598.902 23.3193 L605.325 23.3193 L605.325 29.361 Q607.339 25.8193 610.568 24.1179 Q613.797 22.3818 618.415 22.3818 Q619.075 22.3818 619.874 22.486 Q620.672 22.5554 621.645 22.729 L621.679 29.2915 Z\" fill=\"#000000\" fill-rule=\"evenodd\" fill-opacity=\"1\" /><path clip-path=\"url(#clip290)\" d=\"M 0 0 M660.082 41.1664 L660.082 44.2914 L630.707 44.2914 Q631.124 50.8886 634.665 54.3608 Q638.242 57.7983 644.596 57.7983 Q648.276 57.7983 651.714 56.8955 Q655.186 55.9928 658.589 54.1872 L658.589 60.2288 Q655.151 61.6872 651.54 62.4511 Q647.929 63.2149 644.214 63.2149 Q634.908 63.2149 629.457 57.7983 Q624.04 52.3817 624.04 43.1456 Q624.04 33.597 629.179 28.0068 Q634.353 22.3818 643.103 22.3818 Q650.95 22.3818 655.498 27.4512 Q660.082 32.4859 660.082 41.1664 M653.693 39.2915 Q653.624 34.0484 650.742 30.9234 Q647.894 27.7985 643.172 27.7985 Q637.825 27.7985 634.596 30.8193 Q631.401 33.8401 630.915 39.3262 L653.693 39.2915 Z\" fill=\"#000000\" fill-rule=\"evenodd\" fill-opacity=\"1\" /><path clip-path=\"url(#clip290)\" d=\"M 0 0 M688.241 42.6595 Q680.498 42.6595 677.512 44.4303 Q674.526 46.2011 674.526 50.472 Q674.526 53.8747 676.748 55.8886 Q679.005 57.8677 682.859 57.8677 Q688.172 57.8677 691.366 54.1178 Q694.596 50.3331 694.596 44.0831 L694.596 42.6595 L688.241 42.6595 M700.984 40.0206 L700.984 62.208 L694.596 62.208 L694.596 56.3053 Q692.408 59.8469 689.144 61.5483 Q685.88 63.2149 681.158 63.2149 Q675.186 63.2149 671.644 59.8816 Q668.137 56.5136 668.137 50.8886 Q668.137 44.3262 672.512 40.9928 Q676.922 37.6595 685.637 37.6595 L694.596 37.6595 L694.596 37.0345 Q694.596 32.6248 691.679 30.229 Q688.797 27.7985 683.554 27.7985 Q680.221 27.7985 677.061 28.5971 Q673.901 29.3957 670.985 30.9929 L670.985 25.0901 Q674.491 23.736 677.79 23.0763 Q681.089 22.3818 684.214 22.3818 Q692.651 22.3818 696.818 26.7568 Q700.984 31.1318 700.984 40.0206 Z\" fill=\"#000000\" fill-rule=\"evenodd\" fill-opacity=\"1\" /><path clip-path=\"url(#clip290)\" d=\"M 0 0 M762.338 29.2221 L762.338 8.18051 L768.727 8.18051 L768.727 62.208 L762.338 62.208 L762.338 56.3747 Q760.324 59.8469 757.234 61.5483 Q754.179 63.2149 749.873 63.2149 Q742.824 63.2149 738.38 57.59 Q733.97 51.965 733.97 42.7984 Q733.97 33.6318 738.38 28.0068 Q742.824 22.3818 749.873 22.3818 Q754.179 22.3818 757.234 24.0832 Q760.324 25.7499 762.338 29.2221 M740.567 42.7984 Q740.567 49.847 743.449 53.8747 Q746.366 57.8677 751.435 57.8677 Q756.505 57.8677 759.422 53.8747 Q762.338 49.847 762.338 42.7984 Q762.338 35.7498 759.422 31.7568 Q756.505 27.729 751.435 27.729 Q746.366 27.729 743.449 31.7568 Q740.567 35.7498 740.567 42.7984 Z\" fill=\"#000000\" fill-rule=\"evenodd\" fill-opacity=\"1\" /><path clip-path=\"url(#clip290)\" d=\"M 0 0 M796.956 27.7985 Q791.817 27.7985 788.831 31.8262 Q785.845 35.8193 785.845 42.7984 Q785.845 49.7775 788.796 53.8053 Q791.782 57.7983 796.956 57.7983 Q802.06 57.7983 805.046 53.7705 Q808.032 49.7428 808.032 42.7984 Q808.032 35.8887 805.046 31.8609 Q802.06 27.7985 796.956 27.7985 M796.956 22.3818 Q805.289 22.3818 810.046 27.7985 Q814.803 33.2151 814.803 42.7984 Q814.803 52.3469 810.046 57.7983 Q805.289 63.2149 796.956 63.2149 Q788.588 63.2149 783.831 57.7983 Q779.109 52.3469 779.109 42.7984 Q779.109 33.2151 783.831 27.7985 Q788.588 22.3818 796.956 22.3818 Z\" fill=\"#000000\" fill-rule=\"evenodd\" fill-opacity=\"1\" /><path clip-path=\"url(#clip290)\" d=\"M 0 0 M850.185 24.4651 L850.185 30.5068 Q847.477 29.1179 844.56 28.4235 Q841.643 27.729 838.518 27.729 Q833.761 27.729 831.366 29.1873 Q829.005 30.6457 829.005 33.5623 Q829.005 35.7845 830.706 37.0692 Q832.407 38.3192 837.546 39.4651 L839.734 39.9512 Q846.539 41.4095 849.386 44.0831 Q852.268 46.722 852.268 51.4789 Q852.268 56.8955 847.963 60.0552 Q843.692 63.2149 836.192 63.2149 Q833.067 63.2149 829.664 62.5899 Q826.296 61.9997 822.546 60.7844 L822.546 54.1872 Q826.088 56.0275 829.525 56.965 Q832.963 57.8677 836.331 57.8677 Q840.845 57.8677 843.275 56.34 Q845.706 54.7775 845.706 51.965 Q845.706 49.3608 843.935 47.972 Q842.199 46.5831 836.261 45.2984 L834.039 44.7775 Q828.102 43.5275 825.463 40.9581 Q822.824 38.354 822.824 33.8401 Q822.824 28.354 826.713 25.3679 Q830.602 22.3818 837.754 22.3818 Q841.296 22.3818 844.421 22.9027 Q847.546 23.4235 850.185 24.4651 Z\" fill=\"#000000\" fill-rule=\"evenodd\" fill-opacity=\"1\" /><path clip-path=\"url(#clip290)\" d=\"M 0 0 M907.58 29.2915 Q906.504 28.6665 905.219 28.3887 Q903.969 28.0762 902.442 28.0762 Q897.025 28.0762 894.108 31.6179 Q891.226 35.1248 891.226 41.722 L891.226 62.208 L884.803 62.208 L884.803 23.3193 L891.226 23.3193 L891.226 29.361 Q893.24 25.8193 896.469 24.1179 Q899.699 22.3818 904.317 22.3818 Q904.976 22.3818 905.775 22.486 Q906.574 22.5554 907.546 22.729 L907.58 29.2915 Z\" fill=\"#000000\" fill-rule=\"evenodd\" fill-opacity=\"1\" /><path clip-path=\"url(#clip290)\" d=\"M 0 0 M945.983 41.1664 L945.983 44.2914 L916.608 44.2914 Q917.025 50.8886 920.567 54.3608 Q924.143 57.7983 930.497 57.7983 Q934.178 57.7983 937.615 56.8955 Q941.087 55.9928 944.49 54.1872 L944.49 60.2288 Q941.053 61.6872 937.441 62.4511 Q933.83 63.2149 930.115 63.2149 Q920.81 63.2149 915.358 57.7983 Q909.942 52.3817 909.942 43.1456 Q909.942 33.597 915.08 28.0068 Q920.254 22.3818 929.004 22.3818 Q936.851 22.3818 941.4 27.4512 Q945.983 32.4859 945.983 41.1664 M939.594 39.2915 Q939.525 34.0484 936.643 30.9234 Q933.796 27.7985 929.073 27.7985 Q923.726 27.7985 920.497 30.8193 Q917.303 33.8401 916.817 39.3262 L939.594 39.2915 Z\" fill=\"#000000\" fill-rule=\"evenodd\" fill-opacity=\"1\" /><path clip-path=\"url(#clip290)\" d=\"M 0 0 M962.789 12.2777 L962.789 23.3193 L975.948 23.3193 L975.948 28.2846 L962.789 28.2846 L962.789 49.3956 Q962.789 54.1525 964.073 55.5066 Q965.393 56.8608 969.386 56.8608 L975.948 56.8608 L975.948 62.208 L969.386 62.208 Q961.99 62.208 959.177 59.465 Q956.365 56.6872 956.365 49.3956 L956.365 28.2846 L951.677 28.2846 L951.677 23.3193 L956.365 23.3193 L956.365 12.2777 L962.789 12.2777 Z\" fill=\"#000000\" fill-rule=\"evenodd\" fill-opacity=\"1\" /><path clip-path=\"url(#clip290)\" d=\"M 0 0 M1002.02 42.6595 Q994.281 42.6595 991.295 44.4303 Q988.309 46.2011 988.309 50.472 Q988.309 53.8747 990.531 55.8886 Q992.788 57.8677 996.642 57.8677 Q1001.95 57.8677 1005.15 54.1178 Q1008.38 50.3331 1008.38 44.0831 L1008.38 42.6595 L1002.02 42.6595 M1014.77 40.0206 L1014.77 62.208 L1008.38 62.208 L1008.38 56.3053 Q1006.19 59.8469 1002.93 61.5483 Q999.663 63.2149 994.941 63.2149 Q988.969 63.2149 985.427 59.8816 Q981.92 56.5136 981.92 50.8886 Q981.92 44.3262 986.295 40.9928 Q990.705 37.6595 999.42 37.6595 L1008.38 37.6595 L1008.38 37.0345 Q1008.38 32.6248 1005.46 30.229 Q1002.58 27.7985 997.337 27.7985 Q994.004 27.7985 990.844 28.5971 Q987.684 29.3957 984.768 30.9929 L984.768 25.0901 Q988.274 23.736 991.573 23.0763 Q994.872 22.3818 997.997 22.3818 Q1006.43 22.3818 1010.6 26.7568 Q1014.77 31.1318 1014.77 40.0206 M995.705 5.3333 L1000.84 5.3333 L1009.35 18.3888 L1004.52 18.3888 L998.274 9.88189 L992.024 18.3888 L987.198 18.3888 L995.705 5.3333 Z\" fill=\"#000000\" fill-rule=\"evenodd\" fill-opacity=\"1\" /><path clip-path=\"url(#clip290)\" d=\"M 0 0 M1060.25 38.7359 L1060.25 62.208 L1053.86 62.208 L1053.86 38.9442 Q1053.86 33.4234 1051.71 30.6804 Q1049.56 27.9374 1045.25 27.9374 Q1040.08 27.9374 1037.09 31.2359 Q1034.11 34.5345 1034.11 40.229 L1034.11 62.208 L1027.68 62.208 L1027.68 23.3193 L1034.11 23.3193 L1034.11 29.361 Q1036.4 25.854 1039.49 24.1179 Q1042.61 22.3818 1046.68 22.3818 Q1053.38 22.3818 1056.82 26.5485 Q1060.25 30.6804 1060.25 38.7359 Z\" fill=\"#000000\" fill-rule=\"evenodd\" fill-opacity=\"1\" /><path clip-path=\"url(#clip290)\" d=\"M 0 0 M1098.59 42.3123 Q1098.59 35.3679 1095.7 31.5484 Q1092.86 27.729 1087.68 27.729 Q1082.54 27.729 1079.66 31.5484 Q1076.82 35.3679 1076.82 42.3123 Q1076.82 49.222 1079.66 53.0414 Q1082.54 56.8608 1087.68 56.8608 Q1092.86 56.8608 1095.7 53.0414 Q1098.59 49.222 1098.59 42.3123 M1104.98 57.3816 Q1104.98 67.3121 1100.57 72.1385 Q1096.16 76.9996 1087.06 76.9996 Q1083.69 76.9996 1080.7 76.4788 Q1077.72 75.9926 1074.91 74.951 L1074.91 68.7357 Q1077.72 70.2635 1080.46 70.9927 Q1083.2 71.7218 1086.05 71.7218 Q1092.34 71.7218 1095.46 68.4232 Q1098.59 65.1594 1098.59 58.5275 L1098.59 55.3678 Q1096.61 58.8052 1093.52 60.5066 Q1090.43 62.208 1086.12 62.208 Q1078.97 62.208 1074.59 56.7566 Q1070.22 51.3053 1070.22 42.3123 Q1070.22 33.2845 1074.59 27.8332 Q1078.97 22.3818 1086.12 22.3818 Q1090.43 22.3818 1093.52 24.0832 Q1096.61 25.7846 1098.59 29.2221 L1098.59 23.3193 L1104.98 23.3193 L1104.98 57.3816 Z\" fill=\"#000000\" fill-rule=\"evenodd\" fill-opacity=\"1\" /><path clip-path=\"url(#clip290)\" d=\"M 0 0 M1117.48 46.8609 L1117.48 23.3193 L1123.86 23.3193 L1123.86 46.6178 Q1123.86 52.1386 1126.02 54.9164 Q1128.17 57.6594 1132.48 57.6594 Q1137.65 57.6594 1140.63 54.3608 Q1143.66 51.0622 1143.66 45.3678 L1143.66 23.3193 L1150.04 23.3193 L1150.04 62.208 L1143.66 62.208 L1143.66 56.2358 Q1141.33 59.7775 1138.24 61.5136 Q1135.18 63.2149 1131.12 63.2149 Q1124.42 63.2149 1120.95 59.0483 Q1117.48 54.8817 1117.48 46.8609 M1133.55 22.3818 L1133.55 22.3818 Z\" fill=\"#000000\" fill-rule=\"evenodd\" fill-opacity=\"1\" /><path clip-path=\"url(#clip290)\" d=\"M 0 0 M1163.2 8.18051 L1169.59 8.18051 L1169.59 62.208 L1163.2 62.208 L1163.2 8.18051 Z\" fill=\"#000000\" fill-rule=\"evenodd\" fill-opacity=\"1\" /><path clip-path=\"url(#clip290)\" d=\"M 0 0 M1198.03 27.7985 Q1192.89 27.7985 1189.91 31.8262 Q1186.92 35.8193 1186.92 42.7984 Q1186.92 49.7775 1189.87 53.8053 Q1192.86 57.7983 1198.03 57.7983 Q1203.13 57.7983 1206.12 53.7705 Q1209.11 49.7428 1209.11 42.7984 Q1209.11 35.8887 1206.12 31.8609 Q1203.13 27.7985 1198.03 27.7985 M1198.03 22.3818 Q1206.36 22.3818 1211.12 27.7985 Q1215.88 33.2151 1215.88 42.7984 Q1215.88 52.3469 1211.12 57.7983 Q1206.36 63.2149 1198.03 63.2149 Q1189.66 63.2149 1184.91 57.7983 Q1180.18 52.3469 1180.18 42.7984 Q1180.18 33.2151 1184.91 27.7985 Q1189.66 22.3818 1198.03 22.3818 Z\" fill=\"#000000\" fill-rule=\"evenodd\" fill-opacity=\"1\" /><path clip-path=\"url(#clip290)\" d=\"M 0 0 M1251.26 24.4651 L1251.26 30.5068 Q1248.55 29.1179 1245.63 28.4235 Q1242.72 27.729 1239.59 27.729 Q1234.84 27.729 1232.44 29.1873 Q1230.08 30.6457 1230.08 33.5623 Q1230.08 35.7845 1231.78 37.0692 Q1233.48 38.3192 1238.62 39.4651 L1240.81 39.9512 Q1247.61 41.4095 1250.46 44.0831 Q1253.34 46.722 1253.34 51.4789 Q1253.34 56.8955 1249.04 60.0552 Q1244.77 63.2149 1237.27 63.2149 Q1234.14 63.2149 1230.74 62.5899 Q1227.37 61.9997 1223.62 60.7844 L1223.62 54.1872 Q1227.16 56.0275 1230.6 56.965 Q1234.04 57.8677 1237.41 57.8677 Q1241.92 57.8677 1244.35 56.34 Q1246.78 54.7775 1246.78 51.965 Q1246.78 49.3608 1245.01 47.972 Q1243.27 46.5831 1237.34 45.2984 L1235.11 44.7775 Q1229.18 43.5275 1226.54 40.9581 Q1223.9 38.354 1223.9 33.8401 Q1223.9 28.354 1227.79 25.3679 Q1231.68 22.3818 1238.83 22.3818 Q1242.37 22.3818 1245.5 22.9027 Q1248.62 23.4235 1251.26 24.4651 Z\" fill=\"#000000\" fill-rule=\"evenodd\" fill-opacity=\"1\" /><path clip-path=\"url(#clip290)\" d=\"M 0 0 M1319.38 41.1664 L1319.38 44.2914 L1290.01 44.2914 Q1290.43 50.8886 1293.97 54.3608 Q1297.54 57.7983 1303.9 57.7983 Q1307.58 57.7983 1311.02 56.8955 Q1314.49 55.9928 1317.89 54.1872 L1317.89 60.2288 Q1314.45 61.6872 1310.84 62.4511 Q1307.23 63.2149 1303.52 63.2149 Q1294.21 63.2149 1288.76 57.7983 Q1283.34 52.3817 1283.34 43.1456 Q1283.34 33.597 1288.48 28.0068 Q1293.65 22.3818 1302.4 22.3818 Q1310.25 22.3818 1314.8 27.4512 Q1319.38 32.4859 1319.38 41.1664 M1312.99 39.2915 Q1312.93 34.0484 1310.04 30.9234 Q1307.2 27.7985 1302.47 27.7985 Q1297.13 27.7985 1293.9 30.8193 Q1290.7 33.8401 1290.22 39.3262 L1312.99 39.2915 Z\" fill=\"#000000\" fill-rule=\"evenodd\" fill-opacity=\"1\" /><path clip-path=\"url(#clip290)\" d=\"M 0 0 M1360.15 30.7846 Q1362.54 26.479 1365.88 24.4304 Q1369.21 22.3818 1373.72 22.3818 Q1379.8 22.3818 1383.1 26.6526 Q1386.4 30.8887 1386.4 38.7359 L1386.4 62.208 L1379.97 62.208 L1379.97 38.9442 Q1379.97 33.354 1377.99 30.6457 Q1376.02 27.9374 1371.95 27.9374 Q1366.99 27.9374 1364.11 31.2359 Q1361.22 34.5345 1361.22 40.229 L1361.22 62.208 L1354.8 62.208 L1354.8 38.9442 Q1354.8 33.3193 1352.82 30.6457 Q1350.84 27.9374 1346.71 27.9374 Q1341.81 27.9374 1338.93 31.2707 Q1336.05 34.5693 1336.05 40.229 L1336.05 62.208 L1329.63 62.208 L1329.63 23.3193 L1336.05 23.3193 L1336.05 29.361 Q1338.24 25.7846 1341.29 24.0832 Q1344.35 22.3818 1348.55 22.3818 Q1352.79 22.3818 1355.74 24.5346 Q1358.72 26.6874 1360.15 30.7846 Z\" fill=\"#000000\" fill-rule=\"evenodd\" fill-opacity=\"1\" /><path clip-path=\"url(#clip290)\" d=\"M 0 0 M1436.81 27.7985 Q1431.67 27.7985 1428.69 31.8262 Q1425.7 35.8193 1425.7 42.7984 Q1425.7 49.7775 1428.65 53.8053 Q1431.64 57.7983 1436.81 57.7983 Q1441.92 57.7983 1444.9 53.7705 Q1447.89 49.7428 1447.89 42.7984 Q1447.89 35.8887 1444.9 31.8609 Q1441.92 27.7985 1436.81 27.7985 M1436.81 22.3818 Q1445.15 22.3818 1449.9 27.7985 Q1454.66 33.2151 1454.66 42.7984 Q1454.66 52.3469 1449.9 57.7983 Q1445.15 63.2149 1436.81 63.2149 Q1428.45 63.2149 1423.69 57.7983 Q1418.97 52.3469 1418.97 42.7984 Q1418.97 33.2151 1423.69 27.7985 Q1428.45 22.3818 1436.81 22.3818 Z\" fill=\"#000000\" fill-rule=\"evenodd\" fill-opacity=\"1\" /><path clip-path=\"url(#clip290)\" d=\"M 0 0 M1487.79 29.2915 Q1486.71 28.6665 1485.42 28.3887 Q1484.17 28.0762 1482.65 28.0762 Q1477.23 28.0762 1474.31 31.6179 Q1471.43 35.1248 1471.43 41.722 L1471.43 62.208 L1465.01 62.208 L1465.01 23.3193 L1471.43 23.3193 L1471.43 29.361 Q1473.45 25.8193 1476.67 24.1179 Q1479.9 22.3818 1484.52 22.3818 Q1485.18 22.3818 1485.98 22.486 Q1486.78 22.5554 1487.75 22.729 L1487.79 29.2915 Z\" fill=\"#000000\" fill-rule=\"evenodd\" fill-opacity=\"1\" /><path clip-path=\"url(#clip290)\" d=\"M 0 0 M1518.83 29.2221 L1518.83 8.18051 L1525.22 8.18051 L1525.22 62.208 L1518.83 62.208 L1518.83 56.3747 Q1516.81 59.8469 1513.72 61.5483 Q1510.67 63.2149 1506.36 63.2149 Q1499.31 63.2149 1494.87 57.59 Q1490.46 51.965 1490.46 42.7984 Q1490.46 33.6318 1494.87 28.0068 Q1499.31 22.3818 1506.36 22.3818 Q1510.67 22.3818 1513.72 24.0832 Q1516.81 25.7499 1518.83 29.2221 M1497.06 42.7984 Q1497.06 49.847 1499.94 53.8747 Q1502.86 57.8677 1507.92 57.8677 Q1512.99 57.8677 1515.91 53.8747 Q1518.83 49.847 1518.83 42.7984 Q1518.83 35.7498 1515.91 31.7568 Q1512.99 27.729 1507.92 27.729 Q1502.86 27.729 1499.94 31.7568 Q1497.06 35.7498 1497.06 42.7984 Z\" fill=\"#000000\" fill-rule=\"evenodd\" fill-opacity=\"1\" /><path clip-path=\"url(#clip290)\" d=\"M 0 0 M1571.64 41.1664 L1571.64 44.2914 L1542.26 44.2914 Q1542.68 50.8886 1546.22 54.3608 Q1549.8 57.7983 1556.15 57.7983 Q1559.83 57.7983 1563.27 56.8955 Q1566.74 55.9928 1570.15 54.1872 L1570.15 60.2288 Q1566.71 61.6872 1563.1 62.4511 Q1559.49 63.2149 1555.77 63.2149 Q1546.47 63.2149 1541.01 57.7983 Q1535.6 52.3817 1535.6 43.1456 Q1535.6 33.597 1540.74 28.0068 Q1545.91 22.3818 1554.66 22.3818 Q1562.51 22.3818 1567.06 27.4512 Q1571.64 32.4859 1571.64 41.1664 M1565.25 39.2915 Q1565.18 34.0484 1562.3 30.9234 Q1559.45 27.7985 1554.73 27.7985 Q1549.38 27.7985 1546.15 30.8193 Q1542.96 33.8401 1542.47 39.3262 L1565.25 39.2915 Z\" fill=\"#000000\" fill-rule=\"evenodd\" fill-opacity=\"1\" /><path clip-path=\"url(#clip290)\" d=\"M 0 0 M1612.4 30.7846 Q1614.8 26.479 1618.13 24.4304 Q1621.47 22.3818 1625.98 22.3818 Q1632.06 22.3818 1635.35 26.6526 Q1638.65 30.8887 1638.65 38.7359 L1638.65 62.208 L1632.23 62.208 L1632.23 38.9442 Q1632.23 33.354 1630.25 30.6457 Q1628.27 27.9374 1624.21 27.9374 Q1619.24 27.9374 1616.36 31.2359 Q1613.48 34.5345 1613.48 40.229 L1613.48 62.208 L1607.06 62.208 L1607.06 38.9442 Q1607.06 33.3193 1605.08 30.6457 Q1603.1 27.9374 1598.97 27.9374 Q1594.07 27.9374 1591.19 31.2707 Q1588.31 34.5693 1588.31 40.229 L1588.31 62.208 L1581.88 62.208 L1581.88 23.3193 L1588.31 23.3193 L1588.31 29.361 Q1590.49 25.7846 1593.55 24.0832 Q1596.6 22.3818 1600.81 22.3818 Q1605.04 22.3818 1607.99 24.5346 Q1610.98 26.6874 1612.4 30.7846 Z\" fill=\"#000000\" fill-rule=\"evenodd\" fill-opacity=\"1\" /><path clip-path=\"url(#clip290)\" d=\"M 0 0 M1701.99 24.8124 L1701.99 30.7846 Q1699.28 29.2915 1696.53 28.5623 Q1693.83 27.7985 1691.05 27.7985 Q1684.83 27.7985 1681.4 31.7568 Q1677.96 35.6804 1677.96 42.7984 Q1677.96 49.9164 1681.4 53.8747 Q1684.83 57.7983 1691.05 57.7983 Q1693.83 57.7983 1696.53 57.0691 Q1699.28 56.3053 1701.99 54.8122 L1701.99 60.715 Q1699.31 61.9649 1696.43 62.5899 Q1693.58 63.2149 1690.35 63.2149 Q1681.57 63.2149 1676.4 57.6941 Q1671.22 52.1733 1671.22 42.7984 Q1671.22 33.2845 1676.43 27.8332 Q1681.67 22.3818 1690.77 22.3818 Q1693.72 22.3818 1696.53 23.0068 Q1699.35 23.5971 1701.99 24.8124 Z\" fill=\"#000000\" fill-rule=\"evenodd\" fill-opacity=\"1\" /><path clip-path=\"url(#clip290)\" d=\"M 0 0 M1735.63 29.2915 Q1734.56 28.6665 1733.27 28.3887 Q1732.02 28.0762 1730.49 28.0762 Q1725.08 28.0762 1722.16 31.6179 Q1719.28 35.1248 1719.28 41.722 L1719.28 62.208 L1712.85 62.208 L1712.85 23.3193 L1719.28 23.3193 L1719.28 29.361 Q1721.29 25.8193 1724.52 24.1179 Q1727.75 22.3818 1732.37 22.3818 Q1733.03 22.3818 1733.83 22.486 Q1734.62 22.5554 1735.6 22.729 L1735.63 29.2915 Z\" fill=\"#000000\" fill-rule=\"evenodd\" fill-opacity=\"1\" /><path clip-path=\"url(#clip290)\" d=\"M 0 0 M1774.03 41.1664 L1774.03 44.2914 L1744.66 44.2914 Q1745.08 50.8886 1748.62 54.3608 Q1752.19 57.7983 1758.55 57.7983 Q1762.23 57.7983 1765.67 56.8955 Q1769.14 55.9928 1772.54 54.1872 L1772.54 60.2288 Q1769.1 61.6872 1765.49 62.4511 Q1761.88 63.2149 1758.17 63.2149 Q1748.86 63.2149 1743.41 57.7983 Q1737.99 52.3817 1737.99 43.1456 Q1737.99 33.597 1743.13 28.0068 Q1748.31 22.3818 1757.06 22.3818 Q1764.9 22.3818 1769.45 27.4512 Q1774.03 32.4859 1774.03 41.1664 M1767.65 39.2915 Q1767.58 34.0484 1764.69 30.9234 Q1761.85 27.7985 1757.12 27.7985 Q1751.78 27.7985 1748.55 30.8193 Q1745.35 33.8401 1744.87 39.3262 L1767.65 39.2915 Z\" fill=\"#000000\" fill-rule=\"evenodd\" fill-opacity=\"1\" /><path clip-path=\"url(#clip290)\" d=\"M 0 0 M1809.31 24.4651 L1809.31 30.5068 Q1806.6 29.1179 1803.69 28.4235 Q1800.77 27.729 1797.65 27.729 Q1792.89 27.729 1790.49 29.1873 Q1788.13 30.6457 1788.13 33.5623 Q1788.13 35.7845 1789.83 37.0692 Q1791.53 38.3192 1796.67 39.4651 L1798.86 39.9512 Q1805.67 41.4095 1808.51 44.0831 Q1811.4 46.722 1811.4 51.4789 Q1811.4 56.8955 1807.09 60.0552 Q1802.82 63.2149 1795.32 63.2149 Q1792.19 63.2149 1788.79 62.5899 Q1785.42 61.9997 1781.67 60.7844 L1781.67 54.1872 Q1785.21 56.0275 1788.65 56.965 Q1792.09 57.8677 1795.46 57.8677 Q1799.97 57.8677 1802.4 56.34 Q1804.83 54.7775 1804.83 51.965 Q1804.83 49.3608 1803.06 47.972 Q1801.33 46.5831 1795.39 45.2984 L1793.17 44.7775 Q1787.23 43.5275 1784.59 40.9581 Q1781.95 38.354 1781.95 33.8401 Q1781.95 28.354 1785.84 25.3679 Q1789.73 22.3818 1796.88 22.3818 Q1800.42 22.3818 1803.55 22.9027 Q1806.67 23.4235 1809.31 24.4651 Z\" fill=\"#000000\" fill-rule=\"evenodd\" fill-opacity=\"1\" /><path clip-path=\"url(#clip290)\" d=\"M 0 0 M1849.55 24.8124 L1849.55 30.7846 Q1846.85 29.2915 1844.1 28.5623 Q1841.39 27.7985 1838.62 27.7985 Q1832.4 27.7985 1828.96 31.7568 Q1825.53 35.6804 1825.53 42.7984 Q1825.53 49.9164 1828.96 53.8747 Q1832.4 57.7983 1838.62 57.7983 Q1841.39 57.7983 1844.1 57.0691 Q1846.85 56.3053 1849.55 54.8122 L1849.55 60.715 Q1846.88 61.9649 1844 62.5899 Q1841.15 63.2149 1837.92 63.2149 Q1829.14 63.2149 1823.96 57.6941 Q1818.79 52.1733 1818.79 42.7984 Q1818.79 33.2845 1824 27.8332 Q1829.24 22.3818 1838.34 22.3818 Q1841.29 22.3818 1844.1 23.0068 Q1846.92 23.5971 1849.55 24.8124 Z\" fill=\"#000000\" fill-rule=\"evenodd\" fill-opacity=\"1\" /><path clip-path=\"url(#clip290)\" d=\"M 0 0 M1893.93 41.1664 L1893.93 44.2914 L1864.55 44.2914 Q1864.97 50.8886 1868.51 54.3608 Q1872.09 57.7983 1878.44 57.7983 Q1882.12 57.7983 1885.56 56.8955 Q1889.03 55.9928 1892.44 54.1872 L1892.44 60.2288 Q1889 61.6872 1885.39 62.4511 Q1881.78 63.2149 1878.06 63.2149 Q1868.76 63.2149 1863.3 57.7983 Q1857.89 52.3817 1857.89 43.1456 Q1857.89 33.597 1863.03 28.0068 Q1868.2 22.3818 1876.95 22.3818 Q1884.8 22.3818 1889.35 27.4512 Q1893.93 32.4859 1893.93 41.1664 M1887.54 39.2915 Q1887.47 34.0484 1884.59 30.9234 Q1881.74 27.7985 1877.02 27.7985 Q1871.67 27.7985 1868.44 30.8193 Q1865.25 33.8401 1864.76 39.3262 L1887.54 39.2915 Z\" fill=\"#000000\" fill-rule=\"evenodd\" fill-opacity=\"1\" /><path clip-path=\"url(#clip290)\" d=\"M 0 0 M1936.74 38.7359 L1936.74 62.208 L1930.35 62.208 L1930.35 38.9442 Q1930.35 33.4234 1928.2 30.6804 Q1926.05 27.9374 1921.74 27.9374 Q1916.57 27.9374 1913.58 31.2359 Q1910.6 34.5345 1910.6 40.229 L1910.6 62.208 L1904.17 62.208 L1904.17 23.3193 L1910.6 23.3193 L1910.6 29.361 Q1912.89 25.854 1915.98 24.1179 Q1919.1 22.3818 1923.17 22.3818 Q1929.87 22.3818 1933.3 26.5485 Q1936.74 30.6804 1936.74 38.7359 Z\" fill=\"#000000\" fill-rule=\"evenodd\" fill-opacity=\"1\" /><path clip-path=\"url(#clip290)\" d=\"M 0 0 M1955.8 12.2777 L1955.8 23.3193 L1968.96 23.3193 L1968.96 28.2846 L1955.8 28.2846 L1955.8 49.3956 Q1955.8 54.1525 1957.09 55.5066 Q1958.41 56.8608 1962.4 56.8608 L1968.96 56.8608 L1968.96 62.208 L1962.4 62.208 Q1955.01 62.208 1952.19 59.465 Q1949.38 56.6872 1949.38 49.3956 L1949.38 28.2846 L1944.69 28.2846 L1944.69 23.3193 L1949.38 23.3193 L1949.38 12.2777 L1955.8 12.2777 Z\" fill=\"#000000\" fill-rule=\"evenodd\" fill-opacity=\"1\" /><path clip-path=\"url(#clip290)\" d=\"M 0 0 M2010.63 41.1664 L2010.63 44.2914 L1981.26 44.2914 Q1981.67 50.8886 1985.21 54.3608 Q1988.79 57.7983 1995.14 57.7983 Q1998.82 57.7983 2002.26 56.8955 Q2005.73 55.9928 2009.14 54.1872 L2009.14 60.2288 Q2005.7 61.6872 2002.09 62.4511 Q1998.48 63.2149 1994.76 63.2149 Q1985.46 63.2149 1980.01 57.7983 Q1974.59 52.3817 1974.59 43.1456 Q1974.59 33.597 1979.73 28.0068 Q1984.9 22.3818 1993.65 22.3818 Q2001.5 22.3818 2006.05 27.4512 Q2010.63 32.4859 2010.63 41.1664 M2004.24 39.2915 Q2004.17 34.0484 2001.29 30.9234 Q1998.44 27.7985 1993.72 27.7985 Q1988.37 27.7985 1985.14 30.8193 Q1981.95 33.8401 1981.46 39.3262 L2004.24 39.2915 Z\" fill=\"#000000\" fill-rule=\"evenodd\" fill-opacity=\"1\" /><polyline clip-path=\"url(#clip292)\" style=\"stroke:#cd3333; stroke-width:16; stroke-opacity:1; fill:none\" points=\"\n",
       "  263.091,638.171 939.358,638.171 1615.63,324.168 2291.89,245.667 \n",
       "  \"/>\n",
       "<circle clip-path=\"url(#clip292)\" cx=\"263.091\" cy=\"638.171\" r=\"28\" fill=\"#cd3333\" fill-rule=\"evenodd\" fill-opacity=\"1\" stroke=\"#000000\" stroke-opacity=\"1\" stroke-width=\"0\"/>\n",
       "<circle clip-path=\"url(#clip292)\" cx=\"939.358\" cy=\"638.171\" r=\"28\" fill=\"#cd3333\" fill-rule=\"evenodd\" fill-opacity=\"1\" stroke=\"#000000\" stroke-opacity=\"1\" stroke-width=\"0\"/>\n",
       "<circle clip-path=\"url(#clip292)\" cx=\"1615.63\" cy=\"324.168\" r=\"28\" fill=\"#cd3333\" fill-rule=\"evenodd\" fill-opacity=\"1\" stroke=\"#000000\" stroke-opacity=\"1\" stroke-width=\"0\"/>\n",
       "<circle clip-path=\"url(#clip292)\" cx=\"2291.89\" cy=\"245.667\" r=\"28\" fill=\"#cd3333\" fill-rule=\"evenodd\" fill-opacity=\"1\" stroke=\"#000000\" stroke-opacity=\"1\" stroke-width=\"0\"/>\n",
       "<path clip-path=\"url(#clip290)\" d=\"\n",
       "M273.912 279.404 L611.424 279.404 L611.424 158.444 L273.912 158.444  Z\n",
       "  \" fill=\"#eaeaea\" fill-rule=\"evenodd\" fill-opacity=\"1\"/>\n",
       "<polyline clip-path=\"url(#clip290)\" style=\"stroke:#ffffff; stroke-width:4; stroke-opacity:1; fill:none\" points=\"\n",
       "  273.912,279.404 611.424,279.404 611.424,158.444 273.912,158.444 273.912,279.404 \n",
       "  \"/>\n",
       "<polyline clip-path=\"url(#clip290)\" style=\"stroke:#cd3333; stroke-width:4; stroke-opacity:1; fill:none\" points=\"\n",
       "  297.807,218.924 441.175,218.924 \n",
       "  \"/>\n",
       "<circle clip-path=\"url(#clip290)\" cx=\"369.491\" cy=\"218.924\" r=\"23\" fill=\"#cd3333\" fill-rule=\"evenodd\" fill-opacity=\"1\" stroke=\"#000000\" stroke-opacity=\"1\" stroke-width=\"0\"/>\n",
       "<path clip-path=\"url(#clip290)\" d=\"M 0 0 M478.473 223.171 Q473.311 223.171 471.32 224.352 Q469.329 225.532 469.329 228.38 Q469.329 230.648 470.811 231.991 Q472.315 233.31 474.885 233.31 Q478.426 233.31 480.556 230.81 Q482.709 228.287 482.709 224.12 L482.709 223.171 L478.473 223.171 M486.968 221.412 L486.968 236.204 L482.709 236.204 L482.709 232.269 Q481.25 234.63 479.074 235.764 Q476.898 236.875 473.75 236.875 Q469.769 236.875 467.408 234.653 Q465.07 232.407 465.07 228.657 Q465.07 224.282 467.986 222.06 Q470.926 219.838 476.736 219.838 L482.709 219.838 L482.709 219.421 Q482.709 216.482 480.764 214.884 Q478.843 213.264 475.348 213.264 Q473.125 213.264 471.019 213.796 Q468.912 214.329 466.968 215.394 L466.968 211.458 Q469.306 210.556 471.505 210.116 Q473.704 209.653 475.787 209.653 Q481.412 209.653 484.19 212.57 Q486.968 215.486 486.968 221.412 M479.19 198.287 L483.797 198.287 L476.25 206.991 L472.709 206.991 L479.19 198.287 Z\" fill=\"#000000\" fill-rule=\"evenodd\" fill-opacity=\"1\" /><path clip-path=\"url(#clip290)\" d=\"M 0 0 M510.764 214.259 Q510.046 213.843 509.19 213.658 Q508.357 213.449 507.338 213.449 Q503.727 213.449 501.783 215.81 Q499.861 218.148 499.861 222.546 L499.861 236.204 L495.579 236.204 L495.579 210.278 L499.861 210.278 L499.861 214.306 Q501.204 211.945 503.357 210.81 Q505.509 209.653 508.588 209.653 Q509.028 209.653 509.56 209.722 Q510.093 209.769 510.741 209.884 L510.764 214.259 Z\" fill=\"#000000\" fill-rule=\"evenodd\" fill-opacity=\"1\" /><path clip-path=\"url(#clip290)\" d=\"M 0 0 M536.366 222.176 L536.366 224.259 L516.783 224.259 Q517.06 228.657 519.421 230.972 Q521.806 233.264 526.042 233.264 Q528.495 233.264 530.787 232.662 Q533.102 232.06 535.37 230.857 L535.37 234.884 Q533.079 235.856 530.671 236.366 Q528.264 236.875 525.787 236.875 Q519.583 236.875 515.949 233.264 Q512.338 229.653 512.338 223.495 Q512.338 217.13 515.764 213.403 Q519.213 209.653 525.046 209.653 Q530.278 209.653 533.31 213.033 Q536.366 216.389 536.366 222.176 M532.107 220.926 Q532.06 217.431 530.139 215.347 Q528.241 213.264 525.093 213.264 Q521.528 213.264 519.375 215.278 Q517.245 217.292 516.921 220.949 L532.107 220.926 Z\" fill=\"#000000\" fill-rule=\"evenodd\" fill-opacity=\"1\" /><path clip-path=\"url(#clip290)\" d=\"M 0 0 M555.139 223.171 Q549.977 223.171 547.986 224.352 Q545.995 225.532 545.995 228.38 Q545.995 230.648 547.477 231.991 Q548.981 233.31 551.551 233.31 Q555.093 233.31 557.222 230.81 Q559.375 228.287 559.375 224.12 L559.375 223.171 L555.139 223.171 M563.634 221.412 L563.634 236.204 L559.375 236.204 L559.375 232.269 Q557.917 234.63 555.741 235.764 Q553.565 236.875 550.417 236.875 Q546.435 236.875 544.074 234.653 Q541.736 232.407 541.736 228.657 Q541.736 224.282 544.653 222.06 Q547.593 219.838 553.403 219.838 L559.375 219.838 L559.375 219.421 Q559.375 216.482 557.43 214.884 Q555.509 213.264 552.014 213.264 Q549.792 213.264 547.685 213.796 Q545.579 214.329 543.634 215.394 L543.634 211.458 Q545.972 210.556 548.171 210.116 Q550.37 209.653 552.454 209.653 Q558.079 209.653 560.856 212.57 Q563.634 215.486 563.634 221.412 Z\" fill=\"#000000\" fill-rule=\"evenodd\" fill-opacity=\"1\" /></svg>\n"
      ]
     },
     "execution_count": 31,
     "metadata": {},
     "output_type": "execute_result"
    }
   ],
   "source": [
    "plot(area.(ordenados), xaxis=\"ordem\", yaxis=\"área\", label=\"área\", color=:brown3,\n",
    "    marker = :circle, markersize = 8, linewidth = 4, \n",
    "    title=\"Área dos retângulos em ordem crescente\", titlefontsize=12,\n",
    "    legend=:topleft, ylims=(0.0, 10.0)\n",
    ")"
   ]
  },
  {
   "cell_type": "markdown",
   "metadata": {
    "slideshow": {
     "slide_type": "slide"
    }
   },
   "source": [
    "## Macros\n",
    "\n",
    "* **Macros** são funções especiais que recebem expressões e geram códigos a serem executados no momento em que são chamadas.\n",
    "\n",
    "* Fazem parte do conceito de **meta-programação**.\n",
    "\n",
    "* Não vamos *montar* macros aqui, mas iremos utilizar algumas.\n",
    "\n",
    "* Todas as macros são invocadas precedidas do símbolo `@`.\n",
    "\n",
    "* Esse símbolo não fazer parte da definição da macro, mas é necessária para que ela seja executada."
   ]
  },
  {
   "cell_type": "markdown",
   "metadata": {
    "slideshow": {
     "slide_type": "slide"
    }
   },
   "source": [
    "## Performance\n",
    "\n",
    "A macro `@time` nos dá alguma informação sobre o tempo de execução, número de alocações e memória utilizada na execução de alguma linha ou bloco de código."
   ]
  },
  {
   "cell_type": "code",
   "execution_count": 32,
   "metadata": {
    "slideshow": {
     "slide_type": "fragment"
    }
   },
   "outputs": [
    {
     "name": "stdout",
     "output_type": "stream",
     "text": [
      "  0.000028 seconds (1 allocation: 20.625 KiB)\n",
      "  0.003303 seconds (23 allocations: 22.000 KiB, 98.70% compilation time)\n"
     ]
    }
   ],
   "source": [
    "@time length(\"Modelagem Matemática\"^1000)\n",
    "@time begin\n",
    "    s = \"Modelagem Matemática\"\n",
    "    s ^= 1000\n",
    "    length(s)\n",
    "end\n",
    "nothing"
   ]
  },
  {
   "cell_type": "markdown",
   "metadata": {
    "slideshow": {
     "slide_type": "slide"
    }
   },
   "source": [
    "O pacote [JuliaCI/BenchmarkTools.jl](https://github.com/JuliaCI/BenchmarkTools.jl) é mais completo e da mais informações para avaliar a performance dos códigos.\n",
    "\n",
    "Em particular, ela executa o código várias vezes, para evitar ruído e retornar uma informação mais precisa sobre a performance.\n",
    "\n",
    "Por exemplo, podemos comparar as diversas maneiras de se calcular o produto escalar entre dois vetores."
   ]
  },
  {
   "cell_type": "code",
   "execution_count": 33,
   "metadata": {
    "slideshow": {
     "slide_type": "fragment"
    }
   },
   "outputs": [
    {
     "name": "stdout",
     "output_type": "stream",
     "text": [
      "  129.015 ns (1 allocation: 896 bytes)\n",
      "  132.662 ns (0 allocations: 0 bytes)\n",
      "  37.922 ns (0 allocations: 0 bytes)\n"
     ]
    }
   ],
   "source": [
    "using BenchmarkTools\n",
    "\n",
    "vec1 = rand(100)\n",
    "vec2 = rand(100)\n",
    "\n",
    "escalar1(vec1, vec2) = sum(vec1 .* vec2)\n",
    "escalar2(vec1, vec2) = mapreduce(elem -> elem[1]*elem[2], +, zip(vec1, vec2))\n",
    "escalar3(vec1, vec2) = vec1 ⋅ vec2\n",
    "\n",
    "@btime escalar1($vec1, $vec2)\n",
    "@btime escalar2($vec1, $vec2)\n",
    "@btime escalar3($vec1, $vec2)\n",
    "nothing"
   ]
  },
  {
   "cell_type": "markdown",
   "metadata": {
    "slideshow": {
     "slide_type": "slide"
    }
   },
   "source": [
    "## Acessando e analisando o código\n",
    "\n",
    "* Há várias macros úteis no avaliação de um código.\n",
    "\n",
    "* Vou apenas citar algumas bastante úteis, cuja função pode ser descoberta através do help `?`:\n",
    "    * `@which`\n",
    "    * `@edit`\n",
    "    * `@code_warn`\n",
    "\n",
    "* Há funções úteis também, nesse sentido, e que não são macros:\n",
    "    * `methods`\n",
    "    * `methodswith`\n",
    "    * `fieldnames`"
   ]
  },
  {
   "cell_type": "markdown",
   "metadata": {
    "slideshow": {
     "slide_type": "skip"
    }
   },
   "source": [
    "<!--NAVIGATOR-->\n",
    "\n",
    "---\n",
    "[<- 1. Instalando e acessando o Julia](01.00-Instalando_acessando_Julia.ipynb) | [Página inicial](00.00-Pagina_inicial.ipynb) | [3. Neurônios no Flux.jl ->](03.00-Flux_neuronios.ipynb)"
   ]
  }
 ],
 "metadata": {
  "kernelspec": {
   "display_name": "Julia 1.6.0",
   "language": "julia",
   "name": "julia-1.6"
  },
  "language_info": {
   "file_extension": ".jl",
   "mimetype": "application/julia",
   "name": "julia",
   "version": "1.6.0"
  }
 },
 "nbformat": 4,
 "nbformat_minor": 4
}
